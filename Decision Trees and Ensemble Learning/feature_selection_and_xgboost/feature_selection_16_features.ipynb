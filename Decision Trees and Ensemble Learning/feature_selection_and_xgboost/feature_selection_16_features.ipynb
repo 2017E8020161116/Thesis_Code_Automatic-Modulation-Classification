{
 "cells": [
  {
   "cell_type": "markdown",
   "metadata": {},
   "source": [
    "# Perform Feature Selection using XGB Classifier\n",
    "Train XGBClassifier on features set 1- samples have 16 features. Then select features with top importance scores to form a new feature set. "
   ]
  },
  {
   "cell_type": "markdown",
   "metadata": {},
   "source": [
    "##  Get the data"
   ]
  },
  {
   "cell_type": "code",
   "execution_count": 11,
   "metadata": {},
   "outputs": [
    {
     "name": "stdout",
     "output_type": "stream",
     "text": [
      "Stored variables and their in-db values:\n",
      "X_16_val                  -> array([[ 0.10924883,  1.83030605, -0.14807631, ...\n",
      "X_32_val                  -> array([[ 0.66944195,  0.46536115,  0.79919788, ...\n",
      "X_32test_std              -> defaultdict(<class 'list'>, {0: array([[ 0.6694419\n",
      "X_32train_std             -> array([[-0.74031227,  0.0126481 , -0.30967801, ...\n",
      "X_test                    -> defaultdict(<class 'list'>, {0: array([[[ -6.40490\n",
      "X_test_std                -> defaultdict(<class 'list'>, {0: array([[ 0.1092488\n",
      "X_train                   -> array([[[ 0.00119031,  0.00873315,  0.00641749, ..\n",
      "X_train_std               -> array([[-0.74031227,  0.0126481 , -0.30967801, ...\n",
      "snrs                      -> [-20, -18, -16, -14, -12, -10, -8, -6, -4, -2, 0, \n",
      "y_16_val                  -> array([6, 6, 5, ..., 0, 4, 1])\n",
      "y_32_test                 -> defaultdict(<class 'list'>, {0: array([2, 2, 4, ..\n",
      "y_32_train                -> array([0, 3, 4, ..., 0, 3, 1])\n",
      "y_32_val                  -> array([2, 2, 4, ..., 0, 7, 3])\n",
      "y_test                    -> defaultdict(<class 'list'>, {0: array([6, 6, 5, ..\n",
      "y_train                   -> array([0, 3, 4, ..., 0, 3, 1])\n"
     ]
    }
   ],
   "source": [
    "import warnings\n",
    "warnings.filterwarnings('ignore')\n",
    "\n",
    "import matplotlib.pyplot as plt\n",
    "import numpy as np\n",
    "from collections import defaultdict\n",
    "import xgboost as xgb\n",
    "from xgboost.sklearn import XGBClassifier\n",
    "from sklearn.cross_validation import train_test_split\n",
    "from sklearn.datasets import dump_svmlight_file\n",
    "from sklearn.externals import joblib\n",
    "from sklearn.metrics import precision_score\n",
    "from sklearn import cross_validation, metrics\n",
    "from time import time\n",
    "import pandas as pd\n",
    "import collections\n",
    "from sklearn.metrics import accuracy_score\n",
    "from sklearn.feature_selection import SelectFromModel\n",
    "from numpy import sort\n",
    "\n",
    "%store -r\n",
    "%store"
   ]
  },
  {
   "cell_type": "code",
   "execution_count": 3,
   "metadata": {},
   "outputs": [
    {
     "name": "stdout",
     "output_type": "stream",
     "text": [
      "Training data:  (80000, 16) and labels:  (80000,)\n",
      " \n",
      "Test data:\n",
      "Total 20 (4000, 16) arrays for SNR values:\n",
      "[-20, -18, -16, -14, -12, -10, -8, -6, -4, -2, 0, 2, 4, 6, 8, 10, 12, 14, 16, 18]\n"
     ]
    }
   ],
   "source": [
    "print(\"Training data: \", X_train_std.shape, \"and labels: \", y_train.shape)\n",
    "print(\" \")\n",
    "print(\"Test data:\")\n",
    "print(\"Total\", len(X_test_std), X_test_std[18].shape, \"arrays for SNR values:\")\n",
    "print(sorted(X_test_std.keys()))"
   ]
  },
  {
   "cell_type": "markdown",
   "metadata": {},
   "source": [
    "##  Train and test"
   ]
  },
  {
   "cell_type": "code",
   "execution_count": 4,
   "metadata": {
    "collapsed": true
   },
   "outputs": [],
   "source": [
    "def train_and_test(model, train_data=X_train_std, train_labels=y_train, test_data=X_test_std, test_labels=y_test):\n",
    "    \n",
    "    dtrain = xgb.DMatrix(X_train_std, label=y_train)\n",
    "    dtest = defaultdict(list)\n",
    "    for snr in snrs:\n",
    "        dtest[snr] = xgb.DMatrix(X_test_std[snr], label=y_test[snr])\n",
    "    parameters = model.get_xgb_params()\n",
    "    \n",
    "    eval_history = xgb.cv(parameters, dtrain, metrics = 'mlogloss', nfold = 5, early_stopping_rounds = 20,\n",
    "                         num_boost_round = model.get_params()['n_estimators'])\n",
    "    model.set_params(n_estimators = eval_history.shape[0])\n",
    "    \n",
    "    eval_set = [(X_train_std, y_train), (X_test_std[10], y_test[10])]\n",
    "    start = time()\n",
    "    model.fit(train_data, train_labels, eval_metric = 'mlogloss', eval_set = eval_set) #fit model to data\n",
    "    print(\"Fitting model to data took {} minutes\".format(time() - start))\n",
    "    \n",
    "    # Compute metric for training data\n",
    "    train_predict = model.predict(train_data)\n",
    "    train_predict_prob = model.predict_proba(train_data)\n",
    "    print(\"Log loss on training set =\", metrics.log_loss(train_labels, train_predict_prob))\n",
    "    \n",
    "    # Compute metric for test data\n",
    "    test_logloss = []\n",
    "    for snr in snrs:\n",
    "        test_predict = model.predict(test_data[snr])\n",
    "        test_predict_prob = model.predict_proba(test_data[snr])\n",
    "        loss = metrics.log_loss(test_labels[snr], test_predict_prob)\n",
    "        test_logloss.append(loss)\n",
    "    print(\"Log loss on test set =\", np.mean(test_logloss))\n",
    "    \n",
    "    return model"
   ]
  },
  {
   "cell_type": "code",
   "execution_count": 5,
   "metadata": {},
   "outputs": [
    {
     "name": "stdout",
     "output_type": "stream",
     "text": [
      "[0]\tvalidation_0-mlogloss:1.95789\tvalidation_1-mlogloss:1.83349\n",
      "[1]\tvalidation_0-mlogloss:1.86774\tvalidation_1-mlogloss:1.65038\n",
      "Fitting model to data took 1.2433075904846191 minutes\n",
      "Log loss on training set = 1.86773986322\n",
      "Log loss on test set = 1.86907329542\n"
     ]
    }
   ],
   "source": [
    "xgb1 = XGBClassifier(\n",
    "        learning_rate =0.1,\n",
    "        n_estimators=2,\n",
    "        max_depth=5,\n",
    "        min_child_weight=1,\n",
    "        gamma=0,\n",
    "        subsample=0.8,\n",
    "        colsample_bytree=0.8,\n",
    "        objective= 'multi:softmax',\n",
    "        num_class = 8,\n",
    "        nthread=4,\n",
    "        scale_pos_weight=1,\n",
    "        seed=27)\n",
    "model = train_and_test(xgb1)"
   ]
  },
  {
   "cell_type": "markdown",
   "metadata": {},
   "source": [
    "## Accuracy vs. SNR on test set"
   ]
  },
  {
   "cell_type": "code",
   "execution_count": 6,
   "metadata": {},
   "outputs": [
    {
     "name": "stdout",
     "output_type": "stream",
     "text": [
      "Test accuracy at  -20 dB = 0.12425\n",
      "Test accuracy at  -18 dB = 0.12525\n",
      "Test accuracy at  -16 dB = 0.1235\n",
      "Test accuracy at  -14 dB = 0.12725\n",
      "Test accuracy at  -12 dB = 0.153\n",
      "Test accuracy at  -10 dB = 0.1695\n",
      "Test accuracy at  -8 dB = 0.2575\n",
      "Test accuracy at  -6 dB = 0.334\n",
      "Test accuracy at  -4 dB = 0.3795\n",
      "Test accuracy at  -2 dB = 0.37775\n",
      "Test accuracy at  0 dB = 0.407\n",
      "Test accuracy at  2 dB = 0.5415\n",
      "Test accuracy at  4 dB = 0.73275\n",
      "Test accuracy at  6 dB = 0.77825\n",
      "Test accuracy at  8 dB = 0.79475\n",
      "Test accuracy at  10 dB = 0.811\n",
      "Test accuracy at  12 dB = 0.80825\n",
      "Test accuracy at  14 dB = 0.81025\n",
      "Test accuracy at  16 dB = 0.80325\n",
      "Test accuracy at  18 dB = 0.81125\n"
     ]
    }
   ],
   "source": [
    "predictions = defaultdict(list)\n",
    "accuracy = defaultdict(list)\n",
    "y_pred = defaultdict(list)\n",
    "   \n",
    "for snr in snrs:\n",
    "    y_pred[snr] = model.predict(X_test_std[snr])\n",
    "    predictions[snr] = [round(value) for value in y_pred[snr]]\n",
    "    accuracy[snr] = accuracy_score(y_test[snr], predictions[snr])\n",
    "    print (\"Test accuracy at \",snr,\"dB =\", accuracy[snr])"
   ]
  },
  {
   "cell_type": "markdown",
   "metadata": {},
   "source": [
    "## Importance score"
   ]
  },
  {
   "cell_type": "code",
   "execution_count": 7,
   "metadata": {},
   "outputs": [
    {
     "name": "stdout",
     "output_type": "stream",
     "text": [
      "Feature importance scores- highest first\n"
     ]
    },
    {
     "data": {
      "text/html": [
       "<div>\n",
       "<style>\n",
       "    .dataframe thead tr:only-child th {\n",
       "        text-align: right;\n",
       "    }\n",
       "\n",
       "    .dataframe thead th {\n",
       "        text-align: left;\n",
       "    }\n",
       "\n",
       "    .dataframe tbody tr th {\n",
       "        vertical-align: top;\n",
       "    }\n",
       "</style>\n",
       "<table border=\"1\" class=\"dataframe\">\n",
       "  <thead>\n",
       "    <tr style=\"text-align: right;\">\n",
       "      <th></th>\n",
       "      <th>Features</th>\n",
       "      <th>Importance Scores</th>\n",
       "    </tr>\n",
       "  </thead>\n",
       "  <tbody>\n",
       "    <tr>\n",
       "      <th>0</th>\n",
       "      <td>f14</td>\n",
       "      <td>0.194570</td>\n",
       "    </tr>\n",
       "    <tr>\n",
       "      <th>1</th>\n",
       "      <td>f5</td>\n",
       "      <td>0.158371</td>\n",
       "    </tr>\n",
       "    <tr>\n",
       "      <th>2</th>\n",
       "      <td>f6</td>\n",
       "      <td>0.115385</td>\n",
       "    </tr>\n",
       "    <tr>\n",
       "      <th>3</th>\n",
       "      <td>f13</td>\n",
       "      <td>0.115385</td>\n",
       "    </tr>\n",
       "    <tr>\n",
       "      <th>4</th>\n",
       "      <td>f10</td>\n",
       "      <td>0.095023</td>\n",
       "    </tr>\n",
       "    <tr>\n",
       "      <th>5</th>\n",
       "      <td>f9</td>\n",
       "      <td>0.090498</td>\n",
       "    </tr>\n",
       "    <tr>\n",
       "      <th>6</th>\n",
       "      <td>f1</td>\n",
       "      <td>0.065611</td>\n",
       "    </tr>\n",
       "    <tr>\n",
       "      <th>7</th>\n",
       "      <td>f11</td>\n",
       "      <td>0.036199</td>\n",
       "    </tr>\n",
       "    <tr>\n",
       "      <th>8</th>\n",
       "      <td>f15</td>\n",
       "      <td>0.036199</td>\n",
       "    </tr>\n",
       "    <tr>\n",
       "      <th>9</th>\n",
       "      <td>f12</td>\n",
       "      <td>0.029412</td>\n",
       "    </tr>\n",
       "    <tr>\n",
       "      <th>10</th>\n",
       "      <td>f4</td>\n",
       "      <td>0.020362</td>\n",
       "    </tr>\n",
       "    <tr>\n",
       "      <th>11</th>\n",
       "      <td>f2</td>\n",
       "      <td>0.018100</td>\n",
       "    </tr>\n",
       "    <tr>\n",
       "      <th>12</th>\n",
       "      <td>f3</td>\n",
       "      <td>0.015837</td>\n",
       "    </tr>\n",
       "    <tr>\n",
       "      <th>13</th>\n",
       "      <td>f7</td>\n",
       "      <td>0.006787</td>\n",
       "    </tr>\n",
       "    <tr>\n",
       "      <th>14</th>\n",
       "      <td>f16</td>\n",
       "      <td>0.002262</td>\n",
       "    </tr>\n",
       "    <tr>\n",
       "      <th>15</th>\n",
       "      <td>f8</td>\n",
       "      <td>0.000000</td>\n",
       "    </tr>\n",
       "  </tbody>\n",
       "</table>\n",
       "</div>"
      ],
      "text/plain": [
       "   Features  Importance Scores\n",
       "0       f14           0.194570\n",
       "1        f5           0.158371\n",
       "2        f6           0.115385\n",
       "3       f13           0.115385\n",
       "4       f10           0.095023\n",
       "5        f9           0.090498\n",
       "6        f1           0.065611\n",
       "7       f11           0.036199\n",
       "8       f15           0.036199\n",
       "9       f12           0.029412\n",
       "10       f4           0.020362\n",
       "11       f2           0.018100\n",
       "12       f3           0.015837\n",
       "13       f7           0.006787\n",
       "14      f16           0.002262\n",
       "15       f8           0.000000"
      ]
     },
     "execution_count": 7,
     "metadata": {},
     "output_type": "execute_result"
    }
   ],
   "source": [
    "feature_names = ['f'+str(i) for i in range(1,17)]\n",
    "print(\"Feature importance scores- highest first\")\n",
    "df1 = pd.DataFrame(data = {'Features':feature_names, 'Importance Scores': model.feature_importances_})\n",
    "sorted_df = df1.sort_values(by = ['Importance Scores'], ascending = False)\n",
    "sorted_df.reset_index(inplace = True)\n",
    "del sorted_df['index']\n",
    "sorted_df"
   ]
  },
  {
   "cell_type": "code",
   "execution_count": 8,
   "metadata": {},
   "outputs": [
    {
     "data": {
      "image/png": "[encoded data removed]",
      "text/plain": [
       "<matplotlib.figure.Figure at 0x23416c062e8>"
      ]
     },
     "metadata": {},
     "output_type": "display_data"
    },
    {
     "name": "stdout",
     "output_type": "stream",
     "text": [
      "Scores using XGBoost's function:\n"
     ]
    },
    {
     "data": {
      "text/plain": [
       "<matplotlib.axes._subplots.AxesSubplot at 0x2341db5cb00>"
      ]
     },
     "execution_count": 8,
     "metadata": {},
     "output_type": "execute_result"
    },
    {
     "data": {
      "image/png": "[encoded data removed]",
      "text/plain": [
       "<matplotlib.figure.Figure at 0x2341db399b0>"
      ]
     },
     "metadata": {},
     "output_type": "display_data"
    }
   ],
   "source": [
    "%matplotlib inline\n",
    "plt.bar(range(len(model.feature_importances_)), model.feature_importances_)\n",
    "plt.xlabel(\"Features\")\n",
    "plt.xticks(np.arange(X_train_std.shape[1]+1), feature_names)\n",
    "plt.ylabel(\"Importance score\")\n",
    "plt.show()\n",
    "print(\"Scores using XGBoost's function:\")\n",
    "xgb.plot_importance(model, ylabel = 'Features')"
   ]
  },
  {
   "cell_type": "markdown",
   "metadata": {},
   "source": [
    "## Feature Selection"
   ]
  },
  {
   "cell_type": "code",
   "execution_count": 9,
   "metadata": {},
   "outputs": [
    {
     "data": {
      "text/plain": [
       "array([ 0.        ,  0.00226244,  0.00678733,  0.0158371 ,  0.01809955,\n",
       "        0.02036199,  0.02941176,  0.0361991 ,  0.0361991 ,  0.06561086,\n",
       "        0.09049774,  0.09502263,  0.11538462,  0.11538462,  0.15837105,\n",
       "        0.19457014], dtype=float32)"
      ]
     },
     "execution_count": 9,
     "metadata": {},
     "output_type": "execute_result"
    }
   ],
   "source": [
    "# Fit model using each importance as a threshold\n",
    "thresholds = sort(model.feature_importances_)\n",
    "thresholds"
   ]
  },
  {
   "cell_type": "markdown",
   "metadata": {},
   "source": [
    "## On training set"
   ]
  },
  {
   "cell_type": "code",
   "execution_count": 13,
   "metadata": {},
   "outputs": [
    {
     "name": "stdout",
     "output_type": "stream",
     "text": [
      "Top 16 features selected\n",
      "Thresh=0.000, n_features=16, Accuracy: 50.07%\n",
      "  \n",
      "Top 15 features selected\n",
      "Thresh=0.002, n_features=15, Accuracy: 50.07%\n",
      "  \n",
      "Top 14 features selected\n",
      "Thresh=0.007, n_features=14, Accuracy: 50.07%\n",
      "  \n",
      "Top 13 features selected\n",
      "Thresh=0.016, n_features=13, Accuracy: 50.05%\n",
      "  \n",
      "Top 12 features selected\n",
      "Thresh=0.018, n_features=12, Accuracy: 50.10%\n",
      "  \n",
      "Top 11 features selected\n",
      "Thresh=0.020, n_features=11, Accuracy: 50.15%\n",
      "  \n",
      "Top 10 features selected\n",
      "Thresh=0.029, n_features=10, Accuracy: 50.08%\n",
      "  \n",
      "Top 9 features selected\n",
      "Thresh=0.036, n_features=9, Accuracy: 50.13%\n",
      "  \n",
      "Top 9 features selected\n",
      "Thresh=0.036, n_features=9, Accuracy: 50.13%\n",
      "  \n",
      "Top 7 features selected\n",
      "Thresh=0.066, n_features=7, Accuracy: 49.99%\n",
      "  \n",
      "Top 6 features selected\n",
      "Thresh=0.090, n_features=6, Accuracy: 48.70%\n",
      "  \n",
      "Top 5 features selected\n",
      "Thresh=0.095, n_features=5, Accuracy: 48.18%\n",
      "  \n",
      "Top 4 features selected\n",
      "Thresh=0.115, n_features=4, Accuracy: 48.16%\n",
      "  \n",
      "Top 4 features selected\n",
      "Thresh=0.115, n_features=4, Accuracy: 48.16%\n",
      "  \n",
      "Top 2 features selected\n",
      "Thresh=0.158, n_features=2, Accuracy: 42.41%\n",
      "  \n",
      "Top 1 features selected\n",
      "Thresh=0.195, n_features=1, Accuracy: 31.14%\n",
      "  \n"
     ]
    }
   ],
   "source": [
    "train_accs = []\n",
    "num_features = []\n",
    "thresh_vals = []\n",
    "\n",
    "for thresh in thresholds:\n",
    "    \n",
    "    # select features using threshold\n",
    "    selection = SelectFromModel(model, threshold=thresh, prefit=True)\n",
    "    #selecting features based on importance weights\n",
    "    #features whose importance is >= thresh are kept, and the remaining discarded\n",
    "    \n",
    "    select_X_train = selection.transform(X_train_std)\n",
    "    n_features = select_X_train.shape[1]\n",
    "    print(\"Top {} features selected\".format(n_features))\n",
    "    selection_model = XGBClassifier()\n",
    "    selection_model.fit(select_X_train, y_train)\n",
    "    \n",
    "    #Evaluate model on training set\n",
    "    y_pred = selection_model.predict(select_X_train)\n",
    "    predictions = [round(value) for value in y_pred]\n",
    "    accuracy = accuracy_score(y_train, predictions)\n",
    "    print(\"Thresh=%.3f, n_features=%d, Accuracy: %.2f%%\" % (thresh, n_features, accuracy*100.0))\n",
    "    print(\"  \")\n",
    "    train_accs.append(accuracy)\n",
    "    num_features.append(n_features)\n",
    "    thresh_vals.append(thresh)"
   ]
  },
  {
   "cell_type": "code",
   "execution_count": 21,
   "metadata": {},
   "outputs": [
    {
     "name": "stdout",
     "output_type": "stream",
     "text": [
      "    Threshold  Training accuracy  n_features\n",
      "5    0.020362           0.501513          11\n",
      "7    0.036199           0.501300           9\n",
      "8    0.036199           0.501300           9\n",
      "4    0.018100           0.501038          12\n",
      "6    0.029412           0.500750          10\n",
      "0    0.000000           0.500700          16\n",
      "1    0.002262           0.500700          15\n",
      "2    0.006787           0.500700          14\n",
      "3    0.015837           0.500500          13\n",
      "9    0.065611           0.499925           7\n",
      "10   0.090498           0.486988           6\n",
      "11   0.095023           0.481750           5\n",
      "12   0.115385           0.481637           4\n",
      "13   0.115385           0.481637           4\n",
      "14   0.158371           0.424088           2\n",
      "15   0.194570           0.311350           1\n",
      "Best training accuracy is obtained upon selection of top 11 features (according to importance score)\n",
      "The corresponding threshold value is 0.020361991599202156\n"
     ]
    }
   ],
   "source": [
    "df = pd.DataFrame(data= {'Threshold':thresh_vals,'n_features':num_features, 'Training accuracy':train_accs})\n",
    "sorted_df = df.sort_values(by = ['Training accuracy'], ascending = False)\n",
    "print(sorted_df)\n",
    "sorted_df.reset_index(inplace = True) #reset because sorting messed up the indices\n",
    "idx = sorted_df['Training accuracy'].idxmax()\n",
    "sel_row= sorted_df.iloc[idx]\n",
    "best_features = int(sel_row['n_features'])\n",
    "best_thresh = sel_row['Threshold']\n",
    "print('Best training accuracy is obtained upon selection of top {} features (according to importance score)'.format(best_features))\n",
    "print(\"The corresponding threshold value is {}\".format(best_thresh))"
   ]
  },
  {
   "cell_type": "markdown",
   "metadata": {},
   "source": [
    "## Modify training and test data to include only selected features"
   ]
  },
  {
   "cell_type": "code",
   "execution_count": 23,
   "metadata": {},
   "outputs": [
    {
     "name": "stdout",
     "output_type": "stream",
     "text": [
      "Top 11 features selected\n",
      "New training set (80000, 11) and labels (80000,)\n",
      "New test set (4000, 11) and labels (4000,) for each SNR value\n"
     ]
    }
   ],
   "source": [
    "X_test_new = defaultdict(list)\n",
    "\n",
    "selection = SelectFromModel(model, threshold = best_thresh, prefit=True)\n",
    "\n",
    "X_train_new  = selection.transform(X_train_std)\n",
    "n_features = select_X_train.shape[1]\n",
    "print(\"Top {} features selected\".format(best_features))\n",
    "print(\"New training set {} and labels {}\".format(X_train_new.shape, y_train.shape))\n",
    "\n",
    "for snr in snrs:\n",
    "    X_test_new[snr] = selection.transform(X_test_std[snr])\n",
    "print(\"New test set {} and labels {} for each SNR value\".format(X_test_new[10].shape, y_test[10].shape))"
   ]
  },
  {
   "cell_type": "markdown",
   "metadata": {},
   "source": [
    "## Store the new training and test sets in Jupyter's db"
   ]
  },
  {
   "cell_type": "code",
   "execution_count": 25,
   "metadata": {},
   "outputs": [
    {
     "name": "stdout",
     "output_type": "stream",
     "text": [
      "Stored 'X_train_new' (ndarray)\n",
      "Stored 'X_test_new' (defaultdict)\n",
      "Stored variables and their in-db values:\n",
      "X_16_val                  -> array([[ 0.10924883,  1.83030605, -0.14807631, ...\n",
      "X_32_val                  -> array([[ 0.66944195,  0.46536115,  0.79919788, ...\n",
      "X_32test_std              -> defaultdict(<class 'list'>, {0: array([[ 0.6694419\n",
      "X_32train_std             -> array([[-0.74031227,  0.0126481 , -0.30967801, ...\n",
      "X_test                    -> defaultdict(<class 'list'>, {0: array([[[ -6.40490\n",
      "X_test_new                -> defaultdict(<class 'list'>, {0: array([[ 0.1092488\n",
      "X_test_std                -> defaultdict(<class 'list'>, {0: array([[ 0.1092488\n",
      "X_train                   -> array([[[ 0.00119031,  0.00873315,  0.00641749, ..\n",
      "X_train_new               -> array([[-0.74031227,  0.23616372, -0.18182195, ...\n",
      "X_train_std               -> array([[-0.74031227,  0.0126481 , -0.30967801, ...\n",
      "snrs                      -> [-20, -18, -16, -14, -12, -10, -8, -6, -4, -2, 0, \n",
      "y_16_val                  -> array([6, 6, 5, ..., 0, 4, 1])\n",
      "y_32_test                 -> defaultdict(<class 'list'>, {0: array([2, 2, 4, ..\n",
      "y_32_train                -> array([0, 3, 4, ..., 0, 3, 1])\n",
      "y_32_val                  -> array([2, 2, 4, ..., 0, 7, 3])\n",
      "y_test                    -> defaultdict(<class 'list'>, {0: array([6, 6, 5, ..\n",
      "y_train                   -> array([0, 3, 4, ..., 0, 3, 1])\n"
     ]
    }
   ],
   "source": [
    "%store X_train_new\n",
    "%store X_test_new\n",
    "%store"
   ]
  },
  {
   "cell_type": "code",
   "execution_count": null,
   "metadata": {
    "collapsed": true
   },
   "outputs": [],
   "source": []
  }
 ],
 "metadata": {
  "anaconda-cloud": {},
  "kernelspec": {
   "display_name": "Python 3",
   "language": "python",
   "name": "python3"
  },
  "language_info": {
   "codemirror_mode": {
    "name": "ipython",
    "version": 3
   },
   "file_extension": ".py",
   "mimetype": "text/x-python",
   "name": "python",
   "nbconvert_exporter": "python",
   "pygments_lexer": "ipython3",
   "version": "3.6.3"
  }
 },
 "nbformat": 4,
 "nbformat_minor": 1
}
