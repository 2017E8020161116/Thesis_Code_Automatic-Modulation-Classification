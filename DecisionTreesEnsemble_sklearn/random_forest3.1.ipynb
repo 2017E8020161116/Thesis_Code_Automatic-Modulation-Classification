{
 "cells": [
  {
   "cell_type": "markdown",
   "metadata": {},
   "source": [
    "# <center>Random Forest Classifier with Randomized Search\n",
    "Random forest classifier is trained on feature set 2"
   ]
  },
  {
   "cell_type": "markdown",
   "metadata": {},
   "source": [
    "## <font color='royalblue'>Get the data"
   ]
  },
  {
   "cell_type": "code",
   "execution_count": 1,
   "metadata": {
    "collapsed": false
   },
   "outputs": [
    {
     "name": "stdout",
     "output_type": "stream",
     "text": [
      "Stored variables and their in-db values:\n",
      "X_16_val                  -> array([[ 0.10924883,  1.83030605, -0.14807631, ...\n",
      "X_32_val                  -> array([[ 0.66944195,  0.46536115,  0.79919788, ...\n",
      "X_32test_std              -> defaultdict(<class 'list'>, {0: array([[ 0.6694419\n",
      "X_32train_std             -> array([[-0.74031227,  0.0126481 , -0.30967801, ...\n",
      "X_test                    -> defaultdict(<class 'list'>, {0: array([[[ -6.40490\n",
      "X_test_std                -> defaultdict(<class 'list'>, {0: array([[ 0.1092488\n",
      "X_train                   -> array([[[ 0.00119031,  0.00873315,  0.00641749, ..\n",
      "X_train_std               -> array([[-0.74031227,  0.0126481 , -0.30967801, ...\n",
      "snrs                      -> [-20, -18, -16, -14, -12, -10, -8, -6, -4, -2, 0, \n",
      "y_16_val                  -> array([6, 6, 5, ..., 0, 4, 1])\n",
      "y_32_test                 -> defaultdict(<class 'list'>, {0: array([2, 2, 4, ..\n",
      "y_32_train                -> array([0, 3, 4, ..., 0, 3, 1])\n",
      "y_32_val                  -> array([2, 2, 4, ..., 0, 7, 3])\n",
      "y_test                    -> defaultdict(<class 'list'>, {0: array([6, 6, 5, ..\n",
      "y_train                   -> array([0, 3, 4, ..., 0, 3, 1])\n"
     ]
    }
   ],
   "source": [
    "import matplotlib.pyplot as plt\n",
    "import numpy as np\n",
    "from collections import defaultdict\n",
    "from time import time\n",
    "import pickle  \n",
    "import sklearn\n",
    "from sklearn import metrics\n",
    "from sklearn.ensemble import RandomForestClassifier\n",
    "\n",
    "%store -r\n",
    "%store"
   ]
  },
  {
   "cell_type": "code",
   "execution_count": 2,
   "metadata": {
    "collapsed": false
   },
   "outputs": [
    {
     "name": "stdout",
     "output_type": "stream",
     "text": [
      "Training data:  (80000, 32) and labels:  (80000,)\n",
      " \n",
      "Test data:\n",
      "Total 20 (4000, 32) arrays for SNR values:\n",
      "[-20, -18, -16, -14, -12, -10, -8, -6, -4, -2, 0, 2, 4, 6, 8, 10, 12, 14, 16, 18]\n"
     ]
    }
   ],
   "source": [
    "print(\"Training data: \", X_32train_std.shape, \"and labels: \", y_32_train.shape)\n",
    "print(\" \")\n",
    "print(\"Test data:\")\n",
    "print(\"Total\", len(X_32test_std), X_32test_std[18].shape, \"arrays for SNR values:\")\n",
    "print(sorted(X_32test_std.keys()))"
   ]
  },
  {
   "cell_type": "markdown",
   "metadata": {},
   "source": [
    "## <font color='royalblue'>Train and test the classifier"
   ]
  },
  {
   "cell_type": "code",
   "execution_count": 9,
   "metadata": {
    "collapsed": false
   },
   "outputs": [
    {
     "name": "stdout",
     "output_type": "stream",
     "text": [
      "Fitting 3 folds for each of 10 candidates, totalling 30 fits\n"
     ]
    },
    {
     "name": "stderr",
     "output_type": "stream",
     "text": [
      "[Parallel(n_jobs=1)]: Done  30 out of  30 | elapsed: 28.5min finished\n"
     ]
    },
    {
     "name": "stdout",
     "output_type": "stream",
     "text": [
      "Randomized search took 29.00 minutes \n",
      "   \n",
      "Result of randomized search, best estimator:\n",
      "RandomForestClassifier(bootstrap=True, class_weight=None, criterion='gini',\n",
      "            max_depth=15, max_features='auto', max_leaf_nodes=148,\n",
      "            min_impurity_split=1e-07, min_samples_leaf=1,\n",
      "            min_samples_split=4, min_weight_fraction_leaf=0.0,\n",
      "            n_estimators=250, n_jobs=1, oob_score=False, random_state=42,\n",
      "            verbose=0, warm_start=False)\n"
     ]
    }
   ],
   "source": [
    "#Train the classifier\n",
    "\n",
    "params = {'n_estimators': [200,230,250], 'max_depth': list(range(13,16)),'max_leaf_nodes': list(range(145, 150)), \n",
    "          'min_samples_split': [2,3,4], 'bootstrap': [True, False]}\n",
    "\n",
    "rand_search_cv = RandomizedSearchCV(RandomForestClassifier(random_state=42), params, verbose=1)\n",
    "\n",
    "start = time()\n",
    "rand_search_cv.fit(X_train_std, y_train)\n",
    "print(\"Randomized search took %.2f minutes \"%((time() - start)//60))\n",
    "print(\"   \")\n",
    "print(\"Result of randomized search, best estimator:\")\n",
    "print(rand_search_cv.best_estimator_)"
   ]
  },
  {
   "cell_type": "code",
   "execution_count": 6,
   "metadata": {
    "collapsed": false
   },
   "outputs": [
    {
     "name": "stdout",
     "output_type": "stream",
     "text": [
      "Test the classifier\n",
      " \n",
      "Random Forests's Accuracy on -20 dB SNR samples =  0.13025\n",
      "Random Forests's Accuracy on -18 dB SNR samples =  0.1295\n",
      "Random Forests's Accuracy on -16 dB SNR samples =  0.13025\n",
      "Random Forests's Accuracy on -14 dB SNR samples =  0.1285\n",
      "Random Forests's Accuracy on -12 dB SNR samples =  0.15225\n",
      "Random Forests's Accuracy on -10 dB SNR samples =  0.19975\n",
      "Random Forests's Accuracy on -8 dB SNR samples =  0.31775\n",
      "Random Forests's Accuracy on -6 dB SNR samples =  0.39625\n",
      "Random Forests's Accuracy on -4 dB SNR samples =  0.398\n",
      "Random Forests's Accuracy on -2 dB SNR samples =  0.39275\n",
      "Random Forests's Accuracy on 0 dB SNR samples =  0.47075\n",
      "Random Forests's Accuracy on 2 dB SNR samples =  0.61875\n",
      "Random Forests's Accuracy on 4 dB SNR samples =  0.79975\n",
      "Random Forests's Accuracy on 6 dB SNR samples =  0.83725\n",
      "Random Forests's Accuracy on 8 dB SNR samples =  0.835\n",
      "Random Forests's Accuracy on 10 dB SNR samples =  0.8405\n",
      "Random Forests's Accuracy on 12 dB SNR samples =  0.83775\n",
      "Random Forests's Accuracy on 14 dB SNR samples =  0.84425\n",
      "Random Forests's Accuracy on 16 dB SNR samples =  0.83225\n",
      "Random Forests's Accuracy on 18 dB SNR samples =  0.838\n"
     ]
    }
   ],
   "source": [
    "import collections\n",
    "\n",
    "y_pred = defaultdict(list)\n",
    "accuracy = defaultdict(list)\n",
    "\n",
    "print(\"Test the classifier\")\n",
    "print(\" \")\n",
    "for snr in snrs:\n",
    "    y_pred[snr] = rand_search_cv.predict(X_32test_std[snr])\n",
    "    accuracy[snr] = metrics.accuracy_score(y_32_test[snr], y_pred[snr])\n",
    "    print(\"Random Forests's Accuracy on %d dB SNR samples = \"%(snr), accuracy[snr])   \n",
    "    \n",
    "accuracy = collections.OrderedDict(sorted(accuracy.items()))  #sort by ascending SNR value"
   ]
  },
  {
   "cell_type": "markdown",
   "metadata": {},
   "source": [
    "## <font color='royalblue'> Visualize classifier performance"
   ]
  },
  {
   "cell_type": "code",
   "execution_count": 7,
   "metadata": {
    "collapsed": false
   },
   "outputs": [
    {
     "data": {
      "image/png": "[encoded data removed]",
      "text/plain": [
       "<matplotlib.figure.Figure at 0x18f004870f0>"
      ]
     },
     "metadata": {},
     "output_type": "display_data"
    }
   ],
   "source": [
    "plt.style.use('classic')\n",
    "\n",
    "fig = plt.figure(figsize=(8, 4), dpi=100)\n",
    "x = snrs\n",
    "y = list(accuracy.values())\n",
    "plt.plot(x, y, marker=\"o\", linewidth=2.0, linestyle='dashed', color='royalblue')\n",
    "plt.axis([-20, 20, 0, 1])\n",
    "plt.xticks(np.arange(min(x), max(x)+1, 2.0))\n",
    "plt.yticks(np.arange(0, 1, 0.10))\n",
    "\n",
    "ttl = plt.title('SNR vs Accuracy', fontsize=16)\n",
    "ttl.set_weight('bold')\n",
    "plt.xlabel('SNR (dB)', fontsize=14)\n",
    "plt.ylabel('Test accuracy', fontsize=14)\n",
    "plt.grid()\n",
    "\n",
    "plt.show()"
   ]
  },
  {
   "cell_type": "code",
   "execution_count": 12,
   "metadata": {
    "collapsed": false
   },
   "outputs": [
    {
     "data": {
      "text/plain": [
       "['random_forest3.1.pkl']"
      ]
     },
     "execution_count": 12,
     "metadata": {},
     "output_type": "execute_result"
    }
   ],
   "source": [
    "from sklearn.externals import joblib\n",
    "\n",
    "joblib.dump(rand_search_cv, \"random_forest3.1.pkl\")"
   ]
  },
  {
   "cell_type": "code",
   "execution_count": 8,
   "metadata": {
    "collapsed": true
   },
   "outputs": [],
   "source": [
    "import pickle\n",
    "from sklearn.externals import joblib\n",
    "rand_search_cv = joblib.load(\"random_forest3.1.pkl\")"
   ]
  },
  {
   "cell_type": "code",
   "execution_count": null,
   "metadata": {
    "collapsed": true
   },
   "outputs": [],
   "source": []
  }
 ],
 "metadata": {
  "anaconda-cloud": {},
  "kernelspec": {
   "display_name": "Python [default]",
   "language": "python",
   "name": "python3"
  },
  "language_info": {
   "codemirror_mode": {
    "name": "ipython",
    "version": 3
   },
   "file_extension": ".py",
   "mimetype": "text/x-python",
   "name": "python",
   "nbconvert_exporter": "python",
   "pygments_lexer": "ipython3",
   "version": "3.5.2"
  }
 },
 "nbformat": 4,
 "nbformat_minor": 2
}
