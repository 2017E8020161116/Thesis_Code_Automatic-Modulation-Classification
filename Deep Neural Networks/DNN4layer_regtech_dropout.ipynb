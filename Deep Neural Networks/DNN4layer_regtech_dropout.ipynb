{
 "cells": [
  {
   "cell_type": "markdown",
   "metadata": {},
   "source": [
    "# Deep Neural Network (DNN) \n",
    "\n",
    "### Regularization of DNN [256,256,256,256] with dropout"
   ]
  },
  {
   "cell_type": "markdown",
   "metadata": {},
   "source": [
    "##  Get the data"
   ]
  },
  {
   "cell_type": "code",
   "execution_count": 1,
   "metadata": {},
   "outputs": [
    {
     "name": "stdout",
     "output_type": "stream",
     "text": [
      "Stored variables and their in-db values:\n",
      "X_32test_std              -> defaultdict(<class 'list'>, {0: array([[ 0.7957011\n",
      "X_32train_std             -> array([[-0.44445615,  0.62874736, -0.19049071, ...\n",
      "X_test                    -> defaultdict(<class 'list'>, {0: array([[[-0.004097\n",
      "X_test_std                -> defaultdict(<class 'list'>, {0: array([[ 0.8784659\n",
      "X_train                   -> array([[[-0.00304779,  0.0030504 , -0.00249425, ..\n",
      "X_train_std               -> array([[-0.44445615,  0.62874736, -0.19049071, ...\n",
      "snrs                      -> [-20, -18, -16, -14, -12, -10, -8, -6, -4, -2, 0, \n",
      "y_32_test                 -> defaultdict(<class 'list'>, {0: array([6, 7, 1, ..\n",
      "y_32_train                -> array([7, 2, 4, ..., 5, 5, 3])\n",
      "y_test                    -> defaultdict(<class 'list'>, {0: array([3, 2, 5, ..\n",
      "y_train                   -> array([7, 2, 4, ..., 5, 5, 3])\n"
     ]
    }
   ],
   "source": [
    "import warnings\n",
    "warnings.filterwarnings('ignore')\n",
    "\n",
    "import matplotlib.pyplot as plt\n",
    "import numpy as np\n",
    "import tensorflow as tf\n",
    "from collections import defaultdict\n",
    "from time import time\n",
    "\n",
    "%store -r\n",
    "%store"
   ]
  },
  {
   "cell_type": "code",
   "execution_count": 2,
   "metadata": {},
   "outputs": [
    {
     "name": "stdout",
     "output_type": "stream",
     "text": [
      "Training data:  (80000, 32) and labels:  (80000,)\n",
      " \n",
      "Test data:\n",
      "Total 20 (4000, 32) arrays for SNR values:\n",
      "[-20, -18, -16, -14, -12, -10, -8, -6, -4, -2, 0, 2, 4, 6, 8, 10, 12, 14, 16, 18]\n"
     ]
    }
   ],
   "source": [
    "print(\"Training data: \", X_32train_std.shape, \"and labels: \", y_32_train.shape)\n",
    "print(\" \")\n",
    "print(\"Test data:\")\n",
    "print(\"Total\", len(X_32test_std), X_32test_std[18].shape, \"arrays for SNR values:\")\n",
    "print(sorted(X_32test_std.keys()))"
   ]
  },
  {
   "cell_type": "code",
   "execution_count": 3,
   "metadata": {
    "collapsed": true
   },
   "outputs": [],
   "source": [
    "# tf.reset_default_graph()"
   ]
  },
  {
   "cell_type": "markdown",
   "metadata": {},
   "source": [
    "## Create validation set required for early stopping"
   ]
  },
  {
   "cell_type": "code",
   "execution_count": 4,
   "metadata": {},
   "outputs": [
    {
     "name": "stdout",
     "output_type": "stream",
     "text": [
      "Validation set data (40000, 32) and labels (40000,)\n"
     ]
    }
   ],
   "source": [
    "X_val = []\n",
    "y_val = []\n",
    "\n",
    "X_test_new = defaultdict(list)\n",
    "y_test_new = defaultdict(list)\n",
    "\n",
    "for snr in snrs:\n",
    "    n_test = X_32test_std[snr].shape[0]\n",
    "    X_val.append(X_32test_std[snr][:(n_test*0.5)])\n",
    "    y_val.append(y_32_test[snr][:(n_test*0.5)])\n",
    "    X_test_new[snr] = X_32test_std[snr][(n_test*0.5):]\n",
    "    y_test_new[snr] = y_32_test[snr][(n_test*0.5):]\n",
    "    \n",
    "X_val = np.vstack(np.asarray(X_val))\n",
    "y_val =np.hstack(np.asarray(y_val))\n",
    "\n",
    "print(\"Validation set data\", X_val.shape, \"and labels\", y_val.shape)\n",
    "\n",
    "X_32test_std = X_test_new\n",
    "y_32_test = y_test_new\n",
    "X_32_val = X_val \n",
    "y_32_val = y_val"
   ]
  },
  {
   "cell_type": "markdown",
   "metadata": {},
   "source": [
    "##  Design and train the DNN"
   ]
  },
  {
   "cell_type": "code",
   "execution_count": 7,
   "metadata": {},
   "outputs": [
    {
     "name": "stdout",
     "output_type": "stream",
     "text": [
      "0\tValidation loss: 1.926688\tMinimum loss: 1.926688\tAccuracy on validation set: 0.31\n",
      "1\tValidation loss: 1.765679\tMinimum loss: 1.765679\tAccuracy on validation set: 0.35\n",
      "2\tValidation loss: 1.681601\tMinimum loss: 1.681601\tAccuracy on validation set: 0.37\n",
      "3\tValidation loss: 1.624947\tMinimum loss: 1.624947\tAccuracy on validation set: 0.39\n",
      "4\tValidation loss: 1.593946\tMinimum loss: 1.593946\tAccuracy on validation set: 0.40\n",
      "5\tValidation loss: 1.562054\tMinimum loss: 1.562054\tAccuracy on validation set: 0.41\n",
      "6\tValidation loss: 1.545653\tMinimum loss: 1.545653\tAccuracy on validation set: 0.42\n",
      "7\tValidation loss: 1.532913\tMinimum loss: 1.532913\tAccuracy on validation set: 0.42\n",
      "8\tValidation loss: 1.511541\tMinimum loss: 1.511541\tAccuracy on validation set: 0.42\n",
      "9\tValidation loss: 1.496170\tMinimum loss: 1.496170\tAccuracy on validation set: 0.44\n",
      "10\tValidation loss: 1.494951\tMinimum loss: 1.494951\tAccuracy on validation set: 0.43\n",
      "11\tValidation loss: 1.484785\tMinimum loss: 1.484785\tAccuracy on validation set: 0.44\n",
      "12\tValidation loss: 1.472076\tMinimum loss: 1.472076\tAccuracy on validation set: 0.44\n",
      "13\tValidation loss: 1.472951\tMinimum loss: 1.472076\tAccuracy on validation set: 0.44\n",
      "14\tValidation loss: 1.466610\tMinimum loss: 1.466610\tAccuracy on validation set: 0.44\n",
      "15\tValidation loss: 1.469692\tMinimum loss: 1.466610\tAccuracy on validation set: 0.45\n",
      "16\tValidation loss: 1.456868\tMinimum loss: 1.456868\tAccuracy on validation set: 0.44\n",
      "17\tValidation loss: 1.455477\tMinimum loss: 1.455477\tAccuracy on validation set: 0.45\n",
      "18\tValidation loss: 1.453045\tMinimum loss: 1.453045\tAccuracy on validation set: 0.45\n",
      "19\tValidation loss: 1.449007\tMinimum loss: 1.449007\tAccuracy on validation set: 0.45\n",
      "20\tValidation loss: 1.446539\tMinimum loss: 1.446539\tAccuracy on validation set: 0.45\n",
      "21\tValidation loss: 1.446489\tMinimum loss: 1.446489\tAccuracy on validation set: 0.45\n",
      "22\tValidation loss: 1.441313\tMinimum loss: 1.441313\tAccuracy on validation set: 0.45\n",
      "23\tValidation loss: 1.442097\tMinimum loss: 1.441313\tAccuracy on validation set: 0.45\n",
      "24\tValidation loss: 1.436289\tMinimum loss: 1.436289\tAccuracy on validation set: 0.45\n",
      "25\tValidation loss: 1.434881\tMinimum loss: 1.434881\tAccuracy on validation set: 0.45\n",
      "26\tValidation loss: 1.426188\tMinimum loss: 1.426188\tAccuracy on validation set: 0.46\n",
      "27\tValidation loss: 1.422947\tMinimum loss: 1.422947\tAccuracy on validation set: 0.46\n",
      "28\tValidation loss: 1.419529\tMinimum loss: 1.419529\tAccuracy on validation set: 0.46\n",
      "29\tValidation loss: 1.412032\tMinimum loss: 1.412032\tAccuracy on validation set: 0.46\n",
      "30\tValidation loss: 1.408830\tMinimum loss: 1.408830\tAccuracy on validation set: 0.47\n",
      "31\tValidation loss: 1.397548\tMinimum loss: 1.397548\tAccuracy on validation set: 0.47\n",
      "32\tValidation loss: 1.386150\tMinimum loss: 1.386150\tAccuracy on validation set: 0.48\n",
      "33\tValidation loss: 1.377511\tMinimum loss: 1.377511\tAccuracy on validation set: 0.48\n",
      "34\tValidation loss: 1.375236\tMinimum loss: 1.375236\tAccuracy on validation set: 0.49\n",
      "35\tValidation loss: 1.373622\tMinimum loss: 1.373622\tAccuracy on validation set: 0.49\n",
      "36\tValidation loss: 1.362659\tMinimum loss: 1.362659\tAccuracy on validation set: 0.49\n",
      "37\tValidation loss: 1.362580\tMinimum loss: 1.362580\tAccuracy on validation set: 0.49\n",
      "38\tValidation loss: 1.359160\tMinimum loss: 1.359160\tAccuracy on validation set: 0.49\n",
      "39\tValidation loss: 1.363958\tMinimum loss: 1.359160\tAccuracy on validation set: 0.49\n",
      "40\tValidation loss: 1.354600\tMinimum loss: 1.354600\tAccuracy on validation set: 0.50\n",
      "41\tValidation loss: 1.356718\tMinimum loss: 1.354600\tAccuracy on validation set: 0.50\n",
      "42\tValidation loss: 1.354674\tMinimum loss: 1.354600\tAccuracy on validation set: 0.49\n",
      "43\tValidation loss: 1.351590\tMinimum loss: 1.351590\tAccuracy on validation set: 0.49\n",
      "44\tValidation loss: 1.348212\tMinimum loss: 1.348212\tAccuracy on validation set: 0.50\n",
      "45\tValidation loss: 1.344576\tMinimum loss: 1.344576\tAccuracy on validation set: 0.50\n",
      "46\tValidation loss: 1.347653\tMinimum loss: 1.344576\tAccuracy on validation set: 0.50\n",
      "47\tValidation loss: 1.343476\tMinimum loss: 1.343476\tAccuracy on validation set: 0.50\n",
      "48\tValidation loss: 1.347700\tMinimum loss: 1.343476\tAccuracy on validation set: 0.50\n",
      "49\tValidation loss: 1.340998\tMinimum loss: 1.340998\tAccuracy on validation set: 0.50\n",
      "50\tValidation loss: 1.336973\tMinimum loss: 1.336973\tAccuracy on validation set: 0.50\n",
      "51\tValidation loss: 1.333793\tMinimum loss: 1.333793\tAccuracy on validation set: 0.50\n",
      "52\tValidation loss: 1.342954\tMinimum loss: 1.333793\tAccuracy on validation set: 0.50\n",
      "53\tValidation loss: 1.341732\tMinimum loss: 1.333793\tAccuracy on validation set: 0.50\n",
      "54\tValidation loss: 1.335071\tMinimum loss: 1.333793\tAccuracy on validation set: 0.50\n",
      "55\tValidation loss: 1.332924\tMinimum loss: 1.332924\tAccuracy on validation set: 0.50\n",
      "56\tValidation loss: 1.334290\tMinimum loss: 1.332924\tAccuracy on validation set: 0.50\n",
      "57\tValidation loss: 1.331084\tMinimum loss: 1.331084\tAccuracy on validation set: 0.50\n",
      "58\tValidation loss: 1.334263\tMinimum loss: 1.331084\tAccuracy on validation set: 0.51\n",
      "59\tValidation loss: 1.332800\tMinimum loss: 1.331084\tAccuracy on validation set: 0.50\n",
      "60\tValidation loss: 1.334180\tMinimum loss: 1.331084\tAccuracy on validation set: 0.50\n",
      "61\tValidation loss: 1.330663\tMinimum loss: 1.330663\tAccuracy on validation set: 0.50\n",
      "62\tValidation loss: 1.335254\tMinimum loss: 1.330663\tAccuracy on validation set: 0.50\n",
      "63\tValidation loss: 1.327970\tMinimum loss: 1.327970\tAccuracy on validation set: 0.51\n",
      "64\tValidation loss: 1.330128\tMinimum loss: 1.327970\tAccuracy on validation set: 0.50\n",
      "65\tValidation loss: 1.335071\tMinimum loss: 1.327970\tAccuracy on validation set: 0.50\n",
      "66\tValidation loss: 1.330553\tMinimum loss: 1.327970\tAccuracy on validation set: 0.50\n",
      "67\tValidation loss: 1.331963\tMinimum loss: 1.327970\tAccuracy on validation set: 0.51\n",
      "68\tValidation loss: 1.332028\tMinimum loss: 1.327970\tAccuracy on validation set: 0.50\n",
      "69\tValidation loss: 1.330746\tMinimum loss: 1.327970\tAccuracy on validation set: 0.50\n",
      "70\tValidation loss: 1.329520\tMinimum loss: 1.327970\tAccuracy on validation set: 0.51\n",
      "71\tValidation loss: 1.327605\tMinimum loss: 1.327605\tAccuracy on validation set: 0.50\n",
      "72\tValidation loss: 1.328805\tMinimum loss: 1.327605\tAccuracy on validation set: 0.50\n",
      "73\tValidation loss: 1.322764\tMinimum loss: 1.322764\tAccuracy on validation set: 0.50\n",
      "74\tValidation loss: 1.332068\tMinimum loss: 1.322764\tAccuracy on validation set: 0.50\n",
      "75\tValidation loss: 1.327324\tMinimum loss: 1.322764\tAccuracy on validation set: 0.51\n",
      "76\tValidation loss: 1.328546\tMinimum loss: 1.322764\tAccuracy on validation set: 0.50\n",
      "77\tValidation loss: 1.335115\tMinimum loss: 1.322764\tAccuracy on validation set: 0.50\n",
      "78\tValidation loss: 1.329519\tMinimum loss: 1.322764\tAccuracy on validation set: 0.50\n",
      "79\tValidation loss: 1.326997\tMinimum loss: 1.322764\tAccuracy on validation set: 0.50\n",
      "80\tValidation loss: 1.335276\tMinimum loss: 1.322764\tAccuracy on validation set: 0.50\n",
      "81\tValidation loss: 1.331623\tMinimum loss: 1.322764\tAccuracy on validation set: 0.50\n",
      "82\tValidation loss: 1.325446\tMinimum loss: 1.322764\tAccuracy on validation set: 0.50\n",
      "83\tValidation loss: 1.328340\tMinimum loss: 1.322764\tAccuracy on validation set: 0.51\n",
      "84\tValidation loss: 1.325637\tMinimum loss: 1.322764\tAccuracy on validation set: 0.51\n",
      "85\tValidation loss: 1.321337\tMinimum loss: 1.321337\tAccuracy on validation set: 0.50\n",
      "86\tValidation loss: 1.326633\tMinimum loss: 1.321337\tAccuracy on validation set: 0.50\n",
      "87\tValidation loss: 1.323237\tMinimum loss: 1.321337\tAccuracy on validation set: 0.50\n",
      "88\tValidation loss: 1.324215\tMinimum loss: 1.321337\tAccuracy on validation set: 0.51\n",
      "89\tValidation loss: 1.324814\tMinimum loss: 1.321337\tAccuracy on validation set: 0.50\n",
      "90\tValidation loss: 1.324576\tMinimum loss: 1.321337\tAccuracy on validation set: 0.51\n",
      "91\tValidation loss: 1.325631\tMinimum loss: 1.321337\tAccuracy on validation set: 0.51\n",
      "92\tValidation loss: 1.322858\tMinimum loss: 1.321337\tAccuracy on validation set: 0.51\n",
      "93\tValidation loss: 1.323815\tMinimum loss: 1.321337\tAccuracy on validation set: 0.51\n",
      "94\tValidation loss: 1.318568\tMinimum loss: 1.318568\tAccuracy on validation set: 0.50\n",
      "95\tValidation loss: 1.328219\tMinimum loss: 1.318568\tAccuracy on validation set: 0.51\n",
      "96\tValidation loss: 1.325547\tMinimum loss: 1.318568\tAccuracy on validation set: 0.51\n",
      "97\tValidation loss: 1.338207\tMinimum loss: 1.318568\tAccuracy on validation set: 0.51\n",
      "98\tValidation loss: 1.320582\tMinimum loss: 1.318568\tAccuracy on validation set: 0.50\n",
      "99\tValidation loss: 1.332442\tMinimum loss: 1.318568\tAccuracy on validation set: 0.51\n",
      "100\tValidation loss: 1.323699\tMinimum loss: 1.318568\tAccuracy on validation set: 0.51\n",
      "101\tValidation loss: 1.320344\tMinimum loss: 1.318568\tAccuracy on validation set: 0.50\n",
      "102\tValidation loss: 1.317986\tMinimum loss: 1.317986\tAccuracy on validation set: 0.51\n",
      "103\tValidation loss: 1.327401\tMinimum loss: 1.317986\tAccuracy on validation set: 0.51\n",
      "104\tValidation loss: 1.322752\tMinimum loss: 1.317986\tAccuracy on validation set: 0.50\n",
      "105\tValidation loss: 1.315414\tMinimum loss: 1.315414\tAccuracy on validation set: 0.51\n",
      "106\tValidation loss: 1.313787\tMinimum loss: 1.313787\tAccuracy on validation set: 0.51\n",
      "107\tValidation loss: 1.320422\tMinimum loss: 1.313787\tAccuracy on validation set: 0.51\n",
      "108\tValidation loss: 1.319037\tMinimum loss: 1.313787\tAccuracy on validation set: 0.51\n",
      "109\tValidation loss: 1.318763\tMinimum loss: 1.313787\tAccuracy on validation set: 0.51\n",
      "110\tValidation loss: 1.320737\tMinimum loss: 1.313787\tAccuracy on validation set: 0.51\n",
      "111\tValidation loss: 1.315852\tMinimum loss: 1.313787\tAccuracy on validation set: 0.51\n",
      "112\tValidation loss: 1.323696\tMinimum loss: 1.313787\tAccuracy on validation set: 0.51\n",
      "113\tValidation loss: 1.317495\tMinimum loss: 1.313787\tAccuracy on validation set: 0.51\n",
      "114\tValidation loss: 1.317013\tMinimum loss: 1.313787\tAccuracy on validation set: 0.51\n",
      "115\tValidation loss: 1.314170\tMinimum loss: 1.313787\tAccuracy on validation set: 0.51\n",
      "116\tValidation loss: 1.322122\tMinimum loss: 1.313787\tAccuracy on validation set: 0.50\n",
      "117\tValidation loss: 1.316306\tMinimum loss: 1.313787\tAccuracy on validation set: 0.51\n",
      "118\tValidation loss: 1.315748\tMinimum loss: 1.313787\tAccuracy on validation set: 0.51\n",
      "119\tValidation loss: 1.314674\tMinimum loss: 1.313787\tAccuracy on validation set: 0.51\n",
      "120\tValidation loss: 1.319675\tMinimum loss: 1.313787\tAccuracy on validation set: 0.51\n",
      "121\tValidation loss: 1.312023\tMinimum loss: 1.312023\tAccuracy on validation set: 0.51\n",
      "122\tValidation loss: 1.316986\tMinimum loss: 1.312023\tAccuracy on validation set: 0.51\n",
      "123\tValidation loss: 1.317352\tMinimum loss: 1.312023\tAccuracy on validation set: 0.51\n",
      "124\tValidation loss: 1.314571\tMinimum loss: 1.312023\tAccuracy on validation set: 0.51\n",
      "125\tValidation loss: 1.316420\tMinimum loss: 1.312023\tAccuracy on validation set: 0.50\n",
      "126\tValidation loss: 1.322317\tMinimum loss: 1.312023\tAccuracy on validation set: 0.50\n",
      "127\tValidation loss: 1.315598\tMinimum loss: 1.312023\tAccuracy on validation set: 0.51\n",
      "128\tValidation loss: 1.314658\tMinimum loss: 1.312023\tAccuracy on validation set: 0.51\n",
      "129\tValidation loss: 1.318504\tMinimum loss: 1.312023\tAccuracy on validation set: 0.51\n",
      "130\tValidation loss: 1.313396\tMinimum loss: 1.312023\tAccuracy on validation set: 0.51\n",
      "131\tValidation loss: 1.318622\tMinimum loss: 1.312023\tAccuracy on validation set: 0.51\n",
      "132\tValidation loss: 1.314840\tMinimum loss: 1.312023\tAccuracy on validation set: 0.51\n",
      "133\tValidation loss: 1.315456\tMinimum loss: 1.312023\tAccuracy on validation set: 0.51\n",
      "134\tValidation loss: 1.313510\tMinimum loss: 1.312023\tAccuracy on validation set: 0.51\n",
      "135\tValidation loss: 1.326876\tMinimum loss: 1.312023\tAccuracy on validation set: 0.50\n",
      "136\tValidation loss: 1.313114\tMinimum loss: 1.312023\tAccuracy on validation set: 0.51\n",
      "137\tValidation loss: 1.315197\tMinimum loss: 1.312023\tAccuracy on validation set: 0.51\n",
      "138\tValidation loss: 1.315933\tMinimum loss: 1.312023\tAccuracy on validation set: 0.51\n",
      "139\tValidation loss: 1.322107\tMinimum loss: 1.312023\tAccuracy on validation set: 0.51\n",
      "140\tValidation loss: 1.317009\tMinimum loss: 1.312023\tAccuracy on validation set: 0.51\n",
      "141\tValidation loss: 1.315114\tMinimum loss: 1.312023\tAccuracy on validation set: 0.51\n",
      "142\tValidation loss: 1.311431\tMinimum loss: 1.311431\tAccuracy on validation set: 0.51\n",
      "143\tValidation loss: 1.317702\tMinimum loss: 1.311431\tAccuracy on validation set: 0.51\n",
      "144\tValidation loss: 1.317210\tMinimum loss: 1.311431\tAccuracy on validation set: 0.50\n",
      "145\tValidation loss: 1.321571\tMinimum loss: 1.311431\tAccuracy on validation set: 0.51\n",
      "146\tValidation loss: 1.315449\tMinimum loss: 1.311431\tAccuracy on validation set: 0.51\n",
      "147\tValidation loss: 1.316181\tMinimum loss: 1.311431\tAccuracy on validation set: 0.51\n",
      "148\tValidation loss: 1.315755\tMinimum loss: 1.311431\tAccuracy on validation set: 0.51\n",
      "149\tValidation loss: 1.314485\tMinimum loss: 1.311431\tAccuracy on validation set: 0.51\n",
      "150\tValidation loss: 1.313509\tMinimum loss: 1.311431\tAccuracy on validation set: 0.51\n",
      "151\tValidation loss: 1.310007\tMinimum loss: 1.310007\tAccuracy on validation set: 0.51\n",
      "152\tValidation loss: 1.312118\tMinimum loss: 1.310007\tAccuracy on validation set: 0.51\n",
      "153\tValidation loss: 1.318390\tMinimum loss: 1.310007\tAccuracy on validation set: 0.51\n",
      "154\tValidation loss: 1.309220\tMinimum loss: 1.309220\tAccuracy on validation set: 0.51\n",
      "155\tValidation loss: 1.311982\tMinimum loss: 1.309220\tAccuracy on validation set: 0.51\n",
      "156\tValidation loss: 1.317495\tMinimum loss: 1.309220\tAccuracy on validation set: 0.51\n",
      "157\tValidation loss: 1.322397\tMinimum loss: 1.309220\tAccuracy on validation set: 0.51\n",
      "158\tValidation loss: 1.318708\tMinimum loss: 1.309220\tAccuracy on validation set: 0.51\n",
      "159\tValidation loss: 1.319420\tMinimum loss: 1.309220\tAccuracy on validation set: 0.51\n",
      "160\tValidation loss: 1.315804\tMinimum loss: 1.309220\tAccuracy on validation set: 0.51\n",
      "161\tValidation loss: 1.317925\tMinimum loss: 1.309220\tAccuracy on validation set: 0.51\n",
      "162\tValidation loss: 1.314339\tMinimum loss: 1.309220\tAccuracy on validation set: 0.51\n",
      "163\tValidation loss: 1.319353\tMinimum loss: 1.309220\tAccuracy on validation set: 0.51\n",
      "164\tValidation loss: 1.320590\tMinimum loss: 1.309220\tAccuracy on validation set: 0.51\n",
      "165\tValidation loss: 1.323077\tMinimum loss: 1.309220\tAccuracy on validation set: 0.51\n",
      "166\tValidation loss: 1.315239\tMinimum loss: 1.309220\tAccuracy on validation set: 0.51\n",
      "167\tValidation loss: 1.312571\tMinimum loss: 1.309220\tAccuracy on validation set: 0.51\n",
      "168\tValidation loss: 1.313836\tMinimum loss: 1.309220\tAccuracy on validation set: 0.51\n",
      "169\tValidation loss: 1.314455\tMinimum loss: 1.309220\tAccuracy on validation set: 0.51\n",
      "170\tValidation loss: 1.319464\tMinimum loss: 1.309220\tAccuracy on validation set: 0.51\n",
      "171\tValidation loss: 1.319696\tMinimum loss: 1.309220\tAccuracy on validation set: 0.51\n",
      "172\tValidation loss: 1.312072\tMinimum loss: 1.309220\tAccuracy on validation set: 0.51\n",
      "173\tValidation loss: 1.316447\tMinimum loss: 1.309220\tAccuracy on validation set: 0.51\n",
      "174\tValidation loss: 1.314911\tMinimum loss: 1.309220\tAccuracy on validation set: 0.51\n",
      "** EARLY STOPPING ** \n",
      " \n",
      "INFO:tensorflow:Restoring parameters from ./DNN4layer_regtech_dropout\n",
      "Training and testing took 11.718560 minutes\n"
     ]
    }
   ],
   "source": [
    "# ----------------- Initialize parameters -----------------------\n",
    "\n",
    "\n",
    "n_hidden1 = 256\n",
    "n_hidden2 = 256\n",
    "n_hidden3 = 256\n",
    "n_hidden4 = 256\n",
    "\n",
    "drop_rate = 0.25\n",
    "n_outputs = 8\n",
    "\n",
    "dropout_rate = 0.25\n",
    "\n",
    "X = tf.placeholder(tf.float32, shape=(None, 32))\n",
    "y = tf.placeholder(tf.int64, shape=(None))\n",
    "training_ = tf.placeholder_with_default(False, shape=[])\n",
    "\n",
    "# ------------------- Define layers -----------------------\n",
    "\n",
    "from tensorflow.contrib.layers import fully_connected\n",
    "\n",
    "def layer(X, n_neurons, activation):\n",
    "    layer = fully_connected(X, n_neurons, activation_fn = activation, \n",
    "                            weights_initializer = tf.contrib.layers.variance_scaling_initializer())\n",
    "    layer_drop = tf.layers.dropout(layer, dropout_rate, training = training_)\n",
    "    return layer_drop\n",
    "\n",
    "layer1 = layer(X, n_hidden1, activation = tf.nn.elu)\n",
    "\n",
    "layer2 = layer(layer1, n_hidden2, activation = tf.nn.elu)\n",
    "\n",
    "layer3 = layer(layer2, n_hidden3, activation = tf.nn.elu)\n",
    "\n",
    "layer4 = layer(layer3, n_hidden4, activation = tf.nn.elu)\n",
    "\n",
    "logits = layer(layer4, n_outputs, activation = None)\n",
    "\n",
    "# ----------------- Specify performance measure ----------------------\n",
    "\n",
    "xentropy = tf.nn.sparse_softmax_cross_entropy_with_logits(labels=y, logits=logits)\n",
    "loss = tf.reduce_mean(xentropy)\n",
    "\n",
    "optimizer = tf.train.AdamOptimizer()\n",
    "training_op = optimizer.minimize(loss)\n",
    "\n",
    "correct = tf.nn.in_top_k(logits, y, 1)\n",
    "accuracy = tf.reduce_mean(tf.cast(correct, tf.float32))\n",
    "        \n",
    "# ------------------ Execution phase ----------------------------------    \n",
    "\n",
    "n_epochs = 1000\n",
    "batch_size = 1024\n",
    "n_train = X_train_std.shape[0]\n",
    "n_iter = n_train//batch_size\n",
    "\n",
    "saver = tf.train.Saver()\n",
    "\n",
    "min_loss = np.infty\n",
    "epochs_without_improvement = 0 \n",
    "max_epochs_without_improvement = 20   \n",
    "\n",
    "acc_test = defaultdict(list)\n",
    "\n",
    "start = time()\n",
    "path = \"./DNN4layer_regtech_dropout\"\n",
    "\n",
    "with tf.Session() as sess:\n",
    "    tf.global_variables_initializer().run()\n",
    "    for epoch in range(n_epochs):\n",
    "        for iteration in range(n_iter):\n",
    "            rand_indices = np.random.choice(n_train,batch_size) #select random samples to form mini batches   \n",
    "            X_batch, y_batch = X_32train_std[rand_indices], y_32_train[rand_indices]\n",
    "            sess.run(training_op, feed_dict={X: X_batch, y: y_batch,  training_: True})\n",
    "        valid_loss, acc_val = sess.run([loss, accuracy], feed_dict={X: X_32_val, y: y_32_val, training_: True})\n",
    "        \n",
    "        # Early stopping \n",
    "        \n",
    "        if valid_loss < min_loss:\n",
    "            save_path = saver.save(sess, path)\n",
    "            min_loss = valid_loss\n",
    "            epochs_without_improvement = 0\n",
    "        else:\n",
    "            epochs_without_improvement += 1\n",
    "            if epochs_without_improvement > max_epochs_without_improvement:\n",
    "                print(\"** EARLY STOPPING ** \")\n",
    "                break\n",
    "        print(\"{}\\tValidation loss: {:.6f}\\tMinimum loss: {:.6f}\\tAccuracy on validation set: {:.2f}\".format(\n",
    "            epoch, valid_loss, min_loss, acc_val))\n",
    "\n",
    "print(\" \")\n",
    "with tf.Session() as sess:\n",
    "    saver.restore(sess, path)\n",
    "    for snr in snrs:\n",
    "        acc_test[snr] = accuracy.eval(feed_dict={X: X_32test_std[snr], y: y_32_test[snr]})\n",
    "\n",
    "print(\"Training and testing took %f minutes\"%(float(time() - start)/60))"
   ]
  },
  {
   "cell_type": "markdown",
   "metadata": {},
   "source": [
    "## Test the DNN"
   ]
  },
  {
   "cell_type": "code",
   "execution_count": 8,
   "metadata": {},
   "outputs": [
    {
     "name": "stdout",
     "output_type": "stream",
     "text": [
      "DNN's test accuracy on -20 dB SNR samples =  0.1315\n",
      "DNN's test accuracy on -18 dB SNR samples =  0.134\n",
      "DNN's test accuracy on -16 dB SNR samples =  0.13\n",
      "DNN's test accuracy on -14 dB SNR samples =  0.136\n",
      "DNN's test accuracy on -12 dB SNR samples =  0.134\n",
      "DNN's test accuracy on -10 dB SNR samples =  0.1715\n",
      "DNN's test accuracy on -8 dB SNR samples =  0.2925\n",
      "DNN's test accuracy on -6 dB SNR samples =  0.3915\n",
      "DNN's test accuracy on -4 dB SNR samples =  0.426\n",
      "DNN's test accuracy on -2 dB SNR samples =  0.482\n",
      "DNN's test accuracy on 0 dB SNR samples =  0.578\n",
      "DNN's test accuracy on 2 dB SNR samples =  0.7075\n",
      "DNN's test accuracy on 4 dB SNR samples =  0.819\n",
      "DNN's test accuracy on 6 dB SNR samples =  0.832\n",
      "DNN's test accuracy on 8 dB SNR samples =  0.844\n",
      "DNN's test accuracy on 10 dB SNR samples =  0.838\n",
      "DNN's test accuracy on 12 dB SNR samples =  0.8305\n",
      "DNN's test accuracy on 14 dB SNR samples =  0.8405\n",
      "DNN's test accuracy on 16 dB SNR samples =  0.841\n",
      "DNN's test accuracy on 18 dB SNR samples =  0.847\n"
     ]
    }
   ],
   "source": [
    "for snr in snrs:\n",
    "    print(\"DNN's test accuracy on %d dB SNR samples = \"%(snr), acc_test[snr])   "
   ]
  },
  {
   "cell_type": "markdown",
   "metadata": {
    "collapsed": true
   },
   "source": [
    "##  Visualize DNN's performance"
   ]
  },
  {
   "cell_type": "code",
   "execution_count": 9,
   "metadata": {},
   "outputs": [
    {
     "data": {
      "image/png": "[encoded data removed]",
      "text/plain": [
       "<matplotlib.figure.Figure at 0x7f0c5cae22e8>"
      ]
     },
     "metadata": {},
     "output_type": "display_data"
    }
   ],
   "source": [
    "plt.style.use('classic')\n",
    "%matplotlib inline\n",
    "\n",
    "acc_test = sorted(acc_test.items())\n",
    "new_acc = []\n",
    "for i in range(len(acc_test)):\n",
    "    new_acc.append(acc_test[i][1])\n",
    "acc_test_values = new_acc \n",
    "\n",
    "fig1 = plt.figure(figsize=(10, 6), dpi=100)\n",
    "x = snrs\n",
    "y = list(acc_test_values)\n",
    "plt.plot(x, y, marker=\"o\", linewidth=2.0, linestyle='dashed', color='royalblue')\n",
    "plt.axis([-20, 20, 0, 1])\n",
    "plt.xticks(np.arange(min(x), max(x)+1, 2.0))\n",
    "plt.yticks(np.arange(0, 1, 0.10))\n",
    "\n",
    "ttl = plt.title('SNR vs Accuracy', fontsize=16)\n",
    "ttl.set_weight('bold')\n",
    "plt.xlabel('SNR (dB)', fontsize=14)\n",
    "plt.ylabel('Test accuracy', fontsize=14)\n",
    "plt.grid()\n",
    "\n",
    "plt.show()"
   ]
  },
  {
   "cell_type": "code",
   "execution_count": 10,
   "metadata": {},
   "outputs": [
    {
     "name": "stdout",
     "output_type": "stream",
     "text": [
      "INFO:tensorflow:Restoring parameters from ./DNN4layer_regtech_dropout\n",
      "Confusion Matrix\n",
      "       8PSK  BPSK  CPFSK  GFSK  PAM4  QAM16  QAM64  QPSK\n",
      "8PSK   0.82  0.00   0.00  0.00  0.01   0.08   0.08  0.00\n",
      "BPSK   0.00  0.97   0.00  0.00  0.01   0.00   0.01  0.00\n",
      "CPFSK  0.01  0.00   0.97  0.00  0.00   0.01   0.01  0.00\n",
      "GFSK   0.01  0.00   0.00  0.97  0.00   0.01   0.01  0.00\n",
      "PAM4   0.00  0.00   0.00  0.00  0.99   0.01   0.00  0.00\n",
      "QAM16  0.07  0.00   0.00  0.00  0.00   0.54   0.39  0.00\n",
      "QAM64  0.01  0.00   0.00  0.00  0.00   0.47   0.52  0.00\n",
      "QPSK   0.03  0.00   0.00  0.00  0.00   0.05   0.03  0.89\n"
     ]
    },
    {
     "data": {
      "image/png": "[encoded data removed]",
      "text/plain": [
       "<matplotlib.figure.Figure at 0x7f0c40768940>"
      ]
     },
     "metadata": {},
     "output_type": "display_data"
    }
   ],
   "source": [
    "# Confusion Matrix\n",
    "\n",
    "with tf.Session() as sess:\n",
    "    saver.restore(sess, path)\n",
    "    Z = logits.eval(feed_dict = {X : X_32test_std[18]})\n",
    "    predicted_18dB = np.argmax(Z, axis = 1)\n",
    "    \n",
    "from sklearn.metrics import confusion_matrix\n",
    "%matplotlib inline\n",
    "\n",
    "classes = ['8PSK', 'BPSK', 'CPFSK', 'GFSK', 'PAM4', 'QAM16', 'QAM64', 'QPSK']\n",
    "conf_matrix = confusion_matrix(predicted_18dB, y_32_test[18])  \n",
    "\n",
    "conf_matrix = conf_matrix.astype('float') / conf_matrix.sum(axis=1)[:, np.newaxis]\n",
    "conf_matrix = conf_matrix.round(decimals = 2)\n",
    "\n",
    "import pandas as pd\n",
    "\n",
    "df = pd.DataFrame(data = conf_matrix, columns = classes, index = classes) \n",
    "print(\"Confusion Matrix\")\n",
    "print(df)\n",
    "\n",
    "fig1 = plt.figure(figsize=(10, 6), dpi=100)\n",
    "plt.imshow(conf_matrix, interpolation = 'nearest', cmap = plt.cm.Purples)\n",
    "ticks = np.arange(len(classes))\n",
    "plt.title(\"Confusion Matrix\")\n",
    "plt.xticks(ticks, classes, rotation=45)\n",
    "plt.yticks(ticks, classes)\n",
    "\n",
    "plt.ylabel('True class')\n",
    "plt.xlabel('Predicted class')\n",
    "\n",
    "plt.tight_layout()\n",
    "plt.colorbar()\n",
    "plt.show()"
   ]
  },
  {
   "cell_type": "code",
   "execution_count": null,
   "metadata": {
    "collapsed": true
   },
   "outputs": [],
   "source": []
  }
 ],
 "metadata": {
  "anaconda-cloud": {},
  "kernelspec": {
   "display_name": "Python 3",
   "language": "python",
   "name": "python3"
  },
  "language_info": {
   "codemirror_mode": {
    "name": "ipython",
    "version": 3
   },
   "file_extension": ".py",
   "mimetype": "text/x-python",
   "name": "python",
   "nbconvert_exporter": "python",
   "pygments_lexer": "ipython3",
   "version": "3.6.3"
  }
 },
 "nbformat": 4,
 "nbformat_minor": 1
}
