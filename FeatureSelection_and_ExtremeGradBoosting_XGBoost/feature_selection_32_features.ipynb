{
 "cells": [
  {
   "cell_type": "markdown",
   "metadata": {},
   "source": [
    "# <center> eXtreme Gradient Boosting\n",
    "### train, evaluate, plot feature importance and visualize log loss"
   ]
  },
  {
   "cell_type": "markdown",
   "metadata": {},
   "source": [
    "## <font color = 'blue'> Get the data"
   ]
  },
  {
   "cell_type": "code",
   "execution_count": 2,
   "metadata": {},
   "outputs": [
    {
     "name": "stdout",
     "output_type": "stream",
     "text": [
      "Stored variables and their in-db values:\n",
      "X_16_val                  -> array([[ 0.10924883,  1.83030605, -0.14807631, ...\n",
      "X_32_val                  -> array([[ 0.66944195,  0.46536115,  0.79919788, ...\n",
      "X_32test_std              -> defaultdict(<class 'list'>, {0: array([[ 0.6694419\n",
      "X_32train_std             -> array([[-0.74031227,  0.0126481 , -0.30967801, ...\n",
      "X_test                    -> defaultdict(<class 'list'>, {0: array([[[ -6.40490\n",
      "X_test_new                -> defaultdict(<class 'list'>, {0: array([[ 0.1092488\n",
      "X_test_std                -> defaultdict(<class 'list'>, {0: array([[ 0.1092488\n",
      "X_train                   -> array([[[ 0.00119031,  0.00873315,  0.00641749, ..\n",
      "X_train_new               -> array([[-0.74031227,  0.23616372, -0.18182195, ...\n",
      "X_train_std               -> array([[-0.74031227,  0.0126481 , -0.30967801, ...\n",
      "snrs                      -> [-20, -18, -16, -14, -12, -10, -8, -6, -4, -2, 0, \n",
      "y_16_val                  -> array([6, 6, 5, ..., 0, 4, 1])\n",
      "y_32_test                 -> defaultdict(<class 'list'>, {0: array([2, 2, 4, ..\n",
      "y_32_train                -> array([0, 3, 4, ..., 0, 3, 1])\n",
      "y_32_val                  -> array([2, 2, 4, ..., 0, 7, 3])\n",
      "y_test                    -> defaultdict(<class 'list'>, {0: array([6, 6, 5, ..\n",
      "y_train                   -> array([0, 3, 4, ..., 0, 3, 1])\n"
     ]
    }
   ],
   "source": [
    "import warnings\n",
    "warnings.filterwarnings('ignore')\n",
    "\n",
    "import matplotlib.pyplot as plt\n",
    "import numpy as np\n",
    "from collections import defaultdict\n",
    "import xgboost as xgb\n",
    "from xgboost.sklearn import XGBClassifier\n",
    "from sklearn.cross_validation import train_test_split\n",
    "from sklearn.datasets import dump_svmlight_file\n",
    "from sklearn.externals import joblib\n",
    "from sklearn.metrics import precision_score\n",
    "from sklearn import cross_validation, metrics\n",
    "from time import time\n",
    "import pandas as pd\n",
    "import collections\n",
    "from sklearn.metrics import accuracy_score\n",
    "from sklearn.feature_selection import SelectFromModel\n",
    "from numpy import sort\n",
    "\n",
    "%store -r\n",
    "%store"
   ]
  },
  {
   "cell_type": "code",
   "execution_count": 3,
   "metadata": {},
   "outputs": [
    {
     "name": "stdout",
     "output_type": "stream",
     "text": [
      "Training data:  (80000, 32) and labels:  (80000,)\n",
      " \n",
      "Test data:\n",
      "Total 20 (4000, 32) arrays for SNR values:\n",
      "[-20, -18, -16, -14, -12, -10, -8, -6, -4, -2, 0, 2, 4, 6, 8, 10, 12, 14, 16, 18]\n"
     ]
    }
   ],
   "source": [
    "print(\"Training data: \", X_32train_std.shape, \"and labels: \", y_32_train.shape)\n",
    "print(\" \")\n",
    "print(\"Test data:\")\n",
    "print(\"Total\", len(X_32test_std), X_32test_std[18].shape, \"arrays for SNR values:\")\n",
    "print(sorted(X_32test_std.keys()))"
   ]
  },
  {
   "cell_type": "markdown",
   "metadata": {},
   "source": [
    "## <font color = 'blue'> Train and test"
   ]
  },
  {
   "cell_type": "code",
   "execution_count": 7,
   "metadata": {
    "collapsed": true
   },
   "outputs": [],
   "source": [
    "def train_and_test(model, train_data=X_32train_std, train_labels=y_32_train, test_data=X_32test_std, test_labels=y_32_test):\n",
    "    \n",
    "    dtrain = xgb.DMatrix(train_data, label=train_labels)\n",
    "    dtest = defaultdict(list)\n",
    "    for snr in snrs:\n",
    "        dtest[snr] = xgb.DMatrix(test_data[snr], label=test_labels[snr])\n",
    "    parameters = model.get_xgb_params()\n",
    "    \n",
    "    eval_history = xgb.cv(parameters, dtrain, metrics = 'mlogloss', nfold = 5, early_stopping_rounds = 20,\n",
    "                         num_boost_round = model.get_params()['n_estimators'])\n",
    "    model.set_params(n_estimators = eval_history.shape[0])\n",
    "    \n",
    "    eval_set = [(train_data, train_labels), (test_data[10], test_labels[10])]\n",
    "    start = time()\n",
    "    model.fit(train_data, train_labels, eval_metric = 'mlogloss', eval_set = eval_set) #fit model to data\n",
    "    print(\"Fitting model to data took {} minutes\".format((time() - start)/60))\n",
    "    \n",
    "    # Compute metric for training data\n",
    "    train_predict = model.predict(train_data)\n",
    "    train_predict_prob = model.predict_proba(train_data)\n",
    "    print(\"Log loss on training set =\", metrics.log_loss(train_labels, train_predict_prob))\n",
    "    \n",
    "    # Compute metric for test data\n",
    "    test_logloss = []\n",
    "    for snr in snrs:\n",
    "        test_predict = model.predict(test_data[snr])\n",
    "        test_predict_prob = model.predict_proba(test_data[snr])\n",
    "        loss = metrics.log_loss(test_labels[snr], test_predict_prob)\n",
    "        test_logloss.append(loss)\n",
    "    print(\"Log loss on test set =\", np.mean(test_logloss))\n",
    "    \n",
    "    return model"
   ]
  },
  {
   "cell_type": "code",
   "execution_count": 8,
   "metadata": {},
   "outputs": [
    {
     "name": "stdout",
     "output_type": "stream",
     "text": [
      "[0]\tvalidation_0-mlogloss:1.95137\tvalidation_1-mlogloss:1.81709\n",
      "[1]\tvalidation_0-mlogloss:1.85664\tvalidation_1-mlogloss:1.62606\n",
      "Fitting model to data took 0.0342695156733195 minutes\n",
      "Log loss on training set = 1.85664015828\n",
      "Log loss on test set = 1.85786188921\n"
     ]
    }
   ],
   "source": [
    "xgb1 = XGBClassifier(\n",
    "        learning_rate =0.1,\n",
    "        n_estimators=2,\n",
    "        max_depth=5,\n",
    "        min_child_weight=1,\n",
    "        gamma=0,\n",
    "        subsample=0.8,\n",
    "        colsample_bytree=0.8,\n",
    "        objective= 'multi:softmax',\n",
    "        num_class = 8,\n",
    "        nthread=4,\n",
    "        scale_pos_weight=1,\n",
    "        seed=27)\n",
    "model = train_and_test(xgb1)"
   ]
  },
  {
   "cell_type": "markdown",
   "metadata": {},
   "source": [
    "## Accuracy vs. SNR on test set"
   ]
  },
  {
   "cell_type": "code",
   "execution_count": 10,
   "metadata": {},
   "outputs": [
    {
     "name": "stdout",
     "output_type": "stream",
     "text": [
      "Test accuracy at  -20 dB = 0.12725\n",
      "Test accuracy at  -18 dB = 0.12275\n",
      "Test accuracy at  -16 dB = 0.131\n",
      "Test accuracy at  -14 dB = 0.12425\n",
      "Test accuracy at  -12 dB = 0.13725\n",
      "Test accuracy at  -10 dB = 0.17675\n",
      "Test accuracy at  -8 dB = 0.2375\n",
      "Test accuracy at  -6 dB = 0.307\n",
      "Test accuracy at  -4 dB = 0.3955\n",
      "Test accuracy at  -2 dB = 0.38125\n",
      "Test accuracy at  0 dB = 0.43425\n",
      "Test accuracy at  2 dB = 0.521\n",
      "Test accuracy at  4 dB = 0.7525\n",
      "Test accuracy at  6 dB = 0.811\n",
      "Test accuracy at  8 dB = 0.8075\n",
      "Test accuracy at  10 dB = 0.82575\n",
      "Test accuracy at  12 dB = 0.83225\n",
      "Test accuracy at  14 dB = 0.84325\n",
      "Test accuracy at  16 dB = 0.82975\n",
      "Test accuracy at  18 dB = 0.83625\n"
     ]
    }
   ],
   "source": [
    "predictions = defaultdict(list)\n",
    "accuracy = defaultdict(list)\n",
    "y_pred = defaultdict(list)\n",
    "# for snr in snrs:\n",
    "#     predictions[snr] = model.predict(X_test_std[snr])\n",
    "#     y_pred[snr] = np.asarray([np.argmax(line) for line in predictions[snr]])\n",
    "#     accuracy[snr] = metrics.accuracy_score(y_test[snr], y_pred[snr])\n",
    "#     print (\"Test accuracy at \",snr,\"dB =\", accuracy[snr])\n",
    "   \n",
    "for snr in snrs:\n",
    "    y_pred[snr] = model.predict(X_32test_std[snr])\n",
    "    predictions[snr] = [round(value) for value in y_pred[snr]]\n",
    "    accuracy[snr] = accuracy_score(y_32_test[snr], predictions[snr])\n",
    "    print (\"Test accuracy at \",snr,\"dB =\", accuracy[snr])"
   ]
  },
  {
   "cell_type": "markdown",
   "metadata": {},
   "source": [
    "## Importance score"
   ]
  },
  {
   "cell_type": "code",
   "execution_count": 12,
   "metadata": {},
   "outputs": [
    {
     "name": "stdout",
     "output_type": "stream",
     "text": [
      "Feature importance scores- highest first\n"
     ]
    },
    {
     "data": {
      "text/html": [
       "<div>\n",
       "<style>\n",
       "    .dataframe thead tr:only-child th {\n",
       "        text-align: right;\n",
       "    }\n",
       "\n",
       "    .dataframe thead th {\n",
       "        text-align: left;\n",
       "    }\n",
       "\n",
       "    .dataframe tbody tr th {\n",
       "        vertical-align: top;\n",
       "    }\n",
       "</style>\n",
       "<table border=\"1\" class=\"dataframe\">\n",
       "  <thead>\n",
       "    <tr style=\"text-align: right;\">\n",
       "      <th></th>\n",
       "      <th>Features</th>\n",
       "      <th>Importance Scores</th>\n",
       "    </tr>\n",
       "  </thead>\n",
       "  <tbody>\n",
       "    <tr>\n",
       "      <th>0</th>\n",
       "      <td>f5</td>\n",
       "      <td>0.149220</td>\n",
       "    </tr>\n",
       "    <tr>\n",
       "      <th>1</th>\n",
       "      <td>f14</td>\n",
       "      <td>0.124722</td>\n",
       "    </tr>\n",
       "    <tr>\n",
       "      <th>2</th>\n",
       "      <td>f13</td>\n",
       "      <td>0.104677</td>\n",
       "    </tr>\n",
       "    <tr>\n",
       "      <th>3</th>\n",
       "      <td>f6</td>\n",
       "      <td>0.102450</td>\n",
       "    </tr>\n",
       "    <tr>\n",
       "      <th>4</th>\n",
       "      <td>f1</td>\n",
       "      <td>0.091314</td>\n",
       "    </tr>\n",
       "    <tr>\n",
       "      <th>5</th>\n",
       "      <td>f21</td>\n",
       "      <td>0.075724</td>\n",
       "    </tr>\n",
       "    <tr>\n",
       "      <th>6</th>\n",
       "      <td>f17</td>\n",
       "      <td>0.040089</td>\n",
       "    </tr>\n",
       "    <tr>\n",
       "      <th>7</th>\n",
       "      <td>f29</td>\n",
       "      <td>0.037862</td>\n",
       "    </tr>\n",
       "    <tr>\n",
       "      <th>8</th>\n",
       "      <td>f18</td>\n",
       "      <td>0.037862</td>\n",
       "    </tr>\n",
       "    <tr>\n",
       "      <th>9</th>\n",
       "      <td>f30</td>\n",
       "      <td>0.028953</td>\n",
       "    </tr>\n",
       "    <tr>\n",
       "      <th>10</th>\n",
       "      <td>f9</td>\n",
       "      <td>0.026726</td>\n",
       "    </tr>\n",
       "    <tr>\n",
       "      <th>11</th>\n",
       "      <td>f10</td>\n",
       "      <td>0.022272</td>\n",
       "    </tr>\n",
       "    <tr>\n",
       "      <th>12</th>\n",
       "      <td>f25</td>\n",
       "      <td>0.020045</td>\n",
       "    </tr>\n",
       "    <tr>\n",
       "      <th>13</th>\n",
       "      <td>f26</td>\n",
       "      <td>0.015590</td>\n",
       "    </tr>\n",
       "    <tr>\n",
       "      <th>14</th>\n",
       "      <td>f19</td>\n",
       "      <td>0.015590</td>\n",
       "    </tr>\n",
       "    <tr>\n",
       "      <th>15</th>\n",
       "      <td>f11</td>\n",
       "      <td>0.015590</td>\n",
       "    </tr>\n",
       "    <tr>\n",
       "      <th>16</th>\n",
       "      <td>f12</td>\n",
       "      <td>0.013363</td>\n",
       "    </tr>\n",
       "    <tr>\n",
       "      <th>17</th>\n",
       "      <td>f28</td>\n",
       "      <td>0.013363</td>\n",
       "    </tr>\n",
       "    <tr>\n",
       "      <th>18</th>\n",
       "      <td>f22</td>\n",
       "      <td>0.011136</td>\n",
       "    </tr>\n",
       "    <tr>\n",
       "      <th>19</th>\n",
       "      <td>f20</td>\n",
       "      <td>0.011136</td>\n",
       "    </tr>\n",
       "    <tr>\n",
       "      <th>20</th>\n",
       "      <td>f2</td>\n",
       "      <td>0.008909</td>\n",
       "    </tr>\n",
       "    <tr>\n",
       "      <th>21</th>\n",
       "      <td>f27</td>\n",
       "      <td>0.008909</td>\n",
       "    </tr>\n",
       "    <tr>\n",
       "      <th>22</th>\n",
       "      <td>f16</td>\n",
       "      <td>0.006682</td>\n",
       "    </tr>\n",
       "    <tr>\n",
       "      <th>23</th>\n",
       "      <td>f3</td>\n",
       "      <td>0.006682</td>\n",
       "    </tr>\n",
       "    <tr>\n",
       "      <th>24</th>\n",
       "      <td>f15</td>\n",
       "      <td>0.002227</td>\n",
       "    </tr>\n",
       "    <tr>\n",
       "      <th>25</th>\n",
       "      <td>f4</td>\n",
       "      <td>0.002227</td>\n",
       "    </tr>\n",
       "    <tr>\n",
       "      <th>26</th>\n",
       "      <td>f7</td>\n",
       "      <td>0.002227</td>\n",
       "    </tr>\n",
       "    <tr>\n",
       "      <th>27</th>\n",
       "      <td>f31</td>\n",
       "      <td>0.002227</td>\n",
       "    </tr>\n",
       "    <tr>\n",
       "      <th>28</th>\n",
       "      <td>f24</td>\n",
       "      <td>0.002227</td>\n",
       "    </tr>\n",
       "    <tr>\n",
       "      <th>29</th>\n",
       "      <td>f8</td>\n",
       "      <td>0.000000</td>\n",
       "    </tr>\n",
       "    <tr>\n",
       "      <th>30</th>\n",
       "      <td>f23</td>\n",
       "      <td>0.000000</td>\n",
       "    </tr>\n",
       "    <tr>\n",
       "      <th>31</th>\n",
       "      <td>f32</td>\n",
       "      <td>0.000000</td>\n",
       "    </tr>\n",
       "  </tbody>\n",
       "</table>\n",
       "</div>"
      ],
      "text/plain": [
       "   Features  Importance Scores\n",
       "0        f5           0.149220\n",
       "1       f14           0.124722\n",
       "2       f13           0.104677\n",
       "3        f6           0.102450\n",
       "4        f1           0.091314\n",
       "5       f21           0.075724\n",
       "6       f17           0.040089\n",
       "7       f29           0.037862\n",
       "8       f18           0.037862\n",
       "9       f30           0.028953\n",
       "10       f9           0.026726\n",
       "11      f10           0.022272\n",
       "12      f25           0.020045\n",
       "13      f26           0.015590\n",
       "14      f19           0.015590\n",
       "15      f11           0.015590\n",
       "16      f12           0.013363\n",
       "17      f28           0.013363\n",
       "18      f22           0.011136\n",
       "19      f20           0.011136\n",
       "20       f2           0.008909\n",
       "21      f27           0.008909\n",
       "22      f16           0.006682\n",
       "23       f3           0.006682\n",
       "24      f15           0.002227\n",
       "25       f4           0.002227\n",
       "26       f7           0.002227\n",
       "27      f31           0.002227\n",
       "28      f24           0.002227\n",
       "29       f8           0.000000\n",
       "30      f23           0.000000\n",
       "31      f32           0.000000"
      ]
     },
     "execution_count": 12,
     "metadata": {},
     "output_type": "execute_result"
    }
   ],
   "source": [
    "feature_names = ['f'+str(i) for i in range(1,33)]\n",
    "print(\"Feature importance scores- highest first\")\n",
    "df1 = pd.DataFrame(data = {'Features':feature_names, 'Importance Scores': model.feature_importances_})\n",
    "sorted_df = df1.sort_values(by = ['Importance Scores'], ascending = False)\n",
    "sorted_df.reset_index(inplace = True)\n",
    "del sorted_df['index']\n",
    "sorted_df"
   ]
  },
  {
   "cell_type": "code",
   "execution_count": 28,
   "metadata": {},
   "outputs": [
    {
     "data": {
      "image/png": "[encoded data removed]",
      "text/plain": [
       "<matplotlib.figure.Figure at 0x179a33a5320>"
      ]
     },
     "metadata": {},
     "output_type": "display_data"
    },
    {
     "name": "stdout",
     "output_type": "stream",
     "text": [
      "Scores using XGBoost's function:\n"
     ]
    },
    {
     "data": {
      "image/png": "[encoded data removed]",
      "text/plain": [
       "<matplotlib.figure.Figure at 0x179a33bb828>"
      ]
     },
     "metadata": {},
     "output_type": "display_data"
    }
   ],
   "source": [
    "%matplotlib inline\n",
    "plt.figure(figsize = (12,8))\n",
    "plt.bar(range(len(model.feature_importances_)), model.feature_importances_)\n",
    "plt.xlabel(\"Features\")\n",
    "plt.xticks(np.arange(X_32train_std.shape[1]+1), feature_names)\n",
    "plt.ylabel(\"Importance score\")\n",
    "plt.show()\n",
    "print(\"Scores using XGBoost's function:\")\n",
    "\n",
    "xgb.plot_importance(model, ylabel = 'Features')\n",
    "fig = plt.gcf()\n",
    "fig.set_size_inches(16,8)"
   ]
  },
  {
   "cell_type": "markdown",
   "metadata": {},
   "source": [
    "## Feature Selection"
   ]
  },
  {
   "cell_type": "code",
   "execution_count": 29,
   "metadata": {},
   "outputs": [
    {
     "data": {
      "text/plain": [
       "array([ 0.        ,  0.        ,  0.        ,  0.00222717,  0.00222717,\n",
       "        0.00222717,  0.00222717,  0.00222717,  0.00668151,  0.00668151,\n",
       "        0.00890869,  0.00890869,  0.01113586,  0.01113586,  0.01336303,\n",
       "        0.01336303,  0.0155902 ,  0.0155902 ,  0.0155902 ,  0.02004454,\n",
       "        0.02227172,  0.02672606,  0.02895323,  0.03786192,  0.03786192,\n",
       "        0.04008909,  0.07572383,  0.09131403,  0.10244989,  0.10467706,\n",
       "        0.1247216 ,  0.1492205 ], dtype=float32)"
      ]
     },
     "execution_count": 29,
     "metadata": {},
     "output_type": "execute_result"
    }
   ],
   "source": [
    "# Fit model using each importance as a threshold\n",
    "thresholds = sort(model.feature_importances_)\n",
    "thresholds"
   ]
  },
  {
   "cell_type": "markdown",
   "metadata": {},
   "source": [
    "## On training set"
   ]
  },
  {
   "cell_type": "code",
   "execution_count": 30,
   "metadata": {},
   "outputs": [
    {
     "name": "stdout",
     "output_type": "stream",
     "text": [
      "Top 32 features selected\n",
      "Thresh=0.000, n_features=32, Accuracy: 52.23%\n",
      "  \n",
      "Top 32 features selected\n",
      "Thresh=0.000, n_features=32, Accuracy: 52.23%\n",
      "  \n",
      "Top 32 features selected\n",
      "Thresh=0.000, n_features=32, Accuracy: 52.23%\n",
      "  \n",
      "Top 29 features selected\n",
      "Thresh=0.002, n_features=29, Accuracy: 52.23%\n",
      "  \n",
      "Top 29 features selected\n",
      "Thresh=0.002, n_features=29, Accuracy: 52.23%\n",
      "  \n",
      "Top 29 features selected\n",
      "Thresh=0.002, n_features=29, Accuracy: 52.23%\n",
      "  \n",
      "Top 29 features selected\n",
      "Thresh=0.002, n_features=29, Accuracy: 52.23%\n",
      "  \n",
      "Top 29 features selected\n",
      "Thresh=0.002, n_features=29, Accuracy: 52.23%\n",
      "  \n",
      "Top 24 features selected\n",
      "Thresh=0.007, n_features=24, Accuracy: 52.32%\n",
      "  \n",
      "Top 24 features selected\n",
      "Thresh=0.007, n_features=24, Accuracy: 52.32%\n",
      "  \n",
      "Top 22 features selected\n",
      "Thresh=0.009, n_features=22, Accuracy: 52.27%\n",
      "  \n",
      "Top 22 features selected\n",
      "Thresh=0.009, n_features=22, Accuracy: 52.27%\n",
      "  \n",
      "Top 20 features selected\n",
      "Thresh=0.011, n_features=20, Accuracy: 52.28%\n",
      "  \n",
      "Top 20 features selected\n",
      "Thresh=0.011, n_features=20, Accuracy: 52.28%\n",
      "  \n",
      "Top 18 features selected\n",
      "Thresh=0.013, n_features=18, Accuracy: 52.25%\n",
      "  \n",
      "Top 18 features selected\n",
      "Thresh=0.013, n_features=18, Accuracy: 52.25%\n",
      "  \n",
      "Top 16 features selected\n",
      "Thresh=0.016, n_features=16, Accuracy: 52.03%\n",
      "  \n",
      "Top 16 features selected\n",
      "Thresh=0.016, n_features=16, Accuracy: 52.03%\n",
      "  \n",
      "Top 16 features selected\n",
      "Thresh=0.016, n_features=16, Accuracy: 52.03%\n",
      "  \n",
      "Top 13 features selected\n",
      "Thresh=0.020, n_features=13, Accuracy: 51.95%\n",
      "  \n",
      "Top 12 features selected\n",
      "Thresh=0.022, n_features=12, Accuracy: 51.94%\n",
      "  \n",
      "Top 11 features selected\n",
      "Thresh=0.027, n_features=11, Accuracy: 52.02%\n",
      "  \n",
      "Top 10 features selected\n",
      "Thresh=0.029, n_features=10, Accuracy: 51.97%\n",
      "  \n",
      "Top 9 features selected\n",
      "Thresh=0.038, n_features=9, Accuracy: 51.76%\n",
      "  \n",
      "Top 9 features selected\n",
      "Thresh=0.038, n_features=9, Accuracy: 51.76%\n",
      "  \n",
      "Top 7 features selected\n",
      "Thresh=0.040, n_features=7, Accuracy: 51.47%\n",
      "  \n",
      "Top 6 features selected\n",
      "Thresh=0.076, n_features=6, Accuracy: 51.15%\n",
      "  \n",
      "Top 5 features selected\n",
      "Thresh=0.091, n_features=5, Accuracy: 49.96%\n",
      "  \n",
      "Top 4 features selected\n",
      "Thresh=0.102, n_features=4, Accuracy: 48.16%\n",
      "  \n",
      "Top 3 features selected\n",
      "Thresh=0.105, n_features=3, Accuracy: 47.14%\n",
      "  \n",
      "Top 2 features selected\n",
      "Thresh=0.125, n_features=2, Accuracy: 42.41%\n",
      "  \n",
      "Top 1 features selected\n",
      "Thresh=0.149, n_features=1, Accuracy: 30.10%\n",
      "  \n"
     ]
    }
   ],
   "source": [
    "train_accs = []\n",
    "num_features = []\n",
    "thresh_vals = []\n",
    "\n",
    "for thresh in thresholds:\n",
    "    \n",
    "    # select features using threshold\n",
    "    selection = SelectFromModel(model, threshold=thresh, prefit=True)\n",
    "    #selecting features based on importance weights\n",
    "    #features whose importance is >= thresh are kept, and the remaining discarded\n",
    "    \n",
    "    select_X_train = selection.transform(X_32train_std)\n",
    "    n_features = select_X_train.shape[1]\n",
    "    print(\"Top {} features selected\".format(n_features))\n",
    "    selection_model = XGBClassifier()\n",
    "    selection_model.fit(select_X_train, y_train)\n",
    "    \n",
    "    #Evaluate model on training set\n",
    "    y_pred = selection_model.predict(select_X_train)\n",
    "    predictions = [round(value) for value in y_pred]\n",
    "    accuracy = accuracy_score(y_32_train, predictions)\n",
    "    print(\"Thresh=%.3f, n_features=%d, Accuracy: %.2f%%\" % (thresh, n_features, accuracy*100.0))\n",
    "    print(\"  \")\n",
    "    train_accs.append(accuracy)\n",
    "    num_features.append(n_features)\n",
    "    thresh_vals.append(thresh)"
   ]
  },
  {
   "cell_type": "code",
   "execution_count": 33,
   "metadata": {},
   "outputs": [
    {
     "name": "stdout",
     "output_type": "stream",
     "text": [
      "    Threshold  Training accuracy  n_features\n",
      "8    0.006682           0.523238          24\n",
      "9    0.006682           0.523238          24\n",
      "13   0.011136           0.522763          20\n",
      "12   0.011136           0.522763          20\n",
      "11   0.008909           0.522663          22\n",
      "10   0.008909           0.522663          22\n",
      "15   0.013363           0.522500          18\n",
      "14   0.013363           0.522500          18\n",
      "0    0.000000           0.522312          32\n",
      "7    0.002227           0.522312          29\n",
      "6    0.002227           0.522312          29\n",
      "5    0.002227           0.522312          29\n",
      "4    0.002227           0.522312          29\n",
      "3    0.002227           0.522312          29\n",
      "2    0.000000           0.522312          32\n",
      "1    0.000000           0.522312          32\n",
      "18   0.015590           0.520338          16\n",
      "16   0.015590           0.520338          16\n",
      "17   0.015590           0.520338          16\n",
      "21   0.026726           0.520188          11\n",
      "22   0.028953           0.519737          10\n",
      "19   0.020045           0.519463          13\n",
      "20   0.022272           0.519375          12\n",
      "23   0.037862           0.517637           9\n",
      "24   0.037862           0.517637           9\n",
      "25   0.040089           0.514713           7\n",
      "26   0.075724           0.511513           6\n",
      "27   0.091314           0.499575           5\n",
      "28   0.102450           0.481637           4\n",
      "29   0.104677           0.471413           3\n",
      "30   0.124722           0.424088           2\n",
      "31   0.149220           0.300988           1\n",
      "Best training accuracy is obtained upon selection of top 24 features (according to importance score)\n",
      "The corresponding threshold value is 0.00668151443824172\n"
     ]
    }
   ],
   "source": [
    "df = pd.DataFrame(data= {'Threshold':thresh_vals,'n_features':num_features, 'Training accuracy':train_accs})\n",
    "sorted_df = df.sort_values(by = ['Training accuracy'], ascending = False)\n",
    "sorted_df.reset_index()\n",
    "print(sorted_df)\n",
    "sorted_df.reset_index(inplace = True) #reset because sorting messed up the indices\n",
    "idx = sorted_df['Training accuracy'].idxmax()\n",
    "sel_row= sorted_df.iloc[idx]\n",
    "best_features = int(sel_row['n_features'])\n",
    "best_thresh = sel_row['Threshold']\n",
    "print('Best training accuracy is obtained upon selection of top {} features (according to importance score)'.format(best_features))\n",
    "print(\"The corresponding threshold value is {}\".format(best_thresh))"
   ]
  },
  {
   "cell_type": "markdown",
   "metadata": {},
   "source": [
    "## Modify training and test data to include only selected features"
   ]
  },
  {
   "cell_type": "code",
   "execution_count": 34,
   "metadata": {},
   "outputs": [
    {
     "name": "stdout",
     "output_type": "stream",
     "text": [
      "Top 24 features selected\n",
      "New training set (80000, 24) and labels (80000,)\n",
      "New test set (4000, 24) and labels (4000,) for each SNR value\n"
     ]
    }
   ],
   "source": [
    "X_32test_new = defaultdict(list)\n",
    "\n",
    "selection = SelectFromModel(model, threshold = best_thresh, prefit=True)\n",
    "\n",
    "X_32train_new  = selection.transform(X_32train_std)\n",
    "n_features = select_X_train.shape[1]\n",
    "print(\"Top {} features selected\".format(best_features))\n",
    "print(\"New training set {} and labels {}\".format(X_32train_new.shape, y_32_train.shape))\n",
    "\n",
    "for snr in snrs:\n",
    "    X_32test_new[snr] = selection.transform(X_32test_std[snr])\n",
    "print(\"New test set {} and labels {} for each SNR value\".format(X_32test_new[10].shape, y_32_test[10].shape))"
   ]
  },
  {
   "cell_type": "markdown",
   "metadata": {},
   "source": [
    "## Store the new training and test sets in Jupyter's db"
   ]
  },
  {
   "cell_type": "code",
   "execution_count": 35,
   "metadata": {},
   "outputs": [
    {
     "name": "stdout",
     "output_type": "stream",
     "text": [
      "Stored 'X_32train_new' (ndarray)\n",
      "Stored 'X_32test_new' (defaultdict)\n",
      "Stored variables and their in-db values:\n",
      "X_16_val                  -> array([[ 0.10924883,  1.83030605, -0.14807631, ...\n",
      "X_32_val                  -> array([[ 0.66944195,  0.46536115,  0.79919788, ...\n",
      "X_32test_new              -> defaultdict(<class 'list'>, {0: array([[ 0.6694419\n",
      "X_32test_std              -> defaultdict(<class 'list'>, {0: array([[ 0.6694419\n",
      "X_32train_new             -> array([[-0.74031227,  0.0126481 , -0.30967801, ...\n",
      "X_32train_std             -> array([[-0.74031227,  0.0126481 , -0.30967801, ...\n",
      "X_test                    -> defaultdict(<class 'list'>, {0: array([[[ -6.40490\n",
      "X_test_new                -> defaultdict(<class 'list'>, {0: array([[ 0.1092488\n",
      "X_test_std                -> defaultdict(<class 'list'>, {0: array([[ 0.1092488\n",
      "X_train                   -> array([[[ 0.00119031,  0.00873315,  0.00641749, ..\n",
      "X_train_new               -> array([[-0.74031227,  0.23616372, -0.18182195, ...\n",
      "X_train_std               -> array([[-0.74031227,  0.0126481 , -0.30967801, ...\n",
      "snrs                      -> [-20, -18, -16, -14, -12, -10, -8, -6, -4, -2, 0, \n",
      "y_16_val                  -> array([6, 6, 5, ..., 0, 4, 1])\n",
      "y_32_test                 -> defaultdict(<class 'list'>, {0: array([2, 2, 4, ..\n",
      "y_32_train                -> array([0, 3, 4, ..., 0, 3, 1])\n",
      "y_32_val                  -> array([2, 2, 4, ..., 0, 7, 3])\n",
      "y_test                    -> defaultdict(<class 'list'>, {0: array([6, 6, 5, ..\n",
      "y_train                   -> array([0, 3, 4, ..., 0, 3, 1])\n"
     ]
    }
   ],
   "source": [
    "%store X_32train_new\n",
    "%store X_32test_new\n",
    "%store"
   ]
  },
  {
   "cell_type": "code",
   "execution_count": null,
   "metadata": {
    "collapsed": true
   },
   "outputs": [],
   "source": []
  }
 ],
 "metadata": {
  "anaconda-cloud": {},
  "kernelspec": {
   "display_name": "Python 3",
   "language": "python",
   "name": "python3"
  },
  "language_info": {
   "codemirror_mode": {
    "name": "ipython",
    "version": 3
   },
   "file_extension": ".py",
   "mimetype": "text/x-python",
   "name": "python",
   "nbconvert_exporter": "python",
   "pygments_lexer": "ipython3",
   "version": "3.5.2"
  }
 },
 "nbformat": 4,
 "nbformat_minor": 1
}
