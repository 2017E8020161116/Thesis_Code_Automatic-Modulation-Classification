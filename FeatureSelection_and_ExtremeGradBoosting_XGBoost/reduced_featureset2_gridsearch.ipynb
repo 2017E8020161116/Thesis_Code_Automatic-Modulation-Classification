{
 "cells": [
  {
   "cell_type": "markdown",
   "metadata": {},
   "source": [
    "# <center> eXtreme Gradient Boosting (Featureset 2)\n",
    "## Hyperparameter tuning is performed on reduced feature set 2"
   ]
  },
  {
   "cell_type": "markdown",
   "metadata": {},
   "source": [
    "## <font color = 'blue'> Get the data"
   ]
  },
  {
   "cell_type": "code",
   "execution_count": 2,
   "metadata": {},
   "outputs": [
    {
     "name": "stdout",
     "output_type": "stream",
     "text": [
      "Stored variables and their in-db values:\n",
      "X_16_val                  -> array([[ 0.10924883,  1.83030605, -0.14807631, ...\n",
      "X_32_val                  -> array([[ 0.66944195,  0.46536115,  0.79919788, ...\n",
      "X_32test_new              -> defaultdict(<class 'list'>, {0: array([[ 0.6694419\n",
      "X_32test_std              -> defaultdict(<class 'list'>, {0: array([[ 0.6694419\n",
      "X_32train_new             -> array([[-0.74031227,  0.0126481 , -0.30967801, ...\n",
      "X_32train_std             -> array([[-0.74031227,  0.0126481 , -0.30967801, ...\n",
      "X_test                    -> defaultdict(<class 'list'>, {0: array([[[ -6.40490\n",
      "X_test_new                -> defaultdict(<class 'list'>, {0: array([[ 0.1092488\n",
      "X_test_std                -> defaultdict(<class 'list'>, {0: array([[ 0.1092488\n",
      "X_train                   -> array([[[ 0.00119031,  0.00873315,  0.00641749, ..\n",
      "X_train_new               -> array([[-0.74031227,  0.23616372, -0.18182195, ...\n",
      "X_train_std               -> array([[-0.74031227,  0.0126481 , -0.30967801, ...\n",
      "snrs                      -> [-20, -18, -16, -14, -12, -10, -8, -6, -4, -2, 0, \n",
      "y_16_val                  -> array([6, 6, 5, ..., 0, 4, 1])\n",
      "y_32_test                 -> defaultdict(<class 'list'>, {0: array([2, 2, 4, ..\n",
      "y_32_train                -> array([0, 3, 4, ..., 0, 3, 1])\n",
      "y_32_val                  -> array([2, 2, 4, ..., 0, 7, 3])\n",
      "y_test                    -> defaultdict(<class 'list'>, {0: array([6, 6, 5, ..\n",
      "y_train                   -> array([0, 3, 4, ..., 0, 3, 1])\n"
     ]
    }
   ],
   "source": [
    "import warnings\n",
    "warnings.filterwarnings('ignore')\n",
    "\n",
    "import matplotlib.pyplot as plt\n",
    "import numpy as np\n",
    "from collections import defaultdict\n",
    "import xgboost as xgb\n",
    "from xgboost.sklearn import XGBClassifier\n",
    "from sklearn.cross_validation import train_test_split\n",
    "from sklearn.datasets import dump_svmlight_file\n",
    "from sklearn.externals import joblib\n",
    "from sklearn.metrics import precision_score\n",
    "from sklearn.grid_search import GridSearchCV\n",
    "from sklearn import cross_validation, metrics\n",
    "from sklearn.model_selection import StratifiedKFold\n",
    "from time import time\n",
    "import pandas as pd\n",
    "import collections\n",
    "\n",
    "%store -r\n",
    "%store"
   ]
  },
  {
   "cell_type": "code",
   "execution_count": 3,
   "metadata": {},
   "outputs": [
    {
     "name": "stdout",
     "output_type": "stream",
     "text": [
      "Training data:  (80000, 24) and labels:  (80000,)\n",
      " \n",
      "Test data:\n",
      "Total 20 (4000, 24) arrays for SNR values:\n",
      "[-20, -18, -16, -14, -12, -10, -8, -6, -4, -2, 0, 2, 4, 6, 8, 10, 12, 14, 16, 18]\n"
     ]
    }
   ],
   "source": [
    "print(\"Training data: \", X_32train_new.shape, \"and labels: \", y_32_train.shape)\n",
    "print(\" \")\n",
    "print(\"Test data:\")\n",
    "print(\"Total\", len(X_32test_new), X_32test_new[18].shape, \"arrays for SNR values:\")\n",
    "print(sorted(X_32test_new.keys()))"
   ]
  },
  {
   "cell_type": "markdown",
   "metadata": {},
   "source": [
    "## <font color = 'blue'> Train and test"
   ]
  },
  {
   "cell_type": "code",
   "execution_count": 4,
   "metadata": {},
   "outputs": [
    {
     "name": "stdout",
     "output_type": "stream",
     "text": [
      "Test set (80000, 24) and labels (80000,)\n"
     ]
    }
   ],
   "source": [
    "#Unfold all test data into one array\n",
    "\n",
    "from sklearn.utils import shuffle\n",
    "\n",
    "X_test1 = []\n",
    "y_test1 = []\n",
    "for snr in snrs:\n",
    "    X_test1.append(X_32test_new[snr])\n",
    "    y_test1.append(y_32_test[snr])\n",
    "\n",
    "X_test1 = np.vstack(X_test1)\n",
    "y_test1 = np.hstack(y_test1)\n",
    "X_test1, y_test1 = shuffle(X_test1, y_test1)\n",
    "print(\"Test set {} and labels {}\".format(X_test1.shape, y_test1.shape))"
   ]
  },
  {
   "cell_type": "markdown",
   "metadata": {},
   "source": [
    "### Tune max_depth and min_child_weight"
   ]
  },
  {
   "cell_type": "code",
   "execution_count": 5,
   "metadata": {},
   "outputs": [
    {
     "name": "stdout",
     "output_type": "stream",
     "text": [
      "Grid search took 49.34687537749608 minutes\n"
     ]
    }
   ],
   "source": [
    "param_grid1 = {'max_depth':list(range(3,10,2)), 'min_child_weight': list(range(1,6,2))}\n",
    "\n",
    "start = time()\n",
    "\n",
    "grid_search1 = GridSearchCV(estimator = XGBClassifier(max_depth=3, eta=0.3, objective='multi:softprob', \n",
    "                                                      num_class=8, early_stopping_rounds=20), \n",
    "                       param_grid = param_grid1, scoring='accuracy',n_jobs=4)\n",
    "\n",
    "grid_search1.fit(X_32train_new, y_32_train)\n",
    "print(\"Grid search took {} minutes\".format((time()-start)/60))"
   ]
  },
  {
   "cell_type": "code",
   "execution_count": 6,
   "metadata": {},
   "outputs": [
    {
     "data": {
      "text/plain": [
       "([mean: 0.50572, std: 0.00285, params: {'max_depth': 3, 'min_child_weight': 1},\n",
       "  mean: 0.50545, std: 0.00273, params: {'max_depth': 3, 'min_child_weight': 3},\n",
       "  mean: 0.50605, std: 0.00170, params: {'max_depth': 3, 'min_child_weight': 5},\n",
       "  mean: 0.51582, std: 0.00154, params: {'max_depth': 5, 'min_child_weight': 1},\n",
       "  mean: 0.51576, std: 0.00094, params: {'max_depth': 5, 'min_child_weight': 3},\n",
       "  mean: 0.51560, std: 0.00149, params: {'max_depth': 5, 'min_child_weight': 5},\n",
       "  mean: 0.51835, std: 0.00092, params: {'max_depth': 7, 'min_child_weight': 1},\n",
       "  mean: 0.51841, std: 0.00032, params: {'max_depth': 7, 'min_child_weight': 3},\n",
       "  mean: 0.51776, std: 0.00010, params: {'max_depth': 7, 'min_child_weight': 5},\n",
       "  mean: 0.51839, std: 0.00054, params: {'max_depth': 9, 'min_child_weight': 1},\n",
       "  mean: 0.51899, std: 0.00102, params: {'max_depth': 9, 'min_child_weight': 3},\n",
       "  mean: 0.51985, std: 0.00013, params: {'max_depth': 9, 'min_child_weight': 5}],\n",
       " {'max_depth': 9, 'min_child_weight': 5},\n",
       " 0.51985)"
      ]
     },
     "execution_count": 6,
     "metadata": {},
     "output_type": "execute_result"
    }
   ],
   "source": [
    "grid_search1.grid_scores_, grid_search1.best_params_, grid_search1.best_score_"
   ]
  },
  {
   "cell_type": "markdown",
   "metadata": {},
   "source": [
    "### Narrow down parameter values"
   ]
  },
  {
   "cell_type": "code",
   "execution_count": 8,
   "metadata": {},
   "outputs": [
    {
     "name": "stdout",
     "output_type": "stream",
     "text": [
      "Grid search took 67.50378731489181 minutes\n"
     ]
    }
   ],
   "source": [
    "param_grid2 = {'max_depth':[8,9,10,11], 'min_child_weight': [4,5,6,7]}\n",
    "\n",
    "start = time()\n",
    "\n",
    "grid_search2 = GridSearchCV(estimator = XGBClassifier(eta=0.3, objective='multi:softprob', \n",
    "                                                      num_class=8, early_stopping_rounds=20), \n",
    "                       param_grid = param_grid2, scoring='accuracy',n_jobs=4)\n",
    "\n",
    "grid_search2.fit(X_32train_new, y_32_train)\n",
    "print(\"Grid search took {} minutes\".format((time()-start)/60))"
   ]
  },
  {
   "cell_type": "code",
   "execution_count": 9,
   "metadata": {},
   "outputs": [
    {
     "data": {
      "text/plain": [
       "([mean: 0.51784, std: 0.00047, params: {'max_depth': 8, 'min_child_weight': 4},\n",
       "  mean: 0.51879, std: 0.00138, params: {'max_depth': 8, 'min_child_weight': 5},\n",
       "  mean: 0.51991, std: 0.00043, params: {'max_depth': 8, 'min_child_weight': 6},\n",
       "  mean: 0.51940, std: 0.00113, params: {'max_depth': 8, 'min_child_weight': 7},\n",
       "  mean: 0.51824, std: 0.00102, params: {'max_depth': 9, 'min_child_weight': 4},\n",
       "  mean: 0.51985, std: 0.00013, params: {'max_depth': 9, 'min_child_weight': 5},\n",
       "  mean: 0.51875, std: 0.00111, params: {'max_depth': 9, 'min_child_weight': 6},\n",
       "  mean: 0.52041, std: 0.00105, params: {'max_depth': 9, 'min_child_weight': 7},\n",
       "  mean: 0.51909, std: 0.00072, params: {'max_depth': 10, 'min_child_weight': 4},\n",
       "  mean: 0.51887, std: 0.00127, params: {'max_depth': 10, 'min_child_weight': 5},\n",
       "  mean: 0.52041, std: 0.00148, params: {'max_depth': 10, 'min_child_weight': 6},\n",
       "  mean: 0.51995, std: 0.00100, params: {'max_depth': 10, 'min_child_weight': 7},\n",
       "  mean: 0.51850, std: 0.00184, params: {'max_depth': 11, 'min_child_weight': 4},\n",
       "  mean: 0.51725, std: 0.00049, params: {'max_depth': 11, 'min_child_weight': 5},\n",
       "  mean: 0.52107, std: 0.00064, params: {'max_depth': 11, 'min_child_weight': 6},\n",
       "  mean: 0.52023, std: 0.00102, params: {'max_depth': 11, 'min_child_weight': 7}],\n",
       " {'max_depth': 11, 'min_child_weight': 6},\n",
       " 0.521075)"
      ]
     },
     "execution_count": 9,
     "metadata": {},
     "output_type": "execute_result"
    }
   ],
   "source": [
    "grid_search2.grid_scores_, grid_search2.best_params_, grid_search2.best_score_"
   ]
  },
  {
   "cell_type": "markdown",
   "metadata": {},
   "source": [
    "### Narrow down more"
   ]
  },
  {
   "cell_type": "code",
   "execution_count": 11,
   "metadata": {},
   "outputs": [
    {
     "name": "stdout",
     "output_type": "stream",
     "text": [
      "Grid search took 25.139945753415425 minutes\n"
     ]
    }
   ],
   "source": [
    "param_grid2_1 = {'max_depth':[11, 13, 15]}\n",
    "\n",
    "start = time()\n",
    "\n",
    "grid_search2_1 = GridSearchCV(estimator = XGBClassifier(eta=0.3, objective='multi:softprob', min_child_weight=6,\n",
    "                                                      num_class=8, early_stopping_rounds=20), \n",
    "                       param_grid = param_grid2_1, scoring='accuracy',n_jobs=4)\n",
    "\n",
    "grid_search2_1.fit(X_32train_new, y_32_train)\n",
    "print(\"Grid search took {} minutes\".format((time()-start)/60))"
   ]
  },
  {
   "cell_type": "code",
   "execution_count": 12,
   "metadata": {},
   "outputs": [
    {
     "data": {
      "text/plain": [
       "([mean: 0.52107, std: 0.00064, params: {'max_depth': 11},\n",
       "  mean: 0.51999, std: 0.00056, params: {'max_depth': 13},\n",
       "  mean: 0.51691, std: 0.00109, params: {'max_depth': 15}],\n",
       " {'max_depth': 11},\n",
       " 0.521075)"
      ]
     },
     "execution_count": 12,
     "metadata": {},
     "output_type": "execute_result"
    }
   ],
   "source": [
    "grid_search2_1.grid_scores_, grid_search2_1.best_params_, grid_search2_1.best_score_"
   ]
  },
  {
   "cell_type": "markdown",
   "metadata": {},
   "source": [
    "### Tune gamma, while setting max_depth and min_child_weight to optimum values"
   ]
  },
  {
   "cell_type": "code",
   "execution_count": 13,
   "metadata": {},
   "outputs": [
    {
     "name": "stdout",
     "output_type": "stream",
     "text": [
      "Grid search took 28.614404435952505 minutes\n"
     ]
    }
   ],
   "source": [
    "param_grid3 = {'gamma':[i/10.0 for i in range(0,5)]}\n",
    "\n",
    "start = time()\n",
    "\n",
    "grid_search3 = GridSearchCV(estimator = XGBClassifier(max_depth= 11, min_child_weight= 6,\n",
    "                                                      eta=0.3, objective='multi:softprob', \n",
    "                                                      num_class=8, early_stopping_rounds=20), \n",
    "                       param_grid = param_grid3, scoring='accuracy',n_jobs=4)\n",
    "\n",
    "grid_search3.fit(X_32train_new, y_32_train)\n",
    "print(\"Grid search took {} minutes\".format((time()-start)/60))"
   ]
  },
  {
   "cell_type": "code",
   "execution_count": 14,
   "metadata": {},
   "outputs": [
    {
     "data": {
      "text/plain": [
       "([mean: 0.52107, std: 0.00064, params: {'gamma': 0.0},\n",
       "  mean: 0.51948, std: 0.00052, params: {'gamma': 0.1},\n",
       "  mean: 0.51905, std: 0.00089, params: {'gamma': 0.2},\n",
       "  mean: 0.51992, std: 0.00132, params: {'gamma': 0.3},\n",
       "  mean: 0.51948, std: 0.00077, params: {'gamma': 0.4}],\n",
       " {'gamma': 0.0},\n",
       " 0.521075)"
      ]
     },
     "execution_count": 14,
     "metadata": {},
     "output_type": "execute_result"
    }
   ],
   "source": [
    "grid_search3.grid_scores_, grid_search3.best_params_, grid_search3.best_score_"
   ]
  },
  {
   "cell_type": "markdown",
   "metadata": {},
   "source": [
    "### Tune subsample and colsample_bytree; set max_depth, min_child_weight and gamma to optimum values"
   ]
  },
  {
   "cell_type": "code",
   "execution_count": 15,
   "metadata": {},
   "outputs": [
    {
     "name": "stdout",
     "output_type": "stream",
     "text": [
      "Grid search took 53.42190520763397 minutes\n"
     ]
    }
   ],
   "source": [
    "param_grid4 = {'subsample':[i/10.0 for i in range(6,10)], 'colsample_bytree':[i/10.0 for i in range(6,10)]}\n",
    "\n",
    "start = time()\n",
    "\n",
    "grid_search4 = GridSearchCV(estimator = XGBClassifier(max_depth= 11, min_child_weight= 6, gamma = 0.0,\n",
    "                                                      eta=0.3, objective='multi:softprob', \n",
    "                                                      num_class=8, early_stopping_rounds=20), \n",
    "                       param_grid = param_grid4, scoring='accuracy',n_jobs=4)\n",
    "\n",
    "grid_search4.fit(X_32train_new, y_32_train)\n",
    "print(\"Grid search took {} minutes\".format((time()-start)/60))"
   ]
  },
  {
   "cell_type": "code",
   "execution_count": 16,
   "metadata": {},
   "outputs": [
    {
     "data": {
      "text/plain": [
       "([mean: 0.51818, std: 0.00260, params: {'colsample_bytree': 0.6, 'subsample': 0.6},\n",
       "  mean: 0.51944, std: 0.00130, params: {'colsample_bytree': 0.6, 'subsample': 0.7},\n",
       "  mean: 0.51836, std: 0.00114, params: {'colsample_bytree': 0.6, 'subsample': 0.8},\n",
       "  mean: 0.51894, std: 0.00150, params: {'colsample_bytree': 0.6, 'subsample': 0.9},\n",
       "  mean: 0.51829, std: 0.00172, params: {'colsample_bytree': 0.7, 'subsample': 0.6},\n",
       "  mean: 0.51854, std: 0.00177, params: {'colsample_bytree': 0.7, 'subsample': 0.7},\n",
       "  mean: 0.51919, std: 0.00271, params: {'colsample_bytree': 0.7, 'subsample': 0.8},\n",
       "  mean: 0.51876, std: 0.00066, params: {'colsample_bytree': 0.7, 'subsample': 0.9},\n",
       "  mean: 0.51871, std: 0.00169, params: {'colsample_bytree': 0.8, 'subsample': 0.6},\n",
       "  mean: 0.51926, std: 0.00067, params: {'colsample_bytree': 0.8, 'subsample': 0.7},\n",
       "  mean: 0.51995, std: 0.00016, params: {'colsample_bytree': 0.8, 'subsample': 0.8},\n",
       "  mean: 0.51910, std: 0.00034, params: {'colsample_bytree': 0.8, 'subsample': 0.9},\n",
       "  mean: 0.51818, std: 0.00093, params: {'colsample_bytree': 0.9, 'subsample': 0.6},\n",
       "  mean: 0.51995, std: 0.00178, params: {'colsample_bytree': 0.9, 'subsample': 0.7},\n",
       "  mean: 0.52024, std: 0.00262, params: {'colsample_bytree': 0.9, 'subsample': 0.8},\n",
       "  mean: 0.51919, std: 0.00156, params: {'colsample_bytree': 0.9, 'subsample': 0.9}],\n",
       " {'colsample_bytree': 0.9, 'subsample': 0.8},\n",
       " 0.5202374999999999)"
      ]
     },
     "execution_count": 16,
     "metadata": {},
     "output_type": "execute_result"
    }
   ],
   "source": [
    "grid_search4.grid_scores_, grid_search4.best_params_, grid_search4.best_score_"
   ]
  },
  {
   "cell_type": "markdown",
   "metadata": {},
   "source": [
    "### Narrow down search space for subsample and colsample_bytree"
   ]
  },
  {
   "cell_type": "code",
   "execution_count": 19,
   "metadata": {},
   "outputs": [
    {
     "name": "stdout",
     "output_type": "stream",
     "text": [
      "Grid search took 86.37014453808466 minutes\n"
     ]
    }
   ],
   "source": [
    "param_grid5 = {'subsample': [i/100.0 for i in range(75,100,5)],\n",
    "               'colsample_bytree':  [i/100.0 for i in range(75,100,5)]}\n",
    "\n",
    "start = time()\n",
    "\n",
    "grid_search5 = GridSearchCV(estimator = XGBClassifier(max_depth= 11, min_child_weight= 6, gamma = 0.0,\n",
    "                                                      eta=0.3, objective='multi:softprob', \n",
    "                                                      num_class=8, early_stopping_rounds=20), \n",
    "                       param_grid = param_grid5, scoring='accuracy',n_jobs=4)\n",
    "\n",
    "grid_search5.fit(X_32train_new, y_32_train)\n",
    "print(\"Grid search took {} minutes\".format((time()-start)/60))"
   ]
  },
  {
   "cell_type": "code",
   "execution_count": 20,
   "metadata": {},
   "outputs": [
    {
     "data": {
      "text/plain": [
       "([mean: 0.51825, std: 0.00120, params: {'colsample_bytree': 0.75, 'subsample': 0.75},\n",
       "  mean: 0.51982, std: 0.00127, params: {'colsample_bytree': 0.75, 'subsample': 0.8},\n",
       "  mean: 0.51916, std: 0.00062, params: {'colsample_bytree': 0.75, 'subsample': 0.85},\n",
       "  mean: 0.51925, std: 0.00160, params: {'colsample_bytree': 0.75, 'subsample': 0.9},\n",
       "  mean: 0.51953, std: 0.00091, params: {'colsample_bytree': 0.75, 'subsample': 0.95},\n",
       "  mean: 0.51843, std: 0.00261, params: {'colsample_bytree': 0.8, 'subsample': 0.75},\n",
       "  mean: 0.51995, std: 0.00016, params: {'colsample_bytree': 0.8, 'subsample': 0.8},\n",
       "  mean: 0.51992, std: 0.00074, params: {'colsample_bytree': 0.8, 'subsample': 0.85},\n",
       "  mean: 0.51910, std: 0.00034, params: {'colsample_bytree': 0.8, 'subsample': 0.9},\n",
       "  mean: 0.51892, std: 0.00105, params: {'colsample_bytree': 0.8, 'subsample': 0.95},\n",
       "  mean: 0.52086, std: 0.00207, params: {'colsample_bytree': 0.85, 'subsample': 0.75},\n",
       "  mean: 0.51971, std: 0.00191, params: {'colsample_bytree': 0.85, 'subsample': 0.8},\n",
       "  mean: 0.51992, std: 0.00064, params: {'colsample_bytree': 0.85, 'subsample': 0.85},\n",
       "  mean: 0.52075, std: 0.00151, params: {'colsample_bytree': 0.85, 'subsample': 0.9},\n",
       "  mean: 0.51838, std: 0.00173, params: {'colsample_bytree': 0.85, 'subsample': 0.95},\n",
       "  mean: 0.51987, std: 0.00172, params: {'colsample_bytree': 0.9, 'subsample': 0.75},\n",
       "  mean: 0.52024, std: 0.00262, params: {'colsample_bytree': 0.9, 'subsample': 0.8},\n",
       "  mean: 0.52016, std: 0.00158, params: {'colsample_bytree': 0.9, 'subsample': 0.85},\n",
       "  mean: 0.51919, std: 0.00156, params: {'colsample_bytree': 0.9, 'subsample': 0.9},\n",
       "  mean: 0.51897, std: 0.00167, params: {'colsample_bytree': 0.9, 'subsample': 0.95},\n",
       "  mean: 0.52010, std: 0.00120, params: {'colsample_bytree': 0.95, 'subsample': 0.75},\n",
       "  mean: 0.52014, std: 0.00079, params: {'colsample_bytree': 0.95, 'subsample': 0.8},\n",
       "  mean: 0.51914, std: 0.00126, params: {'colsample_bytree': 0.95, 'subsample': 0.85},\n",
       "  mean: 0.51907, std: 0.00068, params: {'colsample_bytree': 0.95, 'subsample': 0.9},\n",
       "  mean: 0.51972, std: 0.00131, params: {'colsample_bytree': 0.95, 'subsample': 0.95}],\n",
       " {'colsample_bytree': 0.85, 'subsample': 0.75},\n",
       " 0.5208625)"
      ]
     },
     "execution_count": 20,
     "metadata": {},
     "output_type": "execute_result"
    }
   ],
   "source": [
    "grid_search5.grid_scores_, grid_search5.best_params_, grid_search5.best_score_"
   ]
  },
  {
   "cell_type": "markdown",
   "metadata": {},
   "source": [
    "### Fit the model to data and evaluate learning curves- inspect overfitting"
   ]
  },
  {
   "cell_type": "code",
   "execution_count": 21,
   "metadata": {},
   "outputs": [
    {
     "name": "stdout",
     "output_type": "stream",
     "text": [
      "[0]\tvalidation_0-merror:0.462388\tvalidation_0-mlogloss:1.92755\tvalidation_1-merror:0.502\tvalidation_1-mlogloss:1.93455\n",
      "[1]\tvalidation_0-merror:0.437212\tvalidation_0-mlogloss:1.81628\tvalidation_1-merror:0.49475\tvalidation_1-mlogloss:1.83036\n",
      "[2]\tvalidation_0-merror:0.42695\tvalidation_0-mlogloss:1.73125\tvalidation_1-merror:0.492038\tvalidation_1-mlogloss:1.75192\n",
      "[3]\tvalidation_0-merror:0.416537\tvalidation_0-mlogloss:1.65796\tvalidation_1-merror:0.49\tvalidation_1-mlogloss:1.68513\n",
      "[4]\tvalidation_0-merror:0.4087\tvalidation_0-mlogloss:1.59742\tvalidation_1-merror:0.488463\tvalidation_1-mlogloss:1.6311\n",
      "[5]\tvalidation_0-merror:0.401038\tvalidation_0-mlogloss:1.54234\tvalidation_1-merror:0.488512\tvalidation_1-mlogloss:1.58221\n",
      "[6]\tvalidation_0-merror:0.394675\tvalidation_0-mlogloss:1.49356\tvalidation_1-merror:0.487775\tvalidation_1-mlogloss:1.53902\n",
      "[7]\tvalidation_0-merror:0.390763\tvalidation_0-mlogloss:1.45166\tvalidation_1-merror:0.486688\tvalidation_1-mlogloss:1.5023\n",
      "[8]\tvalidation_0-merror:0.387087\tvalidation_0-mlogloss:1.41387\tvalidation_1-merror:0.485525\tvalidation_1-mlogloss:1.46948\n",
      "[9]\tvalidation_0-merror:0.383738\tvalidation_0-mlogloss:1.3803\tvalidation_1-merror:0.485537\tvalidation_1-mlogloss:1.44108\n",
      "[10]\tvalidation_0-merror:0.379137\tvalidation_0-mlogloss:1.34935\tvalidation_1-merror:0.485275\tvalidation_1-mlogloss:1.41492\n",
      "[11]\tvalidation_0-merror:0.376588\tvalidation_0-mlogloss:1.32144\tvalidation_1-merror:0.484787\tvalidation_1-mlogloss:1.39164\n",
      "[12]\tvalidation_0-merror:0.371563\tvalidation_0-mlogloss:1.29497\tvalidation_1-merror:0.483525\tvalidation_1-mlogloss:1.37049\n",
      "[13]\tvalidation_0-merror:0.368638\tvalidation_0-mlogloss:1.27129\tvalidation_1-merror:0.48345\tvalidation_1-mlogloss:1.3514\n",
      "[14]\tvalidation_0-merror:0.364763\tvalidation_0-mlogloss:1.24947\tvalidation_1-merror:0.482287\tvalidation_1-mlogloss:1.33387\n",
      "[15]\tvalidation_0-merror:0.361463\tvalidation_0-mlogloss:1.22945\tvalidation_1-merror:0.482363\tvalidation_1-mlogloss:1.31827\n",
      "[16]\tvalidation_0-merror:0.357837\tvalidation_0-mlogloss:1.21045\tvalidation_1-merror:0.482112\tvalidation_1-mlogloss:1.30389\n",
      "[17]\tvalidation_0-merror:0.354275\tvalidation_0-mlogloss:1.19347\tvalidation_1-merror:0.482025\tvalidation_1-mlogloss:1.29122\n",
      "[18]\tvalidation_0-merror:0.351912\tvalidation_0-mlogloss:1.17767\tvalidation_1-merror:0.48195\tvalidation_1-mlogloss:1.27961\n",
      "[19]\tvalidation_0-merror:0.348538\tvalidation_0-mlogloss:1.16276\tvalidation_1-merror:0.481313\tvalidation_1-mlogloss:1.26891\n",
      "[20]\tvalidation_0-merror:0.344875\tvalidation_0-mlogloss:1.14904\tvalidation_1-merror:0.481313\tvalidation_1-mlogloss:1.25901\n",
      "[21]\tvalidation_0-merror:0.342337\tvalidation_0-mlogloss:1.13658\tvalidation_1-merror:0.480888\tvalidation_1-mlogloss:1.25021\n",
      "[22]\tvalidation_0-merror:0.338962\tvalidation_0-mlogloss:1.12466\tvalidation_1-merror:0.479975\tvalidation_1-mlogloss:1.24213\n",
      "[23]\tvalidation_0-merror:0.336287\tvalidation_0-mlogloss:1.11364\tvalidation_1-merror:0.479638\tvalidation_1-mlogloss:1.23463\n",
      "[24]\tvalidation_0-merror:0.333975\tvalidation_0-mlogloss:1.10365\tvalidation_1-merror:0.480225\tvalidation_1-mlogloss:1.22778\n",
      "[25]\tvalidation_0-merror:0.3307\tvalidation_0-mlogloss:1.09374\tvalidation_1-merror:0.479725\tvalidation_1-mlogloss:1.22177\n",
      "[26]\tvalidation_0-merror:0.328687\tvalidation_0-mlogloss:1.08488\tvalidation_1-merror:0.480238\tvalidation_1-mlogloss:1.21621\n",
      "[27]\tvalidation_0-merror:0.325625\tvalidation_0-mlogloss:1.07592\tvalidation_1-merror:0.479875\tvalidation_1-mlogloss:1.21107\n",
      "[28]\tvalidation_0-merror:0.323388\tvalidation_0-mlogloss:1.06768\tvalidation_1-merror:0.47955\tvalidation_1-mlogloss:1.20637\n",
      "[29]\tvalidation_0-merror:0.321537\tvalidation_0-mlogloss:1.06026\tvalidation_1-merror:0.479212\tvalidation_1-mlogloss:1.20197\n",
      "[30]\tvalidation_0-merror:0.319012\tvalidation_0-mlogloss:1.05309\tvalidation_1-merror:0.478487\tvalidation_1-mlogloss:1.19775\n",
      "[31]\tvalidation_0-merror:0.3156\tvalidation_0-mlogloss:1.04565\tvalidation_1-merror:0.478137\tvalidation_1-mlogloss:1.19373\n",
      "[32]\tvalidation_0-merror:0.313738\tvalidation_0-mlogloss:1.03943\tvalidation_1-merror:0.478013\tvalidation_1-mlogloss:1.19025\n",
      "[33]\tvalidation_0-merror:0.3108\tvalidation_0-mlogloss:1.03307\tvalidation_1-merror:0.477538\tvalidation_1-mlogloss:1.18712\n",
      "[34]\tvalidation_0-merror:0.309125\tvalidation_0-mlogloss:1.02753\tvalidation_1-merror:0.477625\tvalidation_1-mlogloss:1.18412\n",
      "[35]\tvalidation_0-merror:0.306637\tvalidation_0-mlogloss:1.02178\tvalidation_1-merror:0.477025\tvalidation_1-mlogloss:1.18144\n",
      "[36]\tvalidation_0-merror:0.305438\tvalidation_0-mlogloss:1.0165\tvalidation_1-merror:0.476963\tvalidation_1-mlogloss:1.17884\n",
      "[37]\tvalidation_0-merror:0.303863\tvalidation_0-mlogloss:1.01197\tvalidation_1-merror:0.477387\tvalidation_1-mlogloss:1.1766\n",
      "[38]\tvalidation_0-merror:0.301688\tvalidation_0-mlogloss:1.00726\tvalidation_1-merror:0.477812\tvalidation_1-mlogloss:1.17435\n",
      "[39]\tvalidation_0-merror:0.298875\tvalidation_0-mlogloss:1.00198\tvalidation_1-merror:0.4779\tvalidation_1-mlogloss:1.17234\n",
      "[40]\tvalidation_0-merror:0.296762\tvalidation_0-mlogloss:0.997561\tvalidation_1-merror:0.478\tvalidation_1-mlogloss:1.17036\n",
      "[41]\tvalidation_0-merror:0.295312\tvalidation_0-mlogloss:0.99324\tvalidation_1-merror:0.477525\tvalidation_1-mlogloss:1.16868\n",
      "[42]\tvalidation_0-merror:0.2938\tvalidation_0-mlogloss:0.988746\tvalidation_1-merror:0.4775\tvalidation_1-mlogloss:1.16709\n",
      "[43]\tvalidation_0-merror:0.290713\tvalidation_0-mlogloss:0.983837\tvalidation_1-merror:0.477175\tvalidation_1-mlogloss:1.16555\n",
      "[44]\tvalidation_0-merror:0.2877\tvalidation_0-mlogloss:0.979391\tvalidation_1-merror:0.477262\tvalidation_1-mlogloss:1.16409\n",
      "[45]\tvalidation_0-merror:0.286162\tvalidation_0-mlogloss:0.975677\tvalidation_1-merror:0.476525\tvalidation_1-mlogloss:1.16283\n",
      "[46]\tvalidation_0-merror:0.283688\tvalidation_0-mlogloss:0.971798\tvalidation_1-merror:0.477075\tvalidation_1-mlogloss:1.1616\n",
      "[47]\tvalidation_0-merror:0.281938\tvalidation_0-mlogloss:0.967956\tvalidation_1-merror:0.477412\tvalidation_1-mlogloss:1.16037\n",
      "[48]\tvalidation_0-merror:0.280237\tvalidation_0-mlogloss:0.963925\tvalidation_1-merror:0.476938\tvalidation_1-mlogloss:1.15913\n",
      "[49]\tvalidation_0-merror:0.277425\tvalidation_0-mlogloss:0.960249\tvalidation_1-merror:0.4768\tvalidation_1-mlogloss:1.15819\n",
      "[50]\tvalidation_0-merror:0.27445\tvalidation_0-mlogloss:0.956629\tvalidation_1-merror:0.4766\tvalidation_1-mlogloss:1.15724\n",
      "[51]\tvalidation_0-merror:0.271975\tvalidation_0-mlogloss:0.952625\tvalidation_1-merror:0.476463\tvalidation_1-mlogloss:1.15642\n",
      "[52]\tvalidation_0-merror:0.268712\tvalidation_0-mlogloss:0.9485\tvalidation_1-merror:0.476225\tvalidation_1-mlogloss:1.15562\n",
      "[53]\tvalidation_0-merror:0.2666\tvalidation_0-mlogloss:0.945183\tvalidation_1-merror:0.475738\tvalidation_1-mlogloss:1.15487\n",
      "[54]\tvalidation_0-merror:0.2631\tvalidation_0-mlogloss:0.940971\tvalidation_1-merror:0.476362\tvalidation_1-mlogloss:1.15423\n",
      "[55]\tvalidation_0-merror:0.259725\tvalidation_0-mlogloss:0.937565\tvalidation_1-merror:0.47605\tvalidation_1-mlogloss:1.15359\n",
      "[56]\tvalidation_0-merror:0.256575\tvalidation_0-mlogloss:0.933771\tvalidation_1-merror:0.475875\tvalidation_1-mlogloss:1.15303\n",
      "[57]\tvalidation_0-merror:0.252887\tvalidation_0-mlogloss:0.929928\tvalidation_1-merror:0.47605\tvalidation_1-mlogloss:1.15238\n",
      "[58]\tvalidation_0-merror:0.250925\tvalidation_0-mlogloss:0.926806\tvalidation_1-merror:0.476012\tvalidation_1-mlogloss:1.15168\n",
      "[59]\tvalidation_0-merror:0.248238\tvalidation_0-mlogloss:0.923212\tvalidation_1-merror:0.476263\tvalidation_1-mlogloss:1.15136\n",
      "[60]\tvalidation_0-merror:0.246137\tvalidation_0-mlogloss:0.920103\tvalidation_1-merror:0.476563\tvalidation_1-mlogloss:1.15078\n",
      "[61]\tvalidation_0-merror:0.243175\tvalidation_0-mlogloss:0.916962\tvalidation_1-merror:0.47645\tvalidation_1-mlogloss:1.1505\n",
      "[62]\tvalidation_0-merror:0.239912\tvalidation_0-mlogloss:0.913436\tvalidation_1-merror:0.476512\tvalidation_1-mlogloss:1.15009\n",
      "[63]\tvalidation_0-merror:0.236363\tvalidation_0-mlogloss:0.909385\tvalidation_1-merror:0.476575\tvalidation_1-mlogloss:1.14981\n",
      "[64]\tvalidation_0-merror:0.233663\tvalidation_0-mlogloss:0.905926\tvalidation_1-merror:0.476613\tvalidation_1-mlogloss:1.1496\n",
      "[65]\tvalidation_0-merror:0.230762\tvalidation_0-mlogloss:0.902476\tvalidation_1-merror:0.475863\tvalidation_1-mlogloss:1.14923\n",
      "[66]\tvalidation_0-merror:0.227375\tvalidation_0-mlogloss:0.898442\tvalidation_1-merror:0.476288\tvalidation_1-mlogloss:1.14903\n"
     ]
    },
    {
     "name": "stdout",
     "output_type": "stream",
     "text": [
      "[67]\tvalidation_0-merror:0.225725\tvalidation_0-mlogloss:0.896033\tvalidation_1-merror:0.476537\tvalidation_1-mlogloss:1.14871\n",
      "[68]\tvalidation_0-merror:0.223275\tvalidation_0-mlogloss:0.893301\tvalidation_1-merror:0.476763\tvalidation_1-mlogloss:1.14855\n",
      "[69]\tvalidation_0-merror:0.219763\tvalidation_0-mlogloss:0.890074\tvalidation_1-merror:0.476938\tvalidation_1-mlogloss:1.14826\n",
      "[70]\tvalidation_0-merror:0.217287\tvalidation_0-mlogloss:0.886514\tvalidation_1-merror:0.476662\tvalidation_1-mlogloss:1.14816\n",
      "[71]\tvalidation_0-merror:0.215163\tvalidation_0-mlogloss:0.88333\tvalidation_1-merror:0.476175\tvalidation_1-mlogloss:1.148\n",
      "[72]\tvalidation_0-merror:0.213388\tvalidation_0-mlogloss:0.880487\tvalidation_1-merror:0.476413\tvalidation_1-mlogloss:1.14796\n",
      "[73]\tvalidation_0-merror:0.21075\tvalidation_0-mlogloss:0.877143\tvalidation_1-merror:0.476413\tvalidation_1-mlogloss:1.14763\n",
      "[74]\tvalidation_0-merror:0.20895\tvalidation_0-mlogloss:0.87447\tvalidation_1-merror:0.476162\tvalidation_1-mlogloss:1.14762\n",
      "[75]\tvalidation_0-merror:0.207563\tvalidation_0-mlogloss:0.872136\tvalidation_1-merror:0.4757\tvalidation_1-mlogloss:1.14748\n",
      "[76]\tvalidation_0-merror:0.203325\tvalidation_0-mlogloss:0.868049\tvalidation_1-merror:0.475738\tvalidation_1-mlogloss:1.14744\n",
      "[77]\tvalidation_0-merror:0.200762\tvalidation_0-mlogloss:0.864884\tvalidation_1-merror:0.4761\tvalidation_1-mlogloss:1.14722\n",
      "[78]\tvalidation_0-merror:0.197125\tvalidation_0-mlogloss:0.861733\tvalidation_1-merror:0.476038\tvalidation_1-mlogloss:1.14715\n",
      "[79]\tvalidation_0-merror:0.194238\tvalidation_0-mlogloss:0.858143\tvalidation_1-merror:0.476\tvalidation_1-mlogloss:1.14705\n",
      "[80]\tvalidation_0-merror:0.192425\tvalidation_0-mlogloss:0.855715\tvalidation_1-merror:0.476113\tvalidation_1-mlogloss:1.14694\n",
      "[81]\tvalidation_0-merror:0.1903\tvalidation_0-mlogloss:0.852657\tvalidation_1-merror:0.475987\tvalidation_1-mlogloss:1.147\n",
      "[82]\tvalidation_0-merror:0.186625\tvalidation_0-mlogloss:0.848286\tvalidation_1-merror:0.4764\tvalidation_1-mlogloss:1.14692\n",
      "[83]\tvalidation_0-merror:0.184225\tvalidation_0-mlogloss:0.845529\tvalidation_1-merror:0.476675\tvalidation_1-mlogloss:1.14681\n",
      "[84]\tvalidation_0-merror:0.181725\tvalidation_0-mlogloss:0.841799\tvalidation_1-merror:0.476737\tvalidation_1-mlogloss:1.1468\n",
      "[85]\tvalidation_0-merror:0.178837\tvalidation_0-mlogloss:0.838466\tvalidation_1-merror:0.476912\tvalidation_1-mlogloss:1.14686\n",
      "[86]\tvalidation_0-merror:0.1771\tvalidation_0-mlogloss:0.835604\tvalidation_1-merror:0.4772\tvalidation_1-mlogloss:1.14687\n",
      "[87]\tvalidation_0-merror:0.17465\tvalidation_0-mlogloss:0.832449\tvalidation_1-merror:0.477175\tvalidation_1-mlogloss:1.14675\n",
      "[88]\tvalidation_0-merror:0.172212\tvalidation_0-mlogloss:0.829538\tvalidation_1-merror:0.477138\tvalidation_1-mlogloss:1.14673\n",
      "[89]\tvalidation_0-merror:0.169325\tvalidation_0-mlogloss:0.826353\tvalidation_1-merror:0.476887\tvalidation_1-mlogloss:1.14679\n",
      "[90]\tvalidation_0-merror:0.166725\tvalidation_0-mlogloss:0.823191\tvalidation_1-merror:0.477025\tvalidation_1-mlogloss:1.1467\n",
      "[91]\tvalidation_0-merror:0.164463\tvalidation_0-mlogloss:0.819841\tvalidation_1-merror:0.476662\tvalidation_1-mlogloss:1.14671\n",
      "[92]\tvalidation_0-merror:0.161313\tvalidation_0-mlogloss:0.81587\tvalidation_1-merror:0.4771\tvalidation_1-mlogloss:1.1468\n",
      "[93]\tvalidation_0-merror:0.158662\tvalidation_0-mlogloss:0.812619\tvalidation_1-merror:0.477175\tvalidation_1-mlogloss:1.14683\n",
      "[94]\tvalidation_0-merror:0.15575\tvalidation_0-mlogloss:0.809238\tvalidation_1-merror:0.476975\tvalidation_1-mlogloss:1.14692\n",
      "[95]\tvalidation_0-merror:0.153362\tvalidation_0-mlogloss:0.80601\tvalidation_1-merror:0.47755\tvalidation_1-mlogloss:1.14695\n",
      "[96]\tvalidation_0-merror:0.151087\tvalidation_0-mlogloss:0.803008\tvalidation_1-merror:0.477587\tvalidation_1-mlogloss:1.14702\n",
      "[97]\tvalidation_0-merror:0.148825\tvalidation_0-mlogloss:0.800075\tvalidation_1-merror:0.477463\tvalidation_1-mlogloss:1.14697\n",
      "[98]\tvalidation_0-merror:0.1461\tvalidation_0-mlogloss:0.796836\tvalidation_1-merror:0.477338\tvalidation_1-mlogloss:1.14692\n",
      "[99]\tvalidation_0-merror:0.1443\tvalidation_0-mlogloss:0.793688\tvalidation_1-merror:0.477663\tvalidation_1-mlogloss:1.14701\n"
     ]
    },
    {
     "data": {
      "text/plain": [
       "XGBClassifier(base_score=0.5, booster='gbtree', colsample_bylevel=1,\n",
       "       colsample_bytree=0.85, early_stopping_rounds=20, eta=0.3, gamma=0.0,\n",
       "       learning_rate=0.1, max_delta_step=0, max_depth=11,\n",
       "       min_child_weight=6, missing=None, n_estimators=100, n_jobs=1,\n",
       "       nthread=None, num_class=8, objective='multi:softprob',\n",
       "       random_state=0, reg_alpha=0, reg_lambda=1, scale_pos_weight=1,\n",
       "       seed=None, silent=True, subsample=0.75)"
      ]
     },
     "execution_count": 21,
     "metadata": {},
     "output_type": "execute_result"
    }
   ],
   "source": [
    "#Model with optimum values of hyperprameters \n",
    "model = XGBClassifier(max_depth= 11, min_child_weight= 6, gamma = 0.0, subsample= 0.75, colsample_bytree= 0.85,\n",
    "                    eta=0.3, objective='multi:softprob', \n",
    "                    num_class=8, early_stopping_rounds=20)\n",
    "\n",
    "eval_set = [(X_32train_new, y_32_train), (X_test1, y_test1)]\n",
    "\n",
    "#We evaluate the model's performance on training and test sets by three evaluation metrics\n",
    "# https://github.com/dmlc/xgboost/blob/master/doc/parameter.md\n",
    "model.fit(X_32train_new, y_32_train, eval_set = eval_set, eval_metric=[\"merror\", \"mlogloss\"])"
   ]
  },
  {
   "cell_type": "code",
   "execution_count": 22,
   "metadata": {},
   "outputs": [
    {
     "data": {
      "image/png": "[encoded data removed]",
      "text/plain": [
       "<matplotlib.figure.Figure at 0x1c3274e6ef0>"
      ]
     },
     "metadata": {},
     "output_type": "display_data"
    },
    {
     "data": {
      "image/png": "[encoded data removed]",
      "text/plain": [
       "<matplotlib.figure.Figure at 0x1c32d119e80>"
      ]
     },
     "metadata": {},
     "output_type": "display_data"
    }
   ],
   "source": [
    "%matplotlib inline\n",
    "\n",
    "results = model.evals_result()\n",
    "epochs = len(results['validation_0']['merror'])\n",
    "x_axis = range(0, epochs)\n",
    "\n",
    "# plot log loss\n",
    "fig, ax = plt.subplots()\n",
    "ax.plot(x_axis, results['validation_0']['mlogloss'], label='Train')\n",
    "ax.plot(x_axis, results['validation_1']['mlogloss'], label='Test')\n",
    "ax.legend()\n",
    "plt.ylabel('Log Loss')\n",
    "plt.title('XGBoost Log Loss')\n",
    "plt.show()\n",
    "\n",
    "# plot classification error\n",
    "fig, ax = plt.subplots()\n",
    "ax.plot(x_axis, results['validation_0']['merror'], label='Train')\n",
    "ax.plot(x_axis, results['validation_1']['merror'], label='Test')\n",
    "ax.legend()\n",
    "plt.ylabel('Classification Error')\n",
    "plt.title('XGBoost Classification Error')\n",
    "plt.show()"
   ]
  },
  {
   "cell_type": "markdown",
   "metadata": {
    "collapsed": true
   },
   "source": [
    "### Tune reg_alpha"
   ]
  },
  {
   "cell_type": "code",
   "execution_count": 27,
   "metadata": {},
   "outputs": [
    {
     "name": "stdout",
     "output_type": "stream",
     "text": [
      "Grid search took 26.53257782459259 minutes\n"
     ]
    }
   ],
   "source": [
    "param_grid6 = {'reg_alpha':[1e-5, 1e-2, 0.1, 1, 100]}\n",
    "\n",
    "start = time()\n",
    "\n",
    "grid_search6 = GridSearchCV(estimator = XGBClassifier(max_depth= 11, min_child_weight= 6, gamma = 0.0,\n",
    "                                                      subsample = 0.75, colsample_bytre6 = 0.85, \n",
    "                                                      eta=0.3, objective='multi:softprob', \n",
    "                                                      num_class=8, early_stopping_rounds=20), \n",
    "                       param_grid = param_grid6, scoring='accuracy',n_jobs=4)\n",
    "\n",
    "grid_search6.fit(X_32train_new, y_32_train)\n",
    "print(\"Grid search took {} minutes\".format((time()-start)/60))"
   ]
  },
  {
   "cell_type": "code",
   "execution_count": 28,
   "metadata": {},
   "outputs": [
    {
     "data": {
      "text/plain": [
       "([mean: 0.52055, std: 0.00231, params: {'reg_alpha': 1e-05},\n",
       "  mean: 0.51877, std: 0.00075, params: {'reg_alpha': 0.01},\n",
       "  mean: 0.51880, std: 0.00193, params: {'reg_alpha': 0.1},\n",
       "  mean: 0.51902, std: 0.00176, params: {'reg_alpha': 1},\n",
       "  mean: 0.50413, std: 0.00110, params: {'reg_alpha': 100}],\n",
       " {'reg_alpha': 1e-05},\n",
       " 0.52055)"
      ]
     },
     "execution_count": 28,
     "metadata": {},
     "output_type": "execute_result"
    }
   ],
   "source": [
    "grid_search6.grid_scores_, grid_search6.best_params_, grid_search6.best_score_"
   ]
  },
  {
   "cell_type": "markdown",
   "metadata": {},
   "source": [
    "### Narrow down search space for reg_alpha"
   ]
  },
  {
   "cell_type": "code",
   "execution_count": 29,
   "metadata": {},
   "outputs": [
    {
     "name": "stdout",
     "output_type": "stream",
     "text": [
      "Grid search took 24.42363880077998 minutes\n"
     ]
    }
   ],
   "source": [
    "param_grid7 = {'reg_alpha':[1e-7, 1e-6, 1e-5, 1e-4]}\n",
    "\n",
    "start = time()\n",
    "\n",
    "grid_search7 = GridSearchCV(estimator = XGBClassifier(max_depth= 11, min_child_weight= 6, gamma = 0.0,\n",
    "                                                      subsample = 0.75, colsample_bytre6 = 0.85, \n",
    "                                                      eta=0.3, objective='multi:softprob', \n",
    "                                                      num_class=8, early_stopping_rounds=20), \n",
    "                       param_grid = param_grid7, scoring='accuracy',n_jobs=4)\n",
    "\n",
    "grid_search7.fit(X_32train_new, y_32_train)\n",
    "print(\"Grid search took {} minutes\".format((time()-start)/60))"
   ]
  },
  {
   "cell_type": "code",
   "execution_count": 30,
   "metadata": {},
   "outputs": [
    {
     "data": {
      "text/plain": [
       "([mean: 0.51972, std: 0.00117, params: {'reg_alpha': 1e-07},\n",
       "  mean: 0.51972, std: 0.00117, params: {'reg_alpha': 1e-06},\n",
       "  mean: 0.52055, std: 0.00231, params: {'reg_alpha': 1e-05},\n",
       "  mean: 0.51865, std: 0.00147, params: {'reg_alpha': 0.0001}],\n",
       " {'reg_alpha': 1e-05},\n",
       " 0.52055)"
      ]
     },
     "execution_count": 30,
     "metadata": {},
     "output_type": "execute_result"
    }
   ],
   "source": [
    "grid_search7.grid_scores_, grid_search7.best_params_, grid_search7.best_score_"
   ]
  },
  {
   "cell_type": "markdown",
   "metadata": {},
   "source": [
    "### Tune reg_lambda"
   ]
  },
  {
   "cell_type": "code",
   "execution_count": 32,
   "metadata": {},
   "outputs": [
    {
     "name": "stdout",
     "output_type": "stream",
     "text": [
      "Grid search took 30.158052655061088 minutes\n"
     ]
    }
   ],
   "source": [
    "param_grid8 = {'reg_lambda':[1e-5, 1e-2, 0.1, 1, 100]}\n",
    "\n",
    "start = time()\n",
    "\n",
    "grid_search8 = GridSearchCV(estimator = XGBClassifier(max_depth= 11, min_child_weight= 6, gamma = 0.0, reg_alpha= 1e-05,\n",
    "                                                      subsample = 0.75, colsample_bytre6 = 0.85, \n",
    "                                                      eta=0.3, objective='multi:softprob', \n",
    "                                                      num_class=8, early_stopping_rounds=20), \n",
    "                       param_grid = param_grid8, scoring='accuracy',n_jobs=4)\n",
    "\n",
    "grid_search8.fit(X_32train_new, y_32_train)\n",
    "print(\"Grid search took {} minutes\".format((time()-start)/60))"
   ]
  },
  {
   "cell_type": "code",
   "execution_count": 33,
   "metadata": {},
   "outputs": [
    {
     "data": {
      "text/plain": [
       "([mean: 0.51899, std: 0.00127, params: {'reg_lambda': 1e-05},\n",
       "  mean: 0.51923, std: 0.00026, params: {'reg_lambda': 0.01},\n",
       "  mean: 0.51948, std: 0.00036, params: {'reg_lambda': 0.1},\n",
       "  mean: 0.52055, std: 0.00231, params: {'reg_lambda': 1},\n",
       "  mean: 0.51697, std: 0.00169, params: {'reg_lambda': 100}],\n",
       " {'reg_lambda': 1},\n",
       " 0.52055)"
      ]
     },
     "execution_count": 33,
     "metadata": {},
     "output_type": "execute_result"
    }
   ],
   "source": [
    "grid_search8.grid_scores_, grid_search8.best_params_, grid_search8.best_score_"
   ]
  },
  {
   "cell_type": "markdown",
   "metadata": {},
   "source": [
    "### Narrow down search space for reg_lambda"
   ]
  },
  {
   "cell_type": "code",
   "execution_count": 34,
   "metadata": {},
   "outputs": [
    {
     "name": "stdout",
     "output_type": "stream",
     "text": [
      "Grid search took 24.273953839143118 minutes\n"
     ]
    }
   ],
   "source": [
    "param_grid8_1 = {'reg_lambda':[0.9, 1, 2, 3]}\n",
    "\n",
    "start = time()\n",
    "\n",
    "grid_search8_1 = GridSearchCV(estimator = XGBClassifier(max_depth= 11, min_child_weight= 6, gamma = 0.0, reg_alpha= 1e-05,\n",
    "                                                      subsample = 0.75, colsample_bytre6 = 0.85, \n",
    "                                                      eta=0.3, objective='multi:softprob', \n",
    "                                                      num_class=8, early_stopping_rounds=20), \n",
    "                       param_grid = param_grid8_1, scoring='accuracy',n_jobs=4)\n",
    "\n",
    "grid_search8_1.fit(X_32train_new, y_32_train)\n",
    "print(\"Grid search took {} minutes\".format((time()-start)/60))"
   ]
  },
  {
   "cell_type": "code",
   "execution_count": 35,
   "metadata": {},
   "outputs": [
    {
     "data": {
      "text/plain": [
       "([mean: 0.52014, std: 0.00073, params: {'reg_lambda': 0.9},\n",
       "  mean: 0.52055, std: 0.00231, params: {'reg_lambda': 1},\n",
       "  mean: 0.51859, std: 0.00069, params: {'reg_lambda': 2},\n",
       "  mean: 0.51884, std: 0.00058, params: {'reg_lambda': 3}],\n",
       " {'reg_lambda': 1},\n",
       " 0.52055)"
      ]
     },
     "execution_count": 35,
     "metadata": {},
     "output_type": "execute_result"
    }
   ],
   "source": [
    "grid_search8_1.grid_scores_, grid_search8_1.best_params_, grid_search8_1.best_score_"
   ]
  },
  {
   "cell_type": "markdown",
   "metadata": {},
   "source": [
    "### Tune learning_rate \n",
    "guide: https://machinelearningmastery.com/tune-learning-rate-for-gradient-boosting-with-xgboost-in-python/"
   ]
  },
  {
   "cell_type": "code",
   "execution_count": 36,
   "metadata": {},
   "outputs": [
    {
     "name": "stdout",
     "output_type": "stream",
     "text": [
      "Grid search took 35.043123706181845 minutes\n"
     ]
    }
   ],
   "source": [
    "param_grid9 = {'learning_rate': [1e-4, 0.1e-3, 1e-2, 1e-1, 0.2, 0.3]}\n",
    "\n",
    "start = time()\n",
    "\n",
    "grid_search9 = GridSearchCV(estimator = XGBClassifier(max_depth= 11, min_child_weight= 6, gamma = 0.0, reg_alpha= 1e-05,\n",
    "                                                      subsample = 0.75, colsample_bytre6 = 0.85, reg_lambda= 1,\n",
    "                                                      objective='multi:softprob', \n",
    "                                                      num_class=8, early_stopping_rounds=20), \n",
    "                       param_grid = param_grid9, scoring='accuracy',n_jobs=4)\n",
    "\n",
    "grid_search9.fit(X_32train_new, y_32_train)\n",
    "print(\"Grid search took {} minutes\".format((time()-start)/60))"
   ]
  },
  {
   "cell_type": "code",
   "execution_count": 37,
   "metadata": {},
   "outputs": [
    {
     "data": {
      "text/plain": [
       "([mean: 0.50733, std: 0.00145, params: {'learning_rate': 0.0001},\n",
       "  mean: 0.50733, std: 0.00145, params: {'learning_rate': 0.0001},\n",
       "  mean: 0.51307, std: 0.00066, params: {'learning_rate': 0.01},\n",
       "  mean: 0.52055, std: 0.00231, params: {'learning_rate': 0.1},\n",
       "  mean: 0.51499, std: 0.00048, params: {'learning_rate': 0.2},\n",
       "  mean: 0.51159, std: 0.00027, params: {'learning_rate': 0.3}],\n",
       " {'learning_rate': 0.1},\n",
       " 0.52055)"
      ]
     },
     "execution_count": 37,
     "metadata": {},
     "output_type": "execute_result"
    }
   ],
   "source": [
    "grid_search9.grid_scores_, grid_search9.best_params_, grid_search9.best_score_"
   ]
  },
  {
   "cell_type": "markdown",
   "metadata": {},
   "source": [
    "## <font color = 'blue'> Train classifier with optimum hyperparameter values"
   ]
  },
  {
   "cell_type": "code",
   "execution_count": 39,
   "metadata": {},
   "outputs": [
    {
     "data": {
      "text/plain": [
       "XGBClassifier(base_score=0.5, booster='gbtree', colsample_bylevel=1,\n",
       "       colsample_bytree=0.85, early_stopping_rounds=20, gamma=0.0,\n",
       "       learning_rate=0.1, max_delta_step=0, max_depth=11,\n",
       "       min_child_weight=6, missing=None, n_estimators=100, n_jobs=1,\n",
       "       nthread=None, num_class=8, objective='multi:softprob',\n",
       "       random_state=0, reg_alpha=1e-05, reg_lambda=1, scale_pos_weight=1,\n",
       "       seed=None, silent=True, subsample=0.75)"
      ]
     },
     "execution_count": 39,
     "metadata": {},
     "output_type": "execute_result"
    }
   ],
   "source": [
    "from sklearn import metrics\n",
    "\n",
    "model = XGBClassifier(max_depth= 11, min_child_weight= 6, gamma = 0.0, subsample = 0.75, \n",
    "                      colsample_bytree = 0.85, reg_alpha= 1e-05, reg_lambda= 1, learning_rate = 0.1,\n",
    "                      objective='multi:softprob', num_class=8, early_stopping_rounds=20)\n",
    "\n",
    "\n",
    "eval_set = [(X_32train_new, y_32_train), (X_test1, y_test1)]\n",
    "model.fit(X_32train_new, y_32_train, eval_set = eval_set, eval_metric=[\"merror\", \"mlogloss\"], verbose = False)"
   ]
  },
  {
   "cell_type": "markdown",
   "metadata": {},
   "source": [
    "## Test the classifier"
   ]
  },
  {
   "cell_type": "code",
   "execution_count": 41,
   "metadata": {},
   "outputs": [
    {
     "name": "stdout",
     "output_type": "stream",
     "text": [
      "Test accuracy at  -20 dB = 0.12275\n",
      "Test accuracy at  -18 dB = 0.119\n",
      "Test accuracy at  -16 dB = 0.12275\n",
      "Test accuracy at  -14 dB = 0.12375\n",
      "Test accuracy at  -12 dB = 0.15075\n",
      "Test accuracy at  -10 dB = 0.1745\n",
      "Test accuracy at  -8 dB = 0.278\n",
      "Test accuracy at  -6 dB = 0.3545\n",
      "Test accuracy at  -4 dB = 0.40225\n",
      "Test accuracy at  -2 dB = 0.474\n",
      "Test accuracy at  0 dB = 0.58575\n",
      "Test accuracy at  2 dB = 0.7\n",
      "Test accuracy at  4 dB = 0.8275\n",
      "Test accuracy at  6 dB = 0.85275\n",
      "Test accuracy at  8 dB = 0.8555\n",
      "Test accuracy at  10 dB = 0.85975\n",
      "Test accuracy at  12 dB = 0.8585\n",
      "Test accuracy at  14 dB = 0.86175\n",
      "Test accuracy at  16 dB = 0.85775\n",
      "Test accuracy at  18 dB = 0.86525\n"
     ]
    }
   ],
   "source": [
    "from sklearn.metrics import accuracy_score\n",
    "\n",
    "predictions = defaultdict(list)\n",
    "accuracy = defaultdict(list)\n",
    "y_pred = defaultdict(list)\n",
    "\n",
    "for snr in snrs:\n",
    "    y_pred[snr] = model.predict(X_32test_new[snr])\n",
    "    predictions[snr] = [round(value) for value in y_pred[snr]]\n",
    "    accuracy[snr] = accuracy_score(y_32_test[snr], predictions[snr])\n",
    "    print (\"Test accuracy at \",snr,\"dB =\", accuracy[snr])"
   ]
  },
  {
   "cell_type": "markdown",
   "metadata": {},
   "source": [
    "## Visualize model performance"
   ]
  },
  {
   "cell_type": "code",
   "execution_count": 42,
   "metadata": {},
   "outputs": [
    {
     "name": "stderr",
     "output_type": "stream",
     "text": [
      "Exception ignored in: <bound method Booster.__del__ of <xgboost.core.Booster object at 0x000001C32D0C2E48>>\n",
      "Traceback (most recent call last):\n",
      "  File \"c:\\users\\wiilab\\appdata\\local\\programs\\python\\python35\\lib\\site-packages\\xgboost\\core.py\", line 745, in __del__\n",
      "    if self.handle is not None:\n",
      "AttributeError: 'Booster' object has no attribute 'handle'\n"
     ]
    },
    {
     "data": {
      "image/png": "[encoded data removed]",
      "text/plain": [
       "<matplotlib.figure.Figure at 0x1c32e6d52e8>"
      ]
     },
     "metadata": {},
     "output_type": "display_data"
    },
    {
     "data": {
      "image/png": "[encoded data removed]",
      "text/plain": [
       "<matplotlib.figure.Figure at 0x1c334574fd0>"
      ]
     },
     "metadata": {},
     "output_type": "display_data"
    }
   ],
   "source": [
    "%matplotlib inline\n",
    "\n",
    "results = model.evals_result()\n",
    "epochs = len(results['validation_0']['merror'])\n",
    "x_axis = range(0, epochs)\n",
    "\n",
    "# plot log loss\n",
    "fig, ax = plt.subplots()\n",
    "ax.plot(x_axis, results['validation_0']['mlogloss'], label='Train')\n",
    "ax.plot(x_axis, results['validation_1']['mlogloss'], label='Test')\n",
    "ax.legend()\n",
    "plt.ylabel('Log Loss')\n",
    "plt.title('XGBoost Log Loss')\n",
    "plt.show()\n",
    "\n",
    "# plot classification error\n",
    "fig, ax = plt.subplots()\n",
    "ax.plot(x_axis, results['validation_0']['merror'], label='Train')\n",
    "ax.plot(x_axis, results['validation_1']['merror'], label='Test')\n",
    "ax.legend()\n",
    "plt.ylabel('Classification Error')\n",
    "plt.title('XGBoost Classification Error')\n",
    "plt.show()"
   ]
  },
  {
   "cell_type": "code",
   "execution_count": 43,
   "metadata": {},
   "outputs": [
    {
     "data": {
      "image/png": "[encoded data removed]",
      "text/plain": [
       "<matplotlib.figure.Figure at 0x1c3345e3438>"
      ]
     },
     "metadata": {},
     "output_type": "display_data"
    }
   ],
   "source": [
    "plt.style.use('classic')\n",
    "acc_test = sorted(accuracy.items())\n",
    "new_acc = []\n",
    "for i in range(len(acc_test)):\n",
    "    new_acc.append(acc_test[i][1])\n",
    "acc_test_values = new_acc \n",
    "\n",
    "fig1 = plt.figure(figsize=(8,4), dpi=100)\n",
    "x = snrs\n",
    "y = list(acc_test_values)\n",
    "plt.plot(x, y, marker=\"o\", linewidth=2.0, linestyle='dashed', color='royalblue')\n",
    "plt.axis([-20, 20, 0, 1])\n",
    "plt.xticks(np.arange(min(x), max(x)+1, 2.0))\n",
    "plt.yticks(np.arange(0, 1, 0.10))\n",
    "\n",
    "ttl = plt.title('SNR vs Accuracy', fontsize=16)\n",
    "ttl.set_weight('bold')\n",
    "plt.xlabel('SNR (dB)', fontsize=14)\n",
    "plt.ylabel('Test accuracy', fontsize=14)\n",
    "plt.grid()\n",
    "\n",
    "plt.show()"
   ]
  },
  {
   "cell_type": "code",
   "execution_count": 45,
   "metadata": {},
   "outputs": [
    {
     "name": "stdout",
     "output_type": "stream",
     "text": [
      "Confusion Matrix\n",
      "       8PSK  BPSK  CPFSK  GFSK  PAM4  QAM16  QAM64  QPSK\n",
      "8PSK   0.89  0.00   0.00  0.00  0.00   0.05   0.05  0.01\n",
      "BPSK   0.00  0.99   0.00  0.00  0.00   0.00   0.00  0.00\n",
      "CPFSK  0.00  0.00   0.98  0.00  0.00   0.01   0.01  0.00\n",
      "GFSK   0.01  0.00   0.00  0.98  0.00   0.00   0.01  0.00\n",
      "PAM4   0.00  0.02   0.00  0.00  0.97   0.01   0.00  0.00\n",
      "QAM16  0.01  0.00   0.00  0.00  0.00   0.56   0.43  0.00\n",
      "QAM64  0.01  0.00   0.00  0.00  0.00   0.42   0.57  0.00\n",
      "QPSK   0.02  0.00   0.00  0.00  0.00   0.04   0.01  0.92\n"
     ]
    },
    {
     "data": {
      "image/png": "[encoded data removed]",
      "text/plain": [
       "<matplotlib.figure.Figure at 0x1c33ba5c400>"
      ]
     },
     "metadata": {},
     "output_type": "display_data"
    }
   ],
   "source": [
    "# Confusion Matrix\n",
    "    \n",
    "from sklearn.metrics import confusion_matrix\n",
    "\n",
    "classes = ['8PSK', 'BPSK', 'CPFSK', 'GFSK', 'PAM4', 'QAM16', 'QAM64', 'QPSK']\n",
    "conf_matrix = confusion_matrix(y_pred[18], y_32_test[18])  \n",
    "\n",
    "conf_matrix = conf_matrix.astype('float') / conf_matrix.sum(axis=1)[:, np.newaxis]\n",
    "conf_matrix = conf_matrix.round(decimals = 2)\n",
    "\n",
    "import pandas as pd\n",
    "\n",
    "df = pd.DataFrame(data = conf_matrix, columns = classes, index = classes) \n",
    "print(\"Confusion Matrix\")\n",
    "print(df)\n",
    "\n",
    "fig1 = plt.figure(figsize=(8,4), dpi=100)\n",
    "plt.imshow(conf_matrix, interpolation = 'nearest', cmap = plt.cm.Purples)\n",
    "ticks = np.arange(len(classes))\n",
    "plt.title(\"Confusion Matrix\")\n",
    "plt.xticks(ticks, classes, rotation=45)\n",
    "plt.yticks(ticks, classes)\n",
    "\n",
    "plt.ylabel('True class')\n",
    "plt.xlabel('Predicted class')\n",
    "\n",
    "plt.tight_layout()\n",
    "plt.colorbar()\n",
    "plt.show()"
   ]
  },
  {
   "cell_type": "markdown",
   "metadata": {},
   "source": [
    "## <font color = 'blue'> Use xbg library (rather than sklearn xgboost wrapper)"
   ]
  },
  {
   "cell_type": "markdown",
   "metadata": {},
   "source": [
    "### Form dmatrices required by xbg"
   ]
  },
  {
   "cell_type": "code",
   "execution_count": 46,
   "metadata": {
    "collapsed": true
   },
   "outputs": [],
   "source": [
    "dtrain = xgb.DMatrix(X_32train_new, label=y_32_train)\n",
    "dtest = defaultdict(list)\n",
    "\n",
    "for snr in snrs:\n",
    "    dtest[snr] = xgb.DMatrix(X_32test_new[snr], label=y_32_test[snr])"
   ]
  },
  {
   "cell_type": "markdown",
   "metadata": {},
   "source": [
    "### n_boost_rounds = 100 = default # of estimators \n",
    "(num_boost_round = no. of trees to train)"
   ]
  },
  {
   "cell_type": "code",
   "execution_count": 47,
   "metadata": {},
   "outputs": [
    {
     "data": {
      "text/plain": [
       "XGBClassifier(base_score=0.5, booster='gbtree', colsample_bylevel=1,\n",
       "       colsample_bytree=0.85, early_stopping_rounds=20, gamma=0.0,\n",
       "       learning_rate=0.1, max_delta_step=0, max_depth=11,\n",
       "       min_child_weight=6, missing=None, n_estimators=100, n_jobs=1,\n",
       "       nthread=None, num_class=8, objective='multi:softprob',\n",
       "       random_state=0, reg_alpha=1e-05, reg_lambda=1, scale_pos_weight=1,\n",
       "       seed=None, silent=True, subsample=0.75)"
      ]
     },
     "execution_count": 47,
     "metadata": {},
     "output_type": "execute_result"
    }
   ],
   "source": [
    "xgbclassifier_model = model  #model whose hyperparameters we tuned\n",
    "parameters = xgbclassifier_model.get_xgb_params()\n",
    "\n",
    "#Use cross validation to set n_estimators \n",
    "eval_history = xgb.cv(parameters, dtrain, metrics = ['mlogloss', 'merror'], nfold = 5, early_stopping_rounds = 20,\n",
    "                         num_boost_round = xgbclassifier_model.get_params()['n_estimators'])\n",
    "xgbclassifier_model.set_params(n_estimators = eval_history.shape[0])\n",
    "\n",
    "xgbclassifier_model"
   ]
  },
  {
   "cell_type": "code",
   "execution_count": 65,
   "metadata": {
    "scrolled": true
   },
   "outputs": [
    {
     "name": "stdout",
     "output_type": "stream",
     "text": [
      "[0]\tvalidation_0-mlogloss:1.94242\tvalidation_0-merror:0.49605\tvalidation_1-mlogloss:1.94496\tvalidation_1-merror:0.5125\n",
      "[1]\tvalidation_0-mlogloss:1.84592\tvalidation_0-merror:0.487038\tvalidation_1-mlogloss:1.85107\tvalidation_1-merror:0.50645\n",
      "[2]\tvalidation_0-mlogloss:1.76645\tvalidation_0-merror:0.481887\tvalidation_1-mlogloss:1.77405\tvalidation_1-merror:0.505188\n",
      "[3]\tvalidation_0-mlogloss:1.70012\tvalidation_0-merror:0.4801\tvalidation_1-mlogloss:1.70999\tvalidation_1-merror:0.504613\n",
      "[4]\tvalidation_0-mlogloss:1.64396\tvalidation_0-merror:0.478\tvalidation_1-mlogloss:1.65611\tvalidation_1-merror:0.503012\n",
      "[5]\tvalidation_0-mlogloss:1.59659\tvalidation_0-merror:0.4765\tvalidation_1-mlogloss:1.61064\tvalidation_1-merror:0.503287\n",
      "[6]\tvalidation_0-mlogloss:1.55416\tvalidation_0-merror:0.476088\tvalidation_1-mlogloss:1.57024\tvalidation_1-merror:0.502612\n",
      "[7]\tvalidation_0-mlogloss:1.5172\tvalidation_0-merror:0.474625\tvalidation_1-mlogloss:1.53524\tvalidation_1-merror:0.50195\n",
      "[8]\tvalidation_0-mlogloss:1.48358\tvalidation_0-merror:0.472338\tvalidation_1-mlogloss:1.50362\tvalidation_1-merror:0.500888\n",
      "[9]\tvalidation_0-mlogloss:1.45402\tvalidation_0-merror:0.47225\tvalidation_1-mlogloss:1.47588\tvalidation_1-merror:0.500825\n",
      "[10]\tvalidation_0-mlogloss:1.42713\tvalidation_0-merror:0.469737\tvalidation_1-mlogloss:1.45076\tvalidation_1-merror:0.499038\n",
      "[11]\tvalidation_0-mlogloss:1.40484\tvalidation_0-merror:0.468087\tvalidation_1-mlogloss:1.43017\tvalidation_1-merror:0.498825\n",
      "[12]\tvalidation_0-mlogloss:1.38281\tvalidation_0-merror:0.466487\tvalidation_1-mlogloss:1.41001\tvalidation_1-merror:0.497963\n",
      "[13]\tvalidation_0-mlogloss:1.36315\tvalidation_0-merror:0.465138\tvalidation_1-mlogloss:1.39211\tvalidation_1-merror:0.497725\n",
      "[14]\tvalidation_0-mlogloss:1.34591\tvalidation_0-merror:0.463625\tvalidation_1-mlogloss:1.37644\tvalidation_1-merror:0.497162\n",
      "[15]\tvalidation_0-mlogloss:1.32951\tvalidation_0-merror:0.46225\tvalidation_1-mlogloss:1.36166\tvalidation_1-merror:0.497238\n",
      "[16]\tvalidation_0-mlogloss:1.31396\tvalidation_0-merror:0.460063\tvalidation_1-mlogloss:1.34764\tvalidation_1-merror:0.49655\n",
      "[17]\tvalidation_0-mlogloss:1.30027\tvalidation_0-merror:0.459575\tvalidation_1-mlogloss:1.33535\tvalidation_1-merror:0.496\n",
      "[18]\tvalidation_0-mlogloss:1.28854\tvalidation_0-merror:0.458575\tvalidation_1-mlogloss:1.32499\tvalidation_1-merror:0.495775\n",
      "[19]\tvalidation_0-mlogloss:1.27675\tvalidation_0-merror:0.457687\tvalidation_1-mlogloss:1.31444\tvalidation_1-merror:0.49505\n",
      "[20]\tvalidation_0-mlogloss:1.26637\tvalidation_0-merror:0.456863\tvalidation_1-mlogloss:1.30532\tvalidation_1-merror:0.494287\n",
      "[21]\tvalidation_0-mlogloss:1.25644\tvalidation_0-merror:0.455638\tvalidation_1-mlogloss:1.29684\tvalidation_1-merror:0.494063\n",
      "[22]\tvalidation_0-mlogloss:1.24692\tvalidation_0-merror:0.454725\tvalidation_1-mlogloss:1.2887\tvalidation_1-merror:0.4946\n",
      "[23]\tvalidation_0-mlogloss:1.23835\tvalidation_0-merror:0.454125\tvalidation_1-mlogloss:1.28147\tvalidation_1-merror:0.494112\n",
      "[24]\tvalidation_0-mlogloss:1.23045\tvalidation_0-merror:0.453512\tvalidation_1-mlogloss:1.27487\tvalidation_1-merror:0.494013\n",
      "[25]\tvalidation_0-mlogloss:1.22314\tvalidation_0-merror:0.451425\tvalidation_1-mlogloss:1.26868\tvalidation_1-merror:0.493762\n",
      "[26]\tvalidation_0-mlogloss:1.21628\tvalidation_0-merror:0.45105\tvalidation_1-mlogloss:1.26309\tvalidation_1-merror:0.493275\n",
      "[27]\tvalidation_0-mlogloss:1.20994\tvalidation_0-merror:0.450588\tvalidation_1-mlogloss:1.25798\tvalidation_1-merror:0.493612\n",
      "[28]\tvalidation_0-mlogloss:1.20411\tvalidation_0-merror:0.449125\tvalidation_1-mlogloss:1.25334\tvalidation_1-merror:0.493612\n",
      "[29]\tvalidation_0-mlogloss:1.19847\tvalidation_0-merror:0.44785\tvalidation_1-mlogloss:1.24887\tvalidation_1-merror:0.493113\n",
      "[30]\tvalidation_0-mlogloss:1.19343\tvalidation_0-merror:0.447037\tvalidation_1-mlogloss:1.24506\tvalidation_1-merror:0.492825\n",
      "[31]\tvalidation_0-mlogloss:1.18859\tvalidation_0-merror:0.445962\tvalidation_1-mlogloss:1.24134\tvalidation_1-merror:0.492887\n",
      "[32]\tvalidation_0-mlogloss:1.18381\tvalidation_0-merror:0.445225\tvalidation_1-mlogloss:1.23771\tvalidation_1-merror:0.49275\n",
      "[33]\tvalidation_0-mlogloss:1.1793\tvalidation_0-merror:0.443812\tvalidation_1-mlogloss:1.23447\tvalidation_1-merror:0.493012\n",
      "[34]\tvalidation_0-mlogloss:1.17527\tvalidation_0-merror:0.443087\tvalidation_1-mlogloss:1.23152\tvalidation_1-merror:0.49275\n",
      "[35]\tvalidation_0-mlogloss:1.1716\tvalidation_0-merror:0.442425\tvalidation_1-mlogloss:1.22881\tvalidation_1-merror:0.491875\n",
      "[36]\tvalidation_0-mlogloss:1.16761\tvalidation_0-merror:0.44175\tvalidation_1-mlogloss:1.22611\tvalidation_1-merror:0.492088\n",
      "[37]\tvalidation_0-mlogloss:1.16422\tvalidation_0-merror:0.441475\tvalidation_1-mlogloss:1.22361\tvalidation_1-merror:0.491812\n",
      "[38]\tvalidation_0-mlogloss:1.16078\tvalidation_0-merror:0.441213\tvalidation_1-mlogloss:1.22114\tvalidation_1-merror:0.491275\n",
      "[39]\tvalidation_0-mlogloss:1.15736\tvalidation_0-merror:0.4404\tvalidation_1-mlogloss:1.21871\tvalidation_1-merror:0.491462\n",
      "[40]\tvalidation_0-mlogloss:1.15444\tvalidation_0-merror:0.439512\tvalidation_1-mlogloss:1.21675\tvalidation_1-merror:0.49135\n",
      "[41]\tvalidation_0-mlogloss:1.15165\tvalidation_0-merror:0.43915\tvalidation_1-mlogloss:1.2149\tvalidation_1-merror:0.491575\n",
      "[42]\tvalidation_0-mlogloss:1.14887\tvalidation_0-merror:0.438587\tvalidation_1-mlogloss:1.21314\tvalidation_1-merror:0.491125\n",
      "[43]\tvalidation_0-mlogloss:1.14626\tvalidation_0-merror:0.437675\tvalidation_1-mlogloss:1.21139\tvalidation_1-merror:0.4911\n",
      "[44]\tvalidation_0-mlogloss:1.14382\tvalidation_0-merror:0.436325\tvalidation_1-mlogloss:1.20992\tvalidation_1-merror:0.490575\n",
      "[45]\tvalidation_0-mlogloss:1.14141\tvalidation_0-merror:0.43535\tvalidation_1-mlogloss:1.20862\tvalidation_1-merror:0.491025\n",
      "[46]\tvalidation_0-mlogloss:1.13908\tvalidation_0-merror:0.433863\tvalidation_1-mlogloss:1.20727\tvalidation_1-merror:0.490687\n",
      "[47]\tvalidation_0-mlogloss:1.13711\tvalidation_0-merror:0.432175\tvalidation_1-mlogloss:1.2062\tvalidation_1-merror:0.490925\n",
      "[48]\tvalidation_0-mlogloss:1.13467\tvalidation_0-merror:0.431175\tvalidation_1-mlogloss:1.20498\tvalidation_1-merror:0.490862\n",
      "[49]\tvalidation_0-mlogloss:1.13241\tvalidation_0-merror:0.430737\tvalidation_1-mlogloss:1.20371\tvalidation_1-merror:0.490537\n",
      "[50]\tvalidation_0-mlogloss:1.13006\tvalidation_0-merror:0.428962\tvalidation_1-mlogloss:1.20254\tvalidation_1-merror:0.489962\n",
      "[51]\tvalidation_0-mlogloss:1.12784\tvalidation_0-merror:0.42825\tvalidation_1-mlogloss:1.20135\tvalidation_1-merror:0.4898\n",
      "[52]\tvalidation_0-mlogloss:1.12589\tvalidation_0-merror:0.426825\tvalidation_1-mlogloss:1.20049\tvalidation_1-merror:0.490012\n",
      "[53]\tvalidation_0-mlogloss:1.12395\tvalidation_0-merror:0.42585\tvalidation_1-mlogloss:1.19952\tvalidation_1-merror:0.490263\n",
      "[54]\tvalidation_0-mlogloss:1.12207\tvalidation_0-merror:0.425425\tvalidation_1-mlogloss:1.19858\tvalidation_1-merror:0.49025\n",
      "[55]\tvalidation_0-mlogloss:1.12018\tvalidation_0-merror:0.424462\tvalidation_1-mlogloss:1.19776\tvalidation_1-merror:0.49005\n",
      "[56]\tvalidation_0-mlogloss:1.11831\tvalidation_0-merror:0.423113\tvalidation_1-mlogloss:1.19684\tvalidation_1-merror:0.489713\n",
      "[57]\tvalidation_0-mlogloss:1.11677\tvalidation_0-merror:0.421762\tvalidation_1-mlogloss:1.19623\tvalidation_1-merror:0.489863\n",
      "[58]\tvalidation_0-mlogloss:1.11469\tvalidation_0-merror:0.4207\tvalidation_1-mlogloss:1.19553\tvalidation_1-merror:0.48955\n",
      "[59]\tvalidation_0-mlogloss:1.11311\tvalidation_0-merror:0.420087\tvalidation_1-mlogloss:1.19488\tvalidation_1-merror:0.489437\n",
      "[60]\tvalidation_0-mlogloss:1.11132\tvalidation_0-merror:0.418375\tvalidation_1-mlogloss:1.19436\tvalidation_1-merror:0.488512\n",
      "[61]\tvalidation_0-mlogloss:1.10988\tvalidation_0-merror:0.417412\tvalidation_1-mlogloss:1.19379\tvalidation_1-merror:0.488475\n",
      "[62]\tvalidation_0-mlogloss:1.10836\tvalidation_0-merror:0.416663\tvalidation_1-mlogloss:1.19322\tvalidation_1-merror:0.488313\n",
      "[63]\tvalidation_0-mlogloss:1.10674\tvalidation_0-merror:0.415237\tvalidation_1-mlogloss:1.19279\tvalidation_1-merror:0.48875\n",
      "[64]\tvalidation_0-mlogloss:1.10518\tvalidation_0-merror:0.4143\tvalidation_1-mlogloss:1.19229\tvalidation_1-merror:0.4886\n",
      "[65]\tvalidation_0-mlogloss:1.10342\tvalidation_0-merror:0.41335\tvalidation_1-mlogloss:1.19182\tvalidation_1-merror:0.489038\n",
      "[66]\tvalidation_0-mlogloss:1.10182\tvalidation_0-merror:0.411887\tvalidation_1-mlogloss:1.19143\tvalidation_1-merror:0.489388\n",
      "[67]\tvalidation_0-mlogloss:1.10028\tvalidation_0-merror:0.410925\tvalidation_1-mlogloss:1.19103\tvalidation_1-merror:0.489025\n"
     ]
    },
    {
     "name": "stdout",
     "output_type": "stream",
     "text": [
      "[68]\tvalidation_0-mlogloss:1.09912\tvalidation_0-merror:0.410363\tvalidation_1-mlogloss:1.1907\tvalidation_1-merror:0.488687\n",
      "[69]\tvalidation_0-mlogloss:1.09788\tvalidation_0-merror:0.409362\tvalidation_1-mlogloss:1.19039\tvalidation_1-merror:0.488663\n",
      "[70]\tvalidation_0-mlogloss:1.09665\tvalidation_0-merror:0.409038\tvalidation_1-mlogloss:1.18992\tvalidation_1-merror:0.488613\n",
      "[71]\tvalidation_0-mlogloss:1.09513\tvalidation_0-merror:0.408237\tvalidation_1-mlogloss:1.18957\tvalidation_1-merror:0.488963\n",
      "[72]\tvalidation_0-mlogloss:1.09371\tvalidation_0-merror:0.407063\tvalidation_1-mlogloss:1.18925\tvalidation_1-merror:0.4891\n",
      "[73]\tvalidation_0-mlogloss:1.09244\tvalidation_0-merror:0.406\tvalidation_1-mlogloss:1.18897\tvalidation_1-merror:0.489062\n",
      "[74]\tvalidation_0-mlogloss:1.09063\tvalidation_0-merror:0.403488\tvalidation_1-mlogloss:1.18876\tvalidation_1-merror:0.489013\n",
      "[75]\tvalidation_0-mlogloss:1.0894\tvalidation_0-merror:0.402487\tvalidation_1-mlogloss:1.18851\tvalidation_1-merror:0.488525\n",
      "[76]\tvalidation_0-mlogloss:1.08797\tvalidation_0-merror:0.400862\tvalidation_1-mlogloss:1.18833\tvalidation_1-merror:0.488825\n",
      "[77]\tvalidation_0-mlogloss:1.08689\tvalidation_0-merror:0.399763\tvalidation_1-mlogloss:1.18818\tvalidation_1-merror:0.4889\n",
      "[78]\tvalidation_0-mlogloss:1.08543\tvalidation_0-merror:0.3981\tvalidation_1-mlogloss:1.18798\tvalidation_1-merror:0.489138\n",
      "[79]\tvalidation_0-mlogloss:1.08444\tvalidation_0-merror:0.3973\tvalidation_1-mlogloss:1.18777\tvalidation_1-merror:0.489312\n",
      "[80]\tvalidation_0-mlogloss:1.08301\tvalidation_0-merror:0.39575\tvalidation_1-mlogloss:1.18749\tvalidation_1-merror:0.4891\n",
      "[81]\tvalidation_0-mlogloss:1.08193\tvalidation_0-merror:0.394937\tvalidation_1-mlogloss:1.18725\tvalidation_1-merror:0.489062\n",
      "[82]\tvalidation_0-mlogloss:1.08092\tvalidation_0-merror:0.394662\tvalidation_1-mlogloss:1.18715\tvalidation_1-merror:0.488975\n",
      "[83]\tvalidation_0-mlogloss:1.07949\tvalidation_0-merror:0.392612\tvalidation_1-mlogloss:1.18699\tvalidation_1-merror:0.489563\n",
      "[84]\tvalidation_0-mlogloss:1.07814\tvalidation_0-merror:0.39125\tvalidation_1-mlogloss:1.18672\tvalidation_1-merror:0.489163\n",
      "[85]\tvalidation_0-mlogloss:1.07705\tvalidation_0-merror:0.390588\tvalidation_1-mlogloss:1.18658\tvalidation_1-merror:0.489175\n",
      "[86]\tvalidation_0-mlogloss:1.07614\tvalidation_0-merror:0.38955\tvalidation_1-mlogloss:1.18651\tvalidation_1-merror:0.489375\n",
      "[87]\tvalidation_0-mlogloss:1.07517\tvalidation_0-merror:0.388675\tvalidation_1-mlogloss:1.18643\tvalidation_1-merror:0.489475\n",
      "[88]\tvalidation_0-mlogloss:1.07395\tvalidation_0-merror:0.388088\tvalidation_1-mlogloss:1.18627\tvalidation_1-merror:0.48945\n",
      "[89]\tvalidation_0-mlogloss:1.07269\tvalidation_0-merror:0.387575\tvalidation_1-mlogloss:1.18616\tvalidation_1-merror:0.489275\n",
      "[90]\tvalidation_0-mlogloss:1.07143\tvalidation_0-merror:0.38625\tvalidation_1-mlogloss:1.18599\tvalidation_1-merror:0.48915\n",
      "[91]\tvalidation_0-mlogloss:1.07021\tvalidation_0-merror:0.384887\tvalidation_1-mlogloss:1.18589\tvalidation_1-merror:0.489225\n",
      "[92]\tvalidation_0-mlogloss:1.06905\tvalidation_0-merror:0.38335\tvalidation_1-mlogloss:1.18577\tvalidation_1-merror:0.4893\n",
      "[93]\tvalidation_0-mlogloss:1.0677\tvalidation_0-merror:0.381425\tvalidation_1-mlogloss:1.1856\tvalidation_1-merror:0.489013\n",
      "[94]\tvalidation_0-mlogloss:1.06641\tvalidation_0-merror:0.380313\tvalidation_1-mlogloss:1.18556\tvalidation_1-merror:0.488975\n",
      "[95]\tvalidation_0-mlogloss:1.06513\tvalidation_0-merror:0.378888\tvalidation_1-mlogloss:1.1854\tvalidation_1-merror:0.4887\n",
      "[96]\tvalidation_0-mlogloss:1.06402\tvalidation_0-merror:0.377212\tvalidation_1-mlogloss:1.18541\tvalidation_1-merror:0.489038\n",
      "[97]\tvalidation_0-mlogloss:1.06204\tvalidation_0-merror:0.374512\tvalidation_1-mlogloss:1.18523\tvalidation_1-merror:0.488788\n",
      "[98]\tvalidation_0-mlogloss:1.06113\tvalidation_0-merror:0.373937\tvalidation_1-mlogloss:1.18524\tvalidation_1-merror:0.488712\n",
      "[99]\tvalidation_0-mlogloss:1.05985\tvalidation_0-merror:0.372613\tvalidation_1-mlogloss:1.18519\tvalidation_1-merror:0.48895\n",
      "Fitting model to data took 2.981314512093862 minutes\n"
     ]
    }
   ],
   "source": [
    "eval_set = [(X_32train_new, y_32_train), (X_test1, y_test1)]\n",
    "start = time()\n",
    "xgbclassifier_model.fit(X_32train_new, y_32_train, eval_metric = ['mlogloss','merror'], \n",
    "                        eval_set = eval_set) #fit model to data\n",
    "print(\"Fitting model to data took {} minutes\".format((time() - start)/60))"
   ]
  },
  {
   "cell_type": "code",
   "execution_count": 49,
   "metadata": {},
   "outputs": [
    {
     "data": {
      "image/png": "[encoded data removed]",
      "text/plain": [
       "<matplotlib.figure.Figure at 0x1c3345c9550>"
      ]
     },
     "metadata": {},
     "output_type": "display_data"
    },
    {
     "data": {
      "image/png": "[encoded data removed]",
      "text/plain": [
       "<matplotlib.figure.Figure at 0x1c33a23c160>"
      ]
     },
     "metadata": {},
     "output_type": "display_data"
    }
   ],
   "source": [
    "%matplotlib inline\n",
    "\n",
    "results_xgbclassifier = xgbclassifier_model.evals_result()\n",
    "epochs = len(results_xgbclassifier['validation_0']['merror'])\n",
    "x_axis = range(0, epochs)\n",
    "\n",
    "# plot log loss\n",
    "fig, ax = plt.subplots()\n",
    "ax.plot(x_axis, results_xgbclassifier['validation_0']['mlogloss'], label='Train')\n",
    "ax.plot(x_axis, results_xgbclassifier['validation_1']['mlogloss'], label='Test')\n",
    "ax.legend()\n",
    "plt.ylabel('Log Loss')\n",
    "plt.title('XGBoost Log Loss')\n",
    "plt.show()\n",
    "\n",
    "# plot classification error\n",
    "fig, ax = plt.subplots()\n",
    "ax.plot(x_axis, results_xgbclassifier['validation_0']['merror'], label='Train')\n",
    "ax.plot(x_axis, results_xgbclassifier['validation_1']['merror'], label='Test')\n",
    "ax.legend()\n",
    "plt.ylabel('Classification Error')\n",
    "plt.title('XGBoost Classification Error')\n",
    "plt.show()"
   ]
  },
  {
   "cell_type": "code",
   "execution_count": 51,
   "metadata": {},
   "outputs": [
    {
     "name": "stdout",
     "output_type": "stream",
     "text": [
      "Test accuracy at  -20 dB = 0.12275\n",
      "Test accuracy at  -18 dB = 0.119\n",
      "Test accuracy at  -16 dB = 0.12275\n",
      "Test accuracy at  -14 dB = 0.12375\n",
      "Test accuracy at  -12 dB = 0.15075\n",
      "Test accuracy at  -10 dB = 0.1745\n",
      "Test accuracy at  -8 dB = 0.278\n",
      "Test accuracy at  -6 dB = 0.3545\n",
      "Test accuracy at  -4 dB = 0.40225\n",
      "Test accuracy at  -2 dB = 0.474\n",
      "Test accuracy at  0 dB = 0.58575\n",
      "Test accuracy at  2 dB = 0.7\n",
      "Test accuracy at  4 dB = 0.8275\n",
      "Test accuracy at  6 dB = 0.85275\n",
      "Test accuracy at  8 dB = 0.8555\n",
      "Test accuracy at  10 dB = 0.85975\n",
      "Test accuracy at  12 dB = 0.8585\n",
      "Test accuracy at  14 dB = 0.86175\n",
      "Test accuracy at  16 dB = 0.85775\n",
      "Test accuracy at  18 dB = 0.86525\n"
     ]
    }
   ],
   "source": [
    "from sklearn.metrics import accuracy_score\n",
    "\n",
    "predictions = defaultdict(list)\n",
    "accuracy = defaultdict(list)\n",
    "y_pred = defaultdict(list)\n",
    "\n",
    "for snr in snrs:\n",
    "    y_pred[snr] = xgbclassifier_model.predict(X_32test_new[snr])\n",
    "    predictions[snr] = [round(value) for value in y_pred[snr]]\n",
    "    accuracy[snr] = accuracy_score(y_32_test[snr], predictions[snr])\n",
    "    print (\"Test accuracy at \",snr,\"dB =\", accuracy[snr])"
   ]
  },
  {
   "cell_type": "code",
   "execution_count": 52,
   "metadata": {},
   "outputs": [
    {
     "data": {
      "image/png": "[encoded data removed]",
      "text/plain": [
       "<matplotlib.figure.Figure at 0x1c32d0f48d0>"
      ]
     },
     "metadata": {},
     "output_type": "display_data"
    }
   ],
   "source": [
    "plt.style.use('classic')\n",
    "acc_test = sorted(accuracy.items())\n",
    "new_acc = []\n",
    "for i in range(len(acc_test)):\n",
    "    new_acc.append(acc_test[i][1])\n",
    "acc_test_values = new_acc \n",
    "\n",
    "fig1 = plt.figure(figsize=(8,4), dpi=100)\n",
    "x = snrs\n",
    "y = list(acc_test_values)\n",
    "plt.plot(x, y, marker=\"o\", linewidth=2.0, linestyle='dashed', color='royalblue')\n",
    "plt.axis([-20, 20, 0, 1])\n",
    "plt.xticks(np.arange(min(x), max(x)+1, 2.0))\n",
    "plt.yticks(np.arange(0, 1, 0.10))\n",
    "\n",
    "ttl = plt.title('SNR vs Accuracy', fontsize=16)\n",
    "ttl.set_weight('bold')\n",
    "plt.xlabel('SNR (dB)', fontsize=14)\n",
    "plt.ylabel('Test accuracy', fontsize=14)\n",
    "plt.grid()\n",
    "\n",
    "plt.show()"
   ]
  },
  {
   "cell_type": "code",
   "execution_count": 54,
   "metadata": {},
   "outputs": [
    {
     "name": "stdout",
     "output_type": "stream",
     "text": [
      "Confusion Matrix\n",
      "       8PSK  BPSK  CPFSK  GFSK  PAM4  QAM16  QAM64  QPSK\n",
      "8PSK   0.89  0.00   0.00  0.00  0.00   0.05   0.05  0.01\n",
      "BPSK   0.00  0.99   0.00  0.00  0.00   0.00   0.00  0.00\n",
      "CPFSK  0.00  0.00   0.98  0.00  0.00   0.01   0.01  0.00\n",
      "GFSK   0.01  0.00   0.00  0.98  0.00   0.00   0.01  0.00\n",
      "PAM4   0.00  0.02   0.00  0.00  0.97   0.01   0.00  0.00\n",
      "QAM16  0.01  0.00   0.00  0.00  0.00   0.56   0.43  0.00\n",
      "QAM64  0.01  0.00   0.00  0.00  0.00   0.42   0.57  0.00\n",
      "QPSK   0.02  0.00   0.00  0.00  0.00   0.04   0.01  0.92\n"
     ]
    },
    {
     "data": {
      "image/png": "[encoded data removed]",
      "text/plain": [
       "<matplotlib.figure.Figure at 0x1c33de34ef0>"
      ]
     },
     "metadata": {},
     "output_type": "display_data"
    }
   ],
   "source": [
    "# Confusion Matrix\n",
    "    \n",
    "from sklearn.metrics import confusion_matrix\n",
    "\n",
    "classes = ['8PSK', 'BPSK', 'CPFSK', 'GFSK', 'PAM4', 'QAM16', 'QAM64', 'QPSK']\n",
    "conf_matrix = confusion_matrix(y_pred[18], y_32_test[18])  \n",
    "\n",
    "conf_matrix = conf_matrix.astype('float') / conf_matrix.sum(axis=1)[:, np.newaxis]\n",
    "conf_matrix = conf_matrix.round(decimals = 2)\n",
    "\n",
    "import pandas as pd\n",
    "\n",
    "df = pd.DataFrame(data = conf_matrix, columns = classes, index = classes) \n",
    "print(\"Confusion Matrix\")\n",
    "print(df)\n",
    "\n",
    "fig1 = plt.figure(figsize=(8,4), dpi=100)\n",
    "plt.imshow(conf_matrix, interpolation = 'nearest', cmap = plt.cm.Purples)\n",
    "ticks = np.arange(len(classes))\n",
    "plt.title(\"Confusion Matrix\")\n",
    "plt.xticks(ticks, classes, rotation=45)\n",
    "plt.yticks(ticks, classes)\n",
    "\n",
    "plt.ylabel('True class')\n",
    "plt.xlabel('Predicted class')\n",
    "\n",
    "plt.tight_layout()\n",
    "plt.colorbar()\n",
    "plt.show()"
   ]
  },
  {
   "cell_type": "markdown",
   "metadata": {},
   "source": [
    "### num_boost_round = 300; n_estimators = 300"
   ]
  },
  {
   "cell_type": "code",
   "execution_count": 55,
   "metadata": {},
   "outputs": [
    {
     "name": "stdout",
     "output_type": "stream",
     "text": [
      "[0]\tvalidation_0-mlogloss:1.92755\tvalidation_0-merror:0.462388\tvalidation_1-mlogloss:1.93455\tvalidation_1-merror:0.502\n",
      "[1]\tvalidation_0-mlogloss:1.81628\tvalidation_0-merror:0.437212\tvalidation_1-mlogloss:1.83036\tvalidation_1-merror:0.49475\n",
      "[2]\tvalidation_0-mlogloss:1.73125\tvalidation_0-merror:0.42695\tvalidation_1-mlogloss:1.75192\tvalidation_1-merror:0.492038\n",
      "[3]\tvalidation_0-mlogloss:1.65796\tvalidation_0-merror:0.416537\tvalidation_1-mlogloss:1.68513\tvalidation_1-merror:0.49\n",
      "[4]\tvalidation_0-mlogloss:1.59742\tvalidation_0-merror:0.4087\tvalidation_1-mlogloss:1.6311\tvalidation_1-merror:0.488463\n",
      "[5]\tvalidation_0-mlogloss:1.54234\tvalidation_0-merror:0.401038\tvalidation_1-mlogloss:1.58221\tvalidation_1-merror:0.488512\n",
      "[6]\tvalidation_0-mlogloss:1.49356\tvalidation_0-merror:0.394675\tvalidation_1-mlogloss:1.53902\tvalidation_1-merror:0.487775\n",
      "[7]\tvalidation_0-mlogloss:1.45166\tvalidation_0-merror:0.390763\tvalidation_1-mlogloss:1.5023\tvalidation_1-merror:0.486688\n",
      "[8]\tvalidation_0-mlogloss:1.41387\tvalidation_0-merror:0.387087\tvalidation_1-mlogloss:1.46948\tvalidation_1-merror:0.485525\n",
      "[9]\tvalidation_0-mlogloss:1.3803\tvalidation_0-merror:0.383738\tvalidation_1-mlogloss:1.44108\tvalidation_1-merror:0.485537\n",
      "[10]\tvalidation_0-mlogloss:1.34935\tvalidation_0-merror:0.379137\tvalidation_1-mlogloss:1.41492\tvalidation_1-merror:0.485275\n",
      "[11]\tvalidation_0-mlogloss:1.32144\tvalidation_0-merror:0.376588\tvalidation_1-mlogloss:1.39164\tvalidation_1-merror:0.484787\n",
      "[12]\tvalidation_0-mlogloss:1.29497\tvalidation_0-merror:0.371563\tvalidation_1-mlogloss:1.37049\tvalidation_1-merror:0.483525\n",
      "[13]\tvalidation_0-mlogloss:1.27129\tvalidation_0-merror:0.368638\tvalidation_1-mlogloss:1.3514\tvalidation_1-merror:0.48345\n",
      "[14]\tvalidation_0-mlogloss:1.24947\tvalidation_0-merror:0.364763\tvalidation_1-mlogloss:1.33387\tvalidation_1-merror:0.482287\n",
      "[15]\tvalidation_0-mlogloss:1.22945\tvalidation_0-merror:0.361463\tvalidation_1-mlogloss:1.31827\tvalidation_1-merror:0.482363\n",
      "[16]\tvalidation_0-mlogloss:1.21045\tvalidation_0-merror:0.357837\tvalidation_1-mlogloss:1.30389\tvalidation_1-merror:0.482112\n",
      "[17]\tvalidation_0-mlogloss:1.19347\tvalidation_0-merror:0.354275\tvalidation_1-mlogloss:1.29122\tvalidation_1-merror:0.482025\n",
      "[18]\tvalidation_0-mlogloss:1.17767\tvalidation_0-merror:0.351912\tvalidation_1-mlogloss:1.27961\tvalidation_1-merror:0.48195\n",
      "[19]\tvalidation_0-mlogloss:1.16276\tvalidation_0-merror:0.348538\tvalidation_1-mlogloss:1.26891\tvalidation_1-merror:0.481313\n",
      "[20]\tvalidation_0-mlogloss:1.14904\tvalidation_0-merror:0.344875\tvalidation_1-mlogloss:1.25901\tvalidation_1-merror:0.481313\n",
      "[21]\tvalidation_0-mlogloss:1.13658\tvalidation_0-merror:0.342337\tvalidation_1-mlogloss:1.25021\tvalidation_1-merror:0.480888\n",
      "[22]\tvalidation_0-mlogloss:1.12466\tvalidation_0-merror:0.338962\tvalidation_1-mlogloss:1.24213\tvalidation_1-merror:0.479975\n",
      "[23]\tvalidation_0-mlogloss:1.11364\tvalidation_0-merror:0.336287\tvalidation_1-mlogloss:1.23463\tvalidation_1-merror:0.479638\n",
      "[24]\tvalidation_0-mlogloss:1.10365\tvalidation_0-merror:0.333975\tvalidation_1-mlogloss:1.22778\tvalidation_1-merror:0.480225\n",
      "[25]\tvalidation_0-mlogloss:1.09374\tvalidation_0-merror:0.3307\tvalidation_1-mlogloss:1.22177\tvalidation_1-merror:0.479725\n",
      "[26]\tvalidation_0-mlogloss:1.08488\tvalidation_0-merror:0.328687\tvalidation_1-mlogloss:1.21621\tvalidation_1-merror:0.480238\n",
      "[27]\tvalidation_0-mlogloss:1.07592\tvalidation_0-merror:0.325625\tvalidation_1-mlogloss:1.21107\tvalidation_1-merror:0.479875\n",
      "[28]\tvalidation_0-mlogloss:1.06768\tvalidation_0-merror:0.323388\tvalidation_1-mlogloss:1.20637\tvalidation_1-merror:0.47955\n",
      "[29]\tvalidation_0-mlogloss:1.06026\tvalidation_0-merror:0.321537\tvalidation_1-mlogloss:1.20197\tvalidation_1-merror:0.479212\n",
      "[30]\tvalidation_0-mlogloss:1.05309\tvalidation_0-merror:0.319012\tvalidation_1-mlogloss:1.19775\tvalidation_1-merror:0.478487\n",
      "[31]\tvalidation_0-mlogloss:1.04565\tvalidation_0-merror:0.3156\tvalidation_1-mlogloss:1.19373\tvalidation_1-merror:0.478137\n",
      "[32]\tvalidation_0-mlogloss:1.03943\tvalidation_0-merror:0.313738\tvalidation_1-mlogloss:1.19025\tvalidation_1-merror:0.478013\n",
      "[33]\tvalidation_0-mlogloss:1.03307\tvalidation_0-merror:0.3108\tvalidation_1-mlogloss:1.18712\tvalidation_1-merror:0.477538\n",
      "[34]\tvalidation_0-mlogloss:1.02753\tvalidation_0-merror:0.309125\tvalidation_1-mlogloss:1.18412\tvalidation_1-merror:0.477625\n",
      "[35]\tvalidation_0-mlogloss:1.02178\tvalidation_0-merror:0.306637\tvalidation_1-mlogloss:1.18144\tvalidation_1-merror:0.477025\n",
      "[36]\tvalidation_0-mlogloss:1.0165\tvalidation_0-merror:0.305438\tvalidation_1-mlogloss:1.17884\tvalidation_1-merror:0.476963\n",
      "[37]\tvalidation_0-mlogloss:1.01197\tvalidation_0-merror:0.303863\tvalidation_1-mlogloss:1.1766\tvalidation_1-merror:0.477387\n",
      "[38]\tvalidation_0-mlogloss:1.00726\tvalidation_0-merror:0.301688\tvalidation_1-mlogloss:1.17435\tvalidation_1-merror:0.477812\n",
      "[39]\tvalidation_0-mlogloss:1.00198\tvalidation_0-merror:0.298875\tvalidation_1-mlogloss:1.17234\tvalidation_1-merror:0.4779\n",
      "[40]\tvalidation_0-mlogloss:0.997561\tvalidation_0-merror:0.296762\tvalidation_1-mlogloss:1.17037\tvalidation_1-merror:0.478\n",
      "[41]\tvalidation_0-mlogloss:0.99324\tvalidation_0-merror:0.295312\tvalidation_1-mlogloss:1.16868\tvalidation_1-merror:0.477525\n",
      "[42]\tvalidation_0-mlogloss:0.988746\tvalidation_0-merror:0.2938\tvalidation_1-mlogloss:1.16709\tvalidation_1-merror:0.4775\n",
      "[43]\tvalidation_0-mlogloss:0.983837\tvalidation_0-merror:0.290713\tvalidation_1-mlogloss:1.16555\tvalidation_1-merror:0.477163\n",
      "[44]\tvalidation_0-mlogloss:0.979391\tvalidation_0-merror:0.2877\tvalidation_1-mlogloss:1.16409\tvalidation_1-merror:0.477262\n",
      "[45]\tvalidation_0-mlogloss:0.975677\tvalidation_0-merror:0.286162\tvalidation_1-mlogloss:1.16283\tvalidation_1-merror:0.476525\n",
      "[46]\tvalidation_0-mlogloss:0.971799\tvalidation_0-merror:0.283688\tvalidation_1-mlogloss:1.1616\tvalidation_1-merror:0.477075\n",
      "[47]\tvalidation_0-mlogloss:0.967956\tvalidation_0-merror:0.281938\tvalidation_1-mlogloss:1.16037\tvalidation_1-merror:0.477412\n",
      "[48]\tvalidation_0-mlogloss:0.963925\tvalidation_0-merror:0.280237\tvalidation_1-mlogloss:1.15913\tvalidation_1-merror:0.476938\n",
      "[49]\tvalidation_0-mlogloss:0.960249\tvalidation_0-merror:0.277425\tvalidation_1-mlogloss:1.15819\tvalidation_1-merror:0.4768\n",
      "[50]\tvalidation_0-mlogloss:0.95663\tvalidation_0-merror:0.27445\tvalidation_1-mlogloss:1.15724\tvalidation_1-merror:0.4766\n",
      "[51]\tvalidation_0-mlogloss:0.952625\tvalidation_0-merror:0.271975\tvalidation_1-mlogloss:1.15642\tvalidation_1-merror:0.476463\n",
      "[52]\tvalidation_0-mlogloss:0.9485\tvalidation_0-merror:0.268712\tvalidation_1-mlogloss:1.15562\tvalidation_1-merror:0.476225\n",
      "[53]\tvalidation_0-mlogloss:0.945183\tvalidation_0-merror:0.2666\tvalidation_1-mlogloss:1.15487\tvalidation_1-merror:0.475738\n",
      "[54]\tvalidation_0-mlogloss:0.940971\tvalidation_0-merror:0.2631\tvalidation_1-mlogloss:1.15423\tvalidation_1-merror:0.476362\n",
      "[55]\tvalidation_0-mlogloss:0.937565\tvalidation_0-merror:0.259725\tvalidation_1-mlogloss:1.15359\tvalidation_1-merror:0.47605\n",
      "[56]\tvalidation_0-mlogloss:0.933772\tvalidation_0-merror:0.256575\tvalidation_1-mlogloss:1.15303\tvalidation_1-merror:0.475875\n",
      "[57]\tvalidation_0-mlogloss:0.929928\tvalidation_0-merror:0.252887\tvalidation_1-mlogloss:1.15238\tvalidation_1-merror:0.47605\n",
      "[58]\tvalidation_0-mlogloss:0.926806\tvalidation_0-merror:0.250925\tvalidation_1-mlogloss:1.15168\tvalidation_1-merror:0.476012\n",
      "[59]\tvalidation_0-mlogloss:0.923212\tvalidation_0-merror:0.24825\tvalidation_1-mlogloss:1.15136\tvalidation_1-merror:0.476263\n",
      "[60]\tvalidation_0-mlogloss:0.920103\tvalidation_0-merror:0.246137\tvalidation_1-mlogloss:1.15078\tvalidation_1-merror:0.476563\n",
      "[61]\tvalidation_0-mlogloss:0.916963\tvalidation_0-merror:0.243175\tvalidation_1-mlogloss:1.1505\tvalidation_1-merror:0.47645\n",
      "[62]\tvalidation_0-mlogloss:0.913436\tvalidation_0-merror:0.239912\tvalidation_1-mlogloss:1.15009\tvalidation_1-merror:0.476512\n",
      "[63]\tvalidation_0-mlogloss:0.909385\tvalidation_0-merror:0.236363\tvalidation_1-mlogloss:1.14981\tvalidation_1-merror:0.476575\n",
      "[64]\tvalidation_0-mlogloss:0.905926\tvalidation_0-merror:0.233663\tvalidation_1-mlogloss:1.1496\tvalidation_1-merror:0.476613\n",
      "[65]\tvalidation_0-mlogloss:0.902476\tvalidation_0-merror:0.230762\tvalidation_1-mlogloss:1.14923\tvalidation_1-merror:0.475863\n",
      "[66]\tvalidation_0-mlogloss:0.898442\tvalidation_0-merror:0.227375\tvalidation_1-mlogloss:1.14903\tvalidation_1-merror:0.476288\n"
     ]
    },
    {
     "name": "stdout",
     "output_type": "stream",
     "text": [
      "[67]\tvalidation_0-mlogloss:0.896033\tvalidation_0-merror:0.225725\tvalidation_1-mlogloss:1.14871\tvalidation_1-merror:0.476537\n",
      "[68]\tvalidation_0-mlogloss:0.893301\tvalidation_0-merror:0.223275\tvalidation_1-mlogloss:1.14855\tvalidation_1-merror:0.476763\n",
      "[69]\tvalidation_0-mlogloss:0.890074\tvalidation_0-merror:0.219763\tvalidation_1-mlogloss:1.14826\tvalidation_1-merror:0.476938\n",
      "[70]\tvalidation_0-mlogloss:0.886514\tvalidation_0-merror:0.217287\tvalidation_1-mlogloss:1.14816\tvalidation_1-merror:0.476662\n",
      "[71]\tvalidation_0-mlogloss:0.88333\tvalidation_0-merror:0.215163\tvalidation_1-mlogloss:1.148\tvalidation_1-merror:0.476175\n",
      "[72]\tvalidation_0-mlogloss:0.880487\tvalidation_0-merror:0.213388\tvalidation_1-mlogloss:1.14796\tvalidation_1-merror:0.476413\n",
      "[73]\tvalidation_0-mlogloss:0.877143\tvalidation_0-merror:0.21075\tvalidation_1-mlogloss:1.14763\tvalidation_1-merror:0.476413\n",
      "[74]\tvalidation_0-mlogloss:0.874471\tvalidation_0-merror:0.20895\tvalidation_1-mlogloss:1.14762\tvalidation_1-merror:0.476162\n",
      "[75]\tvalidation_0-mlogloss:0.872136\tvalidation_0-merror:0.207563\tvalidation_1-mlogloss:1.14748\tvalidation_1-merror:0.4757\n",
      "[76]\tvalidation_0-mlogloss:0.868049\tvalidation_0-merror:0.203325\tvalidation_1-mlogloss:1.14744\tvalidation_1-merror:0.475738\n",
      "[77]\tvalidation_0-mlogloss:0.864884\tvalidation_0-merror:0.200762\tvalidation_1-mlogloss:1.14722\tvalidation_1-merror:0.4761\n",
      "[78]\tvalidation_0-mlogloss:0.861733\tvalidation_0-merror:0.197125\tvalidation_1-mlogloss:1.14715\tvalidation_1-merror:0.476038\n",
      "[79]\tvalidation_0-mlogloss:0.858143\tvalidation_0-merror:0.194238\tvalidation_1-mlogloss:1.14705\tvalidation_1-merror:0.476\n",
      "[80]\tvalidation_0-mlogloss:0.855716\tvalidation_0-merror:0.192425\tvalidation_1-mlogloss:1.14694\tvalidation_1-merror:0.476113\n",
      "[81]\tvalidation_0-mlogloss:0.852658\tvalidation_0-merror:0.1903\tvalidation_1-mlogloss:1.147\tvalidation_1-merror:0.475987\n",
      "[82]\tvalidation_0-mlogloss:0.848286\tvalidation_0-merror:0.186625\tvalidation_1-mlogloss:1.14692\tvalidation_1-merror:0.4764\n",
      "[83]\tvalidation_0-mlogloss:0.84553\tvalidation_0-merror:0.184225\tvalidation_1-mlogloss:1.14681\tvalidation_1-merror:0.476675\n",
      "[84]\tvalidation_0-mlogloss:0.841799\tvalidation_0-merror:0.181725\tvalidation_1-mlogloss:1.1468\tvalidation_1-merror:0.476737\n",
      "[85]\tvalidation_0-mlogloss:0.838466\tvalidation_0-merror:0.178837\tvalidation_1-mlogloss:1.14686\tvalidation_1-merror:0.476912\n",
      "[86]\tvalidation_0-mlogloss:0.835604\tvalidation_0-merror:0.1771\tvalidation_1-mlogloss:1.14687\tvalidation_1-merror:0.4772\n",
      "[87]\tvalidation_0-mlogloss:0.832449\tvalidation_0-merror:0.17465\tvalidation_1-mlogloss:1.14675\tvalidation_1-merror:0.477175\n",
      "[88]\tvalidation_0-mlogloss:0.829538\tvalidation_0-merror:0.172212\tvalidation_1-mlogloss:1.14673\tvalidation_1-merror:0.477138\n",
      "[89]\tvalidation_0-mlogloss:0.826353\tvalidation_0-merror:0.169325\tvalidation_1-mlogloss:1.14679\tvalidation_1-merror:0.476887\n",
      "[90]\tvalidation_0-mlogloss:0.823192\tvalidation_0-merror:0.166725\tvalidation_1-mlogloss:1.1467\tvalidation_1-merror:0.477025\n",
      "[91]\tvalidation_0-mlogloss:0.819842\tvalidation_0-merror:0.164463\tvalidation_1-mlogloss:1.14671\tvalidation_1-merror:0.476662\n",
      "[92]\tvalidation_0-mlogloss:0.81587\tvalidation_0-merror:0.161313\tvalidation_1-mlogloss:1.1468\tvalidation_1-merror:0.4771\n",
      "[93]\tvalidation_0-mlogloss:0.812619\tvalidation_0-merror:0.158662\tvalidation_1-mlogloss:1.14683\tvalidation_1-merror:0.477175\n",
      "[94]\tvalidation_0-mlogloss:0.809239\tvalidation_0-merror:0.15575\tvalidation_1-mlogloss:1.14692\tvalidation_1-merror:0.476975\n",
      "[95]\tvalidation_0-mlogloss:0.806011\tvalidation_0-merror:0.153362\tvalidation_1-mlogloss:1.14695\tvalidation_1-merror:0.47755\n",
      "[96]\tvalidation_0-mlogloss:0.803009\tvalidation_0-merror:0.151087\tvalidation_1-mlogloss:1.14702\tvalidation_1-merror:0.477587\n",
      "[97]\tvalidation_0-mlogloss:0.800075\tvalidation_0-merror:0.148825\tvalidation_1-mlogloss:1.14697\tvalidation_1-merror:0.477463\n",
      "[98]\tvalidation_0-mlogloss:0.796837\tvalidation_0-merror:0.1461\tvalidation_1-mlogloss:1.14692\tvalidation_1-merror:0.477338\n",
      "[99]\tvalidation_0-mlogloss:0.793689\tvalidation_0-merror:0.1443\tvalidation_1-mlogloss:1.14701\tvalidation_1-merror:0.477663\n",
      "[100]\tvalidation_0-mlogloss:0.790098\tvalidation_0-merror:0.141937\tvalidation_1-mlogloss:1.14709\tvalidation_1-merror:0.477737\n",
      "[101]\tvalidation_0-mlogloss:0.786312\tvalidation_0-merror:0.138588\tvalidation_1-mlogloss:1.14713\tvalidation_1-merror:0.477475\n",
      "[102]\tvalidation_0-mlogloss:0.78353\tvalidation_0-merror:0.136912\tvalidation_1-mlogloss:1.14702\tvalidation_1-merror:0.477475\n",
      "[103]\tvalidation_0-mlogloss:0.780953\tvalidation_0-merror:0.13525\tvalidation_1-mlogloss:1.14702\tvalidation_1-merror:0.477375\n",
      "[104]\tvalidation_0-mlogloss:0.778017\tvalidation_0-merror:0.133088\tvalidation_1-mlogloss:1.14715\tvalidation_1-merror:0.47725\n",
      "[105]\tvalidation_0-mlogloss:0.774317\tvalidation_0-merror:0.129688\tvalidation_1-mlogloss:1.14728\tvalidation_1-merror:0.476788\n",
      "[106]\tvalidation_0-mlogloss:0.769927\tvalidation_0-merror:0.126587\tvalidation_1-mlogloss:1.14737\tvalidation_1-merror:0.4769\n",
      "[107]\tvalidation_0-mlogloss:0.765937\tvalidation_0-merror:0.123525\tvalidation_1-mlogloss:1.14764\tvalidation_1-merror:0.476763\n",
      "[108]\tvalidation_0-mlogloss:0.761173\tvalidation_0-merror:0.120213\tvalidation_1-mlogloss:1.14787\tvalidation_1-merror:0.476887\n",
      "[109]\tvalidation_0-mlogloss:0.758071\tvalidation_0-merror:0.117913\tvalidation_1-mlogloss:1.14793\tvalidation_1-merror:0.477062\n",
      "[110]\tvalidation_0-mlogloss:0.754615\tvalidation_0-merror:0.115787\tvalidation_1-mlogloss:1.14805\tvalidation_1-merror:0.476875\n",
      "[111]\tvalidation_0-mlogloss:0.751847\tvalidation_0-merror:0.114013\tvalidation_1-mlogloss:1.14813\tvalidation_1-merror:0.476537\n",
      "[112]\tvalidation_0-mlogloss:0.748128\tvalidation_0-merror:0.111437\tvalidation_1-mlogloss:1.14815\tvalidation_1-merror:0.476475\n",
      "[113]\tvalidation_0-mlogloss:0.745967\tvalidation_0-merror:0.11025\tvalidation_1-mlogloss:1.14819\tvalidation_1-merror:0.476788\n",
      "[114]\tvalidation_0-mlogloss:0.742728\tvalidation_0-merror:0.1078\tvalidation_1-mlogloss:1.14833\tvalidation_1-merror:0.476687\n",
      "[115]\tvalidation_0-mlogloss:0.739873\tvalidation_0-merror:0.106788\tvalidation_1-mlogloss:1.14834\tvalidation_1-merror:0.47725\n",
      "[116]\tvalidation_0-mlogloss:0.73744\tvalidation_0-merror:0.105113\tvalidation_1-mlogloss:1.14841\tvalidation_1-merror:0.477087\n",
      "[117]\tvalidation_0-mlogloss:0.73519\tvalidation_0-merror:0.103875\tvalidation_1-mlogloss:1.14852\tvalidation_1-merror:0.477175\n",
      "[118]\tvalidation_0-mlogloss:0.732508\tvalidation_0-merror:0.10215\tvalidation_1-mlogloss:1.14871\tvalidation_1-merror:0.477012\n",
      "[119]\tvalidation_0-mlogloss:0.729864\tvalidation_0-merror:0.100737\tvalidation_1-mlogloss:1.14865\tvalidation_1-merror:0.477025\n",
      "[120]\tvalidation_0-mlogloss:0.726788\tvalidation_0-merror:0.098963\tvalidation_1-mlogloss:1.14878\tvalidation_1-merror:0.476737\n",
      "[121]\tvalidation_0-mlogloss:0.723754\tvalidation_0-merror:0.097663\tvalidation_1-mlogloss:1.14888\tvalidation_1-merror:0.476862\n",
      "[122]\tvalidation_0-mlogloss:0.719875\tvalidation_0-merror:0.095225\tvalidation_1-mlogloss:1.14902\tvalidation_1-merror:0.476963\n",
      "[123]\tvalidation_0-mlogloss:0.717509\tvalidation_0-merror:0.093925\tvalidation_1-mlogloss:1.14908\tvalidation_1-merror:0.477\n",
      "[124]\tvalidation_0-mlogloss:0.714746\tvalidation_0-merror:0.092475\tvalidation_1-mlogloss:1.14919\tvalidation_1-merror:0.476988\n",
      "[125]\tvalidation_0-mlogloss:0.712711\tvalidation_0-merror:0.091137\tvalidation_1-mlogloss:1.14917\tvalidation_1-merror:0.476837\n",
      "[126]\tvalidation_0-mlogloss:0.709328\tvalidation_0-merror:0.089275\tvalidation_1-mlogloss:1.14932\tvalidation_1-merror:0.477175\n",
      "[127]\tvalidation_0-mlogloss:0.706469\tvalidation_0-merror:0.08765\tvalidation_1-mlogloss:1.1493\tvalidation_1-merror:0.477237\n",
      "[128]\tvalidation_0-mlogloss:0.703165\tvalidation_0-merror:0.085988\tvalidation_1-mlogloss:1.14942\tvalidation_1-merror:0.477138\n",
      "[129]\tvalidation_0-mlogloss:0.700361\tvalidation_0-merror:0.0844\tvalidation_1-mlogloss:1.14956\tvalidation_1-merror:0.477612\n",
      "[130]\tvalidation_0-mlogloss:0.697439\tvalidation_0-merror:0.083\tvalidation_1-mlogloss:1.14959\tvalidation_1-merror:0.47715\n",
      "[131]\tvalidation_0-mlogloss:0.69527\tvalidation_0-merror:0.0816\tvalidation_1-mlogloss:1.14958\tvalidation_1-merror:0.477037\n",
      "[132]\tvalidation_0-mlogloss:0.692661\tvalidation_0-merror:0.080163\tvalidation_1-mlogloss:1.14971\tvalidation_1-merror:0.476725\n",
      "[133]\tvalidation_0-mlogloss:0.68988\tvalidation_0-merror:0.078912\tvalidation_1-mlogloss:1.14977\tvalidation_1-merror:0.476963\n"
     ]
    },
    {
     "name": "stdout",
     "output_type": "stream",
     "text": [
      "[134]\tvalidation_0-mlogloss:0.686684\tvalidation_0-merror:0.077013\tvalidation_1-mlogloss:1.14992\tvalidation_1-merror:0.47725\n",
      "[135]\tvalidation_0-mlogloss:0.684303\tvalidation_0-merror:0.075912\tvalidation_1-mlogloss:1.15002\tvalidation_1-merror:0.477\n",
      "[136]\tvalidation_0-mlogloss:0.681617\tvalidation_0-merror:0.07445\tvalidation_1-mlogloss:1.1501\tvalidation_1-merror:0.47695\n",
      "[137]\tvalidation_0-mlogloss:0.678812\tvalidation_0-merror:0.07275\tvalidation_1-mlogloss:1.15025\tvalidation_1-merror:0.477375\n",
      "[138]\tvalidation_0-mlogloss:0.675853\tvalidation_0-merror:0.0716\tvalidation_1-mlogloss:1.15029\tvalidation_1-merror:0.476988\n",
      "[139]\tvalidation_0-mlogloss:0.673665\tvalidation_0-merror:0.070513\tvalidation_1-mlogloss:1.15036\tvalidation_1-merror:0.476975\n",
      "[140]\tvalidation_0-mlogloss:0.671009\tvalidation_0-merror:0.069113\tvalidation_1-mlogloss:1.15046\tvalidation_1-merror:0.476813\n",
      "[141]\tvalidation_0-mlogloss:0.66824\tvalidation_0-merror:0.067725\tvalidation_1-mlogloss:1.1506\tvalidation_1-merror:0.476438\n",
      "[142]\tvalidation_0-mlogloss:0.665339\tvalidation_0-merror:0.066212\tvalidation_1-mlogloss:1.15075\tvalidation_1-merror:0.476288\n",
      "[143]\tvalidation_0-mlogloss:0.663246\tvalidation_0-merror:0.065275\tvalidation_1-mlogloss:1.15088\tvalidation_1-merror:0.476288\n",
      "[144]\tvalidation_0-mlogloss:0.660589\tvalidation_0-merror:0.064138\tvalidation_1-mlogloss:1.15097\tvalidation_1-merror:0.476712\n",
      "[145]\tvalidation_0-mlogloss:0.657912\tvalidation_0-merror:0.06325\tvalidation_1-mlogloss:1.15102\tvalidation_1-merror:0.476925\n",
      "[146]\tvalidation_0-mlogloss:0.655098\tvalidation_0-merror:0.06185\tvalidation_1-mlogloss:1.15109\tvalidation_1-merror:0.477325\n",
      "[147]\tvalidation_0-mlogloss:0.651479\tvalidation_0-merror:0.059962\tvalidation_1-mlogloss:1.15125\tvalidation_1-merror:0.477663\n",
      "[148]\tvalidation_0-mlogloss:0.649435\tvalidation_0-merror:0.058963\tvalidation_1-mlogloss:1.15138\tvalidation_1-merror:0.477188\n",
      "[149]\tvalidation_0-mlogloss:0.646732\tvalidation_0-merror:0.057413\tvalidation_1-mlogloss:1.15148\tvalidation_1-merror:0.4775\n",
      "[150]\tvalidation_0-mlogloss:0.644225\tvalidation_0-merror:0.056525\tvalidation_1-mlogloss:1.15162\tvalidation_1-merror:0.4775\n",
      "[151]\tvalidation_0-mlogloss:0.641407\tvalidation_0-merror:0.05555\tvalidation_1-mlogloss:1.15176\tvalidation_1-merror:0.477175\n",
      "[152]\tvalidation_0-mlogloss:0.639454\tvalidation_0-merror:0.054637\tvalidation_1-mlogloss:1.15181\tvalidation_1-merror:0.477125\n",
      "[153]\tvalidation_0-mlogloss:0.637227\tvalidation_0-merror:0.053625\tvalidation_1-mlogloss:1.15189\tvalidation_1-merror:0.4772\n",
      "[154]\tvalidation_0-mlogloss:0.63488\tvalidation_0-merror:0.052725\tvalidation_1-mlogloss:1.15191\tvalidation_1-merror:0.477387\n",
      "[155]\tvalidation_0-mlogloss:0.632835\tvalidation_0-merror:0.052138\tvalidation_1-mlogloss:1.15197\tvalidation_1-merror:0.477225\n",
      "[156]\tvalidation_0-mlogloss:0.63007\tvalidation_0-merror:0.050625\tvalidation_1-mlogloss:1.15207\tvalidation_1-merror:0.477288\n",
      "[157]\tvalidation_0-mlogloss:0.62739\tvalidation_0-merror:0.049638\tvalidation_1-mlogloss:1.15222\tvalidation_1-merror:0.477012\n",
      "[158]\tvalidation_0-mlogloss:0.624608\tvalidation_0-merror:0.048475\tvalidation_1-mlogloss:1.15227\tvalidation_1-merror:0.477138\n",
      "[159]\tvalidation_0-mlogloss:0.622407\tvalidation_0-merror:0.04775\tvalidation_1-mlogloss:1.15239\tvalidation_1-merror:0.477087\n",
      "[160]\tvalidation_0-mlogloss:0.619893\tvalidation_0-merror:0.047125\tvalidation_1-mlogloss:1.15249\tvalidation_1-merror:0.477175\n",
      "[161]\tvalidation_0-mlogloss:0.617364\tvalidation_0-merror:0.04635\tvalidation_1-mlogloss:1.15259\tvalidation_1-merror:0.477037\n",
      "[162]\tvalidation_0-mlogloss:0.614895\tvalidation_0-merror:0.045175\tvalidation_1-mlogloss:1.1527\tvalidation_1-merror:0.476875\n",
      "[163]\tvalidation_0-mlogloss:0.611935\tvalidation_0-merror:0.043938\tvalidation_1-mlogloss:1.15293\tvalidation_1-merror:0.477225\n",
      "[164]\tvalidation_0-mlogloss:0.609568\tvalidation_0-merror:0.0432\tvalidation_1-mlogloss:1.15312\tvalidation_1-merror:0.477275\n",
      "[165]\tvalidation_0-mlogloss:0.607468\tvalidation_0-merror:0.0426\tvalidation_1-mlogloss:1.15319\tvalidation_1-merror:0.477437\n",
      "[166]\tvalidation_0-mlogloss:0.605091\tvalidation_0-merror:0.041713\tvalidation_1-mlogloss:1.15329\tvalidation_1-merror:0.477087\n",
      "[167]\tvalidation_0-mlogloss:0.601844\tvalidation_0-merror:0.040312\tvalidation_1-mlogloss:1.1535\tvalidation_1-merror:0.477087\n",
      "[168]\tvalidation_0-mlogloss:0.599951\tvalidation_0-merror:0.040125\tvalidation_1-mlogloss:1.15369\tvalidation_1-merror:0.476837\n",
      "[169]\tvalidation_0-mlogloss:0.59785\tvalidation_0-merror:0.0395\tvalidation_1-mlogloss:1.15383\tvalidation_1-merror:0.477288\n",
      "[170]\tvalidation_0-mlogloss:0.595531\tvalidation_0-merror:0.039025\tvalidation_1-mlogloss:1.15392\tvalidation_1-merror:0.477012\n",
      "[171]\tvalidation_0-mlogloss:0.592867\tvalidation_0-merror:0.038275\tvalidation_1-mlogloss:1.15408\tvalidation_1-merror:0.476963\n",
      "[172]\tvalidation_0-mlogloss:0.589918\tvalidation_0-merror:0.037575\tvalidation_1-mlogloss:1.15427\tvalidation_1-merror:0.476938\n",
      "[173]\tvalidation_0-mlogloss:0.587955\tvalidation_0-merror:0.037075\tvalidation_1-mlogloss:1.15442\tvalidation_1-merror:0.477325\n",
      "[174]\tvalidation_0-mlogloss:0.585182\tvalidation_0-merror:0.035825\tvalidation_1-mlogloss:1.15459\tvalidation_1-merror:0.477012\n",
      "[175]\tvalidation_0-mlogloss:0.583268\tvalidation_0-merror:0.035613\tvalidation_1-mlogloss:1.15465\tvalidation_1-merror:0.4767\n",
      "[176]\tvalidation_0-mlogloss:0.58071\tvalidation_0-merror:0.034975\tvalidation_1-mlogloss:1.15481\tvalidation_1-merror:0.477138\n",
      "[177]\tvalidation_0-mlogloss:0.578763\tvalidation_0-merror:0.03435\tvalidation_1-mlogloss:1.15484\tvalidation_1-merror:0.477437\n",
      "[178]\tvalidation_0-mlogloss:0.576311\tvalidation_0-merror:0.03345\tvalidation_1-mlogloss:1.155\tvalidation_1-merror:0.4773\n",
      "[179]\tvalidation_0-mlogloss:0.574405\tvalidation_0-merror:0.03285\tvalidation_1-mlogloss:1.15506\tvalidation_1-merror:0.477212\n",
      "[180]\tvalidation_0-mlogloss:0.572618\tvalidation_0-merror:0.032362\tvalidation_1-mlogloss:1.15517\tvalidation_1-merror:0.477262\n",
      "[181]\tvalidation_0-mlogloss:0.570524\tvalidation_0-merror:0.032075\tvalidation_1-mlogloss:1.15535\tvalidation_1-merror:0.477825\n",
      "[182]\tvalidation_0-mlogloss:0.568514\tvalidation_0-merror:0.031487\tvalidation_1-mlogloss:1.15541\tvalidation_1-merror:0.477575\n",
      "[183]\tvalidation_0-mlogloss:0.566333\tvalidation_0-merror:0.031\tvalidation_1-mlogloss:1.15557\tvalidation_1-merror:0.477637\n",
      "[184]\tvalidation_0-mlogloss:0.564429\tvalidation_0-merror:0.03045\tvalidation_1-mlogloss:1.1556\tvalidation_1-merror:0.477387\n",
      "[185]\tvalidation_0-mlogloss:0.562335\tvalidation_0-merror:0.029838\tvalidation_1-mlogloss:1.1558\tvalidation_1-merror:0.477587\n",
      "[186]\tvalidation_0-mlogloss:0.560676\tvalidation_0-merror:0.029487\tvalidation_1-mlogloss:1.15587\tvalidation_1-merror:0.477475\n",
      "[187]\tvalidation_0-mlogloss:0.558637\tvalidation_0-merror:0.028712\tvalidation_1-mlogloss:1.15599\tvalidation_1-merror:0.477437\n",
      "[188]\tvalidation_0-mlogloss:0.555917\tvalidation_0-merror:0.028088\tvalidation_1-mlogloss:1.15617\tvalidation_1-merror:0.47755\n",
      "[189]\tvalidation_0-mlogloss:0.553542\tvalidation_0-merror:0.0275\tvalidation_1-mlogloss:1.1564\tvalidation_1-merror:0.477612\n",
      "[190]\tvalidation_0-mlogloss:0.551246\tvalidation_0-merror:0.027\tvalidation_1-mlogloss:1.15661\tvalidation_1-merror:0.477325\n",
      "[191]\tvalidation_0-mlogloss:0.548767\tvalidation_0-merror:0.026438\tvalidation_1-mlogloss:1.15678\tvalidation_1-merror:0.4776\n",
      "[192]\tvalidation_0-mlogloss:0.546502\tvalidation_0-merror:0.025737\tvalidation_1-mlogloss:1.15695\tvalidation_1-merror:0.4773\n",
      "[193]\tvalidation_0-mlogloss:0.54388\tvalidation_0-merror:0.025287\tvalidation_1-mlogloss:1.15717\tvalidation_1-merror:0.477463\n",
      "[194]\tvalidation_0-mlogloss:0.541506\tvalidation_0-merror:0.024588\tvalidation_1-mlogloss:1.15734\tvalidation_1-merror:0.477338\n",
      "[195]\tvalidation_0-mlogloss:0.53893\tvalidation_0-merror:0.024013\tvalidation_1-mlogloss:1.15754\tvalidation_1-merror:0.477025\n",
      "[196]\tvalidation_0-mlogloss:0.53686\tvalidation_0-merror:0.023575\tvalidation_1-mlogloss:1.15767\tvalidation_1-merror:0.477437\n",
      "[197]\tvalidation_0-mlogloss:0.534325\tvalidation_0-merror:0.023\tvalidation_1-mlogloss:1.1578\tvalidation_1-merror:0.476938\n",
      "[198]\tvalidation_0-mlogloss:0.531755\tvalidation_0-merror:0.022363\tvalidation_1-mlogloss:1.15792\tvalidation_1-merror:0.477\n",
      "[199]\tvalidation_0-mlogloss:0.529723\tvalidation_0-merror:0.02205\tvalidation_1-mlogloss:1.15813\tvalidation_1-merror:0.476975\n",
      "[200]\tvalidation_0-mlogloss:0.527586\tvalidation_0-merror:0.02165\tvalidation_1-mlogloss:1.15828\tvalidation_1-merror:0.477188\n"
     ]
    },
    {
     "name": "stdout",
     "output_type": "stream",
     "text": [
      "[201]\tvalidation_0-mlogloss:0.525637\tvalidation_0-merror:0.02125\tvalidation_1-mlogloss:1.15836\tvalidation_1-merror:0.476912\n",
      "[202]\tvalidation_0-mlogloss:0.523316\tvalidation_0-merror:0.020662\tvalidation_1-mlogloss:1.15854\tvalidation_1-merror:0.477363\n",
      "[203]\tvalidation_0-mlogloss:0.521219\tvalidation_0-merror:0.02035\tvalidation_1-mlogloss:1.15861\tvalidation_1-merror:0.4773\n",
      "[204]\tvalidation_0-mlogloss:0.518886\tvalidation_0-merror:0.019987\tvalidation_1-mlogloss:1.15874\tvalidation_1-merror:0.4773\n",
      "[205]\tvalidation_0-mlogloss:0.516553\tvalidation_0-merror:0.01965\tvalidation_1-mlogloss:1.15888\tvalidation_1-merror:0.477513\n",
      "[206]\tvalidation_0-mlogloss:0.513631\tvalidation_0-merror:0.019063\tvalidation_1-mlogloss:1.15899\tvalidation_1-merror:0.4775\n",
      "[207]\tvalidation_0-mlogloss:0.51129\tvalidation_0-merror:0.01855\tvalidation_1-mlogloss:1.15914\tvalidation_1-merror:0.477475\n",
      "[208]\tvalidation_0-mlogloss:0.509331\tvalidation_0-merror:0.018175\tvalidation_1-mlogloss:1.15928\tvalidation_1-merror:0.477713\n",
      "[209]\tvalidation_0-mlogloss:0.506832\tvalidation_0-merror:0.017775\tvalidation_1-mlogloss:1.15939\tvalidation_1-merror:0.47765\n",
      "[210]\tvalidation_0-mlogloss:0.504632\tvalidation_0-merror:0.017375\tvalidation_1-mlogloss:1.15965\tvalidation_1-merror:0.477875\n",
      "[211]\tvalidation_0-mlogloss:0.502604\tvalidation_0-merror:0.016875\tvalidation_1-mlogloss:1.1598\tvalidation_1-merror:0.477387\n",
      "[212]\tvalidation_0-mlogloss:0.500384\tvalidation_0-merror:0.01655\tvalidation_1-mlogloss:1.15996\tvalidation_1-merror:0.477437\n",
      "[213]\tvalidation_0-mlogloss:0.498177\tvalidation_0-merror:0.01625\tvalidation_1-mlogloss:1.16005\tvalidation_1-merror:0.477475\n",
      "[214]\tvalidation_0-mlogloss:0.496281\tvalidation_0-merror:0.01595\tvalidation_1-mlogloss:1.16008\tvalidation_1-merror:0.47745\n",
      "[215]\tvalidation_0-mlogloss:0.494244\tvalidation_0-merror:0.015475\tvalidation_1-mlogloss:1.16027\tvalidation_1-merror:0.47725\n",
      "[216]\tvalidation_0-mlogloss:0.491832\tvalidation_0-merror:0.014925\tvalidation_1-mlogloss:1.16045\tvalidation_1-merror:0.476975\n",
      "[217]\tvalidation_0-mlogloss:0.489522\tvalidation_0-merror:0.014825\tvalidation_1-mlogloss:1.16063\tvalidation_1-merror:0.4771\n",
      "[218]\tvalidation_0-mlogloss:0.4873\tvalidation_0-merror:0.014475\tvalidation_1-mlogloss:1.16082\tvalidation_1-merror:0.477637\n",
      "[219]\tvalidation_0-mlogloss:0.484974\tvalidation_0-merror:0.0141\tvalidation_1-mlogloss:1.16094\tvalidation_1-merror:0.477288\n",
      "[220]\tvalidation_0-mlogloss:0.482774\tvalidation_0-merror:0.013775\tvalidation_1-mlogloss:1.16106\tvalidation_1-merror:0.477688\n",
      "[221]\tvalidation_0-mlogloss:0.481252\tvalidation_0-merror:0.013562\tvalidation_1-mlogloss:1.16119\tvalidation_1-merror:0.4776\n",
      "[222]\tvalidation_0-mlogloss:0.479562\tvalidation_0-merror:0.013388\tvalidation_1-mlogloss:1.16134\tvalidation_1-merror:0.477375\n",
      "[223]\tvalidation_0-mlogloss:0.477659\tvalidation_0-merror:0.013175\tvalidation_1-mlogloss:1.16155\tvalidation_1-merror:0.477188\n",
      "[224]\tvalidation_0-mlogloss:0.475542\tvalidation_0-merror:0.0128\tvalidation_1-mlogloss:1.16171\tvalidation_1-merror:0.477113\n",
      "[225]\tvalidation_0-mlogloss:0.473299\tvalidation_0-merror:0.012288\tvalidation_1-mlogloss:1.16189\tvalidation_1-merror:0.4771\n",
      "[226]\tvalidation_0-mlogloss:0.471708\tvalidation_0-merror:0.012175\tvalidation_1-mlogloss:1.16199\tvalidation_1-merror:0.477175\n",
      "[227]\tvalidation_0-mlogloss:0.469976\tvalidation_0-merror:0.011975\tvalidation_1-mlogloss:1.16204\tvalidation_1-merror:0.477375\n",
      "[228]\tvalidation_0-mlogloss:0.468413\tvalidation_0-merror:0.011688\tvalidation_1-mlogloss:1.16213\tvalidation_1-merror:0.47765\n",
      "[229]\tvalidation_0-mlogloss:0.466619\tvalidation_0-merror:0.011463\tvalidation_1-mlogloss:1.16219\tvalidation_1-merror:0.477787\n",
      "[230]\tvalidation_0-mlogloss:0.46429\tvalidation_0-merror:0.011312\tvalidation_1-mlogloss:1.1624\tvalidation_1-merror:0.4778\n",
      "[231]\tvalidation_0-mlogloss:0.462426\tvalidation_0-merror:0.011037\tvalidation_1-mlogloss:1.16251\tvalidation_1-merror:0.477625\n",
      "[232]\tvalidation_0-mlogloss:0.460519\tvalidation_0-merror:0.010788\tvalidation_1-mlogloss:1.16275\tvalidation_1-merror:0.477775\n",
      "[233]\tvalidation_0-mlogloss:0.458724\tvalidation_0-merror:0.010712\tvalidation_1-mlogloss:1.16291\tvalidation_1-merror:0.477912\n",
      "[234]\tvalidation_0-mlogloss:0.457183\tvalidation_0-merror:0.010413\tvalidation_1-mlogloss:1.16303\tvalidation_1-merror:0.477888\n",
      "[235]\tvalidation_0-mlogloss:0.455881\tvalidation_0-merror:0.010287\tvalidation_1-mlogloss:1.16314\tvalidation_1-merror:0.47785\n",
      "[236]\tvalidation_0-mlogloss:0.454285\tvalidation_0-merror:0.010025\tvalidation_1-mlogloss:1.16313\tvalidation_1-merror:0.477925\n",
      "[237]\tvalidation_0-mlogloss:0.452265\tvalidation_0-merror:0.0099\tvalidation_1-mlogloss:1.16333\tvalidation_1-merror:0.477987\n",
      "[238]\tvalidation_0-mlogloss:0.450442\tvalidation_0-merror:0.00955\tvalidation_1-mlogloss:1.16346\tvalidation_1-merror:0.4781\n",
      "[239]\tvalidation_0-mlogloss:0.448643\tvalidation_0-merror:0.009263\tvalidation_1-mlogloss:1.1636\tvalidation_1-merror:0.478312\n",
      "[240]\tvalidation_0-mlogloss:0.446709\tvalidation_0-merror:0.009062\tvalidation_1-mlogloss:1.16362\tvalidation_1-merror:0.478\n",
      "[241]\tvalidation_0-mlogloss:0.444962\tvalidation_0-merror:0.008962\tvalidation_1-mlogloss:1.16382\tvalidation_1-merror:0.477912\n",
      "[242]\tvalidation_0-mlogloss:0.443517\tvalidation_0-merror:0.008787\tvalidation_1-mlogloss:1.16395\tvalidation_1-merror:0.477863\n",
      "[243]\tvalidation_0-mlogloss:0.441315\tvalidation_0-merror:0.008525\tvalidation_1-mlogloss:1.16417\tvalidation_1-merror:0.478038\n",
      "[244]\tvalidation_0-mlogloss:0.439513\tvalidation_0-merror:0.008287\tvalidation_1-mlogloss:1.16428\tvalidation_1-merror:0.47825\n",
      "[245]\tvalidation_0-mlogloss:0.437305\tvalidation_0-merror:0.00815\tvalidation_1-mlogloss:1.16446\tvalidation_1-merror:0.47815\n",
      "[246]\tvalidation_0-mlogloss:0.435319\tvalidation_0-merror:0.007925\tvalidation_1-mlogloss:1.16471\tvalidation_1-merror:0.4783\n",
      "[247]\tvalidation_0-mlogloss:0.434137\tvalidation_0-merror:0.007838\tvalidation_1-mlogloss:1.1648\tvalidation_1-merror:0.47795\n",
      "[248]\tvalidation_0-mlogloss:0.432081\tvalidation_0-merror:0.007575\tvalidation_1-mlogloss:1.16489\tvalidation_1-merror:0.477762\n",
      "[249]\tvalidation_0-mlogloss:0.430583\tvalidation_0-merror:0.00735\tvalidation_1-mlogloss:1.16498\tvalidation_1-merror:0.477812\n",
      "[250]\tvalidation_0-mlogloss:0.429007\tvalidation_0-merror:0.007175\tvalidation_1-mlogloss:1.16508\tvalidation_1-merror:0.477863\n",
      "[251]\tvalidation_0-mlogloss:0.427593\tvalidation_0-merror:0.007213\tvalidation_1-mlogloss:1.16521\tvalidation_1-merror:0.4779\n",
      "[252]\tvalidation_0-mlogloss:0.425957\tvalidation_0-merror:0.007138\tvalidation_1-mlogloss:1.16535\tvalidation_1-merror:0.478075\n",
      "[253]\tvalidation_0-mlogloss:0.424515\tvalidation_0-merror:0.007062\tvalidation_1-mlogloss:1.16549\tvalidation_1-merror:0.478213\n",
      "[254]\tvalidation_0-mlogloss:0.422958\tvalidation_0-merror:0.006737\tvalidation_1-mlogloss:1.16567\tvalidation_1-merror:0.477987\n",
      "[255]\tvalidation_0-mlogloss:0.421561\tvalidation_0-merror:0.006663\tvalidation_1-mlogloss:1.16586\tvalidation_1-merror:0.477937\n",
      "[256]\tvalidation_0-mlogloss:0.419534\tvalidation_0-merror:0.006613\tvalidation_1-mlogloss:1.16605\tvalidation_1-merror:0.477888\n",
      "[257]\tvalidation_0-mlogloss:0.417948\tvalidation_0-merror:0.006363\tvalidation_1-mlogloss:1.16613\tvalidation_1-merror:0.478213\n",
      "[258]\tvalidation_0-mlogloss:0.416442\tvalidation_0-merror:0.00625\tvalidation_1-mlogloss:1.16625\tvalidation_1-merror:0.478213\n",
      "[259]\tvalidation_0-mlogloss:0.415147\tvalidation_0-merror:0.0062\tvalidation_1-mlogloss:1.1664\tvalidation_1-merror:0.478162\n",
      "[260]\tvalidation_0-mlogloss:0.413357\tvalidation_0-merror:0.005987\tvalidation_1-mlogloss:1.16656\tvalidation_1-merror:0.478487\n",
      "[261]\tvalidation_0-mlogloss:0.411506\tvalidation_0-merror:0.00585\tvalidation_1-mlogloss:1.16671\tvalidation_1-merror:0.4782\n",
      "[262]\tvalidation_0-mlogloss:0.409858\tvalidation_0-merror:0.0058\tvalidation_1-mlogloss:1.16687\tvalidation_1-merror:0.47825\n",
      "[263]\tvalidation_0-mlogloss:0.407818\tvalidation_0-merror:0.005637\tvalidation_1-mlogloss:1.16707\tvalidation_1-merror:0.478013\n",
      "[264]\tvalidation_0-mlogloss:0.406351\tvalidation_0-merror:0.005425\tvalidation_1-mlogloss:1.16722\tvalidation_1-merror:0.477925\n",
      "[265]\tvalidation_0-mlogloss:0.405153\tvalidation_0-merror:0.005437\tvalidation_1-mlogloss:1.16734\tvalidation_1-merror:0.4778\n",
      "[266]\tvalidation_0-mlogloss:0.403573\tvalidation_0-merror:0.005187\tvalidation_1-mlogloss:1.16745\tvalidation_1-merror:0.477925\n",
      "[267]\tvalidation_0-mlogloss:0.402524\tvalidation_0-merror:0.005137\tvalidation_1-mlogloss:1.16756\tvalidation_1-merror:0.47785\n"
     ]
    },
    {
     "name": "stdout",
     "output_type": "stream",
     "text": [
      "[268]\tvalidation_0-mlogloss:0.400978\tvalidation_0-merror:0.005075\tvalidation_1-mlogloss:1.16766\tvalidation_1-merror:0.47745\n",
      "[269]\tvalidation_0-mlogloss:0.399218\tvalidation_0-merror:0.004837\tvalidation_1-mlogloss:1.16787\tvalidation_1-merror:0.477637\n",
      "[270]\tvalidation_0-mlogloss:0.397634\tvalidation_0-merror:0.004812\tvalidation_1-mlogloss:1.16805\tvalidation_1-merror:0.477663\n",
      "[271]\tvalidation_0-mlogloss:0.396339\tvalidation_0-merror:0.004738\tvalidation_1-mlogloss:1.1682\tvalidation_1-merror:0.47765\n",
      "[272]\tvalidation_0-mlogloss:0.395038\tvalidation_0-merror:0.004625\tvalidation_1-mlogloss:1.16829\tvalidation_1-merror:0.4774\n",
      "[273]\tvalidation_0-mlogloss:0.393404\tvalidation_0-merror:0.004525\tvalidation_1-mlogloss:1.1684\tvalidation_1-merror:0.477062\n",
      "[274]\tvalidation_0-mlogloss:0.391655\tvalidation_0-merror:0.004488\tvalidation_1-mlogloss:1.16862\tvalidation_1-merror:0.477163\n",
      "[275]\tvalidation_0-mlogloss:0.390339\tvalidation_0-merror:0.004537\tvalidation_1-mlogloss:1.16878\tvalidation_1-merror:0.477313\n",
      "[276]\tvalidation_0-mlogloss:0.38847\tvalidation_0-merror:0.004337\tvalidation_1-mlogloss:1.16891\tvalidation_1-merror:0.47715\n",
      "[277]\tvalidation_0-mlogloss:0.386976\tvalidation_0-merror:0.004275\tvalidation_1-mlogloss:1.16903\tvalidation_1-merror:0.47725\n",
      "[278]\tvalidation_0-mlogloss:0.385298\tvalidation_0-merror:0.004012\tvalidation_1-mlogloss:1.16917\tvalidation_1-merror:0.477463\n",
      "[279]\tvalidation_0-mlogloss:0.383773\tvalidation_0-merror:0.003975\tvalidation_1-mlogloss:1.16927\tvalidation_1-merror:0.476875\n",
      "[280]\tvalidation_0-mlogloss:0.382323\tvalidation_0-merror:0.003862\tvalidation_1-mlogloss:1.16941\tvalidation_1-merror:0.477138\n",
      "[281]\tvalidation_0-mlogloss:0.380505\tvalidation_0-merror:0.0038\tvalidation_1-mlogloss:1.16949\tvalidation_1-merror:0.476887\n",
      "[282]\tvalidation_0-mlogloss:0.379145\tvalidation_0-merror:0.003688\tvalidation_1-mlogloss:1.16959\tvalidation_1-merror:0.477338\n",
      "[283]\tvalidation_0-mlogloss:0.377761\tvalidation_0-merror:0.003675\tvalidation_1-mlogloss:1.16974\tvalidation_1-merror:0.477188\n",
      "[284]\tvalidation_0-mlogloss:0.376677\tvalidation_0-merror:0.003625\tvalidation_1-mlogloss:1.16986\tvalidation_1-merror:0.477387\n",
      "[285]\tvalidation_0-mlogloss:0.375154\tvalidation_0-merror:0.003612\tvalidation_1-mlogloss:1.17004\tvalidation_1-merror:0.477525\n",
      "[286]\tvalidation_0-mlogloss:0.373602\tvalidation_0-merror:0.003437\tvalidation_1-mlogloss:1.17025\tvalidation_1-merror:0.477262\n",
      "[287]\tvalidation_0-mlogloss:0.372304\tvalidation_0-merror:0.003437\tvalidation_1-mlogloss:1.17034\tvalidation_1-merror:0.47725\n",
      "[288]\tvalidation_0-mlogloss:0.370705\tvalidation_0-merror:0.0033\tvalidation_1-mlogloss:1.17054\tvalidation_1-merror:0.477488\n",
      "[289]\tvalidation_0-mlogloss:0.369247\tvalidation_0-merror:0.003263\tvalidation_1-mlogloss:1.17074\tvalidation_1-merror:0.477475\n",
      "[290]\tvalidation_0-mlogloss:0.367808\tvalidation_0-merror:0.003162\tvalidation_1-mlogloss:1.17086\tvalidation_1-merror:0.4769\n",
      "[291]\tvalidation_0-mlogloss:0.366385\tvalidation_0-merror:0.003138\tvalidation_1-mlogloss:1.17111\tvalidation_1-merror:0.477188\n",
      "[292]\tvalidation_0-mlogloss:0.365178\tvalidation_0-merror:0.00305\tvalidation_1-mlogloss:1.17123\tvalidation_1-merror:0.47735\n",
      "[293]\tvalidation_0-mlogloss:0.363502\tvalidation_0-merror:0.002988\tvalidation_1-mlogloss:1.17145\tvalidation_1-merror:0.477737\n",
      "[294]\tvalidation_0-mlogloss:0.361889\tvalidation_0-merror:0.002925\tvalidation_1-mlogloss:1.17159\tvalidation_1-merror:0.4772\n",
      "[295]\tvalidation_0-mlogloss:0.360162\tvalidation_0-merror:0.0028\tvalidation_1-mlogloss:1.17178\tvalidation_1-merror:0.477575\n",
      "[296]\tvalidation_0-mlogloss:0.358631\tvalidation_0-merror:0.002725\tvalidation_1-mlogloss:1.17198\tvalidation_1-merror:0.477488\n",
      "[297]\tvalidation_0-mlogloss:0.357121\tvalidation_0-merror:0.002688\tvalidation_1-mlogloss:1.17214\tvalidation_1-merror:0.477737\n",
      "[298]\tvalidation_0-mlogloss:0.355903\tvalidation_0-merror:0.00265\tvalidation_1-mlogloss:1.17231\tvalidation_1-merror:0.47775\n",
      "[299]\tvalidation_0-mlogloss:0.354068\tvalidation_0-merror:0.002475\tvalidation_1-mlogloss:1.1725\tvalidation_1-merror:0.477688\n",
      "Cross validation and fitting took 52.6905723174413 minutes\n"
     ]
    }
   ],
   "source": [
    "xgbclassifier_model2 = model  #model whose hyperparameters we tuned\n",
    "parameters = xgbclassifier_model2.get_xgb_params()\n",
    "\n",
    "#Use cross validation to set n_estimators\n",
    "start = time()\n",
    "eval_history = xgb.cv(parameters, dtrain, metrics = ['mlogloss', 'merror'], nfold = 5, early_stopping_rounds = 20,\n",
    "                         num_boost_round = 300)\n",
    "xgbclassifier_model2.set_params(n_estimators = 300)\n",
    "\n",
    "eval_set = [(X_32train_new, y_32_train), (X_test1, y_test1)]\n",
    "\n",
    "xgbclassifier_model2.fit(X_32train_new, y_32_train, eval_metric = ['mlogloss','merror'], \n",
    "                        eval_set = eval_set) #fit model to data\n",
    "print(\"Cross validation and fitting took {} minutes\".format((time() - start)/60))"
   ]
  },
  {
   "cell_type": "code",
   "execution_count": 56,
   "metadata": {},
   "outputs": [
    {
     "data": {
      "text/html": [
       "<div>\n",
       "<style>\n",
       "    .dataframe thead tr:only-child th {\n",
       "        text-align: right;\n",
       "    }\n",
       "\n",
       "    .dataframe thead th {\n",
       "        text-align: left;\n",
       "    }\n",
       "\n",
       "    .dataframe tbody tr th {\n",
       "        vertical-align: top;\n",
       "    }\n",
       "</style>\n",
       "<table border=\"1\" class=\"dataframe\">\n",
       "  <thead>\n",
       "    <tr style=\"text-align: right;\">\n",
       "      <th></th>\n",
       "      <th>test-merror-mean</th>\n",
       "      <th>test-merror-std</th>\n",
       "      <th>test-mlogloss-mean</th>\n",
       "      <th>test-mlogloss-std</th>\n",
       "      <th>train-merror-mean</th>\n",
       "      <th>train-merror-std</th>\n",
       "      <th>train-mlogloss-mean</th>\n",
       "      <th>train-mlogloss-std</th>\n",
       "    </tr>\n",
       "  </thead>\n",
       "  <tbody>\n",
       "    <tr>\n",
       "      <th>0</th>\n",
       "      <td>0.507662</td>\n",
       "      <td>0.002119</td>\n",
       "      <td>1.936791</td>\n",
       "      <td>0.001479</td>\n",
       "      <td>0.458653</td>\n",
       "      <td>0.002688</td>\n",
       "      <td>1.928032</td>\n",
       "      <td>0.000488</td>\n",
       "    </tr>\n",
       "    <tr>\n",
       "      <th>1</th>\n",
       "      <td>0.501650</td>\n",
       "      <td>0.004139</td>\n",
       "      <td>1.835599</td>\n",
       "      <td>0.003448</td>\n",
       "      <td>0.435650</td>\n",
       "      <td>0.002800</td>\n",
       "      <td>1.818443</td>\n",
       "      <td>0.002313</td>\n",
       "    </tr>\n",
       "    <tr>\n",
       "      <th>2</th>\n",
       "      <td>0.497200</td>\n",
       "      <td>0.003735</td>\n",
       "      <td>1.755325</td>\n",
       "      <td>0.004737</td>\n",
       "      <td>0.420594</td>\n",
       "      <td>0.001374</td>\n",
       "      <td>1.730046</td>\n",
       "      <td>0.001781</td>\n",
       "    </tr>\n",
       "    <tr>\n",
       "      <th>3</th>\n",
       "      <td>0.493800</td>\n",
       "      <td>0.003169</td>\n",
       "      <td>1.688766</td>\n",
       "      <td>0.005256</td>\n",
       "      <td>0.410869</td>\n",
       "      <td>0.001569</td>\n",
       "      <td>1.655890</td>\n",
       "      <td>0.001782</td>\n",
       "    </tr>\n",
       "    <tr>\n",
       "      <th>4</th>\n",
       "      <td>0.493750</td>\n",
       "      <td>0.004102</td>\n",
       "      <td>1.633064</td>\n",
       "      <td>0.005431</td>\n",
       "      <td>0.401909</td>\n",
       "      <td>0.000908</td>\n",
       "      <td>1.593027</td>\n",
       "      <td>0.001410</td>\n",
       "    </tr>\n",
       "    <tr>\n",
       "      <th>5</th>\n",
       "      <td>0.492362</td>\n",
       "      <td>0.004106</td>\n",
       "      <td>1.585748</td>\n",
       "      <td>0.005915</td>\n",
       "      <td>0.395597</td>\n",
       "      <td>0.001165</td>\n",
       "      <td>1.538604</td>\n",
       "      <td>0.001142</td>\n",
       "    </tr>\n",
       "    <tr>\n",
       "      <th>6</th>\n",
       "      <td>0.491350</td>\n",
       "      <td>0.003311</td>\n",
       "      <td>1.544547</td>\n",
       "      <td>0.006476</td>\n",
       "      <td>0.389137</td>\n",
       "      <td>0.001178</td>\n",
       "      <td>1.490676</td>\n",
       "      <td>0.001523</td>\n",
       "    </tr>\n",
       "    <tr>\n",
       "      <th>7</th>\n",
       "      <td>0.491250</td>\n",
       "      <td>0.002652</td>\n",
       "      <td>1.507688</td>\n",
       "      <td>0.006917</td>\n",
       "      <td>0.382791</td>\n",
       "      <td>0.000915</td>\n",
       "      <td>1.447380</td>\n",
       "      <td>0.001344</td>\n",
       "    </tr>\n",
       "    <tr>\n",
       "      <th>8</th>\n",
       "      <td>0.489800</td>\n",
       "      <td>0.002200</td>\n",
       "      <td>1.474918</td>\n",
       "      <td>0.006984</td>\n",
       "      <td>0.377150</td>\n",
       "      <td>0.001569</td>\n",
       "      <td>1.408386</td>\n",
       "      <td>0.001138</td>\n",
       "    </tr>\n",
       "    <tr>\n",
       "      <th>9</th>\n",
       "      <td>0.488650</td>\n",
       "      <td>0.003296</td>\n",
       "      <td>1.445872</td>\n",
       "      <td>0.007172</td>\n",
       "      <td>0.372106</td>\n",
       "      <td>0.001042</td>\n",
       "      <td>1.373230</td>\n",
       "      <td>0.000783</td>\n",
       "    </tr>\n",
       "    <tr>\n",
       "      <th>10</th>\n",
       "      <td>0.487988</td>\n",
       "      <td>0.003277</td>\n",
       "      <td>1.420126</td>\n",
       "      <td>0.007252</td>\n",
       "      <td>0.367519</td>\n",
       "      <td>0.000729</td>\n",
       "      <td>1.341698</td>\n",
       "      <td>0.001280</td>\n",
       "    </tr>\n",
       "    <tr>\n",
       "      <th>11</th>\n",
       "      <td>0.486950</td>\n",
       "      <td>0.003273</td>\n",
       "      <td>1.396999</td>\n",
       "      <td>0.007256</td>\n",
       "      <td>0.362631</td>\n",
       "      <td>0.000688</td>\n",
       "      <td>1.312758</td>\n",
       "      <td>0.001003</td>\n",
       "    </tr>\n",
       "    <tr>\n",
       "      <th>12</th>\n",
       "      <td>0.487225</td>\n",
       "      <td>0.003375</td>\n",
       "      <td>1.376303</td>\n",
       "      <td>0.007423</td>\n",
       "      <td>0.358731</td>\n",
       "      <td>0.000957</td>\n",
       "      <td>1.286339</td>\n",
       "      <td>0.001164</td>\n",
       "    </tr>\n",
       "    <tr>\n",
       "      <th>13</th>\n",
       "      <td>0.486838</td>\n",
       "      <td>0.002719</td>\n",
       "      <td>1.357715</td>\n",
       "      <td>0.007634</td>\n",
       "      <td>0.354753</td>\n",
       "      <td>0.000512</td>\n",
       "      <td>1.262517</td>\n",
       "      <td>0.001068</td>\n",
       "    </tr>\n",
       "    <tr>\n",
       "      <th>14</th>\n",
       "      <td>0.485750</td>\n",
       "      <td>0.003621</td>\n",
       "      <td>1.340694</td>\n",
       "      <td>0.007626</td>\n",
       "      <td>0.351091</td>\n",
       "      <td>0.000554</td>\n",
       "      <td>1.240523</td>\n",
       "      <td>0.001233</td>\n",
       "    </tr>\n",
       "    <tr>\n",
       "      <th>15</th>\n",
       "      <td>0.485687</td>\n",
       "      <td>0.003938</td>\n",
       "      <td>1.325375</td>\n",
       "      <td>0.007811</td>\n",
       "      <td>0.347228</td>\n",
       "      <td>0.000764</td>\n",
       "      <td>1.220359</td>\n",
       "      <td>0.001286</td>\n",
       "    </tr>\n",
       "    <tr>\n",
       "      <th>16</th>\n",
       "      <td>0.485000</td>\n",
       "      <td>0.003336</td>\n",
       "      <td>1.311447</td>\n",
       "      <td>0.007726</td>\n",
       "      <td>0.343566</td>\n",
       "      <td>0.001003</td>\n",
       "      <td>1.201379</td>\n",
       "      <td>0.001539</td>\n",
       "    </tr>\n",
       "    <tr>\n",
       "      <th>17</th>\n",
       "      <td>0.485000</td>\n",
       "      <td>0.003549</td>\n",
       "      <td>1.298823</td>\n",
       "      <td>0.007782</td>\n",
       "      <td>0.340191</td>\n",
       "      <td>0.000664</td>\n",
       "      <td>1.184032</td>\n",
       "      <td>0.001527</td>\n",
       "    </tr>\n",
       "    <tr>\n",
       "      <th>18</th>\n",
       "      <td>0.484400</td>\n",
       "      <td>0.003804</td>\n",
       "      <td>1.287546</td>\n",
       "      <td>0.007728</td>\n",
       "      <td>0.336728</td>\n",
       "      <td>0.000588</td>\n",
       "      <td>1.168169</td>\n",
       "      <td>0.001562</td>\n",
       "    </tr>\n",
       "    <tr>\n",
       "      <th>19</th>\n",
       "      <td>0.484650</td>\n",
       "      <td>0.003131</td>\n",
       "      <td>1.277022</td>\n",
       "      <td>0.007887</td>\n",
       "      <td>0.333366</td>\n",
       "      <td>0.000524</td>\n",
       "      <td>1.152812</td>\n",
       "      <td>0.001366</td>\n",
       "    </tr>\n",
       "    <tr>\n",
       "      <th>20</th>\n",
       "      <td>0.484438</td>\n",
       "      <td>0.002687</td>\n",
       "      <td>1.267365</td>\n",
       "      <td>0.007932</td>\n",
       "      <td>0.329828</td>\n",
       "      <td>0.000495</td>\n",
       "      <td>1.138851</td>\n",
       "      <td>0.001500</td>\n",
       "    </tr>\n",
       "    <tr>\n",
       "      <th>21</th>\n",
       "      <td>0.483700</td>\n",
       "      <td>0.002961</td>\n",
       "      <td>1.258529</td>\n",
       "      <td>0.007686</td>\n",
       "      <td>0.326684</td>\n",
       "      <td>0.000512</td>\n",
       "      <td>1.125635</td>\n",
       "      <td>0.001811</td>\n",
       "    </tr>\n",
       "    <tr>\n",
       "      <th>22</th>\n",
       "      <td>0.483362</td>\n",
       "      <td>0.003120</td>\n",
       "      <td>1.250384</td>\n",
       "      <td>0.007704</td>\n",
       "      <td>0.323884</td>\n",
       "      <td>0.000616</td>\n",
       "      <td>1.113482</td>\n",
       "      <td>0.002104</td>\n",
       "    </tr>\n",
       "    <tr>\n",
       "      <th>23</th>\n",
       "      <td>0.482750</td>\n",
       "      <td>0.002748</td>\n",
       "      <td>1.242965</td>\n",
       "      <td>0.007854</td>\n",
       "      <td>0.321428</td>\n",
       "      <td>0.000578</td>\n",
       "      <td>1.102013</td>\n",
       "      <td>0.002112</td>\n",
       "    </tr>\n",
       "    <tr>\n",
       "      <th>24</th>\n",
       "      <td>0.482437</td>\n",
       "      <td>0.002902</td>\n",
       "      <td>1.236390</td>\n",
       "      <td>0.007895</td>\n",
       "      <td>0.319184</td>\n",
       "      <td>0.000718</td>\n",
       "      <td>1.091539</td>\n",
       "      <td>0.002274</td>\n",
       "    </tr>\n",
       "    <tr>\n",
       "      <th>25</th>\n",
       "      <td>0.482213</td>\n",
       "      <td>0.002646</td>\n",
       "      <td>1.230182</td>\n",
       "      <td>0.007910</td>\n",
       "      <td>0.316041</td>\n",
       "      <td>0.001161</td>\n",
       "      <td>1.081177</td>\n",
       "      <td>0.002454</td>\n",
       "    </tr>\n",
       "    <tr>\n",
       "      <th>26</th>\n",
       "      <td>0.482337</td>\n",
       "      <td>0.003118</td>\n",
       "      <td>1.224528</td>\n",
       "      <td>0.008014</td>\n",
       "      <td>0.313003</td>\n",
       "      <td>0.001315</td>\n",
       "      <td>1.071584</td>\n",
       "      <td>0.002251</td>\n",
       "    </tr>\n",
       "    <tr>\n",
       "      <th>27</th>\n",
       "      <td>0.482150</td>\n",
       "      <td>0.003216</td>\n",
       "      <td>1.219456</td>\n",
       "      <td>0.007941</td>\n",
       "      <td>0.310219</td>\n",
       "      <td>0.001526</td>\n",
       "      <td>1.062853</td>\n",
       "      <td>0.002127</td>\n",
       "    </tr>\n",
       "    <tr>\n",
       "      <th>28</th>\n",
       "      <td>0.481738</td>\n",
       "      <td>0.003410</td>\n",
       "      <td>1.214718</td>\n",
       "      <td>0.007986</td>\n",
       "      <td>0.307853</td>\n",
       "      <td>0.001707</td>\n",
       "      <td>1.054758</td>\n",
       "      <td>0.002265</td>\n",
       "    </tr>\n",
       "    <tr>\n",
       "      <th>29</th>\n",
       "      <td>0.481900</td>\n",
       "      <td>0.003143</td>\n",
       "      <td>1.210479</td>\n",
       "      <td>0.007927</td>\n",
       "      <td>0.304878</td>\n",
       "      <td>0.002123</td>\n",
       "      <td>1.046835</td>\n",
       "      <td>0.002398</td>\n",
       "    </tr>\n",
       "    <tr>\n",
       "      <th>...</th>\n",
       "      <td>...</td>\n",
       "      <td>...</td>\n",
       "      <td>...</td>\n",
       "      <td>...</td>\n",
       "      <td>...</td>\n",
       "      <td>...</td>\n",
       "      <td>...</td>\n",
       "      <td>...</td>\n",
       "    </tr>\n",
       "    <tr>\n",
       "      <th>61</th>\n",
       "      <td>0.480600</td>\n",
       "      <td>0.004320</td>\n",
       "      <td>1.160830</td>\n",
       "      <td>0.008743</td>\n",
       "      <td>0.216541</td>\n",
       "      <td>0.003736</td>\n",
       "      <td>0.889058</td>\n",
       "      <td>0.004937</td>\n",
       "    </tr>\n",
       "    <tr>\n",
       "      <th>62</th>\n",
       "      <td>0.480637</td>\n",
       "      <td>0.004829</td>\n",
       "      <td>1.160431</td>\n",
       "      <td>0.008816</td>\n",
       "      <td>0.213253</td>\n",
       "      <td>0.003580</td>\n",
       "      <td>0.884978</td>\n",
       "      <td>0.004968</td>\n",
       "    </tr>\n",
       "    <tr>\n",
       "      <th>63</th>\n",
       "      <td>0.480525</td>\n",
       "      <td>0.004243</td>\n",
       "      <td>1.160080</td>\n",
       "      <td>0.008751</td>\n",
       "      <td>0.210416</td>\n",
       "      <td>0.003728</td>\n",
       "      <td>0.881156</td>\n",
       "      <td>0.005173</td>\n",
       "    </tr>\n",
       "    <tr>\n",
       "      <th>64</th>\n",
       "      <td>0.480375</td>\n",
       "      <td>0.003934</td>\n",
       "      <td>1.159823</td>\n",
       "      <td>0.008830</td>\n",
       "      <td>0.207244</td>\n",
       "      <td>0.003640</td>\n",
       "      <td>0.877089</td>\n",
       "      <td>0.005135</td>\n",
       "    </tr>\n",
       "    <tr>\n",
       "      <th>65</th>\n",
       "      <td>0.480300</td>\n",
       "      <td>0.003812</td>\n",
       "      <td>1.159527</td>\n",
       "      <td>0.008730</td>\n",
       "      <td>0.203916</td>\n",
       "      <td>0.003293</td>\n",
       "      <td>0.873222</td>\n",
       "      <td>0.004902</td>\n",
       "    </tr>\n",
       "    <tr>\n",
       "      <th>66</th>\n",
       "      <td>0.480088</td>\n",
       "      <td>0.004168</td>\n",
       "      <td>1.159245</td>\n",
       "      <td>0.008724</td>\n",
       "      <td>0.200772</td>\n",
       "      <td>0.003594</td>\n",
       "      <td>0.869109</td>\n",
       "      <td>0.005158</td>\n",
       "    </tr>\n",
       "    <tr>\n",
       "      <th>67</th>\n",
       "      <td>0.480075</td>\n",
       "      <td>0.004421</td>\n",
       "      <td>1.158970</td>\n",
       "      <td>0.008690</td>\n",
       "      <td>0.198788</td>\n",
       "      <td>0.003756</td>\n",
       "      <td>0.866046</td>\n",
       "      <td>0.005372</td>\n",
       "    </tr>\n",
       "    <tr>\n",
       "      <th>68</th>\n",
       "      <td>0.479963</td>\n",
       "      <td>0.003980</td>\n",
       "      <td>1.158815</td>\n",
       "      <td>0.008671</td>\n",
       "      <td>0.195919</td>\n",
       "      <td>0.003667</td>\n",
       "      <td>0.862390</td>\n",
       "      <td>0.005294</td>\n",
       "    </tr>\n",
       "    <tr>\n",
       "      <th>69</th>\n",
       "      <td>0.480237</td>\n",
       "      <td>0.003945</td>\n",
       "      <td>1.158640</td>\n",
       "      <td>0.008677</td>\n",
       "      <td>0.193288</td>\n",
       "      <td>0.003595</td>\n",
       "      <td>0.858664</td>\n",
       "      <td>0.005264</td>\n",
       "    </tr>\n",
       "    <tr>\n",
       "      <th>70</th>\n",
       "      <td>0.479587</td>\n",
       "      <td>0.003485</td>\n",
       "      <td>1.158505</td>\n",
       "      <td>0.008575</td>\n",
       "      <td>0.189944</td>\n",
       "      <td>0.003496</td>\n",
       "      <td>0.854671</td>\n",
       "      <td>0.005516</td>\n",
       "    </tr>\n",
       "    <tr>\n",
       "      <th>71</th>\n",
       "      <td>0.479512</td>\n",
       "      <td>0.003379</td>\n",
       "      <td>1.158332</td>\n",
       "      <td>0.008573</td>\n",
       "      <td>0.186900</td>\n",
       "      <td>0.003705</td>\n",
       "      <td>0.851041</td>\n",
       "      <td>0.005562</td>\n",
       "    </tr>\n",
       "    <tr>\n",
       "      <th>72</th>\n",
       "      <td>0.479963</td>\n",
       "      <td>0.003312</td>\n",
       "      <td>1.158111</td>\n",
       "      <td>0.008559</td>\n",
       "      <td>0.183778</td>\n",
       "      <td>0.002982</td>\n",
       "      <td>0.847113</td>\n",
       "      <td>0.005116</td>\n",
       "    </tr>\n",
       "    <tr>\n",
       "      <th>73</th>\n",
       "      <td>0.480162</td>\n",
       "      <td>0.003263</td>\n",
       "      <td>1.157894</td>\n",
       "      <td>0.008644</td>\n",
       "      <td>0.180862</td>\n",
       "      <td>0.003058</td>\n",
       "      <td>0.843361</td>\n",
       "      <td>0.005340</td>\n",
       "    </tr>\n",
       "    <tr>\n",
       "      <th>74</th>\n",
       "      <td>0.479875</td>\n",
       "      <td>0.003179</td>\n",
       "      <td>1.157786</td>\n",
       "      <td>0.008645</td>\n",
       "      <td>0.177837</td>\n",
       "      <td>0.003624</td>\n",
       "      <td>0.839551</td>\n",
       "      <td>0.005726</td>\n",
       "    </tr>\n",
       "    <tr>\n",
       "      <th>75</th>\n",
       "      <td>0.479512</td>\n",
       "      <td>0.003825</td>\n",
       "      <td>1.157700</td>\n",
       "      <td>0.008649</td>\n",
       "      <td>0.175009</td>\n",
       "      <td>0.003459</td>\n",
       "      <td>0.835970</td>\n",
       "      <td>0.005418</td>\n",
       "    </tr>\n",
       "    <tr>\n",
       "      <th>76</th>\n",
       "      <td>0.479563</td>\n",
       "      <td>0.003044</td>\n",
       "      <td>1.157556</td>\n",
       "      <td>0.008646</td>\n",
       "      <td>0.172306</td>\n",
       "      <td>0.003664</td>\n",
       "      <td>0.832504</td>\n",
       "      <td>0.005302</td>\n",
       "    </tr>\n",
       "    <tr>\n",
       "      <th>77</th>\n",
       "      <td>0.479362</td>\n",
       "      <td>0.003563</td>\n",
       "      <td>1.157438</td>\n",
       "      <td>0.008682</td>\n",
       "      <td>0.169775</td>\n",
       "      <td>0.002973</td>\n",
       "      <td>0.828989</td>\n",
       "      <td>0.004903</td>\n",
       "    </tr>\n",
       "    <tr>\n",
       "      <th>78</th>\n",
       "      <td>0.479600</td>\n",
       "      <td>0.003687</td>\n",
       "      <td>1.157414</td>\n",
       "      <td>0.008726</td>\n",
       "      <td>0.167056</td>\n",
       "      <td>0.002761</td>\n",
       "      <td>0.825256</td>\n",
       "      <td>0.004610</td>\n",
       "    </tr>\n",
       "    <tr>\n",
       "      <th>79</th>\n",
       "      <td>0.479837</td>\n",
       "      <td>0.003870</td>\n",
       "      <td>1.157445</td>\n",
       "      <td>0.008835</td>\n",
       "      <td>0.164337</td>\n",
       "      <td>0.002710</td>\n",
       "      <td>0.821860</td>\n",
       "      <td>0.004439</td>\n",
       "    </tr>\n",
       "    <tr>\n",
       "      <th>80</th>\n",
       "      <td>0.479788</td>\n",
       "      <td>0.003370</td>\n",
       "      <td>1.157442</td>\n",
       "      <td>0.008899</td>\n",
       "      <td>0.161041</td>\n",
       "      <td>0.002777</td>\n",
       "      <td>0.817826</td>\n",
       "      <td>0.004397</td>\n",
       "    </tr>\n",
       "    <tr>\n",
       "      <th>81</th>\n",
       "      <td>0.479775</td>\n",
       "      <td>0.003513</td>\n",
       "      <td>1.157370</td>\n",
       "      <td>0.008878</td>\n",
       "      <td>0.158884</td>\n",
       "      <td>0.002929</td>\n",
       "      <td>0.814600</td>\n",
       "      <td>0.004417</td>\n",
       "    </tr>\n",
       "    <tr>\n",
       "      <th>82</th>\n",
       "      <td>0.479400</td>\n",
       "      <td>0.004163</td>\n",
       "      <td>1.157335</td>\n",
       "      <td>0.008866</td>\n",
       "      <td>0.156272</td>\n",
       "      <td>0.003083</td>\n",
       "      <td>0.811143</td>\n",
       "      <td>0.004472</td>\n",
       "    </tr>\n",
       "    <tr>\n",
       "      <th>83</th>\n",
       "      <td>0.479212</td>\n",
       "      <td>0.004260</td>\n",
       "      <td>1.157320</td>\n",
       "      <td>0.008864</td>\n",
       "      <td>0.153644</td>\n",
       "      <td>0.003197</td>\n",
       "      <td>0.807521</td>\n",
       "      <td>0.004290</td>\n",
       "    </tr>\n",
       "    <tr>\n",
       "      <th>84</th>\n",
       "      <td>0.479125</td>\n",
       "      <td>0.004199</td>\n",
       "      <td>1.157359</td>\n",
       "      <td>0.008901</td>\n",
       "      <td>0.150666</td>\n",
       "      <td>0.003265</td>\n",
       "      <td>0.803791</td>\n",
       "      <td>0.004189</td>\n",
       "    </tr>\n",
       "    <tr>\n",
       "      <th>85</th>\n",
       "      <td>0.478962</td>\n",
       "      <td>0.004626</td>\n",
       "      <td>1.157474</td>\n",
       "      <td>0.008946</td>\n",
       "      <td>0.148331</td>\n",
       "      <td>0.003621</td>\n",
       "      <td>0.800152</td>\n",
       "      <td>0.004227</td>\n",
       "    </tr>\n",
       "    <tr>\n",
       "      <th>86</th>\n",
       "      <td>0.479225</td>\n",
       "      <td>0.004604</td>\n",
       "      <td>1.157454</td>\n",
       "      <td>0.009032</td>\n",
       "      <td>0.145787</td>\n",
       "      <td>0.003274</td>\n",
       "      <td>0.796882</td>\n",
       "      <td>0.004414</td>\n",
       "    </tr>\n",
       "    <tr>\n",
       "      <th>87</th>\n",
       "      <td>0.479275</td>\n",
       "      <td>0.004204</td>\n",
       "      <td>1.157414</td>\n",
       "      <td>0.009033</td>\n",
       "      <td>0.142934</td>\n",
       "      <td>0.003859</td>\n",
       "      <td>0.793092</td>\n",
       "      <td>0.004668</td>\n",
       "    </tr>\n",
       "    <tr>\n",
       "      <th>88</th>\n",
       "      <td>0.479925</td>\n",
       "      <td>0.004154</td>\n",
       "      <td>1.157311</td>\n",
       "      <td>0.009099</td>\n",
       "      <td>0.140872</td>\n",
       "      <td>0.003650</td>\n",
       "      <td>0.789847</td>\n",
       "      <td>0.004779</td>\n",
       "    </tr>\n",
       "    <tr>\n",
       "      <th>89</th>\n",
       "      <td>0.479512</td>\n",
       "      <td>0.003932</td>\n",
       "      <td>1.157206</td>\n",
       "      <td>0.009003</td>\n",
       "      <td>0.138290</td>\n",
       "      <td>0.003892</td>\n",
       "      <td>0.786256</td>\n",
       "      <td>0.005146</td>\n",
       "    </tr>\n",
       "    <tr>\n",
       "      <th>90</th>\n",
       "      <td>0.479675</td>\n",
       "      <td>0.004153</td>\n",
       "      <td>1.157160</td>\n",
       "      <td>0.008960</td>\n",
       "      <td>0.135597</td>\n",
       "      <td>0.003678</td>\n",
       "      <td>0.782604</td>\n",
       "      <td>0.004924</td>\n",
       "    </tr>\n",
       "  </tbody>\n",
       "</table>\n",
       "<p>91 rows × 8 columns</p>\n",
       "</div>"
      ],
      "text/plain": [
       "    test-merror-mean  test-merror-std  test-mlogloss-mean  test-mlogloss-std  \\\n",
       "0           0.507662         0.002119            1.936791           0.001479   \n",
       "1           0.501650         0.004139            1.835599           0.003448   \n",
       "2           0.497200         0.003735            1.755325           0.004737   \n",
       "3           0.493800         0.003169            1.688766           0.005256   \n",
       "4           0.493750         0.004102            1.633064           0.005431   \n",
       "5           0.492362         0.004106            1.585748           0.005915   \n",
       "6           0.491350         0.003311            1.544547           0.006476   \n",
       "7           0.491250         0.002652            1.507688           0.006917   \n",
       "8           0.489800         0.002200            1.474918           0.006984   \n",
       "9           0.488650         0.003296            1.445872           0.007172   \n",
       "10          0.487988         0.003277            1.420126           0.007252   \n",
       "11          0.486950         0.003273            1.396999           0.007256   \n",
       "12          0.487225         0.003375            1.376303           0.007423   \n",
       "13          0.486838         0.002719            1.357715           0.007634   \n",
       "14          0.485750         0.003621            1.340694           0.007626   \n",
       "15          0.485687         0.003938            1.325375           0.007811   \n",
       "16          0.485000         0.003336            1.311447           0.007726   \n",
       "17          0.485000         0.003549            1.298823           0.007782   \n",
       "18          0.484400         0.003804            1.287546           0.007728   \n",
       "19          0.484650         0.003131            1.277022           0.007887   \n",
       "20          0.484438         0.002687            1.267365           0.007932   \n",
       "21          0.483700         0.002961            1.258529           0.007686   \n",
       "22          0.483362         0.003120            1.250384           0.007704   \n",
       "23          0.482750         0.002748            1.242965           0.007854   \n",
       "24          0.482437         0.002902            1.236390           0.007895   \n",
       "25          0.482213         0.002646            1.230182           0.007910   \n",
       "26          0.482337         0.003118            1.224528           0.008014   \n",
       "27          0.482150         0.003216            1.219456           0.007941   \n",
       "28          0.481738         0.003410            1.214718           0.007986   \n",
       "29          0.481900         0.003143            1.210479           0.007927   \n",
       "..               ...              ...                 ...                ...   \n",
       "61          0.480600         0.004320            1.160830           0.008743   \n",
       "62          0.480637         0.004829            1.160431           0.008816   \n",
       "63          0.480525         0.004243            1.160080           0.008751   \n",
       "64          0.480375         0.003934            1.159823           0.008830   \n",
       "65          0.480300         0.003812            1.159527           0.008730   \n",
       "66          0.480088         0.004168            1.159245           0.008724   \n",
       "67          0.480075         0.004421            1.158970           0.008690   \n",
       "68          0.479963         0.003980            1.158815           0.008671   \n",
       "69          0.480237         0.003945            1.158640           0.008677   \n",
       "70          0.479587         0.003485            1.158505           0.008575   \n",
       "71          0.479512         0.003379            1.158332           0.008573   \n",
       "72          0.479963         0.003312            1.158111           0.008559   \n",
       "73          0.480162         0.003263            1.157894           0.008644   \n",
       "74          0.479875         0.003179            1.157786           0.008645   \n",
       "75          0.479512         0.003825            1.157700           0.008649   \n",
       "76          0.479563         0.003044            1.157556           0.008646   \n",
       "77          0.479362         0.003563            1.157438           0.008682   \n",
       "78          0.479600         0.003687            1.157414           0.008726   \n",
       "79          0.479837         0.003870            1.157445           0.008835   \n",
       "80          0.479788         0.003370            1.157442           0.008899   \n",
       "81          0.479775         0.003513            1.157370           0.008878   \n",
       "82          0.479400         0.004163            1.157335           0.008866   \n",
       "83          0.479212         0.004260            1.157320           0.008864   \n",
       "84          0.479125         0.004199            1.157359           0.008901   \n",
       "85          0.478962         0.004626            1.157474           0.008946   \n",
       "86          0.479225         0.004604            1.157454           0.009032   \n",
       "87          0.479275         0.004204            1.157414           0.009033   \n",
       "88          0.479925         0.004154            1.157311           0.009099   \n",
       "89          0.479512         0.003932            1.157206           0.009003   \n",
       "90          0.479675         0.004153            1.157160           0.008960   \n",
       "\n",
       "    train-merror-mean  train-merror-std  train-mlogloss-mean  \\\n",
       "0            0.458653          0.002688             1.928032   \n",
       "1            0.435650          0.002800             1.818443   \n",
       "2            0.420594          0.001374             1.730046   \n",
       "3            0.410869          0.001569             1.655890   \n",
       "4            0.401909          0.000908             1.593027   \n",
       "5            0.395597          0.001165             1.538604   \n",
       "6            0.389137          0.001178             1.490676   \n",
       "7            0.382791          0.000915             1.447380   \n",
       "8            0.377150          0.001569             1.408386   \n",
       "9            0.372106          0.001042             1.373230   \n",
       "10           0.367519          0.000729             1.341698   \n",
       "11           0.362631          0.000688             1.312758   \n",
       "12           0.358731          0.000957             1.286339   \n",
       "13           0.354753          0.000512             1.262517   \n",
       "14           0.351091          0.000554             1.240523   \n",
       "15           0.347228          0.000764             1.220359   \n",
       "16           0.343566          0.001003             1.201379   \n",
       "17           0.340191          0.000664             1.184032   \n",
       "18           0.336728          0.000588             1.168169   \n",
       "19           0.333366          0.000524             1.152812   \n",
       "20           0.329828          0.000495             1.138851   \n",
       "21           0.326684          0.000512             1.125635   \n",
       "22           0.323884          0.000616             1.113482   \n",
       "23           0.321428          0.000578             1.102013   \n",
       "24           0.319184          0.000718             1.091539   \n",
       "25           0.316041          0.001161             1.081177   \n",
       "26           0.313003          0.001315             1.071584   \n",
       "27           0.310219          0.001526             1.062853   \n",
       "28           0.307853          0.001707             1.054758   \n",
       "29           0.304878          0.002123             1.046835   \n",
       "..                ...               ...                  ...   \n",
       "61           0.216541          0.003736             0.889058   \n",
       "62           0.213253          0.003580             0.884978   \n",
       "63           0.210416          0.003728             0.881156   \n",
       "64           0.207244          0.003640             0.877089   \n",
       "65           0.203916          0.003293             0.873222   \n",
       "66           0.200772          0.003594             0.869109   \n",
       "67           0.198788          0.003756             0.866046   \n",
       "68           0.195919          0.003667             0.862390   \n",
       "69           0.193288          0.003595             0.858664   \n",
       "70           0.189944          0.003496             0.854671   \n",
       "71           0.186900          0.003705             0.851041   \n",
       "72           0.183778          0.002982             0.847113   \n",
       "73           0.180862          0.003058             0.843361   \n",
       "74           0.177837          0.003624             0.839551   \n",
       "75           0.175009          0.003459             0.835970   \n",
       "76           0.172306          0.003664             0.832504   \n",
       "77           0.169775          0.002973             0.828989   \n",
       "78           0.167056          0.002761             0.825256   \n",
       "79           0.164337          0.002710             0.821860   \n",
       "80           0.161041          0.002777             0.817826   \n",
       "81           0.158884          0.002929             0.814600   \n",
       "82           0.156272          0.003083             0.811143   \n",
       "83           0.153644          0.003197             0.807521   \n",
       "84           0.150666          0.003265             0.803791   \n",
       "85           0.148331          0.003621             0.800152   \n",
       "86           0.145787          0.003274             0.796882   \n",
       "87           0.142934          0.003859             0.793092   \n",
       "88           0.140872          0.003650             0.789847   \n",
       "89           0.138290          0.003892             0.786256   \n",
       "90           0.135597          0.003678             0.782604   \n",
       "\n",
       "    train-mlogloss-std  \n",
       "0             0.000488  \n",
       "1             0.002313  \n",
       "2             0.001781  \n",
       "3             0.001782  \n",
       "4             0.001410  \n",
       "5             0.001142  \n",
       "6             0.001523  \n",
       "7             0.001344  \n",
       "8             0.001138  \n",
       "9             0.000783  \n",
       "10            0.001280  \n",
       "11            0.001003  \n",
       "12            0.001164  \n",
       "13            0.001068  \n",
       "14            0.001233  \n",
       "15            0.001286  \n",
       "16            0.001539  \n",
       "17            0.001527  \n",
       "18            0.001562  \n",
       "19            0.001366  \n",
       "20            0.001500  \n",
       "21            0.001811  \n",
       "22            0.002104  \n",
       "23            0.002112  \n",
       "24            0.002274  \n",
       "25            0.002454  \n",
       "26            0.002251  \n",
       "27            0.002127  \n",
       "28            0.002265  \n",
       "29            0.002398  \n",
       "..                 ...  \n",
       "61            0.004937  \n",
       "62            0.004968  \n",
       "63            0.005173  \n",
       "64            0.005135  \n",
       "65            0.004902  \n",
       "66            0.005158  \n",
       "67            0.005372  \n",
       "68            0.005294  \n",
       "69            0.005264  \n",
       "70            0.005516  \n",
       "71            0.005562  \n",
       "72            0.005116  \n",
       "73            0.005340  \n",
       "74            0.005726  \n",
       "75            0.005418  \n",
       "76            0.005302  \n",
       "77            0.004903  \n",
       "78            0.004610  \n",
       "79            0.004439  \n",
       "80            0.004397  \n",
       "81            0.004417  \n",
       "82            0.004472  \n",
       "83            0.004290  \n",
       "84            0.004189  \n",
       "85            0.004227  \n",
       "86            0.004414  \n",
       "87            0.004668  \n",
       "88            0.004779  \n",
       "89            0.005146  \n",
       "90            0.004924  \n",
       "\n",
       "[91 rows x 8 columns]"
      ]
     },
     "execution_count": 56,
     "metadata": {},
     "output_type": "execute_result"
    }
   ],
   "source": [
    "eval_history"
   ]
  },
  {
   "cell_type": "code",
   "execution_count": 57,
   "metadata": {},
   "outputs": [
    {
     "data": {
      "image/png": "[encoded data removed]",
      "text/plain": [
       "<matplotlib.figure.Figure at 0x1c33ea2e278>"
      ]
     },
     "metadata": {},
     "output_type": "display_data"
    },
    {
     "data": {
      "image/png": "[encoded data removed]",
      "text/plain": [
       "<matplotlib.figure.Figure at 0x1c3401f4b70>"
      ]
     },
     "metadata": {},
     "output_type": "display_data"
    }
   ],
   "source": [
    "%matplotlib inline\n",
    "\n",
    "results_xgbclassifier2 = xgbclassifier_model2.evals_result()\n",
    "epochs = len(results_xgbclassifier2['validation_0']['merror'])\n",
    "x_axis = range(0, epochs)\n",
    "\n",
    "# plot log loss\n",
    "fig, ax = plt.subplots()\n",
    "ax.plot(x_axis, results_xgbclassifier2['validation_0']['mlogloss'], label='Train')\n",
    "ax.plot(x_axis, results_xgbclassifier2['validation_1']['mlogloss'], label='Test')\n",
    "ax.legend()\n",
    "plt.ylabel('Log Loss')\n",
    "plt.title('XGBoost Log Loss')\n",
    "plt.show()\n",
    "\n",
    "# plot classification error\n",
    "fig, ax = plt.subplots()\n",
    "ax.plot(x_axis, results_xgbclassifier2['validation_0']['merror'], label='Train')\n",
    "ax.plot(x_axis, results_xgbclassifier2['validation_1']['merror'], label='Test')\n",
    "ax.legend()\n",
    "plt.ylabel('Classification Error')\n",
    "plt.title('XGBoost Classification Error')\n",
    "plt.show()"
   ]
  },
  {
   "cell_type": "code",
   "execution_count": 58,
   "metadata": {},
   "outputs": [
    {
     "name": "stdout",
     "output_type": "stream",
     "text": [
      "Test accuracy at  -20 dB = 0.12575\n",
      "Test accuracy at  -18 dB = 0.1275\n",
      "Test accuracy at  -16 dB = 0.11875\n",
      "Test accuracy at  -14 dB = 0.1265\n",
      "Test accuracy at  -12 dB = 0.145\n",
      "Test accuracy at  -10 dB = 0.173\n",
      "Test accuracy at  -8 dB = 0.256\n",
      "Test accuracy at  -6 dB = 0.34775\n",
      "Test accuracy at  -4 dB = 0.3995\n",
      "Test accuracy at  -2 dB = 0.4805\n",
      "Test accuracy at  0 dB = 0.598\n",
      "Test accuracy at  2 dB = 0.70475\n",
      "Test accuracy at  4 dB = 0.8245\n",
      "Test accuracy at  6 dB = 0.856\n",
      "Test accuracy at  8 dB = 0.8555\n",
      "Test accuracy at  10 dB = 0.86\n",
      "Test accuracy at  12 dB = 0.86025\n",
      "Test accuracy at  14 dB = 0.8615\n",
      "Test accuracy at  16 dB = 0.85975\n",
      "Test accuracy at  18 dB = 0.86575\n"
     ]
    }
   ],
   "source": [
    "from sklearn.metrics import accuracy_score\n",
    "\n",
    "predictions = defaultdict(list)\n",
    "accuracy = defaultdict(list)\n",
    "y_pred = defaultdict(list)\n",
    "\n",
    "for snr in snrs:\n",
    "    y_pred[snr] = xgbclassifier_model2.predict(X_32test_new[snr])\n",
    "    predictions[snr] = [round(value) for value in y_pred[snr]]\n",
    "    accuracy[snr] = accuracy_score(y_32_test[snr], predictions[snr])\n",
    "    print (\"Test accuracy at \",snr,\"dB =\", accuracy[snr])"
   ]
  },
  {
   "cell_type": "code",
   "execution_count": 59,
   "metadata": {},
   "outputs": [
    {
     "data": {
      "image/png": "[encoded data removed]",
      "text/plain": [
       "<matplotlib.figure.Figure at 0x1c341955f98>"
      ]
     },
     "metadata": {},
     "output_type": "display_data"
    }
   ],
   "source": [
    "plt.style.use('classic')\n",
    "acc_test = sorted(accuracy.items())\n",
    "new_acc = []\n",
    "for i in range(len(acc_test)):\n",
    "    new_acc.append(acc_test[i][1])\n",
    "acc_test_values = new_acc \n",
    "\n",
    "fig1 = plt.figure(figsize=(8,4), dpi=100)\n",
    "x = snrs\n",
    "y = list(acc_test_values)\n",
    "plt.plot(x, y, marker=\"o\", linewidth=2.0, linestyle='dashed', color='royalblue')\n",
    "plt.axis([-20, 20, 0, 1])\n",
    "plt.xticks(np.arange(min(x), max(x)+1, 2.0))\n",
    "plt.yticks(np.arange(0, 1, 0.10))\n",
    "\n",
    "ttl = plt.title('SNR vs Accuracy', fontsize=16)\n",
    "ttl.set_weight('bold')\n",
    "plt.xlabel('SNR (dB)', fontsize=14)\n",
    "plt.ylabel('Test accuracy', fontsize=14)\n",
    "plt.grid()\n",
    "\n",
    "plt.show()"
   ]
  },
  {
   "cell_type": "code",
   "execution_count": 60,
   "metadata": {},
   "outputs": [
    {
     "name": "stdout",
     "output_type": "stream",
     "text": [
      "Confusion Matrix\n",
      "       8PSK  BPSK  CPFSK  GFSK  PAM4  QAM16  QAM64  QPSK\n",
      "8PSK   0.88  0.00   0.00  0.00  0.01   0.05   0.05  0.01\n",
      "BPSK   0.00  0.99   0.00  0.00  0.00   0.00   0.00  0.01\n",
      "CPFSK  0.00  0.00   0.99  0.00  0.00   0.01   0.01  0.00\n",
      "GFSK   0.01  0.00   0.00  0.99  0.00   0.00   0.00  0.00\n",
      "PAM4   0.00  0.01   0.00  0.00  0.97   0.01   0.00  0.00\n",
      "QAM16  0.01  0.00   0.00  0.00  0.00   0.56   0.43  0.00\n",
      "QAM64  0.01  0.00   0.00  0.00  0.00   0.42   0.56  0.01\n",
      "QPSK   0.02  0.00   0.00  0.00  0.00   0.04   0.01  0.93\n"
     ]
    },
    {
     "data": {
      "image/png": "[encoded data removed]",
      "text/plain": [
       "<matplotlib.figure.Figure at 0x1c33e9fbeb8>"
      ]
     },
     "metadata": {},
     "output_type": "display_data"
    }
   ],
   "source": [
    "# Confusion Matrix\n",
    "    \n",
    "from sklearn.metrics import confusion_matrix\n",
    "\n",
    "classes = ['8PSK', 'BPSK', 'CPFSK', 'GFSK', 'PAM4', 'QAM16', 'QAM64', 'QPSK']\n",
    "conf_matrix = confusion_matrix(y_pred[18], y_32_test[18])  \n",
    "\n",
    "conf_matrix = conf_matrix.astype('float') / conf_matrix.sum(axis=1)[:, np.newaxis]\n",
    "conf_matrix = conf_matrix.round(decimals = 2)\n",
    "\n",
    "import pandas as pd\n",
    "\n",
    "df = pd.DataFrame(data = conf_matrix, columns = classes, index = classes) \n",
    "print(\"Confusion Matrix\")\n",
    "print(df)\n",
    "\n",
    "fig1 = plt.figure(figsize=(8,4), dpi=100)\n",
    "plt.imshow(conf_matrix, interpolation = 'nearest', cmap = plt.cm.Purples)\n",
    "ticks = np.arange(len(classes))\n",
    "plt.title(\"Confusion Matrix\")\n",
    "plt.xticks(ticks, classes, rotation=45)\n",
    "plt.yticks(ticks, classes)\n",
    "\n",
    "plt.ylabel('True class')\n",
    "plt.xlabel('Predicted class')\n",
    "\n",
    "plt.tight_layout()\n",
    "plt.colorbar()\n",
    "plt.show()"
   ]
  },
  {
   "cell_type": "markdown",
   "metadata": {},
   "source": [
    "### Tune trade-off between learning_rate and num_boost_round\n",
    "Low learning_rate implies more trees must be added to the ensemble; learning_rate is commonly set between 0.1 and 0.3\n",
    "and also less than 0.1. Our learning_rate of 0.1 found via grid search is high and suggests that the default no. of trees 100 (during grid search) is low and more trees should be added. "
   ]
  },
  {
   "cell_type": "code",
   "execution_count": 61,
   "metadata": {},
   "outputs": [
    {
     "name": "stdout",
     "output_type": "stream",
     "text": [
      "Grid search took 287.1152663588524 minutes\n"
     ]
    },
    {
     "data": {
      "text/plain": [
       "([mean: 0.50915, std: 0.00124, params: {'n_estimators': 100, 'learning_rate': 0.0001},\n",
       "  mean: 0.51045, std: 0.00119, params: {'n_estimators': 200, 'learning_rate': 0.0001},\n",
       "  mean: 0.51039, std: 0.00150, params: {'n_estimators': 300, 'learning_rate': 0.0001},\n",
       "  mean: 0.51005, std: 0.00125, params: {'n_estimators': 400, 'learning_rate': 0.0001},\n",
       "  mean: 0.51025, std: 0.00098, params: {'n_estimators': 500, 'learning_rate': 0.0001},\n",
       "  mean: 0.51025, std: 0.00181, params: {'n_estimators': 100, 'learning_rate': 0.001},\n",
       "  mean: 0.51144, std: 0.00158, params: {'n_estimators': 200, 'learning_rate': 0.001},\n",
       "  mean: 0.51181, std: 0.00173, params: {'n_estimators': 300, 'learning_rate': 0.001},\n",
       "  mean: 0.51179, std: 0.00153, params: {'n_estimators': 400, 'learning_rate': 0.001},\n",
       "  mean: 0.51256, std: 0.00069, params: {'n_estimators': 500, 'learning_rate': 0.001},\n",
       "  mean: 0.51371, std: 0.00065, params: {'n_estimators': 100, 'learning_rate': 0.01},\n",
       "  mean: 0.51716, std: 0.00049, params: {'n_estimators': 200, 'learning_rate': 0.01},\n",
       "  mean: 0.51950, std: 0.00023, params: {'n_estimators': 300, 'learning_rate': 0.01},\n",
       "  mean: 0.52058, std: 0.00024, params: {'n_estimators': 400, 'learning_rate': 0.01},\n",
       "  mean: 0.52085, std: 0.00083, params: {'n_estimators': 500, 'learning_rate': 0.01},\n",
       "  mean: 0.52065, std: 0.00231, params: {'n_estimators': 100, 'learning_rate': 0.1},\n",
       "  mean: 0.52035, std: 0.00304, params: {'n_estimators': 200, 'learning_rate': 0.1},\n",
       "  mean: 0.51720, std: 0.00256, params: {'n_estimators': 300, 'learning_rate': 0.1},\n",
       "  mean: 0.51677, std: 0.00245, params: {'n_estimators': 400, 'learning_rate': 0.1},\n",
       "  mean: 0.51726, std: 0.00252, params: {'n_estimators': 500, 'learning_rate': 0.1}],\n",
       " {'learning_rate': 0.01, 'n_estimators': 500},\n",
       " 0.52085)"
      ]
     },
     "execution_count": 61,
     "metadata": {},
     "output_type": "execute_result"
    }
   ],
   "source": [
    "param_grid10 = {'learning_rate': [0.0001, 0.001, 0.01, 0.1], 'n_estimators': [100, 200, 300, 400, 500]}\n",
    "\n",
    "start = time()\n",
    "\n",
    "\n",
    "grid_search10 = GridSearchCV(estimator = XGBClassifier(max_depth= 11, min_child_weight= 6, gamma = 0.0, subsample = 0.75, \n",
    "                              colsample_bytree = 0.85, reg_alpha= 1e-05, reg_lambda= 1, \n",
    "                              objective='multi:softprob', num_class=8, early_stopping_rounds=20), \n",
    "                       param_grid = param_grid10, scoring= 'accuracy', n_jobs=4)\n",
    "\n",
    "grid_search10.fit(X_32train_new, y_32_train)\n",
    "print(\"Grid search took {} minutes\".format((time()-start)/60))\n",
    "\n",
    "grid_search10.grid_scores_, grid_search10.best_params_, grid_search10.best_score_"
   ]
  },
  {
   "cell_type": "code",
   "execution_count": null,
   "metadata": {
    "collapsed": true
   },
   "outputs": [],
   "source": []
  }
 ],
 "metadata": {
  "anaconda-cloud": {},
  "kernelspec": {
   "display_name": "Python 3",
   "language": "python",
   "name": "python3"
  },
  "language_info": {
   "codemirror_mode": {
    "name": "ipython",
    "version": 3
   },
   "file_extension": ".py",
   "mimetype": "text/x-python",
   "name": "python",
   "nbconvert_exporter": "python",
   "pygments_lexer": "ipython3",
   "version": "3.5.2"
  }
 },
 "nbformat": 4,
 "nbformat_minor": 1
}
