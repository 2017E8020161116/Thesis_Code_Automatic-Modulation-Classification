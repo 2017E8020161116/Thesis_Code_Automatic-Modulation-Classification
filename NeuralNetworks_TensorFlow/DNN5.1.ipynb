{
 "cells": [
  {
   "cell_type": "markdown",
   "metadata": {},
   "source": [
    "# <center>  Deep Neural Network (DNN) using plain TensorFlow"
   ]
  },
  {
   "cell_type": "markdown",
   "metadata": {},
   "source": [
    "## <font color = 'blue'> Get the data"
   ]
  },
  {
   "cell_type": "code",
   "execution_count": 1,
   "metadata": {
    "collapsed": false
   },
   "outputs": [
    {
     "name": "stdout",
     "output_type": "stream",
     "text": [
      "Stored variables and their in-db values:\n",
      "X_16_val                  -> array([[ -9.06753457e-01,   1.09156381e+00,  -5.53\n",
      "X_32_val                  -> array([[ 0.08277393,  0.0713877 ,  0.88800461, ...\n",
      "X_32test_std              -> defaultdict(<class 'list'>, {0: array([[ 0.0827739\n",
      "X_32train_std             -> array([[-0.00841265, -0.52374295,  0.47420127, ...\n",
      "X_test                    -> defaultdict(<class 'list'>, {0: array([[[ -7.53179\n",
      "X_test_std                -> defaultdict(<class 'list'>, {0: array([[-0.9067534\n",
      "X_train                   -> array([[[  6.31860690e-03,   3.69167514e-03,   2.7\n",
      "X_train_std               -> array([[ -8.41264958e-03,  -5.23742949e-01,   4.74\n",
      "snrs                      -> [-20, -18, -16, -14, -12, -10, -8, -6, -4, -2, 0, \n",
      "y_16_val                  -> array([2, 6, 3, ..., 2, 2, 7])\n",
      "y_32_test                 -> defaultdict(<class 'list'>, {0: array([7, 4, 0, ..\n",
      "y_32_train                -> array([6, 2, 4, ..., 5, 2, 7])\n",
      "y_32_val                  -> array([7, 4, 0, ..., 4, 7, 4])\n",
      "y_test                    -> defaultdict(<class 'list'>, {0: array([2, 6, 3, ..\n",
      "y_train                   -> array([6, 2, 4, ..., 5, 2, 7])\n"
     ]
    }
   ],
   "source": [
    "import matplotlib.pyplot as plt\n",
    "import numpy as np\n",
    "import tensorflow as tf\n",
    "from collections import defaultdict\n",
    "from time import time\n",
    "\n",
    "%store -r\n",
    "%store"
   ]
  },
  {
   "cell_type": "code",
   "execution_count": 2,
   "metadata": {
    "collapsed": false
   },
   "outputs": [
    {
     "name": "stdout",
     "output_type": "stream",
     "text": [
      "Training data:  (80000, 32) and labels:  (80000,)\n",
      " \n",
      "Test data:\n",
      "Total 20 (4000, 32) arrays for SNR values:\n",
      "[-20, -18, -16, -14, -12, -10, -8, -6, -4, -2, 0, 2, 4, 6, 8, 10, 12, 14, 16, 18]\n"
     ]
    }
   ],
   "source": [
    "print(\"Training data: \", X_32train_std.shape, \"and labels: \", y_32_train.shape)\n",
    "print(\" \")\n",
    "print(\"Test data:\")\n",
    "print(\"Total\", len(X_32test_std), X_32test_std[18].shape, \"arrays for SNR values:\")\n",
    "print(sorted(X_32test_std.keys()))"
   ]
  },
  {
   "cell_type": "code",
   "execution_count": 3,
   "metadata": {
    "collapsed": true
   },
   "outputs": [],
   "source": [
    "# tf.reset_default_graph()"
   ]
  },
  {
   "cell_type": "markdown",
   "metadata": {},
   "source": [
    "## <font color='blue'> Create validation set required for early stopping"
   ]
  },
  {
   "cell_type": "code",
   "execution_count": 4,
   "metadata": {
    "collapsed": false
   },
   "outputs": [
    {
     "name": "stdout",
     "output_type": "stream",
     "text": [
      "Validation set data (40000, 16) and labels (40000,)\n"
     ]
    },
    {
     "name": "stderr",
     "output_type": "stream",
     "text": [
      "/usr/local/lib/python3.5/dist-packages/ipykernel/__main__.py:9: VisibleDeprecationWarning: using a non-integer number instead of an integer will result in an error in the future\n",
      "/usr/local/lib/python3.5/dist-packages/ipykernel/__main__.py:10: VisibleDeprecationWarning: using a non-integer number instead of an integer will result in an error in the future\n",
      "/usr/local/lib/python3.5/dist-packages/ipykernel/__main__.py:11: VisibleDeprecationWarning: using a non-integer number instead of an integer will result in an error in the future\n",
      "/usr/local/lib/python3.5/dist-packages/ipykernel/__main__.py:12: VisibleDeprecationWarning: using a non-integer number instead of an integer will result in an error in the future\n"
     ]
    }
   ],
   "source": [
    "X_val = []\n",
    "y_val = []\n",
    "\n",
    "X_test_new = defaultdict(list)\n",
    "y_test_new = defaultdict(list)\n",
    "\n",
    "for snr in snrs:\n",
    "    n_test = X_test_std[snr].shape[0]\n",
    "    X_val.append(X_test_std[snr][:(n_test*0.5)])\n",
    "    y_val.append(y_test[snr][:(n_test*0.5)])\n",
    "    X_test_new[snr] = X_test_std[snr][(n_test*0.5):]\n",
    "    y_test_new[snr] = y_test[snr][(n_test*0.5):]\n",
    "    \n",
    "X_val = np.vstack(np.asarray(X_val))\n",
    "y_val =np.hstack(np.asarray(y_val))\n",
    "\n",
    "print(\"Validation set data\", X_val.shape, \"and labels\", y_val.shape)\n",
    "\n",
    "X_test_std = X_test_new\n",
    "y_test = y_test_new"
   ]
  },
  {
   "cell_type": "markdown",
   "metadata": {},
   "source": [
    "## <font color = 'blue'> Design and train the DNN"
   ]
  },
  {
   "cell_type": "code",
   "execution_count": 5,
   "metadata": {
    "collapsed": false
   },
   "outputs": [
    {
     "name": "stdout",
     "output_type": "stream",
     "text": [
      "0\tValidation loss: 1.927424\tMinimum loss: 1.927424\tAccuracy on validation set: 0.22\n",
      "1\tValidation loss: 1.748875\tMinimum loss: 1.748875\tAccuracy on validation set: 0.30\n",
      "2\tValidation loss: 1.657421\tMinimum loss: 1.657421\tAccuracy on validation set: 0.34\n",
      "3\tValidation loss: 1.599900\tMinimum loss: 1.599900\tAccuracy on validation set: 0.36\n",
      "4\tValidation loss: 1.552357\tMinimum loss: 1.552357\tAccuracy on validation set: 0.37\n",
      "5\tValidation loss: 1.511206\tMinimum loss: 1.511206\tAccuracy on validation set: 0.38\n",
      "6\tValidation loss: 1.473967\tMinimum loss: 1.473967\tAccuracy on validation set: 0.40\n",
      "7\tValidation loss: 1.443670\tMinimum loss: 1.443670\tAccuracy on validation set: 0.41\n",
      "8\tValidation loss: 1.418124\tMinimum loss: 1.418124\tAccuracy on validation set: 0.42\n",
      "9\tValidation loss: 1.397888\tMinimum loss: 1.397888\tAccuracy on validation set: 0.43\n",
      "10\tValidation loss: 1.381560\tMinimum loss: 1.381560\tAccuracy on validation set: 0.43\n",
      "11\tValidation loss: 1.368683\tMinimum loss: 1.368683\tAccuracy on validation set: 0.44\n",
      "12\tValidation loss: 1.358735\tMinimum loss: 1.358735\tAccuracy on validation set: 0.44\n",
      "13\tValidation loss: 1.351778\tMinimum loss: 1.351778\tAccuracy on validation set: 0.44\n",
      "14\tValidation loss: 1.342954\tMinimum loss: 1.342954\tAccuracy on validation set: 0.45\n",
      "15\tValidation loss: 1.337051\tMinimum loss: 1.337051\tAccuracy on validation set: 0.45\n",
      "16\tValidation loss: 1.331781\tMinimum loss: 1.331781\tAccuracy on validation set: 0.45\n",
      "17\tValidation loss: 1.328129\tMinimum loss: 1.328129\tAccuracy on validation set: 0.45\n",
      "18\tValidation loss: 1.323490\tMinimum loss: 1.323490\tAccuracy on validation set: 0.45\n",
      "19\tValidation loss: 1.317647\tMinimum loss: 1.317647\tAccuracy on validation set: 0.45\n",
      "20\tValidation loss: 1.317576\tMinimum loss: 1.317576\tAccuracy on validation set: 0.45\n",
      "21\tValidation loss: 1.312673\tMinimum loss: 1.312673\tAccuracy on validation set: 0.46\n",
      "22\tValidation loss: 1.309125\tMinimum loss: 1.309125\tAccuracy on validation set: 0.46\n",
      "23\tValidation loss: 1.305891\tMinimum loss: 1.305891\tAccuracy on validation set: 0.46\n",
      "24\tValidation loss: 1.303189\tMinimum loss: 1.303189\tAccuracy on validation set: 0.46\n",
      "25\tValidation loss: 1.300905\tMinimum loss: 1.300905\tAccuracy on validation set: 0.46\n",
      "26\tValidation loss: 1.300780\tMinimum loss: 1.300780\tAccuracy on validation set: 0.46\n",
      "27\tValidation loss: 1.296385\tMinimum loss: 1.296385\tAccuracy on validation set: 0.46\n",
      "28\tValidation loss: 1.295149\tMinimum loss: 1.295149\tAccuracy on validation set: 0.47\n",
      "29\tValidation loss: 1.293796\tMinimum loss: 1.293796\tAccuracy on validation set: 0.47\n",
      "30\tValidation loss: 1.290880\tMinimum loss: 1.290880\tAccuracy on validation set: 0.47\n",
      "31\tValidation loss: 1.288010\tMinimum loss: 1.288010\tAccuracy on validation set: 0.47\n",
      "32\tValidation loss: 1.284489\tMinimum loss: 1.284489\tAccuracy on validation set: 0.47\n",
      "33\tValidation loss: 1.282051\tMinimum loss: 1.282051\tAccuracy on validation set: 0.47\n",
      "34\tValidation loss: 1.280616\tMinimum loss: 1.280616\tAccuracy on validation set: 0.47\n",
      "35\tValidation loss: 1.278588\tMinimum loss: 1.278588\tAccuracy on validation set: 0.48\n",
      "36\tValidation loss: 1.275932\tMinimum loss: 1.275932\tAccuracy on validation set: 0.48\n",
      "37\tValidation loss: 1.272851\tMinimum loss: 1.272851\tAccuracy on validation set: 0.48\n",
      "38\tValidation loss: 1.267543\tMinimum loss: 1.267543\tAccuracy on validation set: 0.48\n",
      "39\tValidation loss: 1.267054\tMinimum loss: 1.267054\tAccuracy on validation set: 0.48\n",
      "40\tValidation loss: 1.263736\tMinimum loss: 1.263736\tAccuracy on validation set: 0.48\n",
      "41\tValidation loss: 1.259008\tMinimum loss: 1.259008\tAccuracy on validation set: 0.48\n",
      "42\tValidation loss: 1.255682\tMinimum loss: 1.255682\tAccuracy on validation set: 0.48\n",
      "43\tValidation loss: 1.250415\tMinimum loss: 1.250415\tAccuracy on validation set: 0.49\n",
      "44\tValidation loss: 1.247061\tMinimum loss: 1.247061\tAccuracy on validation set: 0.49\n",
      "45\tValidation loss: 1.244696\tMinimum loss: 1.244696\tAccuracy on validation set: 0.49\n",
      "46\tValidation loss: 1.243763\tMinimum loss: 1.243763\tAccuracy on validation set: 0.49\n",
      "47\tValidation loss: 1.239352\tMinimum loss: 1.239352\tAccuracy on validation set: 0.49\n",
      "48\tValidation loss: 1.235416\tMinimum loss: 1.235416\tAccuracy on validation set: 0.50\n",
      "49\tValidation loss: 1.232209\tMinimum loss: 1.232209\tAccuracy on validation set: 0.50\n",
      "50\tValidation loss: 1.226638\tMinimum loss: 1.226638\tAccuracy on validation set: 0.50\n",
      "51\tValidation loss: 1.225502\tMinimum loss: 1.225502\tAccuracy on validation set: 0.50\n",
      "52\tValidation loss: 1.222847\tMinimum loss: 1.222847\tAccuracy on validation set: 0.50\n",
      "53\tValidation loss: 1.219042\tMinimum loss: 1.219042\tAccuracy on validation set: 0.50\n",
      "54\tValidation loss: 1.218987\tMinimum loss: 1.218987\tAccuracy on validation set: 0.50\n",
      "55\tValidation loss: 1.216653\tMinimum loss: 1.216653\tAccuracy on validation set: 0.50\n",
      "56\tValidation loss: 1.212277\tMinimum loss: 1.212277\tAccuracy on validation set: 0.50\n",
      "57\tValidation loss: 1.210968\tMinimum loss: 1.210968\tAccuracy on validation set: 0.50\n",
      "58\tValidation loss: 1.210605\tMinimum loss: 1.210605\tAccuracy on validation set: 0.50\n",
      "59\tValidation loss: 1.208978\tMinimum loss: 1.208978\tAccuracy on validation set: 0.50\n",
      "60\tValidation loss: 1.206090\tMinimum loss: 1.206090\tAccuracy on validation set: 0.51\n",
      "61\tValidation loss: 1.204492\tMinimum loss: 1.204492\tAccuracy on validation set: 0.50\n",
      "62\tValidation loss: 1.205559\tMinimum loss: 1.204492\tAccuracy on validation set: 0.51\n",
      "63\tValidation loss: 1.203609\tMinimum loss: 1.203609\tAccuracy on validation set: 0.51\n",
      "64\tValidation loss: 1.203295\tMinimum loss: 1.203295\tAccuracy on validation set: 0.51\n",
      "65\tValidation loss: 1.202849\tMinimum loss: 1.202849\tAccuracy on validation set: 0.51\n",
      "66\tValidation loss: 1.199483\tMinimum loss: 1.199483\tAccuracy on validation set: 0.51\n",
      "67\tValidation loss: 1.197089\tMinimum loss: 1.197089\tAccuracy on validation set: 0.51\n",
      "68\tValidation loss: 1.196969\tMinimum loss: 1.196969\tAccuracy on validation set: 0.51\n",
      "69\tValidation loss: 1.195879\tMinimum loss: 1.195879\tAccuracy on validation set: 0.51\n",
      "70\tValidation loss: 1.195020\tMinimum loss: 1.195020\tAccuracy on validation set: 0.51\n",
      "71\tValidation loss: 1.195426\tMinimum loss: 1.195020\tAccuracy on validation set: 0.51\n",
      "72\tValidation loss: 1.192899\tMinimum loss: 1.192899\tAccuracy on validation set: 0.51\n",
      "73\tValidation loss: 1.194441\tMinimum loss: 1.192899\tAccuracy on validation set: 0.51\n",
      "74\tValidation loss: 1.192306\tMinimum loss: 1.192306\tAccuracy on validation set: 0.51\n",
      "75\tValidation loss: 1.192623\tMinimum loss: 1.192306\tAccuracy on validation set: 0.51\n",
      "76\tValidation loss: 1.192755\tMinimum loss: 1.192306\tAccuracy on validation set: 0.51\n",
      "77\tValidation loss: 1.189089\tMinimum loss: 1.189089\tAccuracy on validation set: 0.51\n",
      "78\tValidation loss: 1.190554\tMinimum loss: 1.189089\tAccuracy on validation set: 0.51\n",
      "79\tValidation loss: 1.189832\tMinimum loss: 1.189089\tAccuracy on validation set: 0.51\n",
      "80\tValidation loss: 1.190154\tMinimum loss: 1.189089\tAccuracy on validation set: 0.51\n",
      "81\tValidation loss: 1.190185\tMinimum loss: 1.189089\tAccuracy on validation set: 0.51\n",
      "82\tValidation loss: 1.187730\tMinimum loss: 1.187730\tAccuracy on validation set: 0.51\n",
      "83\tValidation loss: 1.193424\tMinimum loss: 1.187730\tAccuracy on validation set: 0.51\n",
      "84\tValidation loss: 1.188373\tMinimum loss: 1.187730\tAccuracy on validation set: 0.51\n",
      "85\tValidation loss: 1.187449\tMinimum loss: 1.187449\tAccuracy on validation set: 0.51\n",
      "86\tValidation loss: 1.188836\tMinimum loss: 1.187449\tAccuracy on validation set: 0.51\n",
      "87\tValidation loss: 1.188233\tMinimum loss: 1.187449\tAccuracy on validation set: 0.51\n",
      "88\tValidation loss: 1.185544\tMinimum loss: 1.185544\tAccuracy on validation set: 0.51\n",
      "89\tValidation loss: 1.186986\tMinimum loss: 1.185544\tAccuracy on validation set: 0.51\n",
      "90\tValidation loss: 1.184375\tMinimum loss: 1.184375\tAccuracy on validation set: 0.51\n",
      "91\tValidation loss: 1.183638\tMinimum loss: 1.183638\tAccuracy on validation set: 0.51\n",
      "92\tValidation loss: 1.184411\tMinimum loss: 1.183638\tAccuracy on validation set: 0.51\n",
      "93\tValidation loss: 1.183250\tMinimum loss: 1.183250\tAccuracy on validation set: 0.51\n",
      "94\tValidation loss: 1.183354\tMinimum loss: 1.183250\tAccuracy on validation set: 0.51\n",
      "95\tValidation loss: 1.185141\tMinimum loss: 1.183250\tAccuracy on validation set: 0.51\n",
      "96\tValidation loss: 1.182334\tMinimum loss: 1.182334\tAccuracy on validation set: 0.51\n",
      "97\tValidation loss: 1.182528\tMinimum loss: 1.182334\tAccuracy on validation set: 0.51\n",
      "98\tValidation loss: 1.181841\tMinimum loss: 1.181841\tAccuracy on validation set: 0.51\n",
      "99\tValidation loss: 1.184558\tMinimum loss: 1.181841\tAccuracy on validation set: 0.51\n",
      "100\tValidation loss: 1.183439\tMinimum loss: 1.181841\tAccuracy on validation set: 0.51\n",
      "101\tValidation loss: 1.183220\tMinimum loss: 1.181841\tAccuracy on validation set: 0.51\n",
      "102\tValidation loss: 1.182816\tMinimum loss: 1.181841\tAccuracy on validation set: 0.51\n",
      "103\tValidation loss: 1.182533\tMinimum loss: 1.181841\tAccuracy on validation set: 0.51\n",
      "104\tValidation loss: 1.184128\tMinimum loss: 1.181841\tAccuracy on validation set: 0.51\n",
      "105\tValidation loss: 1.185356\tMinimum loss: 1.181841\tAccuracy on validation set: 0.51\n",
      "106\tValidation loss: 1.182861\tMinimum loss: 1.181841\tAccuracy on validation set: 0.51\n",
      "107\tValidation loss: 1.181124\tMinimum loss: 1.181124\tAccuracy on validation set: 0.51\n",
      "108\tValidation loss: 1.179669\tMinimum loss: 1.179669\tAccuracy on validation set: 0.51\n",
      "109\tValidation loss: 1.180933\tMinimum loss: 1.179669\tAccuracy on validation set: 0.51\n",
      "110\tValidation loss: 1.180453\tMinimum loss: 1.179669\tAccuracy on validation set: 0.51\n",
      "111\tValidation loss: 1.181238\tMinimum loss: 1.179669\tAccuracy on validation set: 0.51\n",
      "112\tValidation loss: 1.179441\tMinimum loss: 1.179441\tAccuracy on validation set: 0.51\n",
      "113\tValidation loss: 1.179743\tMinimum loss: 1.179441\tAccuracy on validation set: 0.51\n",
      "114\tValidation loss: 1.179979\tMinimum loss: 1.179441\tAccuracy on validation set: 0.51\n",
      "115\tValidation loss: 1.179591\tMinimum loss: 1.179441\tAccuracy on validation set: 0.51\n",
      "116\tValidation loss: 1.178293\tMinimum loss: 1.178293\tAccuracy on validation set: 0.51\n",
      "117\tValidation loss: 1.178830\tMinimum loss: 1.178293\tAccuracy on validation set: 0.51\n",
      "118\tValidation loss: 1.180515\tMinimum loss: 1.178293\tAccuracy on validation set: 0.51\n",
      "119\tValidation loss: 1.176982\tMinimum loss: 1.176982\tAccuracy on validation set: 0.51\n",
      "120\tValidation loss: 1.176747\tMinimum loss: 1.176747\tAccuracy on validation set: 0.51\n",
      "121\tValidation loss: 1.177294\tMinimum loss: 1.176747\tAccuracy on validation set: 0.51\n",
      "122\tValidation loss: 1.177398\tMinimum loss: 1.176747\tAccuracy on validation set: 0.51\n",
      "123\tValidation loss: 1.176551\tMinimum loss: 1.176551\tAccuracy on validation set: 0.51\n",
      "124\tValidation loss: 1.178228\tMinimum loss: 1.176551\tAccuracy on validation set: 0.51\n",
      "125\tValidation loss: 1.177431\tMinimum loss: 1.176551\tAccuracy on validation set: 0.51\n",
      "126\tValidation loss: 1.177855\tMinimum loss: 1.176551\tAccuracy on validation set: 0.51\n",
      "127\tValidation loss: 1.177011\tMinimum loss: 1.176551\tAccuracy on validation set: 0.51\n",
      "128\tValidation loss: 1.177957\tMinimum loss: 1.176551\tAccuracy on validation set: 0.51\n",
      "129\tValidation loss: 1.176854\tMinimum loss: 1.176551\tAccuracy on validation set: 0.51\n",
      "130\tValidation loss: 1.179170\tMinimum loss: 1.176551\tAccuracy on validation set: 0.51\n",
      "131\tValidation loss: 1.177569\tMinimum loss: 1.176551\tAccuracy on validation set: 0.51\n",
      "132\tValidation loss: 1.176038\tMinimum loss: 1.176038\tAccuracy on validation set: 0.51\n",
      "133\tValidation loss: 1.175703\tMinimum loss: 1.175703\tAccuracy on validation set: 0.51\n",
      "134\tValidation loss: 1.176106\tMinimum loss: 1.175703\tAccuracy on validation set: 0.51\n",
      "135\tValidation loss: 1.174934\tMinimum loss: 1.174934\tAccuracy on validation set: 0.51\n",
      "136\tValidation loss: 1.174575\tMinimum loss: 1.174575\tAccuracy on validation set: 0.51\n",
      "137\tValidation loss: 1.173690\tMinimum loss: 1.173690\tAccuracy on validation set: 0.51\n",
      "138\tValidation loss: 1.174065\tMinimum loss: 1.173690\tAccuracy on validation set: 0.51\n",
      "139\tValidation loss: 1.174745\tMinimum loss: 1.173690\tAccuracy on validation set: 0.51\n",
      "140\tValidation loss: 1.176370\tMinimum loss: 1.173690\tAccuracy on validation set: 0.51\n",
      "141\tValidation loss: 1.175597\tMinimum loss: 1.173690\tAccuracy on validation set: 0.51\n",
      "142\tValidation loss: 1.174954\tMinimum loss: 1.173690\tAccuracy on validation set: 0.51\n",
      "143\tValidation loss: 1.174638\tMinimum loss: 1.173690\tAccuracy on validation set: 0.51\n",
      "144\tValidation loss: 1.173846\tMinimum loss: 1.173690\tAccuracy on validation set: 0.51\n",
      "145\tValidation loss: 1.174197\tMinimum loss: 1.173690\tAccuracy on validation set: 0.51\n",
      "146\tValidation loss: 1.175827\tMinimum loss: 1.173690\tAccuracy on validation set: 0.51\n",
      "147\tValidation loss: 1.175488\tMinimum loss: 1.173690\tAccuracy on validation set: 0.51\n",
      "148\tValidation loss: 1.176496\tMinimum loss: 1.173690\tAccuracy on validation set: 0.51\n",
      "149\tValidation loss: 1.175164\tMinimum loss: 1.173690\tAccuracy on validation set: 0.51\n",
      "150\tValidation loss: 1.173292\tMinimum loss: 1.173292\tAccuracy on validation set: 0.51\n",
      "151\tValidation loss: 1.173352\tMinimum loss: 1.173292\tAccuracy on validation set: 0.52\n",
      "152\tValidation loss: 1.173999\tMinimum loss: 1.173292\tAccuracy on validation set: 0.52\n",
      "153\tValidation loss: 1.174531\tMinimum loss: 1.173292\tAccuracy on validation set: 0.52\n",
      "154\tValidation loss: 1.174526\tMinimum loss: 1.173292\tAccuracy on validation set: 0.51\n",
      "155\tValidation loss: 1.175418\tMinimum loss: 1.173292\tAccuracy on validation set: 0.52\n",
      "156\tValidation loss: 1.176504\tMinimum loss: 1.173292\tAccuracy on validation set: 0.52\n",
      "157\tValidation loss: 1.176416\tMinimum loss: 1.173292\tAccuracy on validation set: 0.52\n",
      "158\tValidation loss: 1.175632\tMinimum loss: 1.173292\tAccuracy on validation set: 0.52\n",
      "159\tValidation loss: 1.174989\tMinimum loss: 1.173292\tAccuracy on validation set: 0.52\n",
      "160\tValidation loss: 1.172990\tMinimum loss: 1.172990\tAccuracy on validation set: 0.52\n",
      "161\tValidation loss: 1.172681\tMinimum loss: 1.172681\tAccuracy on validation set: 0.52\n",
      "162\tValidation loss: 1.174790\tMinimum loss: 1.172681\tAccuracy on validation set: 0.51\n",
      "163\tValidation loss: 1.170589\tMinimum loss: 1.170589\tAccuracy on validation set: 0.52\n",
      "164\tValidation loss: 1.170188\tMinimum loss: 1.170188\tAccuracy on validation set: 0.51\n",
      "165\tValidation loss: 1.172759\tMinimum loss: 1.170188\tAccuracy on validation set: 0.52\n",
      "166\tValidation loss: 1.171951\tMinimum loss: 1.170188\tAccuracy on validation set: 0.52\n",
      "167\tValidation loss: 1.172012\tMinimum loss: 1.170188\tAccuracy on validation set: 0.52\n",
      "168\tValidation loss: 1.170831\tMinimum loss: 1.170188\tAccuracy on validation set: 0.52\n",
      "169\tValidation loss: 1.172339\tMinimum loss: 1.170188\tAccuracy on validation set: 0.52\n",
      "170\tValidation loss: 1.170927\tMinimum loss: 1.170188\tAccuracy on validation set: 0.52\n",
      "171\tValidation loss: 1.169083\tMinimum loss: 1.169083\tAccuracy on validation set: 0.52\n",
      "172\tValidation loss: 1.171131\tMinimum loss: 1.169083\tAccuracy on validation set: 0.52\n",
      "173\tValidation loss: 1.170105\tMinimum loss: 1.169083\tAccuracy on validation set: 0.52\n",
      "174\tValidation loss: 1.171075\tMinimum loss: 1.169083\tAccuracy on validation set: 0.52\n",
      "175\tValidation loss: 1.171436\tMinimum loss: 1.169083\tAccuracy on validation set: 0.52\n",
      "176\tValidation loss: 1.173083\tMinimum loss: 1.169083\tAccuracy on validation set: 0.52\n",
      "177\tValidation loss: 1.172792\tMinimum loss: 1.169083\tAccuracy on validation set: 0.52\n",
      "178\tValidation loss: 1.172049\tMinimum loss: 1.169083\tAccuracy on validation set: 0.52\n",
      "179\tValidation loss: 1.172411\tMinimum loss: 1.169083\tAccuracy on validation set: 0.52\n",
      "180\tValidation loss: 1.172540\tMinimum loss: 1.169083\tAccuracy on validation set: 0.52\n",
      "181\tValidation loss: 1.171649\tMinimum loss: 1.169083\tAccuracy on validation set: 0.52\n",
      "182\tValidation loss: 1.172724\tMinimum loss: 1.169083\tAccuracy on validation set: 0.52\n",
      "183\tValidation loss: 1.173033\tMinimum loss: 1.169083\tAccuracy on validation set: 0.52\n",
      "184\tValidation loss: 1.171186\tMinimum loss: 1.169083\tAccuracy on validation set: 0.52\n",
      "185\tValidation loss: 1.171515\tMinimum loss: 1.169083\tAccuracy on validation set: 0.52\n",
      "186\tValidation loss: 1.171064\tMinimum loss: 1.169083\tAccuracy on validation set: 0.52\n",
      "187\tValidation loss: 1.170340\tMinimum loss: 1.169083\tAccuracy on validation set: 0.52\n",
      "188\tValidation loss: 1.170279\tMinimum loss: 1.169083\tAccuracy on validation set: 0.52\n",
      "189\tValidation loss: 1.171040\tMinimum loss: 1.169083\tAccuracy on validation set: 0.52\n",
      "190\tValidation loss: 1.170968\tMinimum loss: 1.169083\tAccuracy on validation set: 0.52\n",
      "191\tValidation loss: 1.171807\tMinimum loss: 1.169083\tAccuracy on validation set: 0.52\n",
      "** EARLY STOPPING ** \n",
      " \n",
      "INFO:tensorflow:Restoring parameters from ./DNN32_relu_he.ckpt\n",
      "Training and testing took 1.552650 minutes\n"
     ]
    }
   ],
   "source": [
    "# ----------------- Initialize parameters -----------------------\n",
    "\n",
    "\n",
    "n_hidden1 = 32\n",
    "n_hidden2 = 32\n",
    "n_outputs = 8\n",
    "\n",
    "X = tf.placeholder(tf.float32, shape=(None, 32))\n",
    "\n",
    "y = tf.placeholder(tf.int64, shape=(None))\n",
    "\n",
    "# ------------------- Define layers -----------------------\n",
    "\n",
    "from tensorflow.contrib.layers import fully_connected\n",
    "\n",
    "def leaky_relu_activation(inp):\n",
    "    return tf.maximum(0.01*inp, inp)\n",
    "\n",
    "def layer(X, n_neurons, activation):\n",
    "    layer = fully_connected(X, n_neurons, activation_fn = activation, \n",
    "                            weights_initializer = tf.contrib.layers.variance_scaling_initializer())\n",
    "    return layer\n",
    "\n",
    "layer1 = layer(X, n_hidden1, activation = leaky_relu_activation)\n",
    "\n",
    "layer2 = layer(layer1, n_hidden2, activation = leaky_relu_activation)\n",
    "\n",
    "logits = layer(layer2, n_outputs, activation = None)\n",
    "\n",
    "# ----------------- Specify performance measure ----------------------\n",
    "\n",
    "xentropy = tf.nn.sparse_softmax_cross_entropy_with_logits(labels=y, logits=logits)\n",
    "loss = tf.reduce_mean(xentropy)\n",
    "\n",
    "optimizer = tf.train.AdamOptimizer()\n",
    "training_op = optimizer.minimize(loss)\n",
    "\n",
    "correct = tf.nn.in_top_k(logits, y, 1)\n",
    "accuracy = tf.reduce_mean(tf.cast(correct, tf.float32))\n",
    "        \n",
    "# ------------------ Execution phase ----------------------------------    \n",
    "\n",
    "n_epochs = 1000\n",
    "batch_size = 1024\n",
    "n_train = X_train_std.shape[0]\n",
    "n_iter = n_train//batch_size\n",
    "\n",
    "saver = tf.train.Saver()\n",
    "\n",
    "min_loss = np.infty\n",
    "epochs_without_improvement = 0 \n",
    "max_epochs_without_improvement = 20   \n",
    "\n",
    "acc_test = defaultdict(list)\n",
    "\n",
    "start = time()\n",
    "path = \"./DNN32_relu_he.ckpt\"\n",
    "\n",
    "with tf.Session() as sess:\n",
    "    tf.global_variables_initializer().run()\n",
    "    for epoch in range(n_epochs):\n",
    "        for iteration in range(n_iter):\n",
    "            rand_indices = np.random.choice(n_train,batch_size) #select random samples to form mini batches   \n",
    "            X_batch, y_batch = X_32train_std[rand_indices], y_32_train[rand_indices]\n",
    "            sess.run(training_op, feed_dict={X: X_batch, y: y_batch})\n",
    "        valid_loss, acc_val = sess.run([loss, accuracy], feed_dict={X: X_32_val, y: y_32_val})\n",
    "        \n",
    "        # Early stopping \n",
    "        \n",
    "        if valid_loss < min_loss:\n",
    "            save_path = saver.save(sess, path)\n",
    "            min_loss = valid_loss\n",
    "            epochs_without_improvement = 0\n",
    "        else:\n",
    "            epochs_without_improvement += 1\n",
    "            if epochs_without_improvement > max_epochs_without_improvement:\n",
    "                print(\"** EARLY STOPPING ** \")\n",
    "                break\n",
    "        print(\"{}\\tValidation loss: {:.6f}\\tMinimum loss: {:.6f}\\tAccuracy on validation set: {:.2f}\".format(\n",
    "            epoch, valid_loss, min_loss, acc_val))\n",
    "\n",
    "print(\" \")\n",
    "with tf.Session() as sess:\n",
    "    saver.restore(sess, path)\n",
    "    for snr in snrs:\n",
    "        acc_test[snr] = accuracy.eval(feed_dict={X: X_32test_std[snr], y: y_32_test[snr]})\n",
    "\n",
    "print(\"Training and testing took %f minutes\"%(float(time() - start)/60))"
   ]
  },
  {
   "cell_type": "markdown",
   "metadata": {},
   "source": [
    "## <font color = 'blue'> Test the DNN"
   ]
  },
  {
   "cell_type": "code",
   "execution_count": 6,
   "metadata": {
    "collapsed": false
   },
   "outputs": [
    {
     "name": "stdout",
     "output_type": "stream",
     "text": [
      "DNN's test accuracy on -20 dB SNR samples =  0.13125\n",
      "DNN's test accuracy on -18 dB SNR samples =  0.12725\n",
      "DNN's test accuracy on -16 dB SNR samples =  0.13275\n",
      "DNN's test accuracy on -14 dB SNR samples =  0.12425\n",
      "DNN's test accuracy on -12 dB SNR samples =  0.14825\n",
      "DNN's test accuracy on -10 dB SNR samples =  0.2\n",
      "DNN's test accuracy on -8 dB SNR samples =  0.305\n",
      "DNN's test accuracy on -6 dB SNR samples =  0.36825\n",
      "DNN's test accuracy on -4 dB SNR samples =  0.40225\n",
      "DNN's test accuracy on -2 dB SNR samples =  0.462\n",
      "DNN's test accuracy on 0 dB SNR samples =  0.555\n",
      "DNN's test accuracy on 2 dB SNR samples =  0.69825\n",
      "DNN's test accuracy on 4 dB SNR samples =  0.81775\n",
      "DNN's test accuracy on 6 dB SNR samples =  0.8325\n",
      "DNN's test accuracy on 8 dB SNR samples =  0.83625\n",
      "DNN's test accuracy on 10 dB SNR samples =  0.8445\n",
      "DNN's test accuracy on 12 dB SNR samples =  0.8405\n",
      "DNN's test accuracy on 14 dB SNR samples =  0.83725\n",
      "DNN's test accuracy on 16 dB SNR samples =  0.83175\n",
      "DNN's test accuracy on 18 dB SNR samples =  0.8365\n"
     ]
    }
   ],
   "source": [
    "for snr in snrs:\n",
    "    print(\"DNN's test accuracy on %d dB SNR samples = \"%(snr), acc_test[snr])   "
   ]
  },
  {
   "cell_type": "markdown",
   "metadata": {
    "collapsed": true
   },
   "source": [
    "## <font color = 'blue'> Visualize DNN's performance"
   ]
  },
  {
   "cell_type": "code",
   "execution_count": 7,
   "metadata": {
    "collapsed": false
   },
   "outputs": [],
   "source": [
    "import matplotlib.pyplot as plt\n",
    "\n",
    "plt.style.use('classic')\n",
    "\n",
    "fig = plt.figure(figsize=(8, 4), dpi=100)\n",
    "x = snrs\n",
    "y = list(acc_test.values())\n",
    "plt.plot(x, y, marker=\"o\", linewidth=2.0, linestyle='dashed', color='royalblue')\n",
    "plt.axis([-20, 20, 0, 1])\n",
    "plt.xticks(np.arange(min(x), max(x)+1, 2.0))\n",
    "plt.yticks(np.arange(0, 1, 0.10))\n",
    "\n",
    "ttl = plt.title('SNR vs Accuracy', fontsize=16)\n",
    "ttl.set_weight('bold')\n",
    "plt.xlabel('SNR (dB)', fontsize=14)\n",
    "plt.ylabel('Test accuracy', fontsize=14)\n",
    "plt.grid()\n",
    "\n",
    "plt.show()"
   ]
  },
  {
   "cell_type": "code",
   "execution_count": 8,
   "metadata": {
    "collapsed": false
   },
   "outputs": [
    {
     "data": {
      "text/plain": [
       "defaultdict(list,\n",
       "            {-20: 0.13124999,\n",
       "             -18: 0.12725,\n",
       "             -16: 0.13275,\n",
       "             -14: 0.12425,\n",
       "             -12: 0.14825,\n",
       "             -10: 0.2,\n",
       "             -8: 0.30500001,\n",
       "             -6: 0.36825001,\n",
       "             -4: 0.40224999,\n",
       "             -2: 0.46200001,\n",
       "             0: 0.55500001,\n",
       "             2: 0.69825,\n",
       "             4: 0.81774998,\n",
       "             6: 0.83249998,\n",
       "             8: 0.83625001,\n",
       "             10: 0.84450001,\n",
       "             12: 0.8405,\n",
       "             14: 0.83724999,\n",
       "             16: 0.83174998,\n",
       "             18: 0.83649999})"
      ]
     },
     "execution_count": 8,
     "metadata": {},
     "output_type": "execute_result"
    }
   ],
   "source": [
    "acc_test"
   ]
  },
  {
   "cell_type": "code",
   "execution_count": null,
   "metadata": {
    "collapsed": true
   },
   "outputs": [],
   "source": []
  }
 ],
 "metadata": {
  "anaconda-cloud": {},
  "kernelspec": {
   "display_name": "Python 3",
   "language": "python",
   "name": "python3"
  },
  "language_info": {
   "codemirror_mode": {
    "name": "ipython",
    "version": 3
   },
   "file_extension": ".py",
   "mimetype": "text/x-python",
   "name": "python",
   "nbconvert_exporter": "python",
   "pygments_lexer": "ipython3",
   "version": "3.5.2"
  },
  "widgets": {
   "state": {},
   "version": "1.1.2"
  }
 },
 "nbformat": 4,
 "nbformat_minor": 0
}
