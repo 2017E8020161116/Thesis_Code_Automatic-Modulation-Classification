{
 "cells": [
  {
   "cell_type": "markdown",
   "metadata": {},
   "source": [
    "# <center>  Deep Neural Network (DNN) using plain TensorFlow\n",
    "\n",
    "### Regularization of DNN [256,256,256,256] with max-norm regularization"
   ]
  },
  {
   "cell_type": "markdown",
   "metadata": {},
   "source": [
    "## <font color = 'blue'> Get the data"
   ]
  },
  {
   "cell_type": "code",
   "execution_count": 1,
   "metadata": {},
   "outputs": [
    {
     "name": "stdout",
     "output_type": "stream",
     "text": [
      "Stored variables and their in-db values:\n",
      "X_32test_std              -> defaultdict(<class 'list'>, {0: array([[ 0.7957011\n",
      "X_32train_std             -> array([[-0.44445615,  0.62874736, -0.19049071, ...\n",
      "X_test                    -> defaultdict(<class 'list'>, {0: array([[[-0.004097\n",
      "X_test_std                -> defaultdict(<class 'list'>, {0: array([[ 0.8784659\n",
      "X_train                   -> array([[[-0.00304779,  0.0030504 , -0.00249425, ..\n",
      "X_train_std               -> array([[-0.44445615,  0.62874736, -0.19049071, ...\n",
      "snrs                      -> [-20, -18, -16, -14, -12, -10, -8, -6, -4, -2, 0, \n",
      "y_32_test                 -> defaultdict(<class 'list'>, {0: array([6, 7, 1, ..\n",
      "y_32_train                -> array([7, 2, 4, ..., 5, 5, 3])\n",
      "y_test                    -> defaultdict(<class 'list'>, {0: array([3, 2, 5, ..\n",
      "y_train                   -> array([7, 2, 4, ..., 5, 5, 3])\n"
     ]
    }
   ],
   "source": [
    "import warnings\n",
    "warnings.filterwarnings('ignore')\n",
    "\n",
    "import matplotlib.pyplot as plt\n",
    "import numpy as np\n",
    "import tensorflow as tf\n",
    "from collections import defaultdict\n",
    "from time import time\n",
    "from functools import partial\n",
    "\n",
    "%store -r\n",
    "%store"
   ]
  },
  {
   "cell_type": "code",
   "execution_count": 2,
   "metadata": {},
   "outputs": [
    {
     "name": "stdout",
     "output_type": "stream",
     "text": [
      "Training data:  (80000, 32) and labels:  (80000,)\n",
      " \n",
      "Test data:\n",
      "Total 20 (4000, 32) arrays for SNR values:\n",
      "[-20, -18, -16, -14, -12, -10, -8, -6, -4, -2, 0, 2, 4, 6, 8, 10, 12, 14, 16, 18]\n"
     ]
    }
   ],
   "source": [
    "print(\"Training data: \", X_32train_std.shape, \"and labels: \", y_32_train.shape)\n",
    "print(\" \")\n",
    "print(\"Test data:\")\n",
    "print(\"Total\", len(X_32test_std), X_32test_std[18].shape, \"arrays for SNR values:\")\n",
    "print(sorted(X_32test_std.keys()))"
   ]
  },
  {
   "cell_type": "code",
   "execution_count": 3,
   "metadata": {
    "collapsed": true
   },
   "outputs": [],
   "source": [
    "# tf.reset_default_graph()"
   ]
  },
  {
   "cell_type": "markdown",
   "metadata": {},
   "source": [
    "## <font color='blue'> Create validation set required for early stopping"
   ]
  },
  {
   "cell_type": "code",
   "execution_count": 4,
   "metadata": {},
   "outputs": [
    {
     "name": "stdout",
     "output_type": "stream",
     "text": [
      "Validation set data (40000, 32) and labels (40000,)\n"
     ]
    }
   ],
   "source": [
    "X_val = []\n",
    "y_val = []\n",
    "\n",
    "X_test_new = defaultdict(list)\n",
    "y_test_new = defaultdict(list)\n",
    "\n",
    "for snr in snrs:\n",
    "    n_test = X_32test_std[snr].shape[0]\n",
    "    X_val.append(X_32test_std[snr][:(n_test*0.5)])\n",
    "    y_val.append(y_32_test[snr][:(n_test*0.5)])\n",
    "    X_test_new[snr] = X_32test_std[snr][(n_test*0.5):]\n",
    "    y_test_new[snr] = y_32_test[snr][(n_test*0.5):]\n",
    "    \n",
    "X_val = np.vstack(np.asarray(X_val))\n",
    "y_val =np.hstack(np.asarray(y_val))\n",
    "\n",
    "print(\"Validation set data\", X_val.shape, \"and labels\", y_val.shape)\n",
    "\n",
    "X_32test_std = X_test_new\n",
    "y_32_test = y_test_new\n",
    "X_32_val = X_val \n",
    "y_32_val = y_val"
   ]
  },
  {
   "cell_type": "markdown",
   "metadata": {},
   "source": [
    "## <font color = 'blue'> Design and train the DNN"
   ]
  },
  {
   "cell_type": "code",
   "execution_count": 5,
   "metadata": {},
   "outputs": [
    {
     "name": "stdout",
     "output_type": "stream",
     "text": [
      "0\tValidation loss: 1.398042\tMinimum loss: 1.398042\tAccuracy on validation set: 0.42\n",
      "1\tValidation loss: 1.319292\tMinimum loss: 1.319292\tAccuracy on validation set: 0.45\n",
      "2\tValidation loss: 1.308735\tMinimum loss: 1.308735\tAccuracy on validation set: 0.46\n",
      "3\tValidation loss: 1.284621\tMinimum loss: 1.284621\tAccuracy on validation set: 0.47\n",
      "4\tValidation loss: 1.243694\tMinimum loss: 1.243694\tAccuracy on validation set: 0.49\n",
      "5\tValidation loss: 1.230867\tMinimum loss: 1.230867\tAccuracy on validation set: 0.49\n",
      "6\tValidation loss: 1.201689\tMinimum loss: 1.201689\tAccuracy on validation set: 0.50\n",
      "7\tValidation loss: 1.195004\tMinimum loss: 1.195004\tAccuracy on validation set: 0.50\n",
      "8\tValidation loss: 1.194342\tMinimum loss: 1.194342\tAccuracy on validation set: 0.50\n",
      "9\tValidation loss: 1.191829\tMinimum loss: 1.191829\tAccuracy on validation set: 0.50\n",
      "10\tValidation loss: 1.185067\tMinimum loss: 1.185067\tAccuracy on validation set: 0.50\n",
      "11\tValidation loss: 1.181152\tMinimum loss: 1.181152\tAccuracy on validation set: 0.51\n",
      "12\tValidation loss: 1.178728\tMinimum loss: 1.178728\tAccuracy on validation set: 0.51\n",
      "13\tValidation loss: 1.175459\tMinimum loss: 1.175459\tAccuracy on validation set: 0.51\n",
      "14\tValidation loss: 1.172844\tMinimum loss: 1.172844\tAccuracy on validation set: 0.51\n",
      "15\tValidation loss: 1.166669\tMinimum loss: 1.166669\tAccuracy on validation set: 0.51\n",
      "16\tValidation loss: 1.172543\tMinimum loss: 1.166669\tAccuracy on validation set: 0.51\n",
      "17\tValidation loss: 1.169910\tMinimum loss: 1.166669\tAccuracy on validation set: 0.51\n",
      "18\tValidation loss: 1.171443\tMinimum loss: 1.166669\tAccuracy on validation set: 0.51\n",
      "19\tValidation loss: 1.169554\tMinimum loss: 1.166669\tAccuracy on validation set: 0.51\n",
      "20\tValidation loss: 1.165980\tMinimum loss: 1.165980\tAccuracy on validation set: 0.51\n",
      "21\tValidation loss: 1.170280\tMinimum loss: 1.165980\tAccuracy on validation set: 0.51\n",
      "22\tValidation loss: 1.167675\tMinimum loss: 1.165980\tAccuracy on validation set: 0.51\n",
      "23\tValidation loss: 1.166127\tMinimum loss: 1.165980\tAccuracy on validation set: 0.51\n",
      "24\tValidation loss: 1.162242\tMinimum loss: 1.162242\tAccuracy on validation set: 0.51\n",
      "25\tValidation loss: 1.160749\tMinimum loss: 1.160749\tAccuracy on validation set: 0.52\n",
      "26\tValidation loss: 1.164775\tMinimum loss: 1.160749\tAccuracy on validation set: 0.51\n",
      "27\tValidation loss: 1.169999\tMinimum loss: 1.160749\tAccuracy on validation set: 0.51\n",
      "28\tValidation loss: 1.173177\tMinimum loss: 1.160749\tAccuracy on validation set: 0.51\n",
      "29\tValidation loss: 1.174446\tMinimum loss: 1.160749\tAccuracy on validation set: 0.51\n",
      "30\tValidation loss: 1.173025\tMinimum loss: 1.160749\tAccuracy on validation set: 0.51\n",
      "31\tValidation loss: 1.168777\tMinimum loss: 1.160749\tAccuracy on validation set: 0.51\n",
      "32\tValidation loss: 1.161647\tMinimum loss: 1.160749\tAccuracy on validation set: 0.52\n",
      "33\tValidation loss: 1.169902\tMinimum loss: 1.160749\tAccuracy on validation set: 0.51\n",
      "34\tValidation loss: 1.163606\tMinimum loss: 1.160749\tAccuracy on validation set: 0.51\n",
      "35\tValidation loss: 1.160651\tMinimum loss: 1.160651\tAccuracy on validation set: 0.51\n",
      "36\tValidation loss: 1.160353\tMinimum loss: 1.160353\tAccuracy on validation set: 0.52\n",
      "37\tValidation loss: 1.161080\tMinimum loss: 1.160353\tAccuracy on validation set: 0.52\n",
      "38\tValidation loss: 1.162115\tMinimum loss: 1.160353\tAccuracy on validation set: 0.51\n",
      "39\tValidation loss: 1.167296\tMinimum loss: 1.160353\tAccuracy on validation set: 0.51\n",
      "40\tValidation loss: 1.172772\tMinimum loss: 1.160353\tAccuracy on validation set: 0.51\n",
      "41\tValidation loss: 1.176629\tMinimum loss: 1.160353\tAccuracy on validation set: 0.51\n",
      "42\tValidation loss: 1.171462\tMinimum loss: 1.160353\tAccuracy on validation set: 0.51\n",
      "43\tValidation loss: 1.166720\tMinimum loss: 1.160353\tAccuracy on validation set: 0.51\n",
      "44\tValidation loss: 1.167470\tMinimum loss: 1.160353\tAccuracy on validation set: 0.52\n",
      "45\tValidation loss: 1.168746\tMinimum loss: 1.160353\tAccuracy on validation set: 0.51\n",
      "46\tValidation loss: 1.169740\tMinimum loss: 1.160353\tAccuracy on validation set: 0.51\n",
      "47\tValidation loss: 1.173677\tMinimum loss: 1.160353\tAccuracy on validation set: 0.51\n",
      "48\tValidation loss: 1.178855\tMinimum loss: 1.160353\tAccuracy on validation set: 0.51\n",
      "49\tValidation loss: 1.181764\tMinimum loss: 1.160353\tAccuracy on validation set: 0.51\n",
      "50\tValidation loss: 1.179192\tMinimum loss: 1.160353\tAccuracy on validation set: 0.51\n",
      "51\tValidation loss: 1.181873\tMinimum loss: 1.160353\tAccuracy on validation set: 0.51\n",
      "52\tValidation loss: 1.185895\tMinimum loss: 1.160353\tAccuracy on validation set: 0.51\n",
      "53\tValidation loss: 1.190131\tMinimum loss: 1.160353\tAccuracy on validation set: 0.51\n",
      "54\tValidation loss: 1.188639\tMinimum loss: 1.160353\tAccuracy on validation set: 0.51\n",
      "55\tValidation loss: 1.186393\tMinimum loss: 1.160353\tAccuracy on validation set: 0.51\n",
      "56\tValidation loss: 1.194995\tMinimum loss: 1.160353\tAccuracy on validation set: 0.51\n",
      "** EARLY STOPPING ** \n",
      " \n",
      "INFO:tensorflow:Restoring parameters from ./DNN4layer_regtech_maxnorm\n",
      "Training and testing took 2.089649 minutes\n"
     ]
    }
   ],
   "source": [
    "# ----------------- Initialize parameters -----------------------\n",
    "\n",
    "\n",
    "n_hidden1 = 256\n",
    "n_hidden2 = 256\n",
    "n_hidden3 = 256\n",
    "n_hidden4 = 256\n",
    "\n",
    "n_outputs = 8\n",
    "\n",
    "X = tf.placeholder(tf.float32, shape=(None, 32))\n",
    "y = tf.placeholder(tf.int64, shape=(None))\n",
    "training_ = tf.placeholder_with_default(False, shape=[])\n",
    "\n",
    "weight_init = tf.contrib.layers.xavier_initializer()\n",
    "activation_func = tf.nn.elu\n",
    "\n",
    "max_clip_value = 1.0\n",
    "\n",
    "# ------------------- Define layers -----------------------\n",
    "\n",
    "def dense_layer(input_layer, n_neurons, kernel_init, activation, name):\n",
    "    fully_conn = tf.layers.dense(inputs = input_layer, units = n_neurons, activation = activation,\n",
    "                                kernel_initializer = kernel_init, name = name)\n",
    "    return fully_conn\n",
    "        \n",
    "dense_layer1 = dense_layer(X, n_hidden1, weight_init, activation_func, \"dense1\")\n",
    "\n",
    "dl1_weights = tf.get_default_graph().get_tensor_by_name(\"dense1/kernel:0\")\n",
    "clipped1 = tf.clip_by_norm(dl1_weights, clip_norm = max_clip_value, axes=1)\n",
    "dl1_clipped = tf.assign(dl1_weights, clipped1)\n",
    "\n",
    "dense_layer2 = dense_layer(dense_layer1, n_hidden2, weight_init, activation_func, \"dense2\")\n",
    "\n",
    "dl2_weights = tf.get_default_graph().get_tensor_by_name(\"dense2/kernel:0\")\n",
    "clipped2 = tf.clip_by_norm(dl2_weights, clip_norm = max_clip_value, axes=1)\n",
    "dl2_clipped = tf.assign(dl2_weights, clipped2)\n",
    "\n",
    "dense_layer3 = dense_layer(dense_layer2, n_hidden3, weight_init, activation_func, \"dense3\")\n",
    "\n",
    "dl3_weights = tf.get_default_graph().get_tensor_by_name(\"dense3/kernel:0\")\n",
    "clipped3 = tf.clip_by_norm(dl3_weights, clip_norm = max_clip_value, axes=1)\n",
    "dl3_clipped = tf.assign(dl3_weights, clipped3)\n",
    "\n",
    "dense_layer4 = dense_layer(dense_layer3, n_hidden4, weight_init, activation_func, \"dense4\")\n",
    "\n",
    "dl4_weights = tf.get_default_graph().get_tensor_by_name(\"dense4/kernel:0\")\n",
    "clipped4 = tf.clip_by_norm(dl4_weights, clip_norm = max_clip_value, axes=1)\n",
    "dl4_clipped = tf.assign(dl4_weights, clipped4)\n",
    "\n",
    "logits = tf.layers.dense(dense_layer4, n_outputs)\n",
    "softmax_activations = tf.nn.softmax(logits)\n",
    "\n",
    "# ----------------- Specify performance measure ----------------------\n",
    "\n",
    "xentropy = tf.nn.sparse_softmax_cross_entropy_with_logits(labels=y, logits=logits)\n",
    "loss = tf.reduce_mean(xentropy)\n",
    "\n",
    "optimizer = tf.train.AdamOptimizer()\n",
    "training_op = optimizer.minimize(loss)\n",
    "\n",
    "correct = tf.nn.in_top_k(logits, y, 1)\n",
    "accuracy = tf.reduce_mean(tf.cast(correct, tf.float32))\n",
    "        \n",
    "# ------------------ Execution phase ----------------------------------    \n",
    "\n",
    "n_epochs = 1000\n",
    "batch_size = 1024\n",
    "n_train = X_train_std.shape[0]\n",
    "n_iter = n_train//batch_size\n",
    "\n",
    "saver = tf.train.Saver()\n",
    "\n",
    "min_loss = np.infty\n",
    "epochs_without_improvement = 0 \n",
    "max_epochs_without_improvement = 20   \n",
    "\n",
    "acc_test = defaultdict(list)\n",
    "\n",
    "start = time()\n",
    "path = \"./DNN4layer_regtech_maxnorm\"\n",
    "\n",
    "with tf.Session() as sess:\n",
    "    tf.global_variables_initializer().run()\n",
    "    for epoch in range(n_epochs):\n",
    "        for iteration in range(n_iter):\n",
    "            rand_indices = np.random.choice(n_train,batch_size) #select random samples to form mini batches   \n",
    "            X_batch, y_batch = X_32train_std[rand_indices], y_32_train[rand_indices]\n",
    "            sess.run(training_op, feed_dict={X: X_batch, y: y_batch,  training_: True})\n",
    "        valid_loss, acc_val = sess.run([loss, accuracy], feed_dict={X: X_32_val, y: y_32_val, training_: True})\n",
    "        \n",
    "        # Early stopping \n",
    "        \n",
    "        if valid_loss < min_loss:\n",
    "            save_path = saver.save(sess, path)\n",
    "            min_loss = valid_loss\n",
    "            epochs_without_improvement = 0\n",
    "        else:\n",
    "            epochs_without_improvement += 1\n",
    "            if epochs_without_improvement > max_epochs_without_improvement:\n",
    "                print(\"** EARLY STOPPING ** \")\n",
    "                break\n",
    "        print(\"{}\\tValidation loss: {:.6f}\\tMinimum loss: {:.6f}\\tAccuracy on validation set: {:.2f}\".format(\n",
    "            epoch, valid_loss, min_loss, acc_val))\n",
    "\n",
    "print(\" \")\n",
    "with tf.Session() as sess:\n",
    "    saver.restore(sess, path)\n",
    "    for snr in snrs:\n",
    "        acc_test[snr] = accuracy.eval(feed_dict={X: X_32test_std[snr], y: y_32_test[snr]})\n",
    "\n",
    "print(\"Training and testing took %f minutes\"%(float(time() - start)/60))"
   ]
  },
  {
   "cell_type": "markdown",
   "metadata": {},
   "source": [
    "## <font color = 'blue'> Test the DNN"
   ]
  },
  {
   "cell_type": "code",
   "execution_count": 6,
   "metadata": {},
   "outputs": [
    {
     "name": "stdout",
     "output_type": "stream",
     "text": [
      "DNN's test accuracy on -20 dB SNR samples =  0.134\n",
      "DNN's test accuracy on -18 dB SNR samples =  0.1365\n",
      "DNN's test accuracy on -16 dB SNR samples =  0.129\n",
      "DNN's test accuracy on -14 dB SNR samples =  0.1385\n",
      "DNN's test accuracy on -12 dB SNR samples =  0.1275\n",
      "DNN's test accuracy on -10 dB SNR samples =  0.191\n",
      "DNN's test accuracy on -8 dB SNR samples =  0.2955\n",
      "DNN's test accuracy on -6 dB SNR samples =  0.369\n",
      "DNN's test accuracy on -4 dB SNR samples =  0.407\n",
      "DNN's test accuracy on -2 dB SNR samples =  0.482\n",
      "DNN's test accuracy on 0 dB SNR samples =  0.586\n",
      "DNN's test accuracy on 2 dB SNR samples =  0.7015\n",
      "DNN's test accuracy on 4 dB SNR samples =  0.812\n",
      "DNN's test accuracy on 6 dB SNR samples =  0.828\n",
      "DNN's test accuracy on 8 dB SNR samples =  0.838\n",
      "DNN's test accuracy on 10 dB SNR samples =  0.828\n",
      "DNN's test accuracy on 12 dB SNR samples =  0.834\n",
      "DNN's test accuracy on 14 dB SNR samples =  0.833\n",
      "DNN's test accuracy on 16 dB SNR samples =  0.834\n",
      "DNN's test accuracy on 18 dB SNR samples =  0.8365\n"
     ]
    }
   ],
   "source": [
    "for snr in snrs:\n",
    "    print(\"DNN's test accuracy on %d dB SNR samples = \"%(snr), acc_test[snr])   "
   ]
  },
  {
   "cell_type": "markdown",
   "metadata": {
    "collapsed": true
   },
   "source": [
    "## <font color = 'blue'> Visualize DNN's performance"
   ]
  },
  {
   "cell_type": "code",
   "execution_count": 7,
   "metadata": {},
   "outputs": [
    {
     "data": {
      "image/png": "[encoded data removed]",
      "text/plain": [
       "<matplotlib.figure.Figure at 0x7f50641bbac8>"
      ]
     },
     "metadata": {},
     "output_type": "display_data"
    }
   ],
   "source": [
    "plt.style.use('classic')\n",
    "%matplotlib inline\n",
    "\n",
    "acc_test = sorted(acc_test.items())\n",
    "new_acc = []\n",
    "for i in range(len(acc_test)):\n",
    "    new_acc.append(acc_test[i][1])\n",
    "acc_test_values = new_acc \n",
    "\n",
    "fig1 = plt.figure(figsize=(10, 6), dpi=100)\n",
    "x = snrs\n",
    "y = list(acc_test_values)\n",
    "plt.plot(x, y, marker=\"o\", linewidth=2.0, linestyle='dashed', color='royalblue')\n",
    "plt.axis([-20, 20, 0, 1])\n",
    "plt.xticks(np.arange(min(x), max(x)+1, 2.0))\n",
    "plt.yticks(np.arange(0, 1, 0.10))\n",
    "\n",
    "ttl = plt.title('SNR vs Accuracy', fontsize=16)\n",
    "ttl.set_weight('bold')\n",
    "plt.xlabel('SNR (dB)', fontsize=14)\n",
    "plt.ylabel('Test accuracy', fontsize=14)\n",
    "plt.grid()\n",
    "\n",
    "plt.show()"
   ]
  },
  {
   "cell_type": "code",
   "execution_count": 8,
   "metadata": {},
   "outputs": [
    {
     "name": "stdout",
     "output_type": "stream",
     "text": [
      "INFO:tensorflow:Restoring parameters from ./DNN4layer_regtech_maxnorm\n",
      "Confusion Matrix\n",
      "       8PSK  BPSK  CPFSK  GFSK  PAM4  QAM16  QAM64  QPSK\n",
      "8PSK   0.81  0.00   0.00  0.00  0.00   0.08   0.10  0.00\n",
      "BPSK   0.00  1.00   0.00  0.00  0.00   0.00   0.00  0.00\n",
      "CPFSK  0.01  0.00   0.97  0.00  0.00   0.01   0.02  0.00\n",
      "GFSK   0.02  0.00   0.01  0.96  0.00   0.00   0.01  0.00\n",
      "PAM4   0.00  0.01   0.00  0.00  0.98   0.00   0.01  0.00\n",
      "QAM16  0.02  0.00   0.00  0.00  0.00   0.45   0.52  0.00\n",
      "QAM64  0.02  0.00   0.00  0.00  0.00   0.49   0.49  0.00\n",
      "QPSK   0.03  0.01   0.00  0.00  0.01   0.05   0.02  0.88\n"
     ]
    },
    {
     "data": {
      "image/png": "[encoded data removed]",
      "text/plain": [
       "<matplotlib.figure.Figure at 0x7f5050217748>"
      ]
     },
     "metadata": {},
     "output_type": "display_data"
    }
   ],
   "source": [
    "# Confusion Matrix\n",
    "\n",
    "with tf.Session() as sess:\n",
    "    saver.restore(sess, path)\n",
    "    Z = logits.eval(feed_dict = {X : X_32test_std[18]})\n",
    "    predicted_18dB = np.argmax(Z, axis = 1)\n",
    "    \n",
    "from sklearn.metrics import confusion_matrix\n",
    "%matplotlib inline\n",
    "\n",
    "classes = ['8PSK', 'BPSK', 'CPFSK', 'GFSK', 'PAM4', 'QAM16', 'QAM64', 'QPSK']\n",
    "conf_matrix = confusion_matrix(predicted_18dB, y_32_test[18])  \n",
    "\n",
    "conf_matrix = conf_matrix.astype('float') / conf_matrix.sum(axis=1)[:, np.newaxis]\n",
    "conf_matrix = conf_matrix.round(decimals = 2)\n",
    "\n",
    "import pandas as pd\n",
    "\n",
    "df = pd.DataFrame(data = conf_matrix, columns = classes, index = classes) \n",
    "print(\"Confusion Matrix\")\n",
    "print(df)\n",
    "\n",
    "fig1 = plt.figure(figsize=(10, 6), dpi=100)\n",
    "plt.imshow(conf_matrix, interpolation = 'nearest', cmap = plt.cm.Purples)\n",
    "ticks = np.arange(len(classes))\n",
    "plt.title(\"Confusion Matrix\")\n",
    "plt.xticks(ticks, classes, rotation=45)\n",
    "plt.yticks(ticks, classes)\n",
    "\n",
    "plt.ylabel('True class')\n",
    "plt.xlabel('Predicted class')\n",
    "\n",
    "plt.tight_layout()\n",
    "plt.colorbar()\n",
    "plt.show()"
   ]
  },
  {
   "cell_type": "code",
   "execution_count": null,
   "metadata": {
    "collapsed": true
   },
   "outputs": [],
   "source": []
  }
 ],
 "metadata": {
  "anaconda-cloud": {},
  "kernelspec": {
   "display_name": "Python 3",
   "language": "python",
   "name": "python3"
  },
  "language_info": {
   "codemirror_mode": {
    "name": "ipython",
    "version": 3
   },
   "file_extension": ".py",
   "mimetype": "text/x-python",
   "name": "python",
   "nbconvert_exporter": "python",
   "pygments_lexer": "ipython3",
   "version": "3.6.3"
  }
 },
 "nbformat": 4,
 "nbformat_minor": 1
}
