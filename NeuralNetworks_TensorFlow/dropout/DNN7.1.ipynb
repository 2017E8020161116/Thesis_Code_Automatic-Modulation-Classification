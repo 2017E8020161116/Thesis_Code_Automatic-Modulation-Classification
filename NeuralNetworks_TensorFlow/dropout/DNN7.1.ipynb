{
 "cells": [
  {
   "cell_type": "markdown",
   "metadata": {},
   "source": [
    "# <center>  Deep Neural Network (DNN) using plain TensorFlow"
   ]
  },
  {
   "cell_type": "markdown",
   "metadata": {},
   "source": [
    "## <font color = 'blue'> Get the data"
   ]
  },
  {
   "cell_type": "code",
   "execution_count": 1,
   "metadata": {
    "collapsed": false
   },
   "outputs": [
    {
     "name": "stdout",
     "output_type": "stream",
     "text": [
      "Stored variables and their in-db values:\n",
      "X_16_val                  -> array([[-0.05248989,  0.95262376, -0.95081096, ...\n",
      "X_32_val                  -> array([[-0.26412427,  0.80742202,  0.90784197, ...\n",
      "X_32test_std              -> defaultdict(<class 'list'>, {0: array([[-0.2641242\n",
      "X_32train_std             -> array([[-0.71199092,  0.15545522, -0.78672279, ...\n",
      "X_test                    -> defaultdict(<class 'list'>, {0: array([[[ 0.003087\n",
      "X_test_std                -> defaultdict(<class 'list'>, {0: array([[ -5.248988\n",
      "X_train                   -> array([[[ -8.82267195e-04,   4.11425252e-03,  -7.3\n",
      "X_train_std               -> array([[-0.71199092,  0.15545522, -0.78672279, ...\n",
      "snrs                      -> [-20, -18, -16, -14, -12, -10, -8, -6, -4, -2, 0, \n",
      "y_16_val                  -> array([7, 6, 5, ..., 1, 4, 7])\n",
      "y_32_test                 -> defaultdict(<class 'list'>, {0: array([4, 6, 6, ..\n",
      "y_32_train                -> array([4, 2, 0, ..., 1, 4, 6])\n",
      "y_32_val                  -> array([4, 6, 6, ..., 6, 7, 3])\n",
      "y_test                    -> defaultdict(<class 'list'>, {0: array([7, 6, 5, ..\n",
      "y_train                   -> array([4, 2, 0, ..., 1, 4, 6])\n"
     ]
    }
   ],
   "source": [
    "import matplotlib.pyplot as plt\n",
    "import numpy as np\n",
    "import tensorflow as tf\n",
    "from collections import defaultdict\n",
    "from time import time\n",
    "\n",
    "%store -r\n",
    "%store"
   ]
  },
  {
   "cell_type": "code",
   "execution_count": 2,
   "metadata": {
    "collapsed": false
   },
   "outputs": [
    {
     "name": "stdout",
     "output_type": "stream",
     "text": [
      "Training data:  (80000, 32) and labels:  (80000,)\n",
      " \n",
      "Test data:\n",
      "Total 20 (4000, 32) arrays for SNR values:\n",
      "[-20, -18, -16, -14, -12, -10, -8, -6, -4, -2, 0, 2, 4, 6, 8, 10, 12, 14, 16, 18]\n"
     ]
    }
   ],
   "source": [
    "print(\"Training data: \", X_32train_std.shape, \"and labels: \", y_32_train.shape)\n",
    "print(\" \")\n",
    "print(\"Test data:\")\n",
    "print(\"Total\", len(X_32test_std), X_32test_std[18].shape, \"arrays for SNR values:\")\n",
    "print(sorted(X_32test_std.keys()))"
   ]
  },
  {
   "cell_type": "code",
   "execution_count": 3,
   "metadata": {
    "collapsed": true
   },
   "outputs": [],
   "source": [
    "# tf.reset_default_graph()"
   ]
  },
  {
   "cell_type": "markdown",
   "metadata": {},
   "source": [
    "## <font color = 'blue'> Design and train the DNN"
   ]
  },
  {
   "cell_type": "code",
   "execution_count": 4,
   "metadata": {
    "collapsed": false
   },
   "outputs": [
    {
     "name": "stdout",
     "output_type": "stream",
     "text": [
      "0\tValidation loss: 1.698324\tMinimum loss: 1.698324\tAccuracy on validation set: 0.35\n",
      "1\tValidation loss: 1.604178\tMinimum loss: 1.604178\tAccuracy on validation set: 0.39\n",
      "2\tValidation loss: 1.557877\tMinimum loss: 1.557877\tAccuracy on validation set: 0.42\n",
      "3\tValidation loss: 1.527289\tMinimum loss: 1.527289\tAccuracy on validation set: 0.43\n",
      "4\tValidation loss: 1.510628\tMinimum loss: 1.510628\tAccuracy on validation set: 0.44\n",
      "5\tValidation loss: 1.498443\tMinimum loss: 1.498443\tAccuracy on validation set: 0.44\n",
      "6\tValidation loss: 1.489788\tMinimum loss: 1.489788\tAccuracy on validation set: 0.45\n",
      "7\tValidation loss: 1.480134\tMinimum loss: 1.480134\tAccuracy on validation set: 0.45\n",
      "8\tValidation loss: 1.475863\tMinimum loss: 1.475863\tAccuracy on validation set: 0.45\n",
      "9\tValidation loss: 1.468567\tMinimum loss: 1.468567\tAccuracy on validation set: 0.45\n",
      "10\tValidation loss: 1.464414\tMinimum loss: 1.464414\tAccuracy on validation set: 0.46\n",
      "11\tValidation loss: 1.459324\tMinimum loss: 1.459324\tAccuracy on validation set: 0.46\n",
      "12\tValidation loss: 1.460653\tMinimum loss: 1.459324\tAccuracy on validation set: 0.46\n",
      "13\tValidation loss: 1.455230\tMinimum loss: 1.455230\tAccuracy on validation set: 0.46\n",
      "14\tValidation loss: 1.450337\tMinimum loss: 1.450337\tAccuracy on validation set: 0.46\n",
      "15\tValidation loss: 1.445778\tMinimum loss: 1.445778\tAccuracy on validation set: 0.46\n",
      "16\tValidation loss: 1.441396\tMinimum loss: 1.441396\tAccuracy on validation set: 0.47\n",
      "17\tValidation loss: 1.434784\tMinimum loss: 1.434784\tAccuracy on validation set: 0.47\n",
      "18\tValidation loss: 1.428146\tMinimum loss: 1.428146\tAccuracy on validation set: 0.47\n",
      "19\tValidation loss: 1.423968\tMinimum loss: 1.423968\tAccuracy on validation set: 0.48\n",
      "20\tValidation loss: 1.415164\tMinimum loss: 1.415164\tAccuracy on validation set: 0.48\n",
      "21\tValidation loss: 1.402954\tMinimum loss: 1.402954\tAccuracy on validation set: 0.48\n",
      "22\tValidation loss: 1.403773\tMinimum loss: 1.402954\tAccuracy on validation set: 0.49\n",
      "23\tValidation loss: 1.394490\tMinimum loss: 1.394490\tAccuracy on validation set: 0.49\n",
      "24\tValidation loss: 1.390982\tMinimum loss: 1.390982\tAccuracy on validation set: 0.49\n",
      "25\tValidation loss: 1.385538\tMinimum loss: 1.385538\tAccuracy on validation set: 0.50\n",
      "26\tValidation loss: 1.380924\tMinimum loss: 1.380924\tAccuracy on validation set: 0.50\n",
      "27\tValidation loss: 1.382246\tMinimum loss: 1.380924\tAccuracy on validation set: 0.50\n",
      "28\tValidation loss: 1.375495\tMinimum loss: 1.375495\tAccuracy on validation set: 0.50\n",
      "29\tValidation loss: 1.375550\tMinimum loss: 1.375495\tAccuracy on validation set: 0.50\n",
      "30\tValidation loss: 1.373422\tMinimum loss: 1.373422\tAccuracy on validation set: 0.50\n",
      "31\tValidation loss: 1.373183\tMinimum loss: 1.373183\tAccuracy on validation set: 0.50\n",
      "32\tValidation loss: 1.370892\tMinimum loss: 1.370892\tAccuracy on validation set: 0.50\n",
      "33\tValidation loss: 1.370834\tMinimum loss: 1.370834\tAccuracy on validation set: 0.50\n",
      "34\tValidation loss: 1.368520\tMinimum loss: 1.368520\tAccuracy on validation set: 0.50\n",
      "35\tValidation loss: 1.363689\tMinimum loss: 1.363689\tAccuracy on validation set: 0.50\n",
      "36\tValidation loss: 1.362624\tMinimum loss: 1.362624\tAccuracy on validation set: 0.51\n",
      "37\tValidation loss: 1.366029\tMinimum loss: 1.362624\tAccuracy on validation set: 0.50\n",
      "38\tValidation loss: 1.364350\tMinimum loss: 1.362624\tAccuracy on validation set: 0.50\n",
      "39\tValidation loss: 1.361290\tMinimum loss: 1.361290\tAccuracy on validation set: 0.51\n",
      "40\tValidation loss: 1.362791\tMinimum loss: 1.361290\tAccuracy on validation set: 0.51\n",
      "41\tValidation loss: 1.360814\tMinimum loss: 1.360814\tAccuracy on validation set: 0.51\n",
      "42\tValidation loss: 1.360280\tMinimum loss: 1.360280\tAccuracy on validation set: 0.51\n",
      "43\tValidation loss: 1.357363\tMinimum loss: 1.357363\tAccuracy on validation set: 0.51\n",
      "44\tValidation loss: 1.356287\tMinimum loss: 1.356287\tAccuracy on validation set: 0.51\n",
      "45\tValidation loss: 1.358611\tMinimum loss: 1.356287\tAccuracy on validation set: 0.51\n",
      "46\tValidation loss: 1.353963\tMinimum loss: 1.353963\tAccuracy on validation set: 0.51\n",
      "47\tValidation loss: 1.355492\tMinimum loss: 1.353963\tAccuracy on validation set: 0.51\n",
      "48\tValidation loss: 1.352815\tMinimum loss: 1.352815\tAccuracy on validation set: 0.51\n",
      "49\tValidation loss: 1.358163\tMinimum loss: 1.352815\tAccuracy on validation set: 0.51\n",
      "50\tValidation loss: 1.352532\tMinimum loss: 1.352532\tAccuracy on validation set: 0.51\n",
      "51\tValidation loss: 1.353532\tMinimum loss: 1.352532\tAccuracy on validation set: 0.51\n",
      "52\tValidation loss: 1.352613\tMinimum loss: 1.352532\tAccuracy on validation set: 0.51\n",
      "53\tValidation loss: 1.353757\tMinimum loss: 1.352532\tAccuracy on validation set: 0.51\n",
      "54\tValidation loss: 1.352391\tMinimum loss: 1.352391\tAccuracy on validation set: 0.51\n",
      "55\tValidation loss: 1.350899\tMinimum loss: 1.350899\tAccuracy on validation set: 0.51\n",
      "56\tValidation loss: 1.348601\tMinimum loss: 1.348601\tAccuracy on validation set: 0.51\n",
      "57\tValidation loss: 1.345636\tMinimum loss: 1.345636\tAccuracy on validation set: 0.51\n",
      "58\tValidation loss: 1.350688\tMinimum loss: 1.345636\tAccuracy on validation set: 0.51\n",
      "59\tValidation loss: 1.353519\tMinimum loss: 1.345636\tAccuracy on validation set: 0.51\n",
      "60\tValidation loss: 1.350486\tMinimum loss: 1.345636\tAccuracy on validation set: 0.51\n",
      "61\tValidation loss: 1.346999\tMinimum loss: 1.345636\tAccuracy on validation set: 0.51\n",
      "62\tValidation loss: 1.350849\tMinimum loss: 1.345636\tAccuracy on validation set: 0.51\n",
      "63\tValidation loss: 1.354993\tMinimum loss: 1.345636\tAccuracy on validation set: 0.51\n",
      "64\tValidation loss: 1.347999\tMinimum loss: 1.345636\tAccuracy on validation set: 0.51\n",
      "65\tValidation loss: 1.352331\tMinimum loss: 1.345636\tAccuracy on validation set: 0.51\n",
      "66\tValidation loss: 1.349458\tMinimum loss: 1.345636\tAccuracy on validation set: 0.51\n",
      "67\tValidation loss: 1.350963\tMinimum loss: 1.345636\tAccuracy on validation set: 0.51\n",
      "68\tValidation loss: 1.345539\tMinimum loss: 1.345539\tAccuracy on validation set: 0.51\n",
      "69\tValidation loss: 1.350856\tMinimum loss: 1.345539\tAccuracy on validation set: 0.51\n",
      "70\tValidation loss: 1.351443\tMinimum loss: 1.345539\tAccuracy on validation set: 0.51\n",
      "71\tValidation loss: 1.347427\tMinimum loss: 1.345539\tAccuracy on validation set: 0.51\n",
      "72\tValidation loss: 1.349086\tMinimum loss: 1.345539\tAccuracy on validation set: 0.51\n",
      "73\tValidation loss: 1.351126\tMinimum loss: 1.345539\tAccuracy on validation set: 0.51\n",
      "74\tValidation loss: 1.345159\tMinimum loss: 1.345159\tAccuracy on validation set: 0.51\n",
      "75\tValidation loss: 1.345500\tMinimum loss: 1.345159\tAccuracy on validation set: 0.51\n",
      "76\tValidation loss: 1.345727\tMinimum loss: 1.345159\tAccuracy on validation set: 0.51\n",
      "77\tValidation loss: 1.347536\tMinimum loss: 1.345159\tAccuracy on validation set: 0.51\n",
      "78\tValidation loss: 1.349372\tMinimum loss: 1.345159\tAccuracy on validation set: 0.51\n",
      "79\tValidation loss: 1.346056\tMinimum loss: 1.345159\tAccuracy on validation set: 0.51\n",
      "80\tValidation loss: 1.349444\tMinimum loss: 1.345159\tAccuracy on validation set: 0.51\n",
      "81\tValidation loss: 1.347772\tMinimum loss: 1.345159\tAccuracy on validation set: 0.51\n",
      "82\tValidation loss: 1.351670\tMinimum loss: 1.345159\tAccuracy on validation set: 0.51\n",
      "83\tValidation loss: 1.345642\tMinimum loss: 1.345159\tAccuracy on validation set: 0.51\n",
      "84\tValidation loss: 1.349744\tMinimum loss: 1.345159\tAccuracy on validation set: 0.51\n",
      "85\tValidation loss: 1.345836\tMinimum loss: 1.345159\tAccuracy on validation set: 0.51\n",
      "86\tValidation loss: 1.347249\tMinimum loss: 1.345159\tAccuracy on validation set: 0.51\n",
      "87\tValidation loss: 1.344597\tMinimum loss: 1.344597\tAccuracy on validation set: 0.51\n",
      "88\tValidation loss: 1.343783\tMinimum loss: 1.343783\tAccuracy on validation set: 0.51\n",
      "89\tValidation loss: 1.346303\tMinimum loss: 1.343783\tAccuracy on validation set: 0.51\n",
      "90\tValidation loss: 1.348065\tMinimum loss: 1.343783\tAccuracy on validation set: 0.51\n",
      "91\tValidation loss: 1.344725\tMinimum loss: 1.343783\tAccuracy on validation set: 0.51\n",
      "92\tValidation loss: 1.344617\tMinimum loss: 1.343783\tAccuracy on validation set: 0.51\n",
      "93\tValidation loss: 1.348386\tMinimum loss: 1.343783\tAccuracy on validation set: 0.51\n",
      "94\tValidation loss: 1.346545\tMinimum loss: 1.343783\tAccuracy on validation set: 0.51\n",
      "95\tValidation loss: 1.342896\tMinimum loss: 1.342896\tAccuracy on validation set: 0.52\n",
      "96\tValidation loss: 1.343952\tMinimum loss: 1.342896\tAccuracy on validation set: 0.51\n",
      "97\tValidation loss: 1.344025\tMinimum loss: 1.342896\tAccuracy on validation set: 0.51\n",
      "98\tValidation loss: 1.346025\tMinimum loss: 1.342896\tAccuracy on validation set: 0.51\n",
      "99\tValidation loss: 1.343437\tMinimum loss: 1.342896\tAccuracy on validation set: 0.51\n",
      "100\tValidation loss: 1.349142\tMinimum loss: 1.342896\tAccuracy on validation set: 0.51\n",
      "101\tValidation loss: 1.348039\tMinimum loss: 1.342896\tAccuracy on validation set: 0.51\n",
      "102\tValidation loss: 1.345467\tMinimum loss: 1.342896\tAccuracy on validation set: 0.51\n",
      "103\tValidation loss: 1.344550\tMinimum loss: 1.342896\tAccuracy on validation set: 0.51\n",
      "104\tValidation loss: 1.347830\tMinimum loss: 1.342896\tAccuracy on validation set: 0.51\n",
      "105\tValidation loss: 1.347173\tMinimum loss: 1.342896\tAccuracy on validation set: 0.51\n",
      "106\tValidation loss: 1.342098\tMinimum loss: 1.342098\tAccuracy on validation set: 0.51\n",
      "107\tValidation loss: 1.348053\tMinimum loss: 1.342098\tAccuracy on validation set: 0.51\n",
      "108\tValidation loss: 1.343942\tMinimum loss: 1.342098\tAccuracy on validation set: 0.51\n",
      "109\tValidation loss: 1.344208\tMinimum loss: 1.342098\tAccuracy on validation set: 0.51\n",
      "110\tValidation loss: 1.345341\tMinimum loss: 1.342098\tAccuracy on validation set: 0.52\n",
      "111\tValidation loss: 1.343793\tMinimum loss: 1.342098\tAccuracy on validation set: 0.51\n",
      "112\tValidation loss: 1.342121\tMinimum loss: 1.342098\tAccuracy on validation set: 0.52\n",
      "113\tValidation loss: 1.345992\tMinimum loss: 1.342098\tAccuracy on validation set: 0.51\n",
      "114\tValidation loss: 1.344606\tMinimum loss: 1.342098\tAccuracy on validation set: 0.51\n",
      "115\tValidation loss: 1.342090\tMinimum loss: 1.342090\tAccuracy on validation set: 0.51\n",
      "116\tValidation loss: 1.348778\tMinimum loss: 1.342090\tAccuracy on validation set: 0.51\n",
      "117\tValidation loss: 1.343604\tMinimum loss: 1.342090\tAccuracy on validation set: 0.51\n",
      "118\tValidation loss: 1.346619\tMinimum loss: 1.342090\tAccuracy on validation set: 0.51\n",
      "119\tValidation loss: 1.347794\tMinimum loss: 1.342090\tAccuracy on validation set: 0.51\n",
      "120\tValidation loss: 1.346659\tMinimum loss: 1.342090\tAccuracy on validation set: 0.52\n",
      "121\tValidation loss: 1.344523\tMinimum loss: 1.342090\tAccuracy on validation set: 0.51\n",
      "122\tValidation loss: 1.346790\tMinimum loss: 1.342090\tAccuracy on validation set: 0.51\n",
      "123\tValidation loss: 1.345812\tMinimum loss: 1.342090\tAccuracy on validation set: 0.52\n",
      "124\tValidation loss: 1.348037\tMinimum loss: 1.342090\tAccuracy on validation set: 0.51\n",
      "125\tValidation loss: 1.346156\tMinimum loss: 1.342090\tAccuracy on validation set: 0.52\n",
      "126\tValidation loss: 1.344640\tMinimum loss: 1.342090\tAccuracy on validation set: 0.51\n",
      "127\tValidation loss: 1.345644\tMinimum loss: 1.342090\tAccuracy on validation set: 0.51\n",
      "128\tValidation loss: 1.348150\tMinimum loss: 1.342090\tAccuracy on validation set: 0.51\n",
      "129\tValidation loss: 1.345520\tMinimum loss: 1.342090\tAccuracy on validation set: 0.52\n",
      "130\tValidation loss: 1.346322\tMinimum loss: 1.342090\tAccuracy on validation set: 0.51\n",
      "131\tValidation loss: 1.347147\tMinimum loss: 1.342090\tAccuracy on validation set: 0.51\n",
      "132\tValidation loss: 1.345813\tMinimum loss: 1.342090\tAccuracy on validation set: 0.51\n",
      "133\tValidation loss: 1.347137\tMinimum loss: 1.342090\tAccuracy on validation set: 0.51\n",
      "134\tValidation loss: 1.344840\tMinimum loss: 1.342090\tAccuracy on validation set: 0.51\n",
      "135\tValidation loss: 1.344954\tMinimum loss: 1.342090\tAccuracy on validation set: 0.52\n",
      "** EARLY STOPPING ** \n",
      " \n",
      "INFO:tensorflow:Restoring parameters from ./DNNdropout2.ckpt\n",
      "Training and testing took 4.270792 minutes\n"
     ]
    }
   ],
   "source": [
    "# ----------------- Initialize parameters -----------------------\n",
    "\n",
    "\n",
    "n_hidden1 = 256\n",
    "n_hidden2 = 256\n",
    "n_outputs = 8\n",
    "\n",
    "X = tf.placeholder(tf.float32, shape=(None, 32))\n",
    "\n",
    "y = tf.placeholder(tf.int64, shape=(None))\n",
    "\n",
    "# ------------------- Define layers -----------------------\n",
    "\n",
    "from tensorflow.contrib.layers import fully_connected\n",
    "\n",
    "def layer(X, n_neurons, activation):\n",
    "    layer = fully_connected(X, n_neurons, activation_fn = activation, \n",
    "                            weights_initializer = tf.contrib.layers.xavier_initializer())\n",
    "    dropout_layer = tf.layers.dropout(layer, rate = 0.3, training = True)\n",
    "    return dropout_layer\n",
    "\n",
    "layer1 = layer(X, n_hidden1, activation = tf.nn.relu)\n",
    "\n",
    "layer2 = layer(layer1, n_hidden2, activation = tf.nn.relu)\n",
    "\n",
    "logits = fully_connected(layer2, n_outputs, activation_fn = None, weights_initializer = tf.contrib.layers.xavier_initializer())\n",
    "\n",
    "# ----------------- Specify performance measure ----------------------\n",
    "\n",
    "xentropy = tf.nn.sparse_softmax_cross_entropy_with_logits(labels=y, logits=logits)\n",
    "loss = tf.reduce_mean(xentropy)\n",
    "\n",
    "optimizer = tf.train.AdamOptimizer()\n",
    "training_op = optimizer.minimize(loss)\n",
    "\n",
    "correct = tf.nn.in_top_k(logits, y, 1)\n",
    "accuracy = tf.reduce_mean(tf.cast(correct, tf.float32))\n",
    "        \n",
    "# ------------------ Execution phase ----------------------------------    \n",
    "\n",
    "n_epochs = 1000\n",
    "batch_size = 1024\n",
    "n_train = X_train_std.shape[0]\n",
    "n_iter = n_train//batch_size\n",
    "\n",
    "saver = tf.train.Saver()\n",
    "\n",
    "min_loss = np.infty\n",
    "epochs_without_improvement = 0 \n",
    "max_epochs_without_improvement = 20   \n",
    "\n",
    "acc_test = defaultdict(list)\n",
    "\n",
    "start = time()\n",
    "path = \"./DNNdropout2.ckpt\"\n",
    "\n",
    "with tf.Session() as sess:\n",
    "    tf.global_variables_initializer().run()\n",
    "    for epoch in range(n_epochs):\n",
    "        for iteration in range(n_iter):\n",
    "            rand_indices = np.random.choice(n_train,batch_size) #select random samples to form mini batches   \n",
    "            X_batch, y_batch = X_32train_std[rand_indices], y_32_train[rand_indices]\n",
    "            sess.run(training_op, feed_dict={X: X_batch, y: y_batch})\n",
    "        valid_loss, acc_val = sess.run([loss, accuracy], feed_dict={X: X_32_val, y: y_32_val})\n",
    "        \n",
    "        # Early stopping \n",
    "        \n",
    "        if valid_loss < min_loss:\n",
    "            save_path = saver.save(sess, path)\n",
    "            min_loss = valid_loss\n",
    "            epochs_without_improvement = 0\n",
    "        else:\n",
    "            epochs_without_improvement += 1\n",
    "            if epochs_without_improvement > max_epochs_without_improvement:\n",
    "                print(\"** EARLY STOPPING ** \")\n",
    "                break\n",
    "        print(\"{}\\tValidation loss: {:.6f}\\tMinimum loss: {:.6f}\\tAccuracy on validation set: {:.2f}\".format(\n",
    "            epoch, valid_loss, min_loss, acc_val))\n",
    "\n",
    "print(\" \")\n",
    "with tf.Session() as sess:\n",
    "    saver.restore(sess, path)\n",
    "    for snr in snrs:\n",
    "        acc_test[snr] = accuracy.eval(feed_dict={X: X_32test_std[snr], y: y_32_test[snr]})\n",
    "\n",
    "print(\"Training and testing took %f minutes\"%(float(time() - start)/60))"
   ]
  },
  {
   "cell_type": "markdown",
   "metadata": {},
   "source": [
    "## <font color = 'blue'> Test the DNN"
   ]
  },
  {
   "cell_type": "code",
   "execution_count": 5,
   "metadata": {
    "collapsed": false
   },
   "outputs": [
    {
     "name": "stdout",
     "output_type": "stream",
     "text": [
      "DNN's test accuracy on -20 dB SNR samples =  0.1315\n",
      "DNN's test accuracy on -18 dB SNR samples =  0.12725\n",
      "DNN's test accuracy on -16 dB SNR samples =  0.13425\n",
      "DNN's test accuracy on -14 dB SNR samples =  0.1375\n",
      "DNN's test accuracy on -12 dB SNR samples =  0.1475\n",
      "DNN's test accuracy on -10 dB SNR samples =  0.18375\n",
      "DNN's test accuracy on -8 dB SNR samples =  0.27725\n",
      "DNN's test accuracy on -6 dB SNR samples =  0.3595\n",
      "DNN's test accuracy on -4 dB SNR samples =  0.42225\n",
      "DNN's test accuracy on -2 dB SNR samples =  0.467\n",
      "DNN's test accuracy on 0 dB SNR samples =  0.551\n",
      "DNN's test accuracy on 2 dB SNR samples =  0.685\n",
      "DNN's test accuracy on 4 dB SNR samples =  0.7945\n",
      "DNN's test accuracy on 6 dB SNR samples =  0.82175\n",
      "DNN's test accuracy on 8 dB SNR samples =  0.8305\n",
      "DNN's test accuracy on 10 dB SNR samples =  0.837\n",
      "DNN's test accuracy on 12 dB SNR samples =  0.83725\n",
      "DNN's test accuracy on 14 dB SNR samples =  0.83275\n",
      "DNN's test accuracy on 16 dB SNR samples =  0.83125\n",
      "DNN's test accuracy on 18 dB SNR samples =  0.839\n"
     ]
    }
   ],
   "source": [
    "for snr in snrs:\n",
    "    print(\"DNN's test accuracy on %d dB SNR samples = \"%(snr), acc_test[snr])   "
   ]
  },
  {
   "cell_type": "markdown",
   "metadata": {
    "collapsed": true
   },
   "source": [
    "## <font color = 'blue'> Visualize DNN's performance"
   ]
  },
  {
   "cell_type": "code",
   "execution_count": 6,
   "metadata": {
    "collapsed": false
   },
   "outputs": [],
   "source": [
    "import matplotlib.pyplot as plt\n",
    "\n",
    "plt.style.use('classic')\n",
    "\n",
    "fig = plt.figure(figsize=(8, 4), dpi=100)\n",
    "x = snrs\n",
    "y = list(acc_test.values())\n",
    "plt.plot(x, y, marker=\"o\", linewidth=2.0, linestyle='dashed', color='royalblue')\n",
    "plt.axis([-20, 20, 0, 1])\n",
    "plt.xticks(np.arange(min(x), max(x)+1, 2.0))\n",
    "plt.yticks(np.arange(0, 1, 0.10))\n",
    "\n",
    "ttl = plt.title('SNR vs Accuracy', fontsize=16)\n",
    "ttl.set_weight('bold')\n",
    "plt.xlabel('SNR (dB)', fontsize=14)\n",
    "plt.ylabel('Test accuracy', fontsize=14)\n",
    "plt.grid()\n",
    "\n",
    "plt.show()"
   ]
  },
  {
   "cell_type": "code",
   "execution_count": 7,
   "metadata": {
    "collapsed": false
   },
   "outputs": [
    {
     "data": {
      "text/plain": [
       "defaultdict(list,\n",
       "            {-20: 0.13150001,\n",
       "             -18: 0.12725,\n",
       "             -16: 0.13425,\n",
       "             -14: 0.1375,\n",
       "             -12: 0.14749999,\n",
       "             -10: 0.18375,\n",
       "             -8: 0.27724999,\n",
       "             -6: 0.35949999,\n",
       "             -4: 0.42225,\n",
       "             -2: 0.46700001,\n",
       "             0: 0.551,\n",
       "             2: 0.685,\n",
       "             4: 0.79449999,\n",
       "             6: 0.82174999,\n",
       "             8: 0.83050001,\n",
       "             10: 0.83700001,\n",
       "             12: 0.83724999,\n",
       "             14: 0.83275002,\n",
       "             16: 0.83125001,\n",
       "             18: 0.83899999})"
      ]
     },
     "execution_count": 7,
     "metadata": {},
     "output_type": "execute_result"
    }
   ],
   "source": [
    "acc_test"
   ]
  },
  {
   "cell_type": "code",
   "execution_count": null,
   "metadata": {
    "collapsed": true
   },
   "outputs": [],
   "source": []
  }
 ],
 "metadata": {
  "anaconda-cloud": {},
  "kernelspec": {
   "display_name": "Python [default]",
   "language": "python",
   "name": "python3"
  },
  "language_info": {
   "codemirror_mode": {
    "name": "ipython",
    "version": 3
   },
   "file_extension": ".py",
   "mimetype": "text/x-python",
   "name": "python",
   "nbconvert_exporter": "python",
   "pygments_lexer": "ipython3",
   "version": "3.5.2"
  }
 },
 "nbformat": 4,
 "nbformat_minor": 0
}
