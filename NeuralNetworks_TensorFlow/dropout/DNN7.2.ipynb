{
 "cells": [
  {
   "cell_type": "markdown",
   "metadata": {},
   "source": [
    "# <center>  Deep Neural Network (DNN) using plain TensorFlow"
   ]
  },
  {
   "cell_type": "markdown",
   "metadata": {},
   "source": [
    "## <font color = 'blue'> Get the data"
   ]
  },
  {
   "cell_type": "code",
   "execution_count": 1,
   "metadata": {
    "collapsed": false
   },
   "outputs": [
    {
     "name": "stdout",
     "output_type": "stream",
     "text": [
      "Stored variables and their in-db values:\n",
      "X_16_val                  -> array([[-0.05248989,  0.95262376, -0.95081096, ...\n",
      "X_32_val                  -> array([[-0.26412427,  0.80742202,  0.90784197, ...\n",
      "X_32test_std              -> defaultdict(<class 'list'>, {0: array([[-0.2641242\n",
      "X_32train_std             -> array([[-0.71199092,  0.15545522, -0.78672279, ...\n",
      "X_test                    -> defaultdict(<class 'list'>, {0: array([[[ 0.003087\n",
      "X_test_std                -> defaultdict(<class 'list'>, {0: array([[ -5.248988\n",
      "X_train                   -> array([[[ -8.82267195e-04,   4.11425252e-03,  -7.3\n",
      "X_train_std               -> array([[-0.71199092,  0.15545522, -0.78672279, ...\n",
      "snrs                      -> [-20, -18, -16, -14, -12, -10, -8, -6, -4, -2, 0, \n",
      "y_16_val                  -> array([7, 6, 5, ..., 1, 4, 7])\n",
      "y_32_test                 -> defaultdict(<class 'list'>, {0: array([4, 6, 6, ..\n",
      "y_32_train                -> array([4, 2, 0, ..., 1, 4, 6])\n",
      "y_32_val                  -> array([4, 6, 6, ..., 6, 7, 3])\n",
      "y_test                    -> defaultdict(<class 'list'>, {0: array([7, 6, 5, ..\n",
      "y_train                   -> array([4, 2, 0, ..., 1, 4, 6])\n"
     ]
    }
   ],
   "source": [
    "import matplotlib.pyplot as plt\n",
    "import numpy as np\n",
    "import tensorflow as tf\n",
    "from collections import defaultdict\n",
    "from time import time\n",
    "\n",
    "%store -r\n",
    "%store"
   ]
  },
  {
   "cell_type": "code",
   "execution_count": 2,
   "metadata": {
    "collapsed": false
   },
   "outputs": [
    {
     "name": "stdout",
     "output_type": "stream",
     "text": [
      "Training data:  (80000, 32) and labels:  (80000,)\n",
      " \n",
      "Test data:\n",
      "Total 20 (4000, 32) arrays for SNR values:\n",
      "[-20, -18, -16, -14, -12, -10, -8, -6, -4, -2, 0, 2, 4, 6, 8, 10, 12, 14, 16, 18]\n"
     ]
    }
   ],
   "source": [
    "print(\"Training data: \", X_32train_std.shape, \"and labels: \", y_32_train.shape)\n",
    "print(\" \")\n",
    "print(\"Test data:\")\n",
    "print(\"Total\", len(X_32test_std), X_32test_std[18].shape, \"arrays for SNR values:\")\n",
    "print(sorted(X_32test_std.keys()))"
   ]
  },
  {
   "cell_type": "code",
   "execution_count": 3,
   "metadata": {
    "collapsed": true
   },
   "outputs": [],
   "source": [
    "# tf.reset_default_graph()"
   ]
  },
  {
   "cell_type": "markdown",
   "metadata": {},
   "source": [
    "## <font color = 'blue'> Design and train the DNN"
   ]
  },
  {
   "cell_type": "code",
   "execution_count": 4,
   "metadata": {
    "collapsed": false
   },
   "outputs": [
    {
     "name": "stdout",
     "output_type": "stream",
     "text": [
      "0\tValidation loss: 1.786012\tMinimum loss: 1.786012\tAccuracy on validation set: 0.35\n",
      "1\tValidation loss: 1.704666\tMinimum loss: 1.704666\tAccuracy on validation set: 0.39\n",
      "2\tValidation loss: 1.655772\tMinimum loss: 1.655772\tAccuracy on validation set: 0.41\n",
      "3\tValidation loss: 1.627828\tMinimum loss: 1.627828\tAccuracy on validation set: 0.42\n",
      "4\tValidation loss: 1.600820\tMinimum loss: 1.600820\tAccuracy on validation set: 0.43\n",
      "5\tValidation loss: 1.590511\tMinimum loss: 1.590511\tAccuracy on validation set: 0.44\n",
      "6\tValidation loss: 1.579173\tMinimum loss: 1.579173\tAccuracy on validation set: 0.45\n",
      "7\tValidation loss: 1.571726\tMinimum loss: 1.571726\tAccuracy on validation set: 0.45\n",
      "8\tValidation loss: 1.562692\tMinimum loss: 1.562692\tAccuracy on validation set: 0.46\n",
      "9\tValidation loss: 1.559751\tMinimum loss: 1.559751\tAccuracy on validation set: 0.46\n",
      "10\tValidation loss: 1.552105\tMinimum loss: 1.552105\tAccuracy on validation set: 0.46\n",
      "11\tValidation loss: 1.547368\tMinimum loss: 1.547368\tAccuracy on validation set: 0.46\n",
      "12\tValidation loss: 1.544948\tMinimum loss: 1.544948\tAccuracy on validation set: 0.46\n",
      "13\tValidation loss: 1.540910\tMinimum loss: 1.540910\tAccuracy on validation set: 0.46\n",
      "14\tValidation loss: 1.540215\tMinimum loss: 1.540215\tAccuracy on validation set: 0.46\n",
      "15\tValidation loss: 1.533851\tMinimum loss: 1.533851\tAccuracy on validation set: 0.47\n",
      "16\tValidation loss: 1.529554\tMinimum loss: 1.529554\tAccuracy on validation set: 0.47\n",
      "17\tValidation loss: 1.522658\tMinimum loss: 1.522658\tAccuracy on validation set: 0.47\n",
      "18\tValidation loss: 1.516787\tMinimum loss: 1.516787\tAccuracy on validation set: 0.47\n",
      "19\tValidation loss: 1.513495\tMinimum loss: 1.513495\tAccuracy on validation set: 0.48\n",
      "20\tValidation loss: 1.510507\tMinimum loss: 1.510507\tAccuracy on validation set: 0.48\n",
      "21\tValidation loss: 1.499634\tMinimum loss: 1.499634\tAccuracy on validation set: 0.49\n",
      "22\tValidation loss: 1.497515\tMinimum loss: 1.497515\tAccuracy on validation set: 0.49\n",
      "23\tValidation loss: 1.494004\tMinimum loss: 1.494004\tAccuracy on validation set: 0.49\n",
      "24\tValidation loss: 1.488030\tMinimum loss: 1.488030\tAccuracy on validation set: 0.49\n",
      "25\tValidation loss: 1.481253\tMinimum loss: 1.481253\tAccuracy on validation set: 0.49\n",
      "26\tValidation loss: 1.479529\tMinimum loss: 1.479529\tAccuracy on validation set: 0.50\n",
      "27\tValidation loss: 1.473087\tMinimum loss: 1.473087\tAccuracy on validation set: 0.50\n",
      "28\tValidation loss: 1.473577\tMinimum loss: 1.473087\tAccuracy on validation set: 0.50\n",
      "29\tValidation loss: 1.471817\tMinimum loss: 1.471817\tAccuracy on validation set: 0.50\n",
      "30\tValidation loss: 1.470209\tMinimum loss: 1.470209\tAccuracy on validation set: 0.50\n",
      "31\tValidation loss: 1.473174\tMinimum loss: 1.470209\tAccuracy on validation set: 0.51\n",
      "32\tValidation loss: 1.465945\tMinimum loss: 1.465945\tAccuracy on validation set: 0.50\n",
      "33\tValidation loss: 1.464004\tMinimum loss: 1.464004\tAccuracy on validation set: 0.51\n",
      "34\tValidation loss: 1.466867\tMinimum loss: 1.464004\tAccuracy on validation set: 0.51\n",
      "35\tValidation loss: 1.464409\tMinimum loss: 1.464004\tAccuracy on validation set: 0.51\n",
      "36\tValidation loss: 1.471218\tMinimum loss: 1.464004\tAccuracy on validation set: 0.50\n",
      "37\tValidation loss: 1.460878\tMinimum loss: 1.460878\tAccuracy on validation set: 0.51\n",
      "38\tValidation loss: 1.458701\tMinimum loss: 1.458701\tAccuracy on validation set: 0.51\n",
      "39\tValidation loss: 1.455560\tMinimum loss: 1.455560\tAccuracy on validation set: 0.51\n",
      "40\tValidation loss: 1.458382\tMinimum loss: 1.455560\tAccuracy on validation set: 0.51\n",
      "41\tValidation loss: 1.457337\tMinimum loss: 1.455560\tAccuracy on validation set: 0.51\n",
      "42\tValidation loss: 1.454448\tMinimum loss: 1.454448\tAccuracy on validation set: 0.51\n",
      "43\tValidation loss: 1.452549\tMinimum loss: 1.452549\tAccuracy on validation set: 0.51\n",
      "44\tValidation loss: 1.453833\tMinimum loss: 1.452549\tAccuracy on validation set: 0.51\n",
      "45\tValidation loss: 1.451626\tMinimum loss: 1.451626\tAccuracy on validation set: 0.51\n",
      "46\tValidation loss: 1.452014\tMinimum loss: 1.451626\tAccuracy on validation set: 0.51\n",
      "47\tValidation loss: 1.447852\tMinimum loss: 1.447852\tAccuracy on validation set: 0.51\n",
      "48\tValidation loss: 1.449022\tMinimum loss: 1.447852\tAccuracy on validation set: 0.51\n",
      "49\tValidation loss: 1.450491\tMinimum loss: 1.447852\tAccuracy on validation set: 0.51\n",
      "50\tValidation loss: 1.451379\tMinimum loss: 1.447852\tAccuracy on validation set: 0.51\n",
      "51\tValidation loss: 1.448687\tMinimum loss: 1.447852\tAccuracy on validation set: 0.52\n",
      "52\tValidation loss: 1.446865\tMinimum loss: 1.446865\tAccuracy on validation set: 0.51\n",
      "53\tValidation loss: 1.446375\tMinimum loss: 1.446375\tAccuracy on validation set: 0.51\n",
      "54\tValidation loss: 1.446161\tMinimum loss: 1.446161\tAccuracy on validation set: 0.51\n",
      "55\tValidation loss: 1.450230\tMinimum loss: 1.446161\tAccuracy on validation set: 0.51\n",
      "56\tValidation loss: 1.443753\tMinimum loss: 1.443753\tAccuracy on validation set: 0.52\n",
      "57\tValidation loss: 1.447268\tMinimum loss: 1.443753\tAccuracy on validation set: 0.51\n",
      "58\tValidation loss: 1.446422\tMinimum loss: 1.443753\tAccuracy on validation set: 0.52\n",
      "59\tValidation loss: 1.446682\tMinimum loss: 1.443753\tAccuracy on validation set: 0.52\n",
      "60\tValidation loss: 1.444856\tMinimum loss: 1.443753\tAccuracy on validation set: 0.52\n",
      "61\tValidation loss: 1.442576\tMinimum loss: 1.442576\tAccuracy on validation set: 0.52\n",
      "62\tValidation loss: 1.442511\tMinimum loss: 1.442511\tAccuracy on validation set: 0.52\n",
      "63\tValidation loss: 1.447583\tMinimum loss: 1.442511\tAccuracy on validation set: 0.51\n",
      "64\tValidation loss: 1.443531\tMinimum loss: 1.442511\tAccuracy on validation set: 0.52\n",
      "65\tValidation loss: 1.444059\tMinimum loss: 1.442511\tAccuracy on validation set: 0.51\n",
      "66\tValidation loss: 1.444011\tMinimum loss: 1.442511\tAccuracy on validation set: 0.52\n",
      "67\tValidation loss: 1.442474\tMinimum loss: 1.442474\tAccuracy on validation set: 0.52\n",
      "68\tValidation loss: 1.444008\tMinimum loss: 1.442474\tAccuracy on validation set: 0.52\n",
      "69\tValidation loss: 1.443516\tMinimum loss: 1.442474\tAccuracy on validation set: 0.52\n",
      "70\tValidation loss: 1.443433\tMinimum loss: 1.442474\tAccuracy on validation set: 0.52\n",
      "71\tValidation loss: 1.440258\tMinimum loss: 1.440258\tAccuracy on validation set: 0.52\n",
      "72\tValidation loss: 1.443197\tMinimum loss: 1.440258\tAccuracy on validation set: 0.52\n",
      "73\tValidation loss: 1.444848\tMinimum loss: 1.440258\tAccuracy on validation set: 0.52\n",
      "74\tValidation loss: 1.441846\tMinimum loss: 1.440258\tAccuracy on validation set: 0.52\n",
      "75\tValidation loss: 1.440849\tMinimum loss: 1.440258\tAccuracy on validation set: 0.52\n",
      "76\tValidation loss: 1.443535\tMinimum loss: 1.440258\tAccuracy on validation set: 0.52\n",
      "77\tValidation loss: 1.439769\tMinimum loss: 1.439769\tAccuracy on validation set: 0.52\n",
      "78\tValidation loss: 1.444866\tMinimum loss: 1.439769\tAccuracy on validation set: 0.52\n",
      "79\tValidation loss: 1.441746\tMinimum loss: 1.439769\tAccuracy on validation set: 0.52\n",
      "80\tValidation loss: 1.439364\tMinimum loss: 1.439364\tAccuracy on validation set: 0.52\n",
      "81\tValidation loss: 1.438409\tMinimum loss: 1.438409\tAccuracy on validation set: 0.52\n",
      "82\tValidation loss: 1.439231\tMinimum loss: 1.438409\tAccuracy on validation set: 0.52\n",
      "83\tValidation loss: 1.440569\tMinimum loss: 1.438409\tAccuracy on validation set: 0.52\n",
      "84\tValidation loss: 1.436671\tMinimum loss: 1.436671\tAccuracy on validation set: 0.52\n",
      "85\tValidation loss: 1.437296\tMinimum loss: 1.436671\tAccuracy on validation set: 0.52\n",
      "86\tValidation loss: 1.441166\tMinimum loss: 1.436671\tAccuracy on validation set: 0.52\n",
      "87\tValidation loss: 1.436906\tMinimum loss: 1.436671\tAccuracy on validation set: 0.52\n",
      "88\tValidation loss: 1.442842\tMinimum loss: 1.436671\tAccuracy on validation set: 0.52\n",
      "89\tValidation loss: 1.436606\tMinimum loss: 1.436606\tAccuracy on validation set: 0.52\n",
      "90\tValidation loss: 1.439789\tMinimum loss: 1.436606\tAccuracy on validation set: 0.52\n",
      "91\tValidation loss: 1.439329\tMinimum loss: 1.436606\tAccuracy on validation set: 0.52\n",
      "92\tValidation loss: 1.435585\tMinimum loss: 1.435585\tAccuracy on validation set: 0.52\n",
      "93\tValidation loss: 1.443490\tMinimum loss: 1.435585\tAccuracy on validation set: 0.52\n",
      "94\tValidation loss: 1.438443\tMinimum loss: 1.435585\tAccuracy on validation set: 0.52\n",
      "95\tValidation loss: 1.440570\tMinimum loss: 1.435585\tAccuracy on validation set: 0.52\n",
      "96\tValidation loss: 1.439304\tMinimum loss: 1.435585\tAccuracy on validation set: 0.52\n",
      "97\tValidation loss: 1.440970\tMinimum loss: 1.435585\tAccuracy on validation set: 0.52\n",
      "98\tValidation loss: 1.435837\tMinimum loss: 1.435585\tAccuracy on validation set: 0.52\n",
      "99\tValidation loss: 1.442181\tMinimum loss: 1.435585\tAccuracy on validation set: 0.52\n",
      "100\tValidation loss: 1.438853\tMinimum loss: 1.435585\tAccuracy on validation set: 0.52\n",
      "101\tValidation loss: 1.435880\tMinimum loss: 1.435585\tAccuracy on validation set: 0.52\n",
      "102\tValidation loss: 1.436427\tMinimum loss: 1.435585\tAccuracy on validation set: 0.52\n",
      "103\tValidation loss: 1.435735\tMinimum loss: 1.435585\tAccuracy on validation set: 0.52\n",
      "104\tValidation loss: 1.436538\tMinimum loss: 1.435585\tAccuracy on validation set: 0.52\n",
      "105\tValidation loss: 1.437172\tMinimum loss: 1.435585\tAccuracy on validation set: 0.52\n",
      "106\tValidation loss: 1.439400\tMinimum loss: 1.435585\tAccuracy on validation set: 0.52\n",
      "107\tValidation loss: 1.440350\tMinimum loss: 1.435585\tAccuracy on validation set: 0.52\n",
      "108\tValidation loss: 1.433178\tMinimum loss: 1.433178\tAccuracy on validation set: 0.52\n",
      "109\tValidation loss: 1.435842\tMinimum loss: 1.433178\tAccuracy on validation set: 0.52\n",
      "110\tValidation loss: 1.435771\tMinimum loss: 1.433178\tAccuracy on validation set: 0.52\n",
      "111\tValidation loss: 1.437374\tMinimum loss: 1.433178\tAccuracy on validation set: 0.52\n",
      "112\tValidation loss: 1.442239\tMinimum loss: 1.433178\tAccuracy on validation set: 0.52\n",
      "113\tValidation loss: 1.435946\tMinimum loss: 1.433178\tAccuracy on validation set: 0.52\n",
      "114\tValidation loss: 1.438341\tMinimum loss: 1.433178\tAccuracy on validation set: 0.52\n",
      "115\tValidation loss: 1.440487\tMinimum loss: 1.433178\tAccuracy on validation set: 0.52\n",
      "116\tValidation loss: 1.436946\tMinimum loss: 1.433178\tAccuracy on validation set: 0.52\n",
      "117\tValidation loss: 1.438926\tMinimum loss: 1.433178\tAccuracy on validation set: 0.52\n",
      "118\tValidation loss: 1.438595\tMinimum loss: 1.433178\tAccuracy on validation set: 0.52\n",
      "119\tValidation loss: 1.436854\tMinimum loss: 1.433178\tAccuracy on validation set: 0.52\n",
      "120\tValidation loss: 1.437529\tMinimum loss: 1.433178\tAccuracy on validation set: 0.52\n",
      "121\tValidation loss: 1.432456\tMinimum loss: 1.432456\tAccuracy on validation set: 0.52\n",
      "122\tValidation loss: 1.434065\tMinimum loss: 1.432456\tAccuracy on validation set: 0.52\n",
      "123\tValidation loss: 1.437307\tMinimum loss: 1.432456\tAccuracy on validation set: 0.52\n",
      "124\tValidation loss: 1.440774\tMinimum loss: 1.432456\tAccuracy on validation set: 0.52\n",
      "125\tValidation loss: 1.439550\tMinimum loss: 1.432456\tAccuracy on validation set: 0.52\n",
      "126\tValidation loss: 1.437711\tMinimum loss: 1.432456\tAccuracy on validation set: 0.52\n",
      "127\tValidation loss: 1.438810\tMinimum loss: 1.432456\tAccuracy on validation set: 0.52\n",
      "128\tValidation loss: 1.436772\tMinimum loss: 1.432456\tAccuracy on validation set: 0.52\n",
      "129\tValidation loss: 1.435685\tMinimum loss: 1.432456\tAccuracy on validation set: 0.52\n",
      "130\tValidation loss: 1.434346\tMinimum loss: 1.432456\tAccuracy on validation set: 0.52\n",
      "131\tValidation loss: 1.433195\tMinimum loss: 1.432456\tAccuracy on validation set: 0.52\n",
      "132\tValidation loss: 1.433077\tMinimum loss: 1.432456\tAccuracy on validation set: 0.52\n",
      "133\tValidation loss: 1.437196\tMinimum loss: 1.432456\tAccuracy on validation set: 0.52\n",
      "134\tValidation loss: 1.437230\tMinimum loss: 1.432456\tAccuracy on validation set: 0.52\n",
      "135\tValidation loss: 1.435361\tMinimum loss: 1.432456\tAccuracy on validation set: 0.52\n",
      "136\tValidation loss: 1.435363\tMinimum loss: 1.432456\tAccuracy on validation set: 0.52\n",
      "137\tValidation loss: 1.436301\tMinimum loss: 1.432456\tAccuracy on validation set: 0.52\n",
      "138\tValidation loss: 1.435228\tMinimum loss: 1.432456\tAccuracy on validation set: 0.52\n",
      "139\tValidation loss: 1.432772\tMinimum loss: 1.432456\tAccuracy on validation set: 0.52\n",
      "140\tValidation loss: 1.434422\tMinimum loss: 1.432456\tAccuracy on validation set: 0.52\n",
      "141\tValidation loss: 1.436691\tMinimum loss: 1.432456\tAccuracy on validation set: 0.52\n",
      "** EARLY STOPPING ** \n",
      " \n",
      "INFO:tensorflow:Restoring parameters from ./DNNdropout3.ckpt\n",
      "Training and testing took 4.455013 minutes\n"
     ]
    }
   ],
   "source": [
    "# ----------------- Initialize parameters -----------------------\n",
    "\n",
    "\n",
    "n_hidden1 = 256\n",
    "n_hidden2 = 256\n",
    "n_outputs = 8\n",
    "\n",
    "X = tf.placeholder(tf.float32, shape=(None, 32))\n",
    "\n",
    "y = tf.placeholder(tf.int64, shape=(None))\n",
    "\n",
    "# ------------------- Define layers -----------------------\n",
    "\n",
    "from tensorflow.contrib.layers import fully_connected\n",
    "\n",
    "def layer(X, n_neurons, activation):\n",
    "    layer = fully_connected(X, n_neurons, activation_fn = activation, \n",
    "                            weights_initializer = tf.contrib.layers.xavier_initializer())\n",
    "    dropout_layer = tf.layers.dropout(layer, rate = 0.4, training = True)\n",
    "    return dropout_layer\n",
    "\n",
    "layer1 = layer(X, n_hidden1, activation = tf.nn.relu)\n",
    "\n",
    "layer2 = layer(layer1, n_hidden2, activation = tf.nn.relu)\n",
    "\n",
    "logits = fully_connected(layer2, n_outputs, activation_fn = None, weights_initializer = tf.contrib.layers.xavier_initializer())\n",
    "\n",
    "# ----------------- Specify performance measure ----------------------\n",
    "\n",
    "xentropy = tf.nn.sparse_softmax_cross_entropy_with_logits(labels=y, logits=logits)\n",
    "loss = tf.reduce_mean(xentropy)\n",
    "\n",
    "optimizer = tf.train.AdamOptimizer()\n",
    "training_op = optimizer.minimize(loss)\n",
    "\n",
    "correct = tf.nn.in_top_k(logits, y, 1)\n",
    "accuracy = tf.reduce_mean(tf.cast(correct, tf.float32))\n",
    "        \n",
    "# ------------------ Execution phase ----------------------------------    \n",
    "\n",
    "n_epochs = 1000\n",
    "batch_size = 1024\n",
    "n_train = X_train_std.shape[0]\n",
    "n_iter = n_train//batch_size\n",
    "\n",
    "saver = tf.train.Saver()\n",
    "\n",
    "min_loss = np.infty\n",
    "epochs_without_improvement = 0 \n",
    "max_epochs_without_improvement = 20   \n",
    "\n",
    "acc_test = defaultdict(list)\n",
    "\n",
    "start = time()\n",
    "path = \"./DNNdropout3.ckpt\"\n",
    "\n",
    "with tf.Session() as sess:\n",
    "    tf.global_variables_initializer().run()\n",
    "    for epoch in range(n_epochs):\n",
    "        for iteration in range(n_iter):\n",
    "            rand_indices = np.random.choice(n_train,batch_size) #select random samples to form mini batches   \n",
    "            X_batch, y_batch = X_32train_std[rand_indices], y_32_train[rand_indices]\n",
    "            sess.run(training_op, feed_dict={X: X_batch, y: y_batch})\n",
    "        valid_loss, acc_val = sess.run([loss, accuracy], feed_dict={X: X_32_val, y: y_32_val})\n",
    "        \n",
    "        # Early stopping \n",
    "        \n",
    "        if valid_loss < min_loss:\n",
    "            save_path = saver.save(sess, path)\n",
    "            min_loss = valid_loss\n",
    "            epochs_without_improvement = 0\n",
    "        else:\n",
    "            epochs_without_improvement += 1\n",
    "            if epochs_without_improvement > max_epochs_without_improvement:\n",
    "                print(\"** EARLY STOPPING ** \")\n",
    "                break\n",
    "        print(\"{}\\tValidation loss: {:.6f}\\tMinimum loss: {:.6f}\\tAccuracy on validation set: {:.2f}\".format(\n",
    "            epoch, valid_loss, min_loss, acc_val))\n",
    "\n",
    "print(\" \")\n",
    "with tf.Session() as sess:\n",
    "    saver.restore(sess, path)\n",
    "    for snr in snrs:\n",
    "        acc_test[snr] = accuracy.eval(feed_dict={X: X_32test_std[snr], y: y_32_test[snr]})\n",
    "\n",
    "print(\"Training and testing took %f minutes\"%(float(time() - start)/60))"
   ]
  },
  {
   "cell_type": "markdown",
   "metadata": {},
   "source": [
    "## <font color = 'blue'> Test the DNN"
   ]
  },
  {
   "cell_type": "code",
   "execution_count": 5,
   "metadata": {
    "collapsed": false
   },
   "outputs": [
    {
     "name": "stdout",
     "output_type": "stream",
     "text": [
      "DNN's test accuracy on -20 dB SNR samples =  0.136\n",
      "DNN's test accuracy on -18 dB SNR samples =  0.1425\n",
      "DNN's test accuracy on -16 dB SNR samples =  0.13525\n",
      "DNN's test accuracy on -14 dB SNR samples =  0.14\n",
      "DNN's test accuracy on -12 dB SNR samples =  0.1575\n",
      "DNN's test accuracy on -10 dB SNR samples =  0.1935\n",
      "DNN's test accuracy on -8 dB SNR samples =  0.27925\n",
      "DNN's test accuracy on -6 dB SNR samples =  0.357\n",
      "DNN's test accuracy on -4 dB SNR samples =  0.417\n",
      "DNN's test accuracy on -2 dB SNR samples =  0.476\n",
      "DNN's test accuracy on 0 dB SNR samples =  0.57425\n",
      "DNN's test accuracy on 2 dB SNR samples =  0.69425\n",
      "DNN's test accuracy on 4 dB SNR samples =  0.7965\n",
      "DNN's test accuracy on 6 dB SNR samples =  0.839\n",
      "DNN's test accuracy on 8 dB SNR samples =  0.83275\n",
      "DNN's test accuracy on 10 dB SNR samples =  0.8435\n",
      "DNN's test accuracy on 12 dB SNR samples =  0.837\n",
      "DNN's test accuracy on 14 dB SNR samples =  0.83125\n",
      "DNN's test accuracy on 16 dB SNR samples =  0.83325\n",
      "DNN's test accuracy on 18 dB SNR samples =  0.8455\n"
     ]
    }
   ],
   "source": [
    "for snr in snrs:\n",
    "    print(\"DNN's test accuracy on %d dB SNR samples = \"%(snr), acc_test[snr])   "
   ]
  },
  {
   "cell_type": "markdown",
   "metadata": {
    "collapsed": true
   },
   "source": [
    "## <font color = 'blue'> Visualize DNN's performance"
   ]
  },
  {
   "cell_type": "code",
   "execution_count": 2,
   "metadata": {
    "collapsed": false
   },
   "outputs": [
    {
     "data": {
      "image/png": "[encoded data removed]",
      "text/plain": [
       "<matplotlib.figure.Figure at 0x73ae4e1630>"
      ]
     },
     "metadata": {},
     "output_type": "display_data"
    }
   ],
   "source": [
    "import matplotlib.pyplot as plt\n",
    "\n",
    "plt.style.use('classic')\n",
    "\n",
    "fig = plt.figure(figsize=(8, 4), dpi=100)\n",
    "x = snrs\n",
    "y = list(acc_test.values())\n",
    "plt.plot(x, y, marker=\"o\", linewidth=2.0, linestyle='dashed', color='royalblue')\n",
    "plt.axis([-20, 20, 0, 1])\n",
    "plt.xticks(np.arange(min(x), max(x)+1, 2.0))\n",
    "plt.yticks(np.arange(0, 1, 0.10))\n",
    "\n",
    "ttl = plt.title('SNR vs Accuracy', fontsize=16)\n",
    "ttl.set_weight('bold')\n",
    "plt.xlabel('SNR (dB)', fontsize=14)\n",
    "plt.ylabel('Test accuracy', fontsize=14)\n",
    "plt.grid()\n",
    "\n",
    "plt.show()"
   ]
  },
  {
   "cell_type": "code",
   "execution_count": null,
   "metadata": {
    "collapsed": true
   },
   "outputs": [],
   "source": []
  }
 ],
 "metadata": {
  "anaconda-cloud": {},
  "kernelspec": {
   "display_name": "Python [default]",
   "language": "python",
   "name": "python3"
  },
  "language_info": {
   "codemirror_mode": {
    "name": "ipython",
    "version": 3
   },
   "file_extension": ".py",
   "mimetype": "text/x-python",
   "name": "python",
   "nbconvert_exporter": "python",
   "pygments_lexer": "ipython3",
   "version": "3.5.2"
  }
 },
 "nbformat": 4,
 "nbformat_minor": 0
}
