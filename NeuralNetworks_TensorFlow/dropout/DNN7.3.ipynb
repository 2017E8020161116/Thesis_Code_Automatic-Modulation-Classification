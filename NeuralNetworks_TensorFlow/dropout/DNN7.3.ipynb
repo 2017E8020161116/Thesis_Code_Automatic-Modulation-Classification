{
 "cells": [
  {
   "cell_type": "markdown",
   "metadata": {},
   "source": [
    "# <center>  Deep Neural Network (DNN) using plain TensorFlow"
   ]
  },
  {
   "cell_type": "markdown",
   "metadata": {},
   "source": [
    "## <font color = 'blue'> Get the data"
   ]
  },
  {
   "cell_type": "code",
   "execution_count": 2,
   "metadata": {
    "collapsed": false
   },
   "outputs": [
    {
     "name": "stdout",
     "output_type": "stream",
     "text": [
      "Stored variables and their in-db values:\n",
      "X_16_val                  -> array([[-0.05248989,  0.95262376, -0.95081096, ...\n",
      "X_32_val                  -> array([[-0.26412427,  0.80742202,  0.90784197, ...\n",
      "X_32test_std              -> defaultdict(<class 'list'>, {0: array([[-0.2641242\n",
      "X_32train_std             -> array([[-0.71199092,  0.15545522, -0.78672279, ...\n",
      "X_test                    -> defaultdict(<class 'list'>, {0: array([[[ 0.003087\n",
      "X_test_std                -> defaultdict(<class 'list'>, {0: array([[ -5.248988\n",
      "X_train                   -> array([[[ -8.82267195e-04,   4.11425252e-03,  -7.3\n",
      "X_train_std               -> array([[-0.71199092,  0.15545522, -0.78672279, ...\n",
      "snrs                      -> [-20, -18, -16, -14, -12, -10, -8, -6, -4, -2, 0, \n",
      "y_16_val                  -> array([7, 6, 5, ..., 1, 4, 7])\n",
      "y_32_test                 -> defaultdict(<class 'list'>, {0: array([4, 6, 6, ..\n",
      "y_32_train                -> array([4, 2, 0, ..., 1, 4, 6])\n",
      "y_32_val                  -> array([4, 6, 6, ..., 6, 7, 3])\n",
      "y_test                    -> defaultdict(<class 'list'>, {0: array([7, 6, 5, ..\n",
      "y_train                   -> array([4, 2, 0, ..., 1, 4, 6])\n"
     ]
    }
   ],
   "source": [
    "import matplotlib.pyplot as plt\n",
    "import numpy as np\n",
    "import tensorflow as tf\n",
    "from collections import defaultdict\n",
    "from time import time\n",
    "\n",
    "%store -r\n",
    "%store"
   ]
  },
  {
   "cell_type": "code",
   "execution_count": 3,
   "metadata": {
    "collapsed": false
   },
   "outputs": [
    {
     "name": "stdout",
     "output_type": "stream",
     "text": [
      "Training data:  (80000, 32) and labels:  (80000,)\n",
      " \n",
      "Test data:\n",
      "Total 20 (4000, 32) arrays for SNR values:\n",
      "[-20, -18, -16, -14, -12, -10, -8, -6, -4, -2, 0, 2, 4, 6, 8, 10, 12, 14, 16, 18]\n"
     ]
    }
   ],
   "source": [
    "print(\"Training data: \", X_32train_std.shape, \"and labels: \", y_32_train.shape)\n",
    "print(\" \")\n",
    "print(\"Test data:\")\n",
    "print(\"Total\", len(X_32test_std), X_32test_std[18].shape, \"arrays for SNR values:\")\n",
    "print(sorted(X_32test_std.keys()))"
   ]
  },
  {
   "cell_type": "code",
   "execution_count": 4,
   "metadata": {
    "collapsed": true
   },
   "outputs": [],
   "source": [
    "# tf.reset_default_graph()"
   ]
  },
  {
   "cell_type": "markdown",
   "metadata": {},
   "source": [
    "## <font color = 'blue'> Design and train the DNN"
   ]
  },
  {
   "cell_type": "code",
   "execution_count": 6,
   "metadata": {
    "collapsed": false
   },
   "outputs": [
    {
     "name": "stdout",
     "output_type": "stream",
     "text": [
      "0\tValidation loss: 1.629161\tMinimum loss: 1.629161\tAccuracy on validation set: 0.34\n",
      "1\tValidation loss: 1.524939\tMinimum loss: 1.524939\tAccuracy on validation set: 0.38\n",
      "2\tValidation loss: 1.453642\tMinimum loss: 1.453642\tAccuracy on validation set: 0.41\n",
      "3\tValidation loss: 1.413749\tMinimum loss: 1.413749\tAccuracy on validation set: 0.42\n",
      "4\tValidation loss: 1.385790\tMinimum loss: 1.385790\tAccuracy on validation set: 0.43\n",
      "5\tValidation loss: 1.367955\tMinimum loss: 1.367955\tAccuracy on validation set: 0.43\n",
      "6\tValidation loss: 1.353907\tMinimum loss: 1.353907\tAccuracy on validation set: 0.44\n",
      "7\tValidation loss: 1.345792\tMinimum loss: 1.345792\tAccuracy on validation set: 0.44\n",
      "8\tValidation loss: 1.335465\tMinimum loss: 1.335465\tAccuracy on validation set: 0.44\n",
      "9\tValidation loss: 1.330894\tMinimum loss: 1.330894\tAccuracy on validation set: 0.45\n",
      "10\tValidation loss: 1.326072\tMinimum loss: 1.326072\tAccuracy on validation set: 0.45\n",
      "11\tValidation loss: 1.320003\tMinimum loss: 1.320003\tAccuracy on validation set: 0.45\n",
      "12\tValidation loss: 1.315599\tMinimum loss: 1.315599\tAccuracy on validation set: 0.45\n",
      "13\tValidation loss: 1.312533\tMinimum loss: 1.312533\tAccuracy on validation set: 0.45\n",
      "14\tValidation loss: 1.305584\tMinimum loss: 1.305584\tAccuracy on validation set: 0.46\n",
      "15\tValidation loss: 1.302773\tMinimum loss: 1.302773\tAccuracy on validation set: 0.46\n",
      "16\tValidation loss: 1.298676\tMinimum loss: 1.298676\tAccuracy on validation set: 0.46\n",
      "17\tValidation loss: 1.296359\tMinimum loss: 1.296359\tAccuracy on validation set: 0.46\n",
      "18\tValidation loss: 1.290375\tMinimum loss: 1.290375\tAccuracy on validation set: 0.46\n",
      "19\tValidation loss: 1.285080\tMinimum loss: 1.285080\tAccuracy on validation set: 0.47\n",
      "20\tValidation loss: 1.275957\tMinimum loss: 1.275957\tAccuracy on validation set: 0.47\n",
      "21\tValidation loss: 1.271733\tMinimum loss: 1.271733\tAccuracy on validation set: 0.48\n",
      "22\tValidation loss: 1.263506\tMinimum loss: 1.263506\tAccuracy on validation set: 0.48\n",
      "23\tValidation loss: 1.255071\tMinimum loss: 1.255071\tAccuracy on validation set: 0.48\n",
      "24\tValidation loss: 1.248084\tMinimum loss: 1.248084\tAccuracy on validation set: 0.49\n",
      "25\tValidation loss: 1.244783\tMinimum loss: 1.244783\tAccuracy on validation set: 0.49\n",
      "26\tValidation loss: 1.241781\tMinimum loss: 1.241781\tAccuracy on validation set: 0.49\n",
      "27\tValidation loss: 1.236011\tMinimum loss: 1.236011\tAccuracy on validation set: 0.49\n",
      "28\tValidation loss: 1.235340\tMinimum loss: 1.235340\tAccuracy on validation set: 0.49\n",
      "29\tValidation loss: 1.228799\tMinimum loss: 1.228799\tAccuracy on validation set: 0.50\n",
      "30\tValidation loss: 1.227900\tMinimum loss: 1.227900\tAccuracy on validation set: 0.49\n",
      "31\tValidation loss: 1.223099\tMinimum loss: 1.223099\tAccuracy on validation set: 0.50\n",
      "32\tValidation loss: 1.219489\tMinimum loss: 1.219489\tAccuracy on validation set: 0.50\n",
      "33\tValidation loss: 1.217355\tMinimum loss: 1.217355\tAccuracy on validation set: 0.50\n",
      "34\tValidation loss: 1.219736\tMinimum loss: 1.217355\tAccuracy on validation set: 0.50\n",
      "35\tValidation loss: 1.215603\tMinimum loss: 1.215603\tAccuracy on validation set: 0.50\n",
      "36\tValidation loss: 1.215102\tMinimum loss: 1.215102\tAccuracy on validation set: 0.50\n",
      "37\tValidation loss: 1.211792\tMinimum loss: 1.211792\tAccuracy on validation set: 0.50\n",
      "38\tValidation loss: 1.212231\tMinimum loss: 1.211792\tAccuracy on validation set: 0.50\n",
      "39\tValidation loss: 1.206570\tMinimum loss: 1.206570\tAccuracy on validation set: 0.50\n",
      "40\tValidation loss: 1.206783\tMinimum loss: 1.206570\tAccuracy on validation set: 0.50\n",
      "41\tValidation loss: 1.206596\tMinimum loss: 1.206570\tAccuracy on validation set: 0.50\n",
      "42\tValidation loss: 1.203491\tMinimum loss: 1.203491\tAccuracy on validation set: 0.50\n",
      "43\tValidation loss: 1.207824\tMinimum loss: 1.203491\tAccuracy on validation set: 0.50\n",
      "44\tValidation loss: 1.204835\tMinimum loss: 1.203491\tAccuracy on validation set: 0.50\n",
      "45\tValidation loss: 1.202676\tMinimum loss: 1.202676\tAccuracy on validation set: 0.50\n",
      "46\tValidation loss: 1.201735\tMinimum loss: 1.201735\tAccuracy on validation set: 0.50\n",
      "47\tValidation loss: 1.204343\tMinimum loss: 1.201735\tAccuracy on validation set: 0.50\n",
      "48\tValidation loss: 1.200412\tMinimum loss: 1.200412\tAccuracy on validation set: 0.51\n",
      "49\tValidation loss: 1.199919\tMinimum loss: 1.199919\tAccuracy on validation set: 0.51\n",
      "50\tValidation loss: 1.202374\tMinimum loss: 1.199919\tAccuracy on validation set: 0.50\n",
      "51\tValidation loss: 1.198312\tMinimum loss: 1.198312\tAccuracy on validation set: 0.50\n",
      "52\tValidation loss: 1.200749\tMinimum loss: 1.198312\tAccuracy on validation set: 0.51\n",
      "53\tValidation loss: 1.196184\tMinimum loss: 1.196184\tAccuracy on validation set: 0.51\n",
      "54\tValidation loss: 1.194078\tMinimum loss: 1.194078\tAccuracy on validation set: 0.51\n",
      "55\tValidation loss: 1.194902\tMinimum loss: 1.194078\tAccuracy on validation set: 0.50\n",
      "56\tValidation loss: 1.195509\tMinimum loss: 1.194078\tAccuracy on validation set: 0.51\n",
      "57\tValidation loss: 1.195597\tMinimum loss: 1.194078\tAccuracy on validation set: 0.51\n",
      "58\tValidation loss: 1.194356\tMinimum loss: 1.194078\tAccuracy on validation set: 0.51\n",
      "59\tValidation loss: 1.195001\tMinimum loss: 1.194078\tAccuracy on validation set: 0.51\n",
      "60\tValidation loss: 1.192857\tMinimum loss: 1.192857\tAccuracy on validation set: 0.51\n",
      "61\tValidation loss: 1.193761\tMinimum loss: 1.192857\tAccuracy on validation set: 0.51\n",
      "62\tValidation loss: 1.192514\tMinimum loss: 1.192514\tAccuracy on validation set: 0.51\n",
      "63\tValidation loss: 1.190602\tMinimum loss: 1.190602\tAccuracy on validation set: 0.51\n",
      "64\tValidation loss: 1.192033\tMinimum loss: 1.190602\tAccuracy on validation set: 0.51\n",
      "65\tValidation loss: 1.191124\tMinimum loss: 1.190602\tAccuracy on validation set: 0.51\n",
      "66\tValidation loss: 1.189984\tMinimum loss: 1.189984\tAccuracy on validation set: 0.51\n",
      "67\tValidation loss: 1.189425\tMinimum loss: 1.189425\tAccuracy on validation set: 0.51\n",
      "68\tValidation loss: 1.189401\tMinimum loss: 1.189401\tAccuracy on validation set: 0.51\n",
      "69\tValidation loss: 1.187761\tMinimum loss: 1.187761\tAccuracy on validation set: 0.51\n",
      "70\tValidation loss: 1.188640\tMinimum loss: 1.187761\tAccuracy on validation set: 0.51\n",
      "71\tValidation loss: 1.190984\tMinimum loss: 1.187761\tAccuracy on validation set: 0.51\n",
      "72\tValidation loss: 1.188133\tMinimum loss: 1.187761\tAccuracy on validation set: 0.51\n",
      "73\tValidation loss: 1.190329\tMinimum loss: 1.187761\tAccuracy on validation set: 0.51\n",
      "74\tValidation loss: 1.188479\tMinimum loss: 1.187761\tAccuracy on validation set: 0.51\n",
      "75\tValidation loss: 1.189829\tMinimum loss: 1.187761\tAccuracy on validation set: 0.51\n",
      "76\tValidation loss: 1.187500\tMinimum loss: 1.187500\tAccuracy on validation set: 0.51\n",
      "77\tValidation loss: 1.186605\tMinimum loss: 1.186605\tAccuracy on validation set: 0.51\n",
      "78\tValidation loss: 1.187500\tMinimum loss: 1.186605\tAccuracy on validation set: 0.51\n",
      "79\tValidation loss: 1.188497\tMinimum loss: 1.186605\tAccuracy on validation set: 0.51\n",
      "80\tValidation loss: 1.186690\tMinimum loss: 1.186605\tAccuracy on validation set: 0.51\n",
      "81\tValidation loss: 1.185623\tMinimum loss: 1.185623\tAccuracy on validation set: 0.51\n",
      "82\tValidation loss: 1.185079\tMinimum loss: 1.185079\tAccuracy on validation set: 0.51\n",
      "83\tValidation loss: 1.182106\tMinimum loss: 1.182106\tAccuracy on validation set: 0.51\n",
      "84\tValidation loss: 1.187300\tMinimum loss: 1.182106\tAccuracy on validation set: 0.51\n",
      "85\tValidation loss: 1.186707\tMinimum loss: 1.182106\tAccuracy on validation set: 0.51\n",
      "86\tValidation loss: 1.184776\tMinimum loss: 1.182106\tAccuracy on validation set: 0.51\n",
      "87\tValidation loss: 1.183963\tMinimum loss: 1.182106\tAccuracy on validation set: 0.51\n",
      "88\tValidation loss: 1.183415\tMinimum loss: 1.182106\tAccuracy on validation set: 0.51\n",
      "89\tValidation loss: 1.183807\tMinimum loss: 1.182106\tAccuracy on validation set: 0.51\n",
      "90\tValidation loss: 1.183036\tMinimum loss: 1.182106\tAccuracy on validation set: 0.51\n",
      "91\tValidation loss: 1.182765\tMinimum loss: 1.182106\tAccuracy on validation set: 0.51\n",
      "92\tValidation loss: 1.183502\tMinimum loss: 1.182106\tAccuracy on validation set: 0.51\n",
      "93\tValidation loss: 1.183947\tMinimum loss: 1.182106\tAccuracy on validation set: 0.51\n",
      "94\tValidation loss: 1.184450\tMinimum loss: 1.182106\tAccuracy on validation set: 0.51\n",
      "95\tValidation loss: 1.184843\tMinimum loss: 1.182106\tAccuracy on validation set: 0.51\n",
      "96\tValidation loss: 1.182342\tMinimum loss: 1.182106\tAccuracy on validation set: 0.51\n",
      "97\tValidation loss: 1.184291\tMinimum loss: 1.182106\tAccuracy on validation set: 0.51\n",
      "98\tValidation loss: 1.181242\tMinimum loss: 1.181242\tAccuracy on validation set: 0.51\n",
      "99\tValidation loss: 1.182404\tMinimum loss: 1.181242\tAccuracy on validation set: 0.51\n",
      "100\tValidation loss: 1.184355\tMinimum loss: 1.181242\tAccuracy on validation set: 0.51\n",
      "101\tValidation loss: 1.181987\tMinimum loss: 1.181242\tAccuracy on validation set: 0.51\n",
      "102\tValidation loss: 1.181405\tMinimum loss: 1.181242\tAccuracy on validation set: 0.51\n",
      "103\tValidation loss: 1.181781\tMinimum loss: 1.181242\tAccuracy on validation set: 0.51\n",
      "104\tValidation loss: 1.179536\tMinimum loss: 1.179536\tAccuracy on validation set: 0.51\n",
      "105\tValidation loss: 1.180149\tMinimum loss: 1.179536\tAccuracy on validation set: 0.51\n",
      "106\tValidation loss: 1.181145\tMinimum loss: 1.179536\tAccuracy on validation set: 0.51\n",
      "107\tValidation loss: 1.184256\tMinimum loss: 1.179536\tAccuracy on validation set: 0.51\n",
      "108\tValidation loss: 1.181747\tMinimum loss: 1.179536\tAccuracy on validation set: 0.51\n",
      "109\tValidation loss: 1.181171\tMinimum loss: 1.179536\tAccuracy on validation set: 0.51\n",
      "110\tValidation loss: 1.182052\tMinimum loss: 1.179536\tAccuracy on validation set: 0.51\n",
      "111\tValidation loss: 1.178433\tMinimum loss: 1.178433\tAccuracy on validation set: 0.51\n",
      "112\tValidation loss: 1.181150\tMinimum loss: 1.178433\tAccuracy on validation set: 0.51\n",
      "113\tValidation loss: 1.179636\tMinimum loss: 1.178433\tAccuracy on validation set: 0.51\n",
      "114\tValidation loss: 1.181337\tMinimum loss: 1.178433\tAccuracy on validation set: 0.51\n",
      "115\tValidation loss: 1.182322\tMinimum loss: 1.178433\tAccuracy on validation set: 0.51\n",
      "116\tValidation loss: 1.179119\tMinimum loss: 1.178433\tAccuracy on validation set: 0.51\n",
      "117\tValidation loss: 1.179329\tMinimum loss: 1.178433\tAccuracy on validation set: 0.51\n",
      "118\tValidation loss: 1.179372\tMinimum loss: 1.178433\tAccuracy on validation set: 0.51\n",
      "119\tValidation loss: 1.177469\tMinimum loss: 1.177469\tAccuracy on validation set: 0.51\n",
      "120\tValidation loss: 1.178968\tMinimum loss: 1.177469\tAccuracy on validation set: 0.51\n",
      "121\tValidation loss: 1.182635\tMinimum loss: 1.177469\tAccuracy on validation set: 0.51\n",
      "122\tValidation loss: 1.178323\tMinimum loss: 1.177469\tAccuracy on validation set: 0.51\n",
      "123\tValidation loss: 1.179752\tMinimum loss: 1.177469\tAccuracy on validation set: 0.51\n",
      "124\tValidation loss: 1.178421\tMinimum loss: 1.177469\tAccuracy on validation set: 0.51\n",
      "125\tValidation loss: 1.179170\tMinimum loss: 1.177469\tAccuracy on validation set: 0.51\n",
      "126\tValidation loss: 1.178725\tMinimum loss: 1.177469\tAccuracy on validation set: 0.51\n",
      "127\tValidation loss: 1.178860\tMinimum loss: 1.177469\tAccuracy on validation set: 0.51\n",
      "128\tValidation loss: 1.179388\tMinimum loss: 1.177469\tAccuracy on validation set: 0.51\n",
      "129\tValidation loss: 1.177949\tMinimum loss: 1.177469\tAccuracy on validation set: 0.51\n",
      "130\tValidation loss: 1.175897\tMinimum loss: 1.175897\tAccuracy on validation set: 0.51\n",
      "131\tValidation loss: 1.178520\tMinimum loss: 1.175897\tAccuracy on validation set: 0.51\n",
      "132\tValidation loss: 1.175981\tMinimum loss: 1.175897\tAccuracy on validation set: 0.51\n",
      "133\tValidation loss: 1.176051\tMinimum loss: 1.175897\tAccuracy on validation set: 0.51\n",
      "134\tValidation loss: 1.175068\tMinimum loss: 1.175068\tAccuracy on validation set: 0.51\n",
      "135\tValidation loss: 1.177203\tMinimum loss: 1.175068\tAccuracy on validation set: 0.51\n",
      "136\tValidation loss: 1.177816\tMinimum loss: 1.175068\tAccuracy on validation set: 0.51\n",
      "137\tValidation loss: 1.178267\tMinimum loss: 1.175068\tAccuracy on validation set: 0.51\n",
      "138\tValidation loss: 1.178506\tMinimum loss: 1.175068\tAccuracy on validation set: 0.51\n",
      "139\tValidation loss: 1.175496\tMinimum loss: 1.175068\tAccuracy on validation set: 0.51\n",
      "140\tValidation loss: 1.182866\tMinimum loss: 1.175068\tAccuracy on validation set: 0.51\n",
      "141\tValidation loss: 1.178573\tMinimum loss: 1.175068\tAccuracy on validation set: 0.51\n",
      "142\tValidation loss: 1.175464\tMinimum loss: 1.175068\tAccuracy on validation set: 0.51\n",
      "143\tValidation loss: 1.176329\tMinimum loss: 1.175068\tAccuracy on validation set: 0.51\n",
      "144\tValidation loss: 1.175504\tMinimum loss: 1.175068\tAccuracy on validation set: 0.51\n",
      "145\tValidation loss: 1.175694\tMinimum loss: 1.175068\tAccuracy on validation set: 0.51\n",
      "146\tValidation loss: 1.175523\tMinimum loss: 1.175068\tAccuracy on validation set: 0.51\n",
      "147\tValidation loss: 1.177318\tMinimum loss: 1.175068\tAccuracy on validation set: 0.51\n",
      "148\tValidation loss: 1.173548\tMinimum loss: 1.173548\tAccuracy on validation set: 0.51\n",
      "149\tValidation loss: 1.175164\tMinimum loss: 1.173548\tAccuracy on validation set: 0.51\n",
      "150\tValidation loss: 1.174866\tMinimum loss: 1.173548\tAccuracy on validation set: 0.51\n",
      "151\tValidation loss: 1.173443\tMinimum loss: 1.173443\tAccuracy on validation set: 0.51\n",
      "152\tValidation loss: 1.174695\tMinimum loss: 1.173443\tAccuracy on validation set: 0.51\n",
      "153\tValidation loss: 1.173905\tMinimum loss: 1.173443\tAccuracy on validation set: 0.51\n",
      "154\tValidation loss: 1.171888\tMinimum loss: 1.171888\tAccuracy on validation set: 0.51\n",
      "155\tValidation loss: 1.174239\tMinimum loss: 1.171888\tAccuracy on validation set: 0.51\n",
      "156\tValidation loss: 1.174928\tMinimum loss: 1.171888\tAccuracy on validation set: 0.51\n",
      "157\tValidation loss: 1.177087\tMinimum loss: 1.171888\tAccuracy on validation set: 0.51\n",
      "158\tValidation loss: 1.175607\tMinimum loss: 1.171888\tAccuracy on validation set: 0.51\n",
      "159\tValidation loss: 1.174283\tMinimum loss: 1.171888\tAccuracy on validation set: 0.52\n",
      "160\tValidation loss: 1.177333\tMinimum loss: 1.171888\tAccuracy on validation set: 0.51\n",
      "161\tValidation loss: 1.176944\tMinimum loss: 1.171888\tAccuracy on validation set: 0.51\n",
      "162\tValidation loss: 1.177274\tMinimum loss: 1.171888\tAccuracy on validation set: 0.51\n",
      "163\tValidation loss: 1.172919\tMinimum loss: 1.171888\tAccuracy on validation set: 0.51\n",
      "164\tValidation loss: 1.177809\tMinimum loss: 1.171888\tAccuracy on validation set: 0.51\n",
      "165\tValidation loss: 1.174142\tMinimum loss: 1.171888\tAccuracy on validation set: 0.51\n",
      "166\tValidation loss: 1.175418\tMinimum loss: 1.171888\tAccuracy on validation set: 0.51\n",
      "167\tValidation loss: 1.174856\tMinimum loss: 1.171888\tAccuracy on validation set: 0.51\n",
      "168\tValidation loss: 1.173452\tMinimum loss: 1.171888\tAccuracy on validation set: 0.51\n",
      "169\tValidation loss: 1.172379\tMinimum loss: 1.171888\tAccuracy on validation set: 0.51\n",
      "170\tValidation loss: 1.173762\tMinimum loss: 1.171888\tAccuracy on validation set: 0.51\n",
      "171\tValidation loss: 1.175001\tMinimum loss: 1.171888\tAccuracy on validation set: 0.51\n",
      "172\tValidation loss: 1.173517\tMinimum loss: 1.171888\tAccuracy on validation set: 0.51\n",
      "173\tValidation loss: 1.172218\tMinimum loss: 1.171888\tAccuracy on validation set: 0.51\n",
      "174\tValidation loss: 1.175337\tMinimum loss: 1.171888\tAccuracy on validation set: 0.51\n",
      "** EARLY STOPPING ** \n",
      " \n",
      "INFO:tensorflow:Restoring parameters from ./DNNdropout4.ckpt\n",
      "Training and testing took 5.652681 minutes\n"
     ]
    }
   ],
   "source": [
    "# ----------------- Initialize parameters -----------------------\n",
    "\n",
    "\n",
    "n_hidden1 = 256\n",
    "n_hidden2 = 256\n",
    "n_outputs = 8\n",
    "\n",
    "X = tf.placeholder(tf.float32, shape=(None, 32))\n",
    "\n",
    "y = tf.placeholder(tf.int64, shape=(None))\n",
    "\n",
    "# ------------------- Define layers -----------------------\n",
    "\n",
    "from tensorflow.contrib.layers import fully_connected\n",
    "\n",
    "def layer(X, n_neurons, activation):\n",
    "    layer = fully_connected(X, n_neurons, activation_fn = activation, \n",
    "                            weights_initializer = tf.contrib.layers.xavier_initializer())\n",
    "    dropout_layer = tf.layers.dropout(layer, rate = 0.5, training = True)\n",
    "    return dropout_layer\n",
    "\n",
    "layer1 = layer(X, n_hidden1, activation = tf.nn.relu)\n",
    "\n",
    "layer2 = layer(layer1, n_hidden2, activation = tf.nn.relu)\n",
    "\n",
    "logits = fully_connected(layer2, n_outputs, activation_fn = None, weights_initializer = tf.contrib.layers.xavier_initializer())\n",
    "\n",
    "# ----------------- Specify performance measure ----------------------\n",
    "\n",
    "xentropy = tf.nn.sparse_softmax_cross_entropy_with_logits(labels=y, logits=logits)\n",
    "loss = tf.reduce_mean(xentropy)\n",
    "\n",
    "optimizer = tf.train.AdamOptimizer()\n",
    "training_op = optimizer.minimize(loss)\n",
    "\n",
    "correct = tf.nn.in_top_k(logits, y, 1)\n",
    "accuracy = tf.reduce_mean(tf.cast(correct, tf.float32))\n",
    "        \n",
    "# ------------------ Execution phase ----------------------------------    \n",
    "\n",
    "n_epochs = 1000\n",
    "batch_size = 1024\n",
    "n_train = X_train_std.shape[0]\n",
    "n_iter = n_train//batch_size\n",
    "\n",
    "saver = tf.train.Saver()\n",
    "\n",
    "min_loss = np.infty\n",
    "epochs_without_improvement = 0 \n",
    "max_epochs_without_improvement = 20   \n",
    "\n",
    "acc_test = defaultdict(list)\n",
    "\n",
    "start = time()\n",
    "path = \"./DNNdropout4.ckpt\"\n",
    "\n",
    "with tf.Session() as sess:\n",
    "    tf.global_variables_initializer().run()\n",
    "    for epoch in range(n_epochs):\n",
    "        for iteration in range(n_iter):\n",
    "            rand_indices = np.random.choice(n_train,batch_size) #select random samples to form mini batches   \n",
    "            X_batch, y_batch = X_32train_std[rand_indices], y_32_train[rand_indices]\n",
    "            sess.run(training_op, feed_dict={X: X_batch, y: y_batch})\n",
    "        valid_loss, acc_val = sess.run([loss, accuracy], feed_dict={X: X_32_val, y: y_32_val})\n",
    "        \n",
    "        # Early stopping \n",
    "        \n",
    "        if valid_loss < min_loss:\n",
    "            save_path = saver.save(sess, path)\n",
    "            min_loss = valid_loss\n",
    "            epochs_without_improvement = 0\n",
    "        else:\n",
    "            epochs_without_improvement += 1\n",
    "            if epochs_without_improvement > max_epochs_without_improvement:\n",
    "                print(\"** EARLY STOPPING ** \")\n",
    "                break\n",
    "        print(\"{}\\tValidation loss: {:.6f}\\tMinimum loss: {:.6f}\\tAccuracy on validation set: {:.2f}\".format(\n",
    "            epoch, valid_loss, min_loss, acc_val))\n",
    "\n",
    "print(\" \")\n",
    "with tf.Session() as sess:\n",
    "    saver.restore(sess, path)\n",
    "    for snr in snrs:\n",
    "        acc_test[snr] = accuracy.eval(feed_dict={X: X_32test_std[snr], y: y_32_test[snr]})\n",
    "\n",
    "print(\"Training and testing took %f minutes\"%(float(time() - start)/60))"
   ]
  },
  {
   "cell_type": "markdown",
   "metadata": {},
   "source": [
    "## <font color = 'blue'> Test the DNN"
   ]
  },
  {
   "cell_type": "code",
   "execution_count": 8,
   "metadata": {
    "collapsed": false
   },
   "outputs": [
    {
     "name": "stdout",
     "output_type": "stream",
     "text": [
      "DNN's test accuracy on -20 dB SNR samples =  0.133\n",
      "DNN's test accuracy on -18 dB SNR samples =  0.126\n",
      "DNN's test accuracy on -16 dB SNR samples =  0.13075\n",
      "DNN's test accuracy on -14 dB SNR samples =  0.12775\n",
      "DNN's test accuracy on -12 dB SNR samples =  0.1375\n",
      "DNN's test accuracy on -10 dB SNR samples =  0.18175\n",
      "DNN's test accuracy on -8 dB SNR samples =  0.29075\n",
      "DNN's test accuracy on -6 dB SNR samples =  0.36225\n",
      "DNN's test accuracy on -4 dB SNR samples =  0.415\n",
      "DNN's test accuracy on -2 dB SNR samples =  0.481\n",
      "DNN's test accuracy on 0 dB SNR samples =  0.56975\n",
      "DNN's test accuracy on 2 dB SNR samples =  0.694\n",
      "DNN's test accuracy on 4 dB SNR samples =  0.8045\n",
      "DNN's test accuracy on 6 dB SNR samples =  0.8235\n",
      "DNN's test accuracy on 8 dB SNR samples =  0.8175\n",
      "DNN's test accuracy on 10 dB SNR samples =  0.84325\n",
      "DNN's test accuracy on 12 dB SNR samples =  0.8285\n",
      "DNN's test accuracy on 14 dB SNR samples =  0.82925\n",
      "DNN's test accuracy on 16 dB SNR samples =  0.826\n",
      "DNN's test accuracy on 18 dB SNR samples =  0.833\n"
     ]
    }
   ],
   "source": [
    "for snr in snrs:\n",
    "    print(\"DNN's test accuracy on %d dB SNR samples = \"%(snr), acc_test[snr])   "
   ]
  },
  {
   "cell_type": "markdown",
   "metadata": {
    "collapsed": true
   },
   "source": [
    "## <font color = 'blue'> Visualize DNN's performance"
   ]
  },
  {
   "cell_type": "code",
   "execution_count": 9,
   "metadata": {
    "collapsed": false
   },
   "outputs": [],
   "source": [
    "import matplotlib.pyplot as plt\n",
    "\n",
    "plt.style.use('classic')\n",
    "\n",
    "fig = plt.figure(figsize=(8, 4), dpi=100)\n",
    "x = snrs\n",
    "y = list(acc_test.values())\n",
    "plt.plot(x, y, marker=\"o\", linewidth=2.0, linestyle='dashed', color='royalblue')\n",
    "plt.axis([-20, 20, 0, 1])\n",
    "plt.xticks(np.arange(min(x), max(x)+1, 2.0))\n",
    "plt.yticks(np.arange(0, 1, 0.10))\n",
    "\n",
    "ttl = plt.title('SNR vs Accuracy', fontsize=16)\n",
    "ttl.set_weight('bold')\n",
    "plt.xlabel('SNR (dB)', fontsize=14)\n",
    "plt.ylabel('Test accuracy', fontsize=14)\n",
    "plt.grid()\n",
    "\n",
    "plt.show()"
   ]
  },
  {
   "cell_type": "code",
   "execution_count": 10,
   "metadata": {
    "collapsed": false
   },
   "outputs": [
    {
     "data": {
      "text/plain": [
       "defaultdict(list,\n",
       "            {-20: 0.133,\n",
       "             -18: 0.126,\n",
       "             -16: 0.13075,\n",
       "             -14: 0.12774999,\n",
       "             -12: 0.1375,\n",
       "             -10: 0.18175,\n",
       "             -8: 0.29075,\n",
       "             -6: 0.36225,\n",
       "             -4: 0.41499999,\n",
       "             -2: 0.48100001,\n",
       "             0: 0.56975001,\n",
       "             2: 0.69400001,\n",
       "             4: 0.80449998,\n",
       "             6: 0.82349998,\n",
       "             8: 0.8175,\n",
       "             10: 0.84324998,\n",
       "             12: 0.82849997,\n",
       "             14: 0.82924998,\n",
       "             16: 0.82599998,\n",
       "             18: 0.833})"
      ]
     },
     "execution_count": 10,
     "metadata": {},
     "output_type": "execute_result"
    }
   ],
   "source": [
    "acc_test"
   ]
  },
  {
   "cell_type": "code",
   "execution_count": null,
   "metadata": {
    "collapsed": true
   },
   "outputs": [],
   "source": []
  }
 ],
 "metadata": {
  "anaconda-cloud": {},
  "kernelspec": {
   "display_name": "Python [default]",
   "language": "python",
   "name": "python3"
  },
  "language_info": {
   "codemirror_mode": {
    "name": "ipython",
    "version": 3
   },
   "file_extension": ".py",
   "mimetype": "text/x-python",
   "name": "python",
   "nbconvert_exporter": "python",
   "pygments_lexer": "ipython3",
   "version": "3.5.2"
  }
 },
 "nbformat": 4,
 "nbformat_minor": 0
}
